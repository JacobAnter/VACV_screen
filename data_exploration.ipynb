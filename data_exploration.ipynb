{
 "cells": [
  {
   "cell_type": "code",
   "execution_count": 2,
   "metadata": {},
   "outputs": [
    {
     "name": "stderr",
     "output_type": "stream",
     "text": [
      "/opt/homebrew/Caskroom/miniforge/base/envs/bioinformatics/lib/python3.10/site-packages/dask/dataframe/_pyarrow_compat.py:17: FutureWarning: Minimal version of pyarrow will soon be increased to 14.0.1. You are using 13.0.0. Please consider upgrading.\n",
      "  warnings.warn(\n"
     ]
    }
   ],
   "source": [
    "# The purpose of this Jupyter notebook is to perform an exploration of\n",
    "# the humongous CSV file\n",
    "# In detail, for each column, its unique values are determined\n",
    "# The aim is to identify the individual sub-screens comprised in the\n",
    "# humongous CSV file, i.e. the kinome-wide screen, the full genome\n",
    "# screen, etc.\n",
    "\n",
    "# Due to the CSV file's enormous size, it cannot be loaded by Pandas as\n",
    "# this would cause the kernel to die\n",
    "# Instead, it is resorted to Dask, which has specifically been devised\n",
    "# for handling large quantities of data\n",
    "import numpy as np\n",
    "import dask.dataframe as dd"
   ]
  },
  {
   "cell_type": "code",
   "execution_count": 3,
   "metadata": {},
   "outputs": [],
   "source": [
    "# Note that for certain columns, the data type has to be manually\n",
    "# specified\n",
    "dtype_dict = {\n",
    "    \"Ensembl_ID_OnTarget_Ensembl_GRCh38_release_87\": str,\n",
    "    \"Ensembl_ID_OnTarget_NCBI_HeLa_phs000643_v3_p1_c1_HMB\": str,\n",
    "    \"Gene_Description\": str,\n",
    "    \"ID\": str,\n",
    "    \"ID_OnTarget_Ensembl_GRCh38_release_87\": str,\n",
    "    \"ID_OnTarget_Merge\": str,\n",
    "    \"ID_OnTarget_NCBI_HeLa_phs000643_v3_p1_c1_HMB\": str,\n",
    "    \"ID_OnTarget_RefSeq_20170215\": str,\n",
    "    \"ID_manufacturer\": str,\n",
    "    \"Name_alternatives\": str,\n",
    "    \"PLATE_QUALITY_DESCRIPTION\": str,\n",
    "    \"RefSeq_ID_OnTarget_RefSeq_20170215\": str,\n",
    "    \"Seed_sequence_common\": str,\n",
    "    \"WELL_QUALITY_DESCRIPTION\": str,\n",
    "    \"siRNA_error\": str,\n",
    "    \"siRNA_number\": str,\n",
    "    \"Precursor_Name\": str\n",
    "}\n",
    "\n",
    "main_csv_df = dd.read_csv(\n",
    "    \"VacciniaReport_20170223-0958_ZScored_conc_and_NaN_adjusted.csv\",\n",
    "    sep=\"\\t\",\n",
    "    dtype=dtype_dict\n",
    ")"
   ]
  },
  {
   "cell_type": "code",
   "execution_count": 3,
   "metadata": {},
   "outputs": [],
   "source": [
    "column_names = list(main_csv_df.columns)\n",
    "unique_values_per_column = []\n",
    "\n",
    "for column_name in column_names:\n",
    "    # For each column, determine its unique values and append the\n",
    "    # respective array to the list\n",
    "    unique_values_per_column.append(\n",
    "        np.unique(main_csv_df[column_name]).tolist()\n",
    "    )"
   ]
  },
  {
   "cell_type": "code",
   "execution_count": 6,
   "metadata": {},
   "outputs": [],
   "source": [
    "# Save the unique values for all columns of the CSV file in a separate\n",
    "# file\n",
    "# with statements are preferred for the purpose of working with files as\n",
    "# they automatically take care of closing files, even in the case of\n",
    "# errors/exceptions\n",
    "with open(\"unqiue_values_for_all_columns.txt\", \"w\") as f:\n",
    "    for i, column_name, unique_values_list in zip(\n",
    "        range(len(column_names)), column_names, unique_values_per_column\n",
    "    ):\n",
    "        if i == 0:\n",
    "            f.write(\n",
    "                f\"Unique values for the column \\\"{column_name}\\\":\\n\"\n",
    "                f\"{unique_values_list}\"\n",
    "            )\n",
    "        else:\n",
    "            f.write(\n",
    "                f\"\\n\\nUnique values for the column \\\"{column_name}\\\":\\n\"\n",
    "                f\"{unique_values_list}\"\n",
    "            )"
   ]
  },
  {
   "cell_type": "code",
   "execution_count": null,
   "metadata": {},
   "outputs": [],
   "source": [
    "# Interesting features/columns potentially facilitating the navigation\n",
    "# through this humongous table are:\n",
    "# \"PLATE_QUALITY_STATUS\" in conjunction with\n",
    "# \"PLATE_QUALITY_DESCRIPTION\", as these feature allow to distinguish\n",
    "# reliable measurements from unreliable ones\n",
    "# \"PLATE_TYPE\", as this feature allows to differentiate between the\n",
    "# plate types \"CheckerBoard\", \"MockPlate\" and \"ScreeningPlate\"\n",
    "# \"Experiment\", as this feature allows to differentiate between\n",
    "# different experiments\n",
    "# \"GENESET\", as this feature allows to differentiate between different\n",
    "# target sets, such as the entire genome or the kinome\n",
    "# \"WellType\", as this feature allows to distinguish control wells from\n",
    "# actual test wells and other well types\n",
    "# \"WELL_QUALITY_DESCRIPTION\" and \"WELL_QUALITY_STATUS\", as those\n",
    "# features allows to distinguish reliable measurements from unreliable\n",
    "# ones\n",
    "# \"Manufacturer\", as this feature allows to filter by the manufacturer\n",
    "# \"Name\" and \"Name_alternatives\", as those features allows to identify\n",
    "# the gene being knocked down\n",
    "# \"siRNA_error\", as this feature allows to distinguish reliable\n",
    "# measurements from unreliable ones\n",
    "# \"siRNA_number\", as up tp six different siRNAs have apparently been\n",
    "# used\n",
    "# \"Concentration [pmol]\", as this feature allows to investigate whether\n",
    "# increasing the concentration also increases the gene suppression\n",
    "# \"Gene_Symbol\" and \"Accession\", as this feature allows to identify the\n",
    "# individual genes being knocked down\n",
    "# -> What is meant by \"MD5\", as in \"Sequence_antisense_5_3_MD5\"?\n",
    "# \"Gene_Description\", as this feature gives further details regarding\n",
    "# the gene being knocked down\n",
    "# -> What is meant by \"HMB\", as in\n",
    "# \"Ensembl_ID_OnTarget_NCBI_HeLa_phs000643_v3_p1_c1_HMB\"?\n",
    "# -> What is meant by \"intersection\" and \"merge\"?\n",
    "# -> What is meant by \"Precursor_Name\"?"
   ]
  },
  {
   "cell_type": "code",
   "execution_count": 4,
   "metadata": {},
   "outputs": [],
   "source": [
    "# To start with, the kinome screen is subjected to scrutiny\n",
    "# The kinome screen is selected, following which the well type \"CONTROL\"\n",
    "# is selected\n",
    "kinome_control_df = main_csv_df.loc[\n",
    "    (main_csv_df[\"GENESET\"] == \"Kinome\")\n",
    "    &\n",
    "    (main_csv_df[\"WellType\"] == \"CONTROL\")\n",
    "]\n",
    "\n",
    "# For the control wells of the kinome screen, the individual values of\n",
    "# each column/feature are determined and saved to a text file\n",
    "column_names = list(kinome_control_df.columns)\n",
    "unique_values_per_column = []\n",
    "\n",
    "for column_name in column_names:\n",
    "    unique_values_per_column.append(\n",
    "        np.unique(kinome_control_df[column_name]).tolist()\n",
    "    )\n",
    "\n",
    "# Bear in mind that with statements are preferred for the purpose of\n",
    "# working with files as they automatically take care closing files, even\n",
    "# in case of exceptions/errors\n",
    "with open(\"unique_values_kinome_control.txt\", \"w\") as f:\n",
    "    for i, column_name, unique_values_list in zip(\n",
    "        range(len(column_names)), column_names, unique_values_per_column\n",
    "    ):\n",
    "        if i == 0:\n",
    "            f.write(\n",
    "                f\"Unique values for the column \\\"{column_name}\\\":\\n\"\n",
    "                f\"{unique_values_list}\"\n",
    "            )\n",
    "        else:\n",
    "            f.write(\n",
    "                f\"\\n\\nUnique values for the column \\\"{column_name}\\\":\\n\"\n",
    "                f\"{unique_values_list}\"\n",
    "            )"
   ]
  },
  {
   "cell_type": "code",
   "execution_count": null,
   "metadata": {},
   "outputs": [],
   "source": []
  }
 ],
 "metadata": {
  "kernelspec": {
   "display_name": "bioinformatics",
   "language": "python",
   "name": "python3"
  },
  "language_info": {
   "codemirror_mode": {
    "name": "ipython",
    "version": 3
   },
   "file_extension": ".py",
   "mimetype": "text/x-python",
   "name": "python",
   "nbconvert_exporter": "python",
   "pygments_lexer": "ipython3",
   "version": "3.10.8"
  }
 },
 "nbformat": 4,
 "nbformat_minor": 2
}
