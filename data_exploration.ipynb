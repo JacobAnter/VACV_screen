{
 "cells": [
  {
   "cell_type": "code",
   "execution_count": 1,
   "metadata": {},
   "outputs": [
    {
     "name": "stderr",
     "output_type": "stream",
     "text": [
      "/opt/homebrew/Caskroom/miniforge/base/envs/bioinformatics/lib/python3.10/site-packages/dask/dataframe/_pyarrow_compat.py:17: FutureWarning: Minimal version of pyarrow will soon be increased to 14.0.1. You are using 13.0.0. Please consider upgrading.\n",
      "  warnings.warn(\n"
     ]
    }
   ],
   "source": [
    "# The purpose of this Jupyter notebook is to perform an exploration of\n",
    "# the humongous CSV file\n",
    "# In detail, for each column, its unique values are determined\n",
    "# The aim is to identify the individual sub-screens comprised in the\n",
    "# humongous CSV file, i.e. the kinome-wide screen, the full genome\n",
    "# screen, etc.\n",
    "\n",
    "# Due to the CSV file's enormous size, it cannot be loaded by Pandas as\n",
    "# this would cause the kernel to die\n",
    "# Instead, it is resorted to Dask, which has specifically been devised\n",
    "# for handling large quantities of data\n",
    "import numpy as np\n",
    "import dask.dataframe as dd"
   ]
  },
  {
   "cell_type": "code",
   "execution_count": 2,
   "metadata": {},
   "outputs": [],
   "source": [
    "# Note that for certain columns, the data type has to be manually\n",
    "# specified\n",
    "dtype_dict = {\n",
    "    \"Ensembl_ID_OnTarget_Ensembl_GRCh38_release_87\": str,\n",
    "    \"Ensembl_ID_OnTarget_NCBI_HeLa_phs000643_v3_p1_c1_HMB\": str,\n",
    "    \"Gene_Description\": str,\n",
    "    \"ID\": str,\n",
    "    \"ID_OnTarget_Ensembl_GRCh38_release_87\": str,\n",
    "    \"ID_OnTarget_Merge\": str,\n",
    "    \"ID_OnTarget_NCBI_HeLa_phs000643_v3_p1_c1_HMB\": str,\n",
    "    \"ID_OnTarget_RefSeq_20170215\": str,\n",
    "    \"ID_manufacturer\": str,\n",
    "    \"Name_alternatives\": str,\n",
    "    \"PLATE_QUALITY_DESCRIPTION\": str,\n",
    "    \"RefSeq_ID_OnTarget_RefSeq_20170215\": str,\n",
    "    \"Seed_sequence_common\": str,\n",
    "    \"WELL_QUALITY_DESCRIPTION\": str,\n",
    "    \"siRNA_error\": str,\n",
    "    \"siRNA_number\": str,\n",
    "    \"Precursor_Name\": str\n",
    "}\n",
    "\n",
    "main_csv_df = dd.read_csv(\n",
    "    \"VacciniaReport_20170223-0958_ZScored_conc_and_NaN_adjusted.csv\",\n",
    "    sep=\"\\t\",\n",
    "    dtype=dtype_dict\n",
    ")"
   ]
  },
  {
   "cell_type": "code",
   "execution_count": 3,
   "metadata": {},
   "outputs": [],
   "source": [
    "column_names = list(main_csv_df.columns)\n",
    "unique_values_per_column = []\n",
    "\n",
    "for column_name in column_names:\n",
    "    # For each column, determine its unique values and append the\n",
    "    # respective array to the list\n",
    "    unique_values_per_column.append(\n",
    "        np.unique(main_csv_df[column_name]).tolist()\n",
    "    )"
   ]
  },
  {
   "cell_type": "code",
   "execution_count": 6,
   "metadata": {},
   "outputs": [],
   "source": [
    "# Save the unique values for all columns of the CSV file in a separate\n",
    "# file\n",
    "# with statements are preferred for the purpose of working with files as\n",
    "# they automatically take care of closing files, even in the case of\n",
    "# errors/exceptions\n",
    "with open(\"unqiue_values_for_all_columns.txt\", \"w\") as f:\n",
    "    for i, column_name, unique_values_list in zip(\n",
    "        range(len(column_names)), column_names, unique_values_per_column\n",
    "    ):\n",
    "        if i == 0:\n",
    "            f.write(\n",
    "                f\"Unique values for the column \\\"{column_name}\\\":\\n\"\n",
    "                f\"{unique_values_list}\"\n",
    "            )\n",
    "        else:\n",
    "            f.write(\n",
    "                f\"\\n\\nUnique values for the column \\\"{column_name}\\\":\\n\"\n",
    "                f\"{unique_values_list}\"\n",
    "            )"
   ]
  },
  {
   "cell_type": "code",
   "execution_count": null,
   "metadata": {},
   "outputs": [],
   "source": [
    "# Interesting features/columns potentially facilitating the navigation\n",
    "# through this humongous table are:\n",
    "# \"PLATE_QUALITY_STATUS\" in conjunction with\n",
    "# \"PLATE_QUALITY_DESCRIPTION\", as these feature allow to distinguish\n",
    "# reliable measurements from unreliable ones\n",
    "# \"PLATE_TYPE\", as this feature allows to differentiate between the\n",
    "# plate types \"CheckerBoard\", \"MockPlate\" and \"ScreeningPlate\"\n",
    "# \"Experiment\", as this feature allows to differentiate between\n",
    "# different experiments\n",
    "# \"GENESET\", as this feature allows to differentiate between different\n",
    "# target sets, such as the entire genome or the kinome\n",
    "# \"WellType\", as this feature allows to distinguish control wells from\n",
    "# actual test wells and other well types\n",
    "# \"WELL_QUALITY_DESCRIPTION\" and \"WELL_QUALITY_STATUS\", as those\n",
    "# features allows to distinguish reliable measurements from unreliable\n",
    "# ones\n",
    "# \"Manufacturer\", as this feature allows to filter by the manufacturer\n",
    "# \"Name\" and \"Name_alternatives\", as those features allows to identify\n",
    "# the gene being knocked down\n",
    "# \"siRNA_error\", as this feature allows to distinguish reliable\n",
    "# measurements from unreliable ones\n",
    "# \"siRNA_number\", as up tp six different siRNAs have apparently been\n",
    "# used\n",
    "# \"Concentration [pmol]\", as this feature allows to investigate whether\n",
    "# increasing the concentration also increases the gene suppression\n",
    "# \"Gene_Symbol\" and \"Accession\", as this feature allows to identify the\n",
    "# individual genes being knocked down\n",
    "# -> What is meant by \"MD5\", as in \"Sequence_antisense_5_3_MD5\"?\n",
    "# \"Gene_Description\", as this feature gives further details regarding\n",
    "# the gene being knocked down\n",
    "# -> What is meant by \"HMB\", as in\n",
    "# \"Ensembl_ID_OnTarget_NCBI_HeLa_phs000643_v3_p1_c1_HMB\"?\n",
    "# -> What is meant by \"intersection\" and \"merge\"?\n",
    "# -> What is meant by \"Precursor_Name\"?"
   ]
  },
  {
   "cell_type": "code",
   "execution_count": 3,
   "metadata": {},
   "outputs": [],
   "source": [
    "# To start with, the kinome screen is subjected to scrutiny\n",
    "# The kinome screen is selected, following which the well type \"CONTROL\"\n",
    "# is selected\n",
    "kinome_control_df = main_csv_df.loc[\n",
    "    (main_csv_df[\"GENESET\"] == \"Kinome\")\n",
    "    &\n",
    "    (main_csv_df[\"WellType\"] == \"CONTROL\")\n",
    "]"
   ]
  },
  {
   "cell_type": "code",
   "execution_count": null,
   "metadata": {},
   "outputs": [],
   "source": [
    "# For the control wells of the kinome screen, the unique values of each\n",
    "# column/feature are determined and saved to a text file\n",
    "column_names = list(kinome_control_df.columns)\n",
    "unique_values_per_column = []\n",
    "\n",
    "for column_name in column_names:\n",
    "    unique_values_per_column.append(\n",
    "        np.unique(kinome_control_df[column_name]).tolist()\n",
    "    )\n",
    "\n",
    "# Bear in mind that with statements are preferred for the purpose of\n",
    "# working with files as they automatically take care closing files, even\n",
    "# in case of exceptions/errors\n",
    "with open(\"unique_values_kinome_control.txt\", \"w\") as f:\n",
    "    for i, column_name, unique_values_list in zip(\n",
    "        range(len(column_names)), column_names, unique_values_per_column\n",
    "    ):\n",
    "        if i == 0:\n",
    "            f.write(\n",
    "                f\"Unique values for the column \\\"{column_name}\\\":\\n\"\n",
    "                f\"{unique_values_list}\"\n",
    "            )\n",
    "        else:\n",
    "            f.write(\n",
    "                f\"\\n\\nUnique values for the column \\\"{column_name}\\\":\\n\"\n",
    "                f\"{unique_values_list}\"\n",
    "            )"
   ]
  },
  {
   "cell_type": "code",
   "execution_count": 7,
   "metadata": {},
   "outputs": [],
   "source": [
    "# Now that the control wells of the kinome subset have been chosen, the\n",
    "# individual control types are determined\n",
    "# To this end, the unique values of the \"Name\" column are determined\n",
    "# Prior to this, unreliable measurements are discarded by exclusing rows\n",
    "# the value of which for the feature \"WELL_QUALITY_STATUS\" is \"BAD\"\n",
    "kinome_control_df = kinome_control_df.loc[\n",
    "    kinome_control_df[\"WELL_QUALITY_STATUS\"] != \"BAD\"\n",
    "]\n",
    "\n",
    "# Ensure that filtering by \"WELL_QUALITY_STATUS\" removes all other\n",
    "# unreliable measurements\n",
    "assert (\n",
    "    (\n",
    "        \"BAD\" not in\n",
    "        np.unique(kinome_control_df[\"PLATE_QUALITY_STATUS\"]).tolist()\n",
    "    )\n",
    "    and\n",
    "    (len(np.unique(kinome_control_df[\"siRNA_error\"])) == 1)\n",
    "    and\n",
    "    (np.unique(kinome_control_df[\"siRNA_error\"])[0] == \"Not available\")\n",
    ")"
   ]
  },
  {
   "cell_type": "code",
   "execution_count": 8,
   "metadata": {},
   "outputs": [
    {
     "name": "stdout",
     "output_type": "stream",
     "text": [
      "['ARPC3', 'ATP6V1A', 'Abi1', 'AllStars Hs Cell Death siRNA', 'CDC42', 'CDH4', 'Cyclohexamine - translation inhibition in eukaryotes', 'Cytosine Arabinoside - incorporates into DNA and inhibits DNA replication', 'FRAP1', 'GFP Duplex III', 'ITGB1', 'Kif11', 'MAP3K7', 'MET', 'MOCK', 'Not available', 'ON-TARGETplus Non-targeting Pool', 'PAK1', 'PI4KB', 'PSMA6', 'PSMC3', 'PXN', 'RAC1', 'SCRAMBLED', 'Silencer_Select_Negative_Control_1', 'Silencer_Select_Negative_Control_2', 'TSG101', 'UNKNOWN', 'egfp']\n"
     ]
    }
   ],
   "source": [
    "unique_values_name_column =  np.unique(kinome_control_df[\"Name\"]).tolist()\n",
    "print(unique_values_name_column)"
   ]
  },
  {
   "cell_type": "code",
   "execution_count": null,
   "metadata": {},
   "outputs": [],
   "source": [
    "# 'ARPC3', x\n",
    "# 'ATP6V1A', x\n",
    "# 'Abi1', x\n",
    "# 'AllStars Hs Cell Death siRNA', x\n",
    "# 'CDC42', x\n",
    "# 'CDH4', x\n",
    "# 'Cyclohexamine - translation inhibition in eukaryotes', x\n",
    "# 'Cytosine Arabinoside - incorporates into DNA and inhibits DNA replication', x\n",
    "# 'FRAP1', x\n",
    "# 'GFP Duplex III', x\n",
    "# 'ITGB1', x\n",
    "# 'Kif11', x\n",
    "# 'MAP3K7', x\n",
    "# 'MET', x\n",
    "# 'MOCK', x\n",
    "# 'Not available',\n",
    "# 'ON-TARGETplus Non-targeting Pool',\n",
    "# 'PAK1', x\n",
    "# 'PI4KB', x\n",
    "# 'PSMA6', x\n",
    "# 'PSMC3', x\n",
    "# 'PXN', x\n",
    "# 'RAC1', x\n",
    "# 'SCRAMBLED', x\n",
    "# 'Silencer_Select_Negative_Control_1', x\n",
    "# 'Silencer_Select_Negative_Control_2', x\n",
    "# 'TSG101', x\n",
    "# 'UNKNOWN', x\n",
    "# 'egfp' x"
   ]
  },
  {
   "cell_type": "code",
   "execution_count": 12,
   "metadata": {},
   "outputs": [
    {
     "name": "stdout",
     "output_type": "stream",
     "text": [
      "Amount of unique values in \"Name\": 29\n",
      "Amount of unique values in \"ID_openBIS\": 27\n",
      "Amount of unique values in \"PublicationLink_material\": 27\n"
     ]
    }
   ],
   "source": [
    "print(\n",
    "    f\"Amount of unique values in \\\"Name\\\": \"\n",
    "    # Bear in mind that inside an f-string, a different type of\n",
    "    # quotation marks has to be used so as not to prematurely end the\n",
    "    # f-string\n",
    "    f\"{len(np.unique(kinome_control_df['Name']))}\"\n",
    ")\n",
    "print(\n",
    "    f\"Amount of unique values in \\\"ID_openBIS\\\": \"\n",
    "    f\"{len(np.unique(kinome_control_df['ID_openBIS']))}\"\n",
    ")\n",
    "print(\n",
    "    f\"Amount of unique values in \\\"PublicationLink_material\\\": \"\n",
    "    f\"{len(np.unique(kinome_control_df['PublicationLink_material']))}\"\n",
    ")"
   ]
  },
  {
   "cell_type": "code",
   "execution_count": null,
   "metadata": {},
   "outputs": [],
   "source": [
    "# The column \"Name\" is inconsistent with the naming of the controls and\n",
    "# also sometimes lacks names where the other two columns do not\n",
    "# Hence, the column \"ID_openBIS\" is preferred for the purpose of\n",
    "# identifying control types"
   ]
  },
  {
   "cell_type": "code",
   "execution_count": null,
   "metadata": {},
   "outputs": [],
   "source": [
    "\"\"\"\n",
    "Questions to ask Artur:\n",
    "1.) The two columns \"ID_openBIS\" and \"PublicationLink_material\"\n",
    "consistently use the name \"SCRAMBLED\", whereas the column \"Name\" uses\n",
    "both \"SCRAMBLED\" and \"ON-TARGETplus Non-targeting Pool\" for this control\n",
    "type; are they the same? Apart from that, according to the alternative\n",
    "name of \"SCRAMBLED\", the scrambled siRNAs consist of both targeting and\n",
    "non-targeting siRNAs. This, however, contradicts what Artur told me\n",
    "about the scrambled siRNAs, namely that they are entirely comprised of\n",
    "non-targeting siRNAs.\n",
    "2.) In the case of the kinome controls, the feature \"siRNA_number\"\n",
    "consistently has the value 1, probably indicating that one single type\n",
    "of siRNA was used. However, on scrutinising the feature\n",
    "\"Sequences_sense_5_3\", it becomes apparent that multiple siRNA sequences\n",
    "(4) are listed, thereby contradicting the value for \"siRNA_number\". The\n",
    "precise amnount of siRNAs is not mentioned in the manuscript either. So\n",
    "how many siRNAs were employed for the individual controls?\n",
    "3.) Speaking of siRNAs, the letter \"u\" probably represents overhang\n",
    "nucleotides, doesn't it?\n",
    "4.) The feature \"REPLICATE\" has the unique values 1 and 2, indicating\n",
    "that only duplicates instead of triplicates have been made; is that\n",
    "correct?\n",
    "5.) From the feature \"Experiment\", it emerges that many of the\n",
    "individual experiments have been performed twice, corrobotaring the\n",
    "assumption that merely duplicates instead of triplicates have been made.\n",
    "6.) What is the meaning behind the following features:\n",
    "Sequence_antisense_5_3_MD5,\n",
    "Ensembl_ID_OnTarget_NCBI_HeLa_phs000643_v3_p1_c1_HMB,\n",
    "ID_OnTarget_NCBI_HeLa_phs000643_v3_p1_c1_HMB,\n",
    "RefSeq_ID_OnTarget_RefSeq_20170215, ID_OnTarget_RefSeq_20170215,\n",
    "Ensembl_ID_OnTarget_Ensembl_GRCh38_release_87,\n",
    "ID_OnTarget_Ensembl_GRCh38_release_87,\n",
    "ID_OnTarget_Merge, ID_OnTarget_Intersection, Precursor_Accession,\n",
    "Precursor_Name.\n",
    "7.) For many wells, the Z-scored values are Nan although the respective\n",
    "non-standardised values are different from NaN. I have to subject this\n",
    "to further scrutiny!\n",
    "\n",
    "Notes for me:\n",
    "1.) \"ARAC\" is equivalent to \"Cytosine Arabinoside - incorporates into\n",
    "DNA and inhibits DNA replication\".\n",
    "2.) Experiments have been conducted in 384 well plated. Hence, the wells\n",
    "range from A1 to P24.\n",
    "\"\"\""
   ]
  },
  {
   "cell_type": "code",
   "execution_count": null,
   "metadata": {},
   "outputs": [],
   "source": [
    "# Apparently, many different control types are available\n",
    "# In the following, each of them is briefly elaborated on and it is also\n",
    "# checked whether the intensity values behave in the expected manner\n",
    "# ABI1\n",
    "# ALLSTARDEATH\n",
    "# ARAC\n",
    "# ARPC3\n",
    "#\n",
    "# ATP6V1A represents a subunit of the enzyme vacuolar ATPase, which\n",
    "# effects the acidification of eukaryotic intracellular organelles;\n",
    "# siRNA-mediated knockdown of ATP6V1A prevents virus entry, which makes\n",
    "# insofar sense as both mature virions (MV) and extracellular virions\n",
    "# (EV) of vaccinia viruses rely on the acidification of the\n",
    "# macropinosome for fusion with the macropinosome membrane to take place\n",
    "# As any fluorescence signal originates from the expression of viral\n",
    "# genes, it is expected that cells transfected with siRNAs targeting\n",
    "# ATP6V1A and subsequently exposed to vaccinia virus do not exhibit any\n",
    "# fluorescence; a glance at ... reveals that ...\n",
    "#"
   ]
  },
  {
   "cell_type": "code",
   "execution_count": null,
   "metadata": {},
   "outputs": [],
   "source": [
    "# For controls, only 1 siRNA was used, whereas for non-control targets,\n",
    "# six different siRNAs were employed individually and together with each\n",
    "# other, which is referred to as \"pooled\"\n",
    "# Many wells have NaN as values, they must be filtered out!"
   ]
  }
 ],
 "metadata": {
  "kernelspec": {
   "display_name": "bioinformatics",
   "language": "python",
   "name": "python3"
  },
  "language_info": {
   "codemirror_mode": {
    "name": "ipython",
    "version": 3
   },
   "file_extension": ".py",
   "mimetype": "text/x-python",
   "name": "python",
   "nbconvert_exporter": "python",
   "pygments_lexer": "ipython3",
   "version": "3.1.undefined"
  }
 },
 "nbformat": 4,
 "nbformat_minor": 2
}
