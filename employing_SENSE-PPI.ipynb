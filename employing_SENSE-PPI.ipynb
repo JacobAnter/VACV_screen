{
 "cells": [
  {
   "cell_type": "code",
   "execution_count": 12,
   "metadata": {},
   "outputs": [],
   "source": [
    "\"\"\"\n",
    "The purpose of this script is to prepare the input required by the\n",
    "SENSE-PPI LLM for PPI prediction. According to the package's\n",
    "documentation, a TSV file can be passed as input the rows of which\n",
    "contains pairs of proteins to test.\n",
    "\n",
    "Thus, each human protein targeted in the siRNA screen is paired with all\n",
    "440 VACV proteins (comprised in the file \"uniprotkb_taxonomy_id_10254_\n",
    "all_VACV_WR_prots_05_11_2024.fasta\").\n",
    "\n",
    "For the time being, the pairing is performed only for the Qiagen single\n",
    "siRNA subset as it is the most comprehensive, encompassing 20,213 genes.\n",
    "\"\"\"\n",
    "\n",
    "import numpy as np\n",
    "import pandas as pd\n",
    "from biotite.sequence.io import fasta"
   ]
  },
  {
   "cell_type": "code",
   "execution_count": 13,
   "metadata": {},
   "outputs": [],
   "source": [
    "# Load the Qiagen subset of the VACV data set and extract the UniProt\n",
    "# IDs\n",
    "dtype_dict = {\n",
    "    \"Ensembl_ID_OnTarget_Ensembl_GRCh38_release_87\": str,\n",
    "    \"Ensembl_ID_OnTarget_NCBI_HeLa_phs000643_v3_p1_c1_HMB\": str,\n",
    "    \"Gene_Description\": str,\n",
    "    \"ID\": str,\n",
    "    \"ID_OnTarget_Ensembl_GRCh38_release_87\": str,\n",
    "    \"ID_OnTarget_Merge\": str,\n",
    "    \"ID_OnTarget_NCBI_HeLa_phs000643_v3_p1_c1_HMB\": str,\n",
    "    \"ID_OnTarget_RefSeq_20170215\": str,\n",
    "    \"ID_manufacturer\": str,\n",
    "    \"Name_alternatives\": str,\n",
    "    \"PLATE_QUALITY_DESCRIPTION\": str,\n",
    "    \"RefSeq_ID_OnTarget_RefSeq_20170215\": str,\n",
    "    \"Seed_sequence_common\": str,\n",
    "    \"WELL_QUALITY_DESCRIPTION\": str,\n",
    "    \"siRNA_error\": str,\n",
    "    \"siRNA_number\": str,\n",
    "    \"Precursor_Name\": str\n",
    "}\n",
    "\n",
    "VACV_df = pd.read_csv(\n",
    "    (\n",
    "        \"VACV_Report_only_valid_single_pooled_siRNA_and_esiRNA_single_\"\n",
    "        \"entries_only_without_Qiagen_mismatches.tsv\"\n",
    "    ),\n",
    "    sep=\"\\t\",\n",
    "    dtype=dtype_dict\n",
    ")\n",
    "\n",
    "Qiagen_df = VACV_df[\n",
    "    VACV_df[\"Manufacturer\"] == \"Qiagen\"\n",
    "]"
   ]
  },
  {
   "cell_type": "code",
   "execution_count": 14,
   "metadata": {},
   "outputs": [],
   "source": [
    "# Bear in mind that some of the targeted genes are pseudogenes and are\n",
    "# thus not associated with any UniProt entries\n",
    "# They have the entry \"Not available\" in the \"UniProt_IDs\" column and\n",
    "# are filtered out\n",
    "Qiagen_df = Qiagen_df[\n",
    "    Qiagen_df[\"UniProt_IDs\"] != \"Not available\"\n",
    "]\n",
    "\n",
    "# Also keep in mind that some entries are composite entries, i.e.\n",
    "# comprise multiple UniProt IDs representing different isoforms\n",
    "# The different isoforms are separated from one another via semicolons\n",
    "Qiagen_uniprot_ids = np.unique([\n",
    "    uniprot_id for entry in Qiagen_df[\"UniProt_IDs\"]\n",
    "    for uniprot_id in entry.split(\";\")\n",
    "]).tolist()"
   ]
  },
  {
   "cell_type": "code",
   "execution_count": 15,
   "metadata": {},
   "outputs": [
    {
     "ename": "AssertionError",
     "evalue": "24 proteins are not contained in the reference proteome of Homo sapiens!",
     "output_type": "error",
     "traceback": [
      "\u001b[0;31m---------------------------------------------------------------------------\u001b[0m",
      "\u001b[0;31mAssertionError\u001b[0m                            Traceback (most recent call last)",
      "Cell \u001b[0;32mIn[15], line 16\u001b[0m\n\u001b[1;32m      6\u001b[0m ref_proteome_uniprot_ids \u001b[38;5;241m=\u001b[39m [\n\u001b[1;32m      7\u001b[0m     header\u001b[38;5;241m.\u001b[39msplit(\u001b[38;5;124m\"\u001b[39m\u001b[38;5;124m|\u001b[39m\u001b[38;5;124m\"\u001b[39m)[\u001b[38;5;241m1\u001b[39m]\n\u001b[1;32m      8\u001b[0m     \u001b[38;5;28;01mfor\u001b[39;00m header \u001b[38;5;129;01min\u001b[39;00m homo_sapiens_reference_proteome_fasta\u001b[38;5;241m.\u001b[39mkeys()\n\u001b[1;32m      9\u001b[0m ]\n\u001b[1;32m     11\u001b[0m contained_in_ref_proteome \u001b[38;5;241m=\u001b[39m [\n\u001b[1;32m     12\u001b[0m     Qiagen_id \u001b[38;5;129;01min\u001b[39;00m ref_proteome_uniprot_ids\n\u001b[1;32m     13\u001b[0m     \u001b[38;5;28;01mfor\u001b[39;00m Qiagen_id \u001b[38;5;129;01min\u001b[39;00m Qiagen_uniprot_ids\n\u001b[1;32m     14\u001b[0m ]\n\u001b[0;32m---> 16\u001b[0m \u001b[38;5;28;01massert\u001b[39;00m \u001b[38;5;28mall\u001b[39m(contained_in_ref_proteome), (\n\u001b[1;32m     17\u001b[0m     \u001b[38;5;124mf\u001b[39m\u001b[38;5;124m\"\u001b[39m\u001b[38;5;132;01m{\u001b[39;00m\u001b[38;5;28mlen\u001b[39m(contained_in_ref_proteome)\u001b[38;5;250m \u001b[39m\u001b[38;5;241m-\u001b[39m\u001b[38;5;250m \u001b[39m\u001b[38;5;28msum\u001b[39m(contained_in_ref_proteome)\u001b[38;5;132;01m}\u001b[39;00m\u001b[38;5;124m\"\u001b[39m\n\u001b[1;32m     18\u001b[0m     \u001b[38;5;124m\"\u001b[39m\u001b[38;5;124m proteins are not contained in the reference proteome of Homo \u001b[39m\u001b[38;5;124m\"\u001b[39m\n\u001b[1;32m     19\u001b[0m     \u001b[38;5;124m\"\u001b[39m\u001b[38;5;124msapiens!\u001b[39m\u001b[38;5;124m\"\u001b[39m\n\u001b[1;32m     20\u001b[0m )\n",
      "\u001b[0;31mAssertionError\u001b[0m: 24 proteins are not contained in the reference proteome of Homo sapiens!"
     ]
    }
   ],
   "source": [
    "# Investigate whether all UniProt IDs also occur in the Homo sapiens\n",
    "# reference proteome\n",
    "homo_sapiens_reference_proteome_fasta = fasta.FastaFile.read(\n",
    "    \"uniprotkb_Homo_sapiens_reference_proteome_06_11_2024.fasta\"\n",
    ")\n",
    "ref_proteome_uniprot_ids = [\n",
    "    header.split(\"|\")[1]\n",
    "    for header in homo_sapiens_reference_proteome_fasta.keys()\n",
    "]\n",
    "\n",
    "contained_in_ref_proteome = [\n",
    "    Qiagen_id in ref_proteome_uniprot_ids\n",
    "    for Qiagen_id in Qiagen_uniprot_ids\n",
    "]\n",
    "\n",
    "assert all(contained_in_ref_proteome), (\n",
    "    f\"{len(contained_in_ref_proteome) - sum(contained_in_ref_proteome)}\"\n",
    "    \" proteins are not contained in the reference proteome of Homo \"\n",
    "    \"sapiens!\"\n",
    ")"
   ]
  },
  {
   "cell_type": "code",
   "execution_count": 16,
   "metadata": {},
   "outputs": [
    {
     "name": "stdout",
     "output_type": "stream",
     "text": [
      "['A0A090N7S4' 'A4D112' 'A4D1Y7' 'B7ZGW9' 'B9EIR0' 'B9EIR1' 'D3DUG6'\n",
      " 'L8E6Z1' 'Q0VGM3' 'Q3MIM1' 'Q4G0H6' 'Q5G014' 'Q6P462' 'Q6PJD4' 'Q6PL46'\n",
      " 'Q6ZW74' 'Q86X61' 'Q8N5R8' 'Q8N5S0' 'Q8N7Z3' 'Q93065' 'Q96QB4' 'Q9BUY1'\n",
      " 'Q9BXE6']\n"
     ]
    }
   ],
   "source": [
    "# It emerges that 24 of the proteins belonging to the Qiagen subset are\n",
    "# not contained in the reference proteome; therefore, their sequences\n",
    "# have to be retrieved by performing a database query\n",
    "ids_not_contained = np.array(Qiagen_uniprot_ids)[\n",
    "    ~np.array(contained_in_ref_proteome)\n",
    "]\n",
    "print(ids_not_contained)"
   ]
  },
  {
   "cell_type": "code",
   "execution_count": null,
   "metadata": {},
   "outputs": [],
   "source": [
    "..."
   ]
  },
  {
   "cell_type": "code",
   "execution_count": 20,
   "metadata": {},
   "outputs": [],
   "source": [
    "# Create an empty FASTA file and add the proteins contained in the\n",
    "# reference proteome to it\n",
    "human_prots_Qiagen_subset_fasta = fasta.FastaFile()\n",
    "\n",
    "# The dictionary keys, i.e. FASTA entry headers have to be simplified to\n",
    "# just the UniProt IDs so as to enable effortless dictionary indexing\n",
    "homo_sapiens_reference_proteome_dict = {\n",
    "    uniprot_id: seq_str\n",
    "    for uniprot_id, (_, seq_str) in zip(\n",
    "        ref_proteome_uniprot_ids,\n",
    "        homo_sapiens_reference_proteome_fasta.items()\n",
    "    )\n",
    "}\n",
    "\n",
    "for Qiagen_uniprot_id in Qiagen_uniprot_ids:\n",
    "    try:\n",
    "        sequence = homo_sapiens_reference_proteome_dict[\n",
    "            Qiagen_uniprot_id\n",
    "        ]\n",
    "    except KeyError:\n",
    "        continue\n",
    "\n",
    "    human_prots_Qiagen_subset_fasta[Qiagen_uniprot_id] = sequence"
   ]
  },
  {
   "cell_type": "code",
   "execution_count": null,
   "metadata": {},
   "outputs": [],
   "source": [
    "# ..."
   ]
  }
 ],
 "metadata": {
  "kernelspec": {
   "display_name": "bioinformatics",
   "language": "python",
   "name": "python3"
  },
  "language_info": {
   "codemirror_mode": {
    "name": "ipython",
    "version": 3
   },
   "file_extension": ".py",
   "mimetype": "text/x-python",
   "name": "python",
   "nbconvert_exporter": "python",
   "pygments_lexer": "ipython3",
   "version": "3.10.8"
  }
 },
 "nbformat": 4,
 "nbformat_minor": 2
}
