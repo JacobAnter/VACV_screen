{
 "cells": [
  {
   "cell_type": "code",
   "execution_count": 1,
   "id": "0c762dee",
   "metadata": {},
   "outputs": [
    {
     "data": {
      "text/plain": [
       "'\\nThe purpose of this Jupyter notebook is to prepare or rather to adjust\\nthe VACV WR data set from HVIDB to the PPI prediction model KSGPPI. The\\nnecessity to do so stems from the fact that the implementation provided\\non GitHub only allows the prediction of one PPI pair at once.\\n\\nIn contrast to many other PPI prediction models taking both FASTA and\\nTSV files as input, KSGPPI only takes FASTA files as input. To be more\\nprecise, two FASTA files have to be provided each containing one protein\\nsequence; the two protein sequences form the PPI pair to investigate.\\nAccordingly, the results file harbours the predicted probability for\\nonly that one PPI pair. As a consequence, post-processing of the results\\nfiles is necessary as well.\\n'"
      ]
     },
     "execution_count": 1,
     "metadata": {},
     "output_type": "execute_result"
    }
   ],
   "source": [
    "\"\"\"\n",
    "The purpose of this Jupyter notebook is to prepare or rather to adjust\n",
    "the VACV WR data set from HVIDB to the PPI prediction model KSGPPI. The\n",
    "necessity to do so stems from the fact that the implementation provided\n",
    "on GitHub only allows the prediction of one PPI pair at once.\n",
    "\n",
    "In contrast to many other PPI prediction models taking both FASTA and\n",
    "TSV files as input, KSGPPI only takes FASTA files as input. To be more\n",
    "precise, two FASTA files have to be provided each containing one protein\n",
    "sequence; the two protein sequences form the PPI pair to investigate.\n",
    "Accordingly, the results file harbours the predicted probability for\n",
    "only that one PPI pair. As a consequence, post-processing of the results\n",
    "files is necessary as well.\n",
    "\"\"\""
   ]
  },
  {
   "cell_type": "code",
   "execution_count": 2,
   "id": "1ec0038e",
   "metadata": {},
   "outputs": [],
   "source": [
    "import os\n",
    "\n",
    "import pandas as pd\n",
    "from biotite.sequence.io import fasta"
   ]
  },
  {
   "cell_type": "code",
   "execution_count": 3,
   "id": "93bba54d",
   "metadata": {},
   "outputs": [],
   "source": [
    "path_to_all_seqs_fasta_file = (\n",
    "    \"/Users/jacobanter/Documents/Code/VACV_screen/HVIDB_pos_instances_\"\n",
    "    \"with_nucleolus_neg_instances/human_nucleolus_and_VACV_WR_prot_\"\n",
    "    \"seqs.fasta\"\n",
    ")\n",
    "\n",
    "all_seqs_fasta = fasta.FastaFile.read(path_to_all_seqs_fasta_file)"
   ]
  },
  {
   "cell_type": "code",
   "execution_count": 12,
   "id": "e8b258ba",
   "metadata": {},
   "outputs": [
    {
     "name": "stdout",
     "output_type": "stream",
     "text": [
      "Directory \"HVIDB_VACV_WR_split_0\" already exists.\n",
      "Directory \"HVIDB_VACV_WR_split_1\" already exists.\n",
      "Directory \"HVIDB_VACV_WR_split_2\" already exists.\n",
      "Directory \"HVIDB_VACV_WR_split_3\" already exists.\n",
      "Directory \"HVIDB_VACV_WR_split_4\" already exists.\n",
      "Directory \"HVIDB_VACV_WR_split_5\" already exists.\n",
      "Directory \"HVIDB_VACV_WR_split_6\" already exists.\n",
      "Directory \"HVIDB_VACV_WR_split_7\" already exists.\n",
      "Directory \"HVIDB_VACV_WR_split_8\" already exists.\n",
      "Directory \"HVIDB_VACV_WR_split_9\" already exists.\n"
     ]
    }
   ],
   "source": [
    "path_to_data_set_splits = (\n",
    "    \"/Users/jacobanter/Documents/Code/VACV_screen/HVIDB_pos_instances_\"\n",
    "    \"with_nucleolus_neg_instances/data_set_splits\"\n",
    ")\n",
    "\n",
    "split_file_name = \"VACV_WR_pos_and_neg_PPIs_test_split_{i}.tsv\"\n",
    "\n",
    "# 10 different splits are available\n",
    "for i in range(10):\n",
    "    # Create a directory for the current split\n",
    "    dir_path = f\"HVIDB_VACV_WR_split_{i}\"\n",
    "    if not os.path.exists(dir_path):\n",
    "        os.mkdir(dir_path)\n",
    "    else:\n",
    "        print(f\"Directory \\\"{dir_path}\\\" already exists.\")\n",
    "    \n",
    "    # Iterate over the PPI pairs of the current split and create a\n",
    "    # subdirectory for each\n",
    "    current_split_path = os.path.join(\n",
    "        path_to_data_set_splits, split_file_name\n",
    "    )\n",
    "    current_split_df = pd.read_csv(\n",
    "        current_split_path.format(i=i),\n",
    "        sep=\"\\t\",\n",
    "        header=None\n",
    "    )\n",
    "    \n",
    "    for j, (prot_1, prot_2, _) in current_split_df.iterrows():\n",
    "        subdir_path = f\"PPI_pair_{j}\"\n",
    "\n",
    "        if not os.path.exists(subdir_path):\n",
    "            os.mkdir(os.path.join(dir_path, subdir_path))\n",
    "        \n",
    "        # Create for each protein of the current PPI pair a separate\n",
    "        # FASTA file within the current subdirectory\n",
    "        prot_1_fasta = fasta.FastaFile()\n",
    "        prot_2_fasta = fasta.FastaFile()\n",
    "\n",
    "        prot_1_fasta[prot_1] = all_seqs_fasta[prot_1]\n",
    "        prot_2_fasta[prot_2] = all_seqs_fasta[prot_2]\n",
    "\n",
    "        prot_1_fasta.write(os.path.join(\n",
    "            dir_path, subdir_path, f\"{prot_1}.fasta\"\n",
    "        ))\n",
    "        prot_2_fasta.write(os.path.join(\n",
    "            dir_path, subdir_path, f\"{prot_2}.fasta\"\n",
    "        ))"
   ]
  },
  {
   "cell_type": "code",
   "execution_count": 21,
   "id": "d883fb7e",
   "metadata": {},
   "outputs": [],
   "source": [
    "# Perform a couple of sanity checks\n",
    "# The first sanity check verifies whether the amount of subdirectories\n",
    "# in each data set split equals the amount of PPI pairs of that split\n",
    "for i in range(10):\n",
    "    dir_path = f\"HVIDB_VACV_WR_split_{i}\"\n",
    "\n",
    "    current_split_path = os.path.join(\n",
    "        path_to_data_set_splits, split_file_name\n",
    "    )\n",
    "    current_split_df = pd.read_csv(\n",
    "        current_split_path.format(i=i),\n",
    "        sep=\"\\t\",\n",
    "        header=None\n",
    "    )\n",
    "\n",
    "    n_subdirs = len([\n",
    "        subdir for subdir in os.listdir(dir_path)\n",
    "        if os.path.isdir(os.path.join(dir_path, subdir))\n",
    "    ])\n",
    "    n_PPI_pairs = len(current_split_df)\n",
    "\n",
    "    assert n_subdirs == n_PPI_pairs, (\n",
    "        f\"For data set split {i}, the amount of subdirectories does \"\n",
    "        \"not equal the amount of PPI pairs in the respective split!\"\n",
    "    )\n",
    "\n",
    "# The second sanity check verifies whether each subdirectory comprises\n",
    "# two FASTA files\n",
    "for i in range(10):\n",
    "    dir_path = f\"HVIDB_VACV_WR_split_{i}\"\n",
    "    subdir_list = [\n",
    "        subdir for subdir in os.listdir(dir_path)\n",
    "        if \"PPI\" in subdir\n",
    "    ]\n",
    "\n",
    "    for j, subdir in enumerate(subdir_list):\n",
    "        current_subdir_path = os.path.join(dir_path, subdir)\n",
    "\n",
    "        assert len(os.listdir(current_subdir_path)) == 2, (\n",
    "            f\"FASTA file creation for PPI pair number {j} of data set \"\n",
    "            f\"split {i} was not successful!\"\n",
    "        )"
   ]
  },
  {
   "cell_type": "code",
   "execution_count": 7,
   "id": "38b72aae",
   "metadata": {},
   "outputs": [],
   "source": [
    "# In a bid to speed up code execution, the source code has been altered\n",
    "# such that multiple PPI pairs are processed at once\n",
    "# In other words, it is now tried to process one split at a time rather\n",
    "# than one PPI pair at a time\n",
    "# This, however, requires the generation of two FASTA files per split\n",
    "# with the first FASTA and the second FASTA file harbouring the first\n",
    "# and the second interaction partner, respectively\n",
    "path_to_data_set_splits = (\n",
    "    \"/Users/jacobanter/Documents/Code/VACV_screen/HVIDB_pos_instances_\"\n",
    "    \"with_nucleolus_neg_instances/data_set_splits\"\n",
    ")\n",
    "\n",
    "split_file_name = \"VACV_WR_pos_and_neg_PPIs_test_split_{i}.tsv\"\n",
    "\n",
    "split_file_path = os.path.join(path_to_data_set_splits, split_file_name)"
   ]
  },
  {
   "cell_type": "code",
   "execution_count": 5,
   "id": "97c30f00",
   "metadata": {},
   "outputs": [],
   "source": [
    "if not os.path.exists(\"whole_splits_FASTA_files\"):\n",
    "    os.mkdir(\"whole_splits_FASTA_files\")\n",
    "else:\n",
    "    print(\"Directory \\\"whole_splits_FASTA_files\\\" already exists.\")"
   ]
  },
  {
   "cell_type": "code",
   "execution_count": 11,
   "id": "084e130b",
   "metadata": {},
   "outputs": [
    {
     "name": "stdout",
     "output_type": "stream",
     "text": [
      "Directory \"whole_splits_FASTA_files/split_0\" already exists.\n"
     ]
    }
   ],
   "source": [
    "# Iterate over the individual splits and create one FASTA file for the\n",
    "# first and second interaction partner each\n",
    "for i in range(10):\n",
    "    subdir_name = f\"whole_splits_FASTA_files/split_{i}\"\n",
    "    if not os.path.exists(subdir_name):\n",
    "        os.mkdir(subdir_name)\n",
    "    else:\n",
    "        print(f\"Directory \\\"{subdir_name}\\\" already exists.\")\n",
    "\n",
    "    current_split_path = split_file_path.format(i=i)\n",
    "\n",
    "    current_split_df = pd.read_csv(\n",
    "        current_split_path,\n",
    "        sep=\"\\t\",\n",
    "        header=None\n",
    "    )\n",
    "\n",
    "    # Extract the first and the second interaction partners\n",
    "    first_int_partners = current_split_df.iloc[:, 0]\n",
    "    second_int_partners = current_split_df.iloc[:, 1]\n",
    "\n",
    "    # Finally, create the FASTA files for the first and second\n",
    "    # interaction partners\n",
    "    first_int_partner_fasta = fasta.FastaFile()\n",
    "\n",
    "    for prot in first_int_partners:\n",
    "        first_int_partner_fasta[prot] = all_seqs_fasta[prot]\n",
    "    \n",
    "    first_int_partner_fasta.write(os.path.join(\n",
    "        subdir_name, \"first_interaction_partners.fasta\"\n",
    "    ))\n",
    "\n",
    "    second_int_partner_fasta = fasta.FastaFile()\n",
    "    \n",
    "    for prot in second_int_partners:\n",
    "        second_int_partner_fasta[prot] = all_seqs_fasta[prot]\n",
    "\n",
    "    second_int_partner_fasta.write(os.path.join(\n",
    "        subdir_name, \"second_interaction_partners.fasta\"\n",
    "    ))"
   ]
  },
  {
   "cell_type": "code",
   "execution_count": 12,
   "id": "7e589e5a",
   "metadata": {},
   "outputs": [],
   "source": [
    "# Perform a sanity check\n",
    "# The sanity check consists of verifying that each subdirectory contains\n",
    "# 2 FASTA files\n",
    "for i in range(10):\n",
    "    subdir_name = f\"whole_splits_FASTA_files/split_{i}\"\n",
    "\n",
    "    files_in_subdir = os.listdir(subdir_name)\n",
    "\n",
    "    assert len(files_in_subdir) == 2, (\n",
    "        f\"The subdirectory for split {i} does not contain two files!\"\n",
    "    )\n",
    "\n",
    "    assert all([\n",
    "        filename.split(\".\")[1] == \"fasta\" for filename in files_in_subdir\n",
    "    ]), (\n",
    "        f\"The subdirectory for split {i} does not (exclusively) \"\n",
    "        \"contain FASTA files!\"\n",
    "    )"
   ]
  },
  {
   "cell_type": "code",
   "execution_count": null,
   "id": "1bb64109",
   "metadata": {},
   "outputs": [],
   "source": []
  }
 ],
 "metadata": {
  "kernelspec": {
   "display_name": "bioinformatics",
   "language": "python",
   "name": "python3"
  },
  "language_info": {
   "codemirror_mode": {
    "name": "ipython",
    "version": 3
   },
   "file_extension": ".py",
   "mimetype": "text/x-python",
   "name": "python",
   "nbconvert_exporter": "python",
   "pygments_lexer": "ipython3",
   "version": "3.10.8"
  }
 },
 "nbformat": 4,
 "nbformat_minor": 5
}
