{
 "cells": [
  {
   "cell_type": "code",
   "execution_count": 6,
   "metadata": {},
   "outputs": [],
   "source": [
    "# Import required libraries\n",
    "import numpy as np\n",
    "import pandas as pd\n",
    "from sklearn.model_selection import train_test_split\n",
    "from sklearn.metrics import accuracy_score\n",
    "import xgboost as xgb"
   ]
  },
  {
   "cell_type": "code",
   "execution_count": 2,
   "metadata": {},
   "outputs": [],
   "source": [
    "# Load the data set and separate the features from the targets\n",
    "train_test_df = pd.read_csv(\"train_test.csv\")\n",
    "# The `to_numpy()` method converts the Pandas Series/DataFrame to a\n",
    "# NumPy array\n",
    "# We're only interested in standardised columns, i.e. columns containing\n",
    "# `Zscore` in their name\n",
    "# Right now, both the infection cound and index are employed; in the\n",
    "# future, one of them might be discarded\n",
    "X = train_test_df.iloc[:, 18:].to_numpy()\n",
    "# Indexing begins with 0, which is why all class labels need to be\n",
    "# reduced by 1\n",
    "y = train_test_df[\"Class\"].to_numpy() - 1\n",
    "\n",
    "# Now, perform the train-test split\n",
    "X_train, X_test, y_train, y_test = train_test_split(\n",
    "    X, y, train_size=0.8, random_state=1\n",
    ")"
   ]
  },
  {
   "cell_type": "code",
   "execution_count": 3,
   "metadata": {},
   "outputs": [],
   "source": [
    "# Create classification matrices\n",
    "dtrain_clf = xgb.DMatrix(X_train, y_train)\n",
    "dtest_clf = xgb.DMatrix(X_test, y_test)"
   ]
  },
  {
   "cell_type": "code",
   "execution_count": 4,
   "metadata": {},
   "outputs": [],
   "source": [
    "# Define hyperparameters and the amount of boosting rounds\n",
    "params = {\n",
    "    \"objective\": \"multi:softprob\",\n",
    "    # Unfortunately, XGBoost does not support Apple GPU, which is why\n",
    "    # `hist` is passed as value for `tree_method` instead of `gpu_hist`\n",
    "    \"tree_method\": \"hist\",\n",
    "    \"num_class\": 6\n",
    "}\n",
    "\n",
    "n = 100"
   ]
  },
  {
   "cell_type": "code",
   "execution_count": 5,
   "metadata": {},
   "outputs": [],
   "source": [
    "# Finally, perform training\n",
    "model = xgb.train(\n",
    "    params=params,\n",
    "    dtrain=dtrain_clf,\n",
    "    num_boost_round=n\n",
    ")"
   ]
  },
  {
   "cell_type": "code",
   "execution_count": 15,
   "metadata": {},
   "outputs": [],
   "source": [
    "# Evaluate the model's performance by running it on previously unseen\n",
    "# data\n",
    "prob_preds = model.predict(dtest_clf)\n",
    "# Note that the `predict` method does not immediately return class\n",
    "# labels, but probabilities for each possible class\n",
    "# Hence, in order to convert the probabilities into class labels,\n",
    "# np.argmax is employed\n",
    "label_preds = np.argmax(prob_preds, axis=1) \n",
    "\n",
    "# Quantify the distance between predictions and the ground truth via\n",
    "# accuracy\n",
    "acc = accuracy_score(y_test, label_preds)"
   ]
  },
  {
   "cell_type": "code",
   "execution_count": 17,
   "metadata": {},
   "outputs": [
    {
     "name": "stdout",
     "output_type": "stream",
     "text": [
      "Accuracy of the model: 0.9994\n"
     ]
    }
   ],
   "source": [
    "print(f\"Accuracy of the model: {acc:.4f}\")"
   ]
  },
  {
   "cell_type": "code",
   "execution_count": null,
   "metadata": {},
   "outputs": [],
   "source": []
  }
 ],
 "metadata": {
  "kernelspec": {
   "display_name": "bioinformatics",
   "language": "python",
   "name": "python3"
  },
  "language_info": {
   "codemirror_mode": {
    "name": "ipython",
    "version": 3
   },
   "file_extension": ".py",
   "mimetype": "text/x-python",
   "name": "python",
   "nbconvert_exporter": "python",
   "pygments_lexer": "ipython3",
   "version": "3.10.8"
  }
 },
 "nbformat": 4,
 "nbformat_minor": 2
}
