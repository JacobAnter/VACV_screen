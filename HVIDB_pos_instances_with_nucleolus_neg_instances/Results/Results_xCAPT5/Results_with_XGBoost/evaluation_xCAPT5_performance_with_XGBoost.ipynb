{
 "cells": [
  {
   "cell_type": "code",
   "execution_count": 1,
   "metadata": {},
   "outputs": [
    {
     "data": {
      "text/plain": [
       "'\\nThe purpose of this Jupyter notebook is to evaluate the performance of\\nxCAPT5 with XGBoost, which serves as one of the three published\\nbenchmark models.\\n'"
      ]
     },
     "execution_count": 1,
     "metadata": {},
     "output_type": "execute_result"
    }
   ],
   "source": [
    "\"\"\"\n",
    "The purpose of this Jupyter notebook is to evaluate the performance of\n",
    "xCAPT5 with XGBoost, which serves as one of the three published\n",
    "benchmark models.\n",
    "\"\"\""
   ]
  },
  {
   "cell_type": "code",
   "execution_count": 2,
   "metadata": {},
   "outputs": [],
   "source": [
    "import sys\n",
    "# Jupyter notebooks exhibit some peculiarities; one of them is that the\n",
    "# present/current working directory is always the directory that was\n",
    "# opened is VS Code; another one is that importing from directories\n",
    "# above the Jupyter notebook's one fails, be it via a direct or a\n",
    "# relative import\n",
    "# Therefore, it is necessary to explicitly add the directory the desired\n",
    "# code is located in to path (this step is necessary in order to import\n",
    "# functionalities housed by `evaluation_utils.py`)\n",
    "sys.path.append(\"../..\")"
   ]
  },
  {
   "cell_type": "code",
   "execution_count": 4,
   "metadata": {},
   "outputs": [],
   "source": [
    "import evaluation_utils"
   ]
  },
  {
   "cell_type": "code",
   "execution_count": 5,
   "metadata": {},
   "outputs": [],
   "source": [
    "# In the case of xCAPT5, only the predicted probabilities, but not the\n",
    "# corresponding labels are stored in the output file\n",
    "# Therefore, as a first step, a `label` column is added to each output\n",
    "# file\n",
    "# As threshold, 0.5 is applied, i.e. a PPI having a probability of at\n",
    "# least 0.5 is predicted to occur and is assigned a label of 1;\n",
    "# conversely, PPIs with a probability below 0.5 are predicted not to\n",
    "# occur and are assigned a label of 0\n",
    "\n",
    "evaluation_utils.add_labels_based_on_probs(\n",
    "    path_tsv_files=\"xCAPT5_interaction_probs_VACV_WR_10-fold_cross-\"\\\n",
    "        \"val_test_set_{i}_with_XGBoost.tsv\",\n",
    "    pred_col_name=\"interaction_probability\",\n",
    "    n_fold=10\n",
    ")"
   ]
  },
  {
   "cell_type": "code",
   "execution_count": 6,
   "metadata": {},
   "outputs": [
    {
     "name": "stdout",
     "output_type": "stream",
     "text": [
      "Using 10-fold cross-validation, the metrics for xCAPT5 with XGBoost are as follows:\n",
      "Accuracy     0.8930499866345898 ± 0.035167328109252466\n",
      "Precision    0.888265781070037 ± 0.06089822340545986\n",
      "Recall       0.8833059962655196 ± 0.0719007765636566\n",
      "F1-score     0.8831635264741562 ± 0.047203070387024065\n",
      "Specificity  0.8848953930322793 ± 0.07583051464717591\n"
     ]
    },
    {
     "data": {
      "text/plain": [
       "((0.8930499866345898, 0.035167328109252466),\n",
       " (0.888265781070037, 0.06089822340545986),\n",
       " (0.8833059962655196, 0.0719007765636566),\n",
       " (0.8831635264741562, 0.047203070387024065),\n",
       " (0.8848953930322793, 0.07583051464717591))"
      ]
     },
     "execution_count": 6,
     "metadata": {},
     "output_type": "execute_result"
    }
   ],
   "source": [
    "evaluation_utils.evaluation_k_fold_cross_val(\n",
    "    ground_truth_path=\"/Users/jacobanter/Documents/Code/VACV_screen/\"\\\n",
    "    \"HVIDB_pos_instances_with_nucleolus_neg_instances/VACV_WR_pos_and\"\\\n",
    "    \"_nucleolus_prots_neg_PPI_instances.tsv\",\n",
    "    splits_path=\"xCAPT5_interaction_probs_VACV_WR_10-fold_cross-\"\\\n",
    "        \"val_test_set_{i}_with_XGBoost.tsv\",\n",
    "    n_fold=10,\n",
    "    model_name=\"xCAPT5 with XGBoost\",\n",
    "    output_path=\"xCAPT5_with_XGBoost_results_10-fold_cross-\"\\\n",
    "        \"validation_on_combined_VACV_WR_data_set_without_training.txt\"\n",
    ")"
   ]
  },
  {
   "cell_type": "code",
   "execution_count": null,
   "metadata": {},
   "outputs": [],
   "source": []
  }
 ],
 "metadata": {
  "kernelspec": {
   "display_name": "bioinformatics",
   "language": "python",
   "name": "python3"
  },
  "language_info": {
   "codemirror_mode": {
    "name": "ipython",
    "version": 3
   },
   "file_extension": ".py",
   "mimetype": "text/x-python",
   "name": "python",
   "nbconvert_exporter": "python",
   "pygments_lexer": "ipython3",
   "version": "3.10.8"
  }
 },
 "nbformat": 4,
 "nbformat_minor": 2
}
