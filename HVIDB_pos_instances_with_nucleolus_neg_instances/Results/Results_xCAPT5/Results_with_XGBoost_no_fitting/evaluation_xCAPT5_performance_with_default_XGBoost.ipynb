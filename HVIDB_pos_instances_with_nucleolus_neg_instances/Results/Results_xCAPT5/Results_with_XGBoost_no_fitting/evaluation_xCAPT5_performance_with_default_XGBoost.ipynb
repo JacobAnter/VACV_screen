{
 "cells": [
  {
   "cell_type": "code",
   "execution_count": null,
   "metadata": {},
   "outputs": [
    {
     "data": {
      "text/plain": [
       "'\\nThe purpose of this Jupyter notebook is to evaluate the performance of\\nxCAPT5 with XGBoost (using default weights), which serves as one of the\\nthree published benchmark models.\\n'"
      ]
     },
     "execution_count": 1,
     "metadata": {},
     "output_type": "execute_result"
    }
   ],
   "source": [
    "\"\"\"\n",
    "The purpose of this Jupyter notebook is to evaluate the performance of\n",
    "xCAPT5 with XGBoost (using default weights), which serves as one of the\n",
    "three published benchmark models.\n",
    "\"\"\""
   ]
  },
  {
   "cell_type": "code",
   "execution_count": 2,
   "metadata": {},
   "outputs": [],
   "source": [
    "# As this Jupyter notebook is not part of a package, the module's/file's\n",
    "# `__name__` attribute is set to `__main__`, i.e. it does not contain\n",
    "# any package information\n",
    "# This, in turn, makes relative imports infeasible\n",
    "# Thus, the directory the desired file is located in has to be manually\n",
    "# added to path\n",
    "import sys\n",
    "sys.path.append(\"../..\")"
   ]
  },
  {
   "cell_type": "code",
   "execution_count": 3,
   "metadata": {},
   "outputs": [],
   "source": [
    "import evaluation_utils"
   ]
  },
  {
   "cell_type": "code",
   "execution_count": 4,
   "metadata": {},
   "outputs": [],
   "source": [
    "# In the case of xCAPT5, only the predicted probabilities, but not the\n",
    "# corresponding labels are stored in the output file\n",
    "# Therefore, as a first step, a `label` column is added to each output\n",
    "# file\n",
    "# As threshold, 0.5 is applied, i.e. a PPI having a probability of at\n",
    "# least 0.5 is predicted to occur and is assigned a label of 1;\n",
    "# conversely, PPIs with a probability below 0.5 are predicted not to\n",
    "# occur and are assigned a label of 0\n",
    "\n",
    "evaluation_utils.add_labels_based_on_probs(\n",
    "    path_tsv_files=\"xCAPT5_interaction_probs_VACV_WR_10-fold_cross-\"\\\n",
    "    \"val_test_set_{i}_with_XGBoost_no_fitting.tsv\",\n",
    "    pred_col_name=\"interaction_probability\",\n",
    "    n_fold=10\n",
    ")"
   ]
  },
  {
   "cell_type": "code",
   "execution_count": 5,
   "metadata": {},
   "outputs": [
    {
     "name": "stdout",
     "output_type": "stream",
     "text": [
      "Using 10-fold cross-validation, the metrics for xCAPT5 with default XGBoost are as follows:\n",
      "Accuracy:      0.6420876770916867 ± 0.061307661603399524\n",
      "Precision:     0.6045488842060113 ± 0.10468832098316846\n",
      "Recall:        0.7027367997406937 ± 0.06255201619606272\n",
      "F1-score:      0.6458349102678913 ± 0.07733721612866655\n",
      "Specificity:   0.5901431827382735 ± 0.07218380124007522\n",
      "ROC AUC score: 0.6524821656619644 ± 0.08293162868121563\n"
     ]
    },
    {
     "data": {
      "text/plain": [
       "((0.6420876770916867, 0.061307661603399524),\n",
       " (0.6045488842060113, 0.10468832098316846),\n",
       " (0.7027367997406937, 0.06255201619606272),\n",
       " (0.6458349102678913, 0.07733721612866655),\n",
       " (0.5901431827382735, 0.07218380124007522),\n",
       " (0.6524821656619644, 0.08293162868121563))"
      ]
     },
     "execution_count": 5,
     "metadata": {},
     "output_type": "execute_result"
    }
   ],
   "source": [
    "evaluation_utils.evaluation_k_fold_cross_val(\n",
    "    ground_truth_path=\"/Users/jacobanter/Documents/Code/VACV_screen/\"\\\n",
    "    \"HVIDB_pos_instances_with_nucleolus_neg_instances/VACV_WR_pos_and_\"\\\n",
    "    \"nucleolus_prots_neg_PPI_instances.tsv\",\n",
    "    splits_path=\"xCAPT5_interaction_probs_VACV_WR_10-fold_cross-val_\"\\\n",
    "    \"test_set_{i}_with_XGBoost_no_fitting.tsv\",\n",
    "    n_fold=10,\n",
    "    probability_key=\"interaction_probability\",\n",
    "    model_name=\"xCAPT5 with default XGBoost\",\n",
    "    output_path=\"xCAPT5_with_default_XGBoost_results_10-fold_cross-\"\\\n",
    "    \"validation_on_combined_VACV_WR_data_set_without_training.txt\"\n",
    ")"
   ]
  },
  {
   "cell_type": "code",
   "execution_count": null,
   "metadata": {},
   "outputs": [],
   "source": []
  }
 ],
 "metadata": {
  "kernelspec": {
   "display_name": "bioinformatics",
   "language": "python",
   "name": "python3"
  },
  "language_info": {
   "codemirror_mode": {
    "name": "ipython",
    "version": 3
   },
   "file_extension": ".py",
   "mimetype": "text/x-python",
   "name": "python",
   "nbconvert_exporter": "python",
   "pygments_lexer": "ipython3",
   "version": "3.10.8"
  }
 },
 "nbformat": 4,
 "nbformat_minor": 2
}
