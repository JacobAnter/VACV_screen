{
 "cells": [
  {
   "cell_type": "code",
   "execution_count": 1,
   "metadata": {},
   "outputs": [
    {
     "data": {
      "text/plain": [
       "\"\\nThe purpose of this Juputer notebook is to evaluate the performance of\\nMaTPIP, which serves as one of the three published benchmark models.\\n\\nBeyond just computing five different metrics (accuracy, precision,\\nrecall, F1-score, specificity) as average across the 10 splits, the ROC\\nAUC score is also computed, which summarises a classifier's performance\\nacross different classification thresholds.\\n\""
      ]
     },
     "execution_count": 1,
     "metadata": {},
     "output_type": "execute_result"
    }
   ],
   "source": [
    "\"\"\"\n",
    "The purpose of this Juputer notebook is to evaluate the performance of\n",
    "MaTPIP, which serves as one of the three published benchmark models.\n",
    "\n",
    "Beyond just computing five different metrics (accuracy, precision,\n",
    "recall, F1-score, specificity) as average across the 10 splits, the ROC\n",
    "AUC score is also computed, which summarises a classifier's performance\n",
    "across different classification thresholds.\n",
    "\"\"\""
   ]
  },
  {
   "cell_type": "code",
   "execution_count": 2,
   "metadata": {},
   "outputs": [],
   "source": [
    "import sys\n",
    "# Jupyter notebooks exhibit some peculiarities; one of them is that the\n",
    "# present/current working directory is always the directory that was\n",
    "# opened is VS Code; another one is that importing from directories\n",
    "# above the Jupyter notebook's one fails, be it via a direct or a\n",
    "# relative import\n",
    "# Therefore, it is necessary to explicitly add the directory the desired\n",
    "# code is located in to path (this step is necessary in order to import\n",
    "# functionalities housed by `evaluation_utils.py`)\n",
    "sys.path.append(\"../\")"
   ]
  },
  {
   "cell_type": "code",
   "execution_count": 3,
   "metadata": {},
   "outputs": [],
   "source": [
    "import evaluation_utils"
   ]
  },
  {
   "cell_type": "code",
   "execution_count": 4,
   "metadata": {},
   "outputs": [
    {
     "name": "stdout",
     "output_type": "stream",
     "text": [
      "Using 10-fold cross-validation, the metrics for MaTPIP are as follows:\n",
      "Accuracy:      0.5373964180700347 ± 0.049519911203242145\n",
      "Precision:     0.5052741702741703 ± 0.2868962289636047\n",
      "Recall:        0.08476153216288612 ± 0.05820814479964803\n",
      "F1-score:      0.1438283850244445 ± 0.09544740098339699\n",
      "Specificity:   0.9399657587649626 ± 0.027473217426266957\n",
      "ROC AUC score: 0.49929921977048364 ± 0.0746945149268137\n"
     ]
    },
    {
     "data": {
      "text/plain": [
       "((0.5373964180700347, 0.049519911203242145),\n",
       " (0.5052741702741703, 0.2868962289636047),\n",
       " (0.08476153216288612, 0.05820814479964803),\n",
       " (0.1438283850244445, 0.09544740098339699),\n",
       " (0.9399657587649626, 0.027473217426266957),\n",
       " (0.49929921977048364, 0.0746945149268137))"
      ]
     },
     "execution_count": 4,
     "metadata": {},
     "output_type": "execute_result"
    }
   ],
   "source": [
    "evaluation_utils.evaluation_k_fold_cross_val(\n",
    "    ground_truth_path=\"/Users/jacobanter/Documents/Code/VACV_screen/\"\\\n",
    "    \"HVIDB_pos_instances_with_nucleolus_neg_instances/VACV_WR_pos_and\"\\\n",
    "    \"_nucleolus_prots_neg_PPI_instances.tsv\",\n",
    "    splits_path=\"predictions_on_VACV_WR_pos_and_neg_data_set_test_set_\"\\\n",
    "        \"split_{i}_without_training.tsv\",\n",
    "    n_fold=10,\n",
    "    probability_key=\"interaction_prob\",\n",
    "    model_name=\"MaTPIP\",\n",
    "    output_path=\"MaTPIP_results_10-fold_cross-validation_on_combined_\"\\\n",
    "        \"VACV_WR_data_set_without_training.txt\"\n",
    ")"
   ]
  },
  {
   "cell_type": "code",
   "execution_count": null,
   "metadata": {},
   "outputs": [],
   "source": []
  }
 ],
 "metadata": {
  "kernelspec": {
   "display_name": "bioinformatics",
   "language": "python",
   "name": "python3"
  },
  "language_info": {
   "codemirror_mode": {
    "name": "ipython",
    "version": 3
   },
   "file_extension": ".py",
   "mimetype": "text/x-python",
   "name": "python",
   "nbconvert_exporter": "python",
   "pygments_lexer": "ipython3",
   "version": "3.10.8"
  }
 },
 "nbformat": 4,
 "nbformat_minor": 2
}
