{
 "cells": [
  {
   "cell_type": "code",
   "execution_count": 1,
   "metadata": {},
   "outputs": [
    {
     "data": {
      "text/plain": [
       "'\\nThe purpose of this Jupyter notebook is to generate a results file for\\neach of the 10 test sets from the file encompassing all test set\\npredictions. The necessity to do so stems from the fact that inference\\nhas not been performed on the 10 test set splits individually, but on\\nthe file comprising the entire test set.\\n'"
      ]
     },
     "execution_count": 1,
     "metadata": {},
     "output_type": "execute_result"
    }
   ],
   "source": [
    "\"\"\"\n",
    "The purpose of this Jupyter notebook is to generate a results file for\n",
    "each of the 10 test sets from the file encompassing all test set\n",
    "predictions. The necessity to do so stems from the fact that inference\n",
    "has not been performed on the 10 test set splits individually, but on\n",
    "the file comprising the entire test set.\n",
    "\"\"\""
   ]
  },
  {
   "cell_type": "code",
   "execution_count": 2,
   "metadata": {},
   "outputs": [],
   "source": [
    "import pandas as pd"
   ]
  },
  {
   "cell_type": "code",
   "execution_count": 3,
   "metadata": {},
   "outputs": [],
   "source": [
    "# Load the file encompassing all test set predictions\n",
    "path_to_entire_test_set_preds = (\n",
    "    \"/Users/jacobanter/Documents/Code/VACV_screen/MaTPIP/Inference_on_\"\n",
    "    \"combined_VACV_PPI_data_set/predicted_probs_pos_label_combined_\"\n",
    "    \"VACV_PPIs_data_set.tsv\"\n",
    ")\n",
    "\n",
    "test_set_preds_df = pd.read_csv(\n",
    "    path_to_entire_test_set_preds,\n",
    "    sep=\"\\t\",\n",
    "    header=None\n",
    ")"
   ]
  },
  {
   "cell_type": "code",
   "execution_count": 4,
   "metadata": {},
   "outputs": [],
   "source": [
    "# Iterate over the test set splits in order to extract the corresponding\n",
    "# PPI pairs and generate a file with predictions for each test set split\n",
    "for i in range(10):\n",
    "    path_to_current_test_set_split = (\n",
    "        \"/Users/jacobanter/Documents/Code/VACV_screen/HVIDB_pos_\"\n",
    "        \"instances_with_nucleolus_neg_instances/data_set_splits/VACV_\"\n",
    "        f\"WR_pos_and_neg_PPIs_test_split_{i}.tsv\"\n",
    "    )\n",
    "\n",
    "    current_test_set_split_df = pd.read_csv(\n",
    "        path_to_current_test_set_split,\n",
    "        sep=\"\\t\",\n",
    "        header=None\n",
    "    )\n",
    "\n",
    "    # Iterate over the test set split at hand, determine the PPI pair\n",
    "    # and extract the corresponding predicted probability\n",
    "    current_split_probs = []\n",
    "\n",
    "    for _, row in current_test_set_split_df.iterrows():\n",
    "        first_int_partner = row.iloc[0]\n",
    "        second_int_partner = row.iloc[1]\n",
    "\n",
    "        predicted_prob = test_set_preds_df.loc[\n",
    "            (test_set_preds_df.iloc[:, 0] == first_int_partner)\n",
    "            &\n",
    "            (test_set_preds_df.iloc[:, 1] == second_int_partner),\n",
    "            2\n",
    "        ].iloc[0]\n",
    "        \n",
    "        current_split_probs.append(predicted_prob)\n",
    "\n",
    "    # Assemble the current test set split's Pandas DataFrame\n",
    "    data = {\n",
    "        \"seq1\": current_test_set_split_df.iloc[:, 0].to_list(),\n",
    "        \"seq2\": current_test_set_split_df.iloc[:, 1].to_list(),\n",
    "        \"interaction_prob\": current_split_probs\n",
    "    }\n",
    "\n",
    "    current_test_set_split_with_probs_df = pd.DataFrame(data=data)\n",
    "    current_test_set_split_with_probs_df.to_csv(\n",
    "        \"predictions_on_VACV_WR_pos_and_neg_data_set_test_set_split_\"\\\n",
    "            f\"{i}_without_training.tsv\",\n",
    "        sep=\"\\t\",\n",
    "        index=False\n",
    "    )"
   ]
  },
  {
   "cell_type": "code",
   "execution_count": 5,
   "metadata": {},
   "outputs": [],
   "source": [
    "# As a last step, introduce a `label` column in each of the test set TSV\n",
    "# files with labels based on the predicted probability\n",
    "\n",
    "# As this Jupyter notebook is not part of a package, the module's/file's\n",
    "# `__name__` attribute is set to `__main__`, i.e. it does not contain\n",
    "# any package information\n",
    "# This, in turn, makes relative imports infeasible\n",
    "# Thus, the directory the desired file is located in has to be manually\n",
    "# added to path\n",
    "import sys\n",
    "sys.path.append(\"..\")\n",
    "\n",
    "import evaluation_utils\n",
    "\n",
    "evaluation_utils.add_labels_based_on_probs(\n",
    "    path_tsv_files=\"predictions_on_VACV_WR_pos_and_neg_data_set_test_\"\\\n",
    "    \"set_split_{i}_without_training.tsv\",\n",
    "    pred_col_name=\"interaction_prob\",\n",
    "    n_fold=10\n",
    ")"
   ]
  },
  {
   "cell_type": "code",
   "execution_count": null,
   "metadata": {},
   "outputs": [],
   "source": []
  }
 ],
 "metadata": {
  "kernelspec": {
   "display_name": "bioinformatics",
   "language": "python",
   "name": "python3"
  },
  "language_info": {
   "codemirror_mode": {
    "name": "ipython",
    "version": 3
   },
   "file_extension": ".py",
   "mimetype": "text/x-python",
   "name": "python",
   "nbconvert_exporter": "python",
   "pygments_lexer": "ipython3",
   "version": "3.10.8"
  }
 },
 "nbformat": 4,
 "nbformat_minor": 2
}
