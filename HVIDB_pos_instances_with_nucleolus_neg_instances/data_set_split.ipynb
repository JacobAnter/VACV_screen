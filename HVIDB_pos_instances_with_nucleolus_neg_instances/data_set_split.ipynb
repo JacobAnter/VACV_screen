{
 "cells": [
  {
   "cell_type": "code",
   "execution_count": 2,
   "metadata": {},
   "outputs": [
    {
     "data": {
      "text/plain": [
       "'\\nThe purpose of this Jupyter notebook is to split the data set combining\\nboth positive and negative PPI instances into 10 equally sized chunks so\\nas to prepare k-fold cross-validation with k being equal to 10 here.\\n\\n10 is chosen as value for k since the test set is supposed to encompass\\n10% of the whole data.\\n'"
      ]
     },
     "execution_count": 2,
     "metadata": {},
     "output_type": "execute_result"
    }
   ],
   "source": [
    "\"\"\"\n",
    "The purpose of this Jupyter notebook is to split the data set combining\n",
    "both positive and negative PPI instances into 10 equally sized chunks so\n",
    "as to prepare k-fold cross-validation with k being equal to 10 here.\n",
    "\n",
    "10 is chosen as value for k since the test set is supposed to encompass\n",
    "10% of the whole data.\n",
    "\"\"\""
   ]
  },
  {
   "cell_type": "code",
   "execution_count": 3,
   "metadata": {},
   "outputs": [],
   "source": [
    "import pandas as pd\n",
    "from sklearn.model_selection import KFold"
   ]
  },
  {
   "cell_type": "code",
   "execution_count": 4,
   "metadata": {},
   "outputs": [],
   "source": [
    "# Load the data set combining both positive and negative instances into\n",
    "# a Pandas DataFrame\n",
    "pos_and_neg_VACV_WR_PPIs_df = pd.read_csv(\n",
    "    \"VACV_WR_pos_and_nucleolus_prots_neg_PPI_instances.tsv\",\n",
    "    sep=\"\\t\"\n",
    ")"
   ]
  },
  {
   "cell_type": "code",
   "execution_count": 11,
   "metadata": {},
   "outputs": [],
   "source": [
    "# Now, perform the k-fold split\n",
    "# Note that the `split()` method of the `KFold` class merely provides\n",
    "# the indices of the data points belonging to the respective fold, not\n",
    "# the data points themselves\n",
    "# Thus, indexing of the DataFrame has to be performed in order to obtain\n",
    "# the actual data\n",
    "kf = KFold(n_splits=10, shuffle=True, random_state=0)\n",
    "\n",
    "for i, (train_indices, test_indices) in enumerate(\n",
    "    kf.split(pos_and_neg_VACV_WR_PPIs_df)\n",
    "):\n",
    "    pos_and_neg_VACV_WR_PPIs_df.iloc[train_indices].to_csv(\n",
    "        f\"data_set_splits/VACV_WR_pos_and_neg_PPIs_train_val_split_{i}.tsv\",\n",
    "        sep=\"\\t\",\n",
    "        index=False\n",
    "    )\n",
    "    pos_and_neg_VACV_WR_PPIs_df.iloc[test_indices].to_csv(\n",
    "        f\"data_set_splits/VACV_WR_pos_and_neg_PPIs_test_split_{i}.tsv\",\n",
    "        sep=\"\\t\",\n",
    "        index=False\n",
    "    )"
   ]
  },
  {
   "cell_type": "code",
   "execution_count": null,
   "metadata": {},
   "outputs": [],
   "source": []
  }
 ],
 "metadata": {
  "kernelspec": {
   "display_name": "bioinformatics",
   "language": "python",
   "name": "python3"
  },
  "language_info": {
   "codemirror_mode": {
    "name": "ipython",
    "version": 3
   },
   "file_extension": ".py",
   "mimetype": "text/x-python",
   "name": "python",
   "nbconvert_exporter": "python",
   "pygments_lexer": "ipython3",
   "version": "3.10.8"
  }
 },
 "nbformat": 4,
 "nbformat_minor": 2
}
