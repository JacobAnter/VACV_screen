{
 "cells": [
  {
   "cell_type": "code",
   "execution_count": 1,
   "metadata": {},
   "outputs": [
    {
     "data": {
      "text/plain": [
       "'\\nThe objective of this Jupyter notebook is to create a data set combining\\nthe 412 experimentally confirmed human-VACV PPIs from HVIDB, i.e. the\\npositive instances with negative instances. To be more precise, PPIs\\ninvolving proteins occurring in the human nucleolus serve as negative\\ninstances. As opposed to the positive instances, the negative instances\\nare not experimentally confirmed, but can nevertheless be considered\\nreliable. This is due to the fact that the currently known VACV biology\\nsuggests the absence of major interactions between nucleolus proteins\\nand VACV proteins.\\n\\nNote that the abovementioned 412 human-VACV PPIs are specific to VACV\\nstrain Western Reserve (which will be abbreviated from now on as VACV\\nWR).\\n'"
      ]
     },
     "execution_count": 1,
     "metadata": {},
     "output_type": "execute_result"
    }
   ],
   "source": [
    "\"\"\"\n",
    "The objective of this Jupyter notebook is to create a data set combining\n",
    "the 412 experimentally confirmed human-VACV PPIs from HVIDB, i.e. the\n",
    "positive instances with negative instances. To be more precise, PPIs\n",
    "involving proteins occurring in the human nucleolus serve as negative\n",
    "instances. As opposed to the positive instances, the negative instances\n",
    "are not experimentally confirmed, but can nevertheless be considered\n",
    "reliable. This is due to the fact that the currently known VACV biology\n",
    "suggests the absence of major interactions between nucleolus proteins\n",
    "and VACV proteins.\n",
    "\n",
    "Note that the abovementioned 412 human-VACV PPIs are specific to VACV\n",
    "strain Western Reserve (which will be abbreviated from now on as VACV\n",
    "WR).\n",
    "\"\"\""
   ]
  },
  {
   "cell_type": "code",
   "execution_count": 2,
   "metadata": {},
   "outputs": [],
   "source": [
    "import random\n",
    "\n",
    "import pandas as pd\n",
    "from biotite.sequence.io import fasta"
   ]
  },
  {
   "cell_type": "code",
   "execution_count": 3,
   "metadata": {},
   "outputs": [],
   "source": [
    "# Load the positive instances, i.e. the 412 experimentally confirmed\n",
    "# human-VACV PPIs from HVIDB\n",
    "all_HVIDB_pairs = pd.read_csv(\"../all_HVIDB_VACV_WR_interactions.csv\")"
   ]
  },
  {
   "cell_type": "code",
   "execution_count": 4,
   "metadata": {},
   "outputs": [],
   "source": [
    "# Retrieval of nucleus proteins from Homo sapiens from UniProt was\n",
    "# performed on 16th January 2025 via the following search settings:\n",
    "# Searching in: UniProtKB\n",
    "# Organism: 9606 (Homo sapiens)\n",
    "# Subcellular location term: SL-0188\n",
    "# Restricting the search results to reviewed proteins (Swiss-Prot)\n",
    "# yields 457 nucleolus proteins\n",
    "nucleolus_prots_fasta = fasta.FastaFile.read(\n",
    "    \"uniprotkb_organism_id_9606_AND_scl_SL-0188_2025_01_16.fasta\"\n",
    ")"
   ]
  },
  {
   "cell_type": "code",
   "execution_count": 16,
   "metadata": {},
   "outputs": [],
   "source": [
    "# The headers of the nucleolus proteins FASTA file are quite verbose,\n",
    "# which is why they are simplified to just the UniProt ID\n",
    "nucleolus_fasta_simple_header = fasta.FastaFile()\n",
    "\n",
    "for header, seq_str in nucleolus_prots_fasta.items():\n",
    "    # Conveniently enough, the UniProt ID is separated by vertical bars\n",
    "    # (\"pipes\") from the remaining header\n",
    "    uniprot_id = header.split(\"|\")[1]\n",
    "    \n",
    "    nucleolus_fasta_simple_header[uniprot_id] = seq_str\n",
    "\n",
    "nucleolus_fasta_simple_header.write(\n",
    "    \"uniprotkb_organism_id_9606_AND_scl_SL-0188_2025_01_16_uniprot_only_header.fasta\"\n",
    ")"
   ]
  },
  {
   "cell_type": "code",
   "execution_count": 18,
   "metadata": {},
   "outputs": [],
   "source": [
    "# The FASTA file harbouring the sequences of VACV WR proteins is\n",
    "# subjected to the same procedure of header simplification\n",
    "VACV_WR_prots_fasta = fasta.FastaFile.read(\n",
    "    \"../VACV_WR_prots_in_HVIDB.fasta\"\n",
    ")\n",
    "\n",
    "VACV_WR_prots_fasta_simple_header = fasta.FastaFile()\n",
    "\n",
    "for header, seq_str in VACV_WR_prots_fasta.items():\n",
    "    uniprot_id = header.split(\"|\")[1]\n",
    "\n",
    "    VACV_WR_prots_fasta_simple_header[uniprot_id] = seq_str\n",
    "\n",
    "VACV_WR_prots_fasta_simple_header.write(\n",
    "    \"VACV_WR_prots_in_HVIDB_uniprot_only_header.fasta\"\n",
    ")"
   ]
  },
  {
   "cell_type": "code",
   "execution_count": 10,
   "metadata": {},
   "outputs": [],
   "source": [
    "# Prepare the TSV file combining the positive and the negative instances\n",
    "# The TSV file encompasses three columns:\n",
    "# `Human_prot`\n",
    "# `VACV_prot`\n",
    "# `Interaction`, where the value 1 represents the presence of a PPI and\n",
    "# the value 0 represents the absence of a PPI, conversely\n",
    "\n",
    "# Conveniently enough, the UniProt IDs of the human and VACV WR protein\n",
    "# are separated from one another by a hyphen\n",
    "pos_instances_human_prots = [\n",
    "    int_pair.split(\"-\")[0] for int_pair\n",
    "    in all_HVIDB_pairs[\"Human-virus PPI\"]\n",
    "]\n",
    "pos_instances_VACV_WR_prots = [\n",
    "    int_pair.split(\"-\")[1] for int_pair\n",
    "    in all_HVIDB_pairs[\"Human-virus PPI\"]\n",
    "]\n",
    "pos_instances_interaction_vals = [1] * len(all_HVIDB_pairs)\n",
    "\n",
    "# Negative instances are generated by pairing each nucleolus protein\n",
    "# (i.e. human protein) with a randomly chosen VACV WR protein\n",
    "# To this end, the VACV WR UniProt IDs as well as the nucleolus protein\n",
    "# UniProt IDs, i.e. FASTA file keys have to be extracted in a first step\n",
    "VACV_WR_prots_fasta = fasta.FastaFile.read(\n",
    "    \"VACV_WR_prots_in_HVIDB_uniprot_only_header.fasta\"\n",
    ")\n",
    "VACV_WR_uniprot_ids = list(VACV_WR_prots_fasta.keys())\n",
    "\n",
    "nucleolus_prots_fasta = fasta.FastaFile.read(\n",
    "    \"uniprotkb_organism_id_9606_AND_scl_SL-0188_2025_01_16_uniprot_\"\n",
    "    \"only_header.fasta\"\n",
    ")\n",
    "nucleolus_prots_uniprot_ids = list(nucleolus_prots_fasta.keys())\n",
    "\n",
    "neg_instances_human_prots = nucleolus_prots_uniprot_ids\n",
    "# The random selection of a list element is accomplished via\n",
    "# `random.choice()`\n",
    "random.seed(0)\n",
    "neg_instances_VACV_WR_prots = [\n",
    "    random.choice(VACV_WR_uniprot_ids) for\n",
    "    _ in range(len(nucleolus_prots_uniprot_ids))\n",
    "]\n",
    "neg_instances_interaction_vals = [0] * len(nucleolus_prots_fasta)"
   ]
  },
  {
   "cell_type": "code",
   "execution_count": 12,
   "metadata": {},
   "outputs": [],
   "source": [
    "# Finally, assemble the TSV file as a Pandas DataFrame and save it to\n",
    "# disk\n",
    "pos_and_neg_instances_df = pd.DataFrame(\n",
    "    data={\n",
    "        \"Human_prot\": pos_instances_human_prots + neg_instances_human_prots,\n",
    "        \"VACV_prot\": pos_instances_VACV_WR_prots + neg_instances_VACV_WR_prots,\n",
    "        \"Interaction\": (\n",
    "            pos_instances_interaction_vals + neg_instances_interaction_vals\n",
    "        )\n",
    "    }\n",
    ")\n",
    "\n",
    "pos_and_neg_instances_df.to_csv(\n",
    "    \"VACV_WR_pos_and_nucleolus_prots_neg_PPI_instances.tsv\",\n",
    "    sep=\"\\t\",\n",
    "    index=False\n",
    ")"
   ]
  },
  {
   "cell_type": "code",
   "execution_count": null,
   "metadata": {},
   "outputs": [],
   "source": []
  }
 ],
 "metadata": {
  "kernelspec": {
   "display_name": "bioinformatics",
   "language": "python",
   "name": "python3"
  },
  "language_info": {
   "codemirror_mode": {
    "name": "ipython",
    "version": 3
   },
   "file_extension": ".py",
   "mimetype": "text/x-python",
   "name": "python",
   "nbconvert_exporter": "python",
   "pygments_lexer": "ipython3",
   "version": "3.10.8"
  }
 },
 "nbformat": 4,
 "nbformat_minor": 2
}
