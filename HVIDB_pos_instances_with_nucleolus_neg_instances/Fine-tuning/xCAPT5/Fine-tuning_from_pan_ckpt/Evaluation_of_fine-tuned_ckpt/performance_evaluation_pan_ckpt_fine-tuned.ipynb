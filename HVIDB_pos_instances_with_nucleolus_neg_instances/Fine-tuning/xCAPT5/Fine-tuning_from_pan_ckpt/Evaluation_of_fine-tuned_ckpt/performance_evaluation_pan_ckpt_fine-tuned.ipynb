{
 "cells": [
  {
   "cell_type": "code",
   "execution_count": 1,
   "id": "3c37e794",
   "metadata": {},
   "outputs": [
    {
     "data": {
      "text/plain": [
       "'\\nThe purpose of this Jupyter notebook is to evaluate the performance of\\nthe fine-tuned Pan checkpoint.\\n'"
      ]
     },
     "execution_count": 1,
     "metadata": {},
     "output_type": "execute_result"
    }
   ],
   "source": [
    "\"\"\"\n",
    "The purpose of this Jupyter notebook is to evaluate the performance of\n",
    "the fine-tuned Pan checkpoint.\n",
    "\"\"\""
   ]
  },
  {
   "cell_type": "code",
   "execution_count": 2,
   "id": "b10209fd",
   "metadata": {},
   "outputs": [],
   "source": [
    "import sys\n",
    "\n",
    "sys.path.append(\n",
    "    \"/Users/jacobanter/Documents/Code/VACV_screen/xCAPT5\"\n",
    ")"
   ]
  },
  {
   "cell_type": "code",
   "execution_count": 3,
   "id": "921a1f24",
   "metadata": {},
   "outputs": [],
   "source": [
    "from performance_evaluation_for_xCAPT5_CLI_version import eval_performance"
   ]
  },
  {
   "cell_type": "code",
   "execution_count": 4,
   "id": "c3c06d57",
   "metadata": {},
   "outputs": [
    {
     "name": "stdout",
     "output_type": "stream",
     "text": [
      "Accuracy: 0.4375\n",
      "Precision: 0.09755403868031855\n",
      "Recall: 0.6293577981651376\n",
      "Specificity; 0.41833180568285977\n",
      "F1-score: 0.1689239103669047\n",
      "MCC: 0.027823971157233406\n",
      "AUROC: 0.5497383933601863\n",
      "AUPRC: 0.10653230469368224\n"
     ]
    }
   ],
   "source": [
    "path_to_ground_truths = (\n",
    "    \"/Users/jacobanter/Documents/Code/VACV_screen/HVIDB_pos_instances_\"\n",
    "    \"with_nucleolus_neg_instances/Fine-tuning/xCAPT5/Fine-tuning_from_\"\n",
    "    \"pan_ckpt/Sanity_check_evaluation_of_off-the-shelf_ckpt/Data_set/\"\n",
    "    \"pairs_sub.tsv\"\n",
    ")\n",
    "\n",
    "path_to_predictions = (\n",
    "    \"xCAPT5_interaction_probs_pan_ckpt_fine-tuned_evaluation_without_\"\n",
    "    \"XGBoost.tsv\"\n",
    ")\n",
    "\n",
    "eval_performance(\n",
    "    path_to_ground_truths,\n",
    "    path_to_predictions,\n",
    "    \"xCAPT5_performance_pan_ckpt_fine-tuned.txt\"\n",
    ")"
   ]
  },
  {
   "cell_type": "code",
   "execution_count": null,
   "id": "0674366b",
   "metadata": {},
   "outputs": [],
   "source": []
  }
 ],
 "metadata": {
  "kernelspec": {
   "display_name": "bioinformatics",
   "language": "python",
   "name": "python3"
  },
  "language_info": {
   "codemirror_mode": {
    "name": "ipython",
    "version": 3
   },
   "file_extension": ".py",
   "mimetype": "text/x-python",
   "name": "python",
   "nbconvert_exporter": "python",
   "pygments_lexer": "ipython3",
   "version": "3.10.8"
  }
 },
 "nbformat": 4,
 "nbformat_minor": 5
}
