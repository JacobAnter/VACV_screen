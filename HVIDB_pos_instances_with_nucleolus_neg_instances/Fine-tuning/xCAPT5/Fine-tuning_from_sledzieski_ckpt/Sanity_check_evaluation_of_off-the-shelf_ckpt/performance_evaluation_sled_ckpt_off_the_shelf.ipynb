{
 "cells": [
  {
   "cell_type": "code",
   "execution_count": 1,
   "id": "3cbcdbd9",
   "metadata": {},
   "outputs": [
    {
     "data": {
      "text/plain": [
       "'\\nThe purpose of this Jupyter notebook is to evaluate the performance of\\nthe off-the-shelf Sledzieski checkpoint. This is done as a sanity check.\\n'"
      ]
     },
     "execution_count": 1,
     "metadata": {},
     "output_type": "execute_result"
    }
   ],
   "source": [
    "\"\"\"\n",
    "The purpose of this Jupyter notebook is to evaluate the performance of\n",
    "the off-the-shelf Sledzieski checkpoint. This is done as a sanity check.\n",
    "\"\"\""
   ]
  },
  {
   "cell_type": "code",
   "execution_count": 2,
   "id": "2ffd0649",
   "metadata": {},
   "outputs": [],
   "source": [
    "import sys\n",
    "\n",
    "sys.path.append(\n",
    "    \"/Users/jacobanter/Documents/Code/VACV_screen/xCAPT5\"\n",
    ")"
   ]
  },
  {
   "cell_type": "code",
   "execution_count": 3,
   "id": "f477ca4b",
   "metadata": {},
   "outputs": [],
   "source": [
    "from performance_evaluation_for_xCAPT5_CLI_version import eval_performance"
   ]
  },
  {
   "cell_type": "code",
   "execution_count": 4,
   "id": "538e1558",
   "metadata": {},
   "outputs": [
    {
     "name": "stdout",
     "output_type": "stream",
     "text": [
      "Accuracy: 0.9091666666666667\n",
      "Precision: nan\n",
      "Recall: 0.0\n",
      "Specificity; 1.0\n",
      "F1-score: nan\n",
      "MCC: 0.0\n",
      "AUROC: 0.7740604949587534\n",
      "AUPRC: 0.33097740051749786\n"
     ]
    },
    {
     "name": "stderr",
     "output_type": "stream",
     "text": [
      "/Users/jacobanter/Documents/Code/VACV_screen/xCAPT5/performance_evaluation_for_xCAPT5_CLI_version.py:120: RuntimeWarning: invalid value encountered in long_scalars\n",
      "  prec = cm[1,1]/(cm[1,1]+cm[0,1])\n"
     ]
    }
   ],
   "source": [
    "path_to_ground_truths = (\n",
    "    \"/Users/jacobanter/Documents/Code/VACV_screen/HVIDB_pos_instances_\"\n",
    "    \"with_nucleolus_neg_instances/Fine-tuning/xCAPT5/Fine-tuning_from_\"\n",
    "    \"sledzieski_ckpt/Sanity_check_evaluation_of_off-the-shelf_ckpt/\"\n",
    "    \"Data_set/pairs_sub.tsv\"\n",
    ")\n",
    "\n",
    "path_to_predictions = (\n",
    "    \"xCAPT5_interaction_probs_evaluation_sled_ckpt_off_the_shelf_with_\"\n",
    "    \"XGBoost.tsv\"\n",
    ")\n",
    "\n",
    "eval_performance(\n",
    "    path_to_ground_truths,\n",
    "    path_to_predictions,\n",
    "    \"xCAPT5_performance_sled_ckpt_off_the_shelf.txt\"\n",
    ")"
   ]
  },
  {
   "cell_type": "code",
   "execution_count": null,
   "id": "0a846a89",
   "metadata": {},
   "outputs": [],
   "source": []
  }
 ],
 "metadata": {
  "kernelspec": {
   "display_name": "bioinformatics",
   "language": "python",
   "name": "python3"
  },
  "language_info": {
   "codemirror_mode": {
    "name": "ipython",
    "version": 3
   },
   "file_extension": ".py",
   "mimetype": "text/x-python",
   "name": "python",
   "nbconvert_exporter": "python",
   "pygments_lexer": "ipython3",
   "version": "3.10.8"
  }
 },
 "nbformat": 4,
 "nbformat_minor": 5
}
