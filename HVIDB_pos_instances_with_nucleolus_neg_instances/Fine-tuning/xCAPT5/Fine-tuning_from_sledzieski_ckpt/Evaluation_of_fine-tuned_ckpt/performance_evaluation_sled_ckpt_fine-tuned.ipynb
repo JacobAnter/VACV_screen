{
 "cells": [
  {
   "cell_type": "code",
   "execution_count": 1,
   "id": "1e927ca6",
   "metadata": {},
   "outputs": [
    {
     "data": {
      "text/plain": [
       "'\\nThe purpose of this Jupyter notebook is to evaluate the performance of\\nthe fine-tuned Sledzieski checkpoint.\\n'"
      ]
     },
     "execution_count": 1,
     "metadata": {},
     "output_type": "execute_result"
    }
   ],
   "source": [
    "\"\"\"\n",
    "The purpose of this Jupyter notebook is to evaluate the performance of\n",
    "the fine-tuned Sledzieski checkpoint.\n",
    "\"\"\""
   ]
  },
  {
   "cell_type": "code",
   "execution_count": 2,
   "id": "1b65619a",
   "metadata": {},
   "outputs": [],
   "source": [
    "import sys\n",
    "\n",
    "sys.path.append(\n",
    "    \"/Users/jacobanter/Documents/Code/VACV_screen/xCAPT5\"\n",
    ")"
   ]
  },
  {
   "cell_type": "code",
   "execution_count": 3,
   "id": "3a1b0b59",
   "metadata": {},
   "outputs": [],
   "source": [
    "from performance_evaluation_for_xCAPT5_CLI_version import eval_performance"
   ]
  },
  {
   "cell_type": "code",
   "execution_count": 4,
   "id": "785a4544",
   "metadata": {},
   "outputs": [
    {
     "name": "stdout",
     "output_type": "stream",
     "text": [
      "Accuracy: 0.674\n",
      "Precision: 0.12049488972565896\n",
      "Recall: 0.41100917431192663\n",
      "Specificity; 0.7002749770852429\n",
      "F1-score: 0.1863560732113145\n",
      "MCC: 0.0691570782457507\n",
      "AUROC: 0.5765852386918827\n",
      "AUPRC: 0.12618340440412795\n"
     ]
    }
   ],
   "source": [
    "path_to_ground_truths = (\n",
    "    \"/Users/jacobanter/Documents/Code/VACV_screen/HVIDB_pos_instances_\"\n",
    "    \"with_nucleolus_neg_instances/Fine-tuning/xCAPT5/Fine-tuning_from_\"\n",
    "    \"sledzieski_ckpt/Sanity_check_evaluation_of_off-the-shelf_ckpt/\"\n",
    "    \"Data_set/pairs_sub.tsv\"\n",
    ")\n",
    "\n",
    "path_to_predictions = (\n",
    "    \"xCAPT5_interaction_probs_sled_ckpt_fine-tuned_evaluation_without_\"\n",
    "    \"XGBoost.tsv\"\n",
    ")\n",
    "\n",
    "eval_performance(\n",
    "    path_to_ground_truths,\n",
    "    path_to_predictions,\n",
    "    \"xCAPT5_performance_sled_ckpt_fine-tuned.txt\"\n",
    ")"
   ]
  },
  {
   "cell_type": "code",
   "execution_count": null,
   "id": "27d23fc1",
   "metadata": {},
   "outputs": [],
   "source": []
  }
 ],
 "metadata": {
  "kernelspec": {
   "display_name": "bioinformatics",
   "language": "python",
   "name": "python3"
  },
  "language_info": {
   "codemirror_mode": {
    "name": "ipython",
    "version": 3
   },
   "file_extension": ".py",
   "mimetype": "text/x-python",
   "name": "python",
   "nbconvert_exporter": "python",
   "pygments_lexer": "ipython3",
   "version": "3.10.8"
  }
 },
 "nbformat": 4,
 "nbformat_minor": 5
}
