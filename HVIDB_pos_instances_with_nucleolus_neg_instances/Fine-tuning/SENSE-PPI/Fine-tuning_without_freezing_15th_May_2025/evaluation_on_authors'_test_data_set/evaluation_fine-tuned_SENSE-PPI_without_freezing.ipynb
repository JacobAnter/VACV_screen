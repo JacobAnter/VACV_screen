{
 "cells": [
  {
   "cell_type": "code",
   "execution_count": 1,
   "id": "8a7110ba",
   "metadata": {},
   "outputs": [
    {
     "data": {
      "text/plain": [
       "'\\nThe purpose of this Jupyter notebook is to evaluate the performance of\\nthe fine-tuned SENSE-PPI (without freezing) on the two test sets\\nemployed by the authors.\\n'"
      ]
     },
     "execution_count": 1,
     "metadata": {},
     "output_type": "execute_result"
    }
   ],
   "source": [
    "\"\"\"\n",
    "The purpose of this Jupyter notebook is to evaluate the performance of\n",
    "the fine-tuned SENSE-PPI (without freezing) on the two test sets\n",
    "employed by the authors.\n",
    "\"\"\""
   ]
  },
  {
   "cell_type": "code",
   "execution_count": 1,
   "id": "6aed8d90",
   "metadata": {},
   "outputs": [],
   "source": [
    "import os\n",
    "\n",
    "import sys\n",
    "# Jupyter notebooks exhibit some peculiarities; one of them is that the\n",
    "# present/current working directory is always the directory that was\n",
    "# opened is VS Code; another one is that importing from directories\n",
    "# above the Jupyter notebook's one fails, be it via a direct or a\n",
    "# relative import\n",
    "# Therefore, it is necessary to explicitly add the directory the desired\n",
    "# code is located in to path (this step is necessary in order to import\n",
    "# functionalities housed by `evaluation_utils.py`)\n",
    "sys.path.append(\n",
    "    \"/Users/jacobanter/Documents/Code/VACV_screen/HVIDB_pos_\"\n",
    "    \"instances_with_nucleolus_neg_instances/Results\"\n",
    ")"
   ]
  },
  {
   "cell_type": "code",
   "execution_count": 2,
   "id": "bf64b4ff",
   "metadata": {},
   "outputs": [],
   "source": [
    "import pandas as pd\n",
    "\n",
    "import evaluation_utils"
   ]
  },
  {
   "cell_type": "code",
   "execution_count": 3,
   "id": "96959ce8",
   "metadata": {},
   "outputs": [],
   "source": [
    "# When three columns are provided in the input TSV file, i.e. the TSV\n",
    "# file harbouring PPI pairs to predict, SENSE-PPI interprets the third\n",
    "# column as `label` column and adopts the ground truth labels rather\n",
    "# than determining predicted labels based on the probability\n",
    "# Therefore, the `label` column has to be removed from the TSV files\n",
    "# and replaced with labels based on the predicted probabilities\n",
    "\n",
    "# Iterate over the results TSV files and remove the `label` column\n",
    "results_files = os.listdir(\"Results\")\n",
    "\n",
    "for result_file in results_files:\n",
    "    file_path = os.path.join(\"Results\", result_file)\n",
    "    current_df = pd.read_csv(file_path, sep=\"\\t\")\n",
    "    current_df.drop(labels=\"label\", axis=1, inplace=True)\n",
    "    current_df.to_csv(\n",
    "        file_path, sep=\"\\t\", index=False\n",
    "    )"
   ]
  },
  {
   "cell_type": "code",
   "execution_count": 4,
   "id": "16cc1329",
   "metadata": {},
   "outputs": [],
   "source": [
    "# In a subsequent step, a new `label` column is introduced in each of\n",
    "# the TSV files with labels based on the predicted probability\n",
    "for result_file in results_files:\n",
    "    file_path = os.path.join(\"Results\", result_file)\n",
    "\n",
    "    evaluation_utils.add_labels_based_on_probs(\n",
    "        path_tsv_files=file_path,\n",
    "        pred_col_name=\"preds\",\n",
    "        n_fold=1\n",
    "    )"
   ]
  },
  {
   "cell_type": "code",
   "execution_count": 6,
   "id": "c09947c5",
   "metadata": {},
   "outputs": [
    {
     "name": "stdout",
     "output_type": "stream",
     "text": [
      "Using 1-fold cross-validation, the metrics for fine-tuned SENSE-PPI on Epstein-Barr test set are as follows:\n",
      "Accuracy:      0.5048076923076923 ± 0.0\n",
      "Precision:     0.10624893580793461 ± 0.0\n",
      "Recall:        0.6 ± 0.0\n",
      "F1-score:      0.18052943729205845 ± 0.0\n",
      "Specificity:   0.4952884615384615 ± 0.0\n",
      "ROC AUC score: 0.5497495377218934 ± 0.0\n",
      "Using 1-fold cross-validation, the metrics for fine-tuned SENSE-PPI on Influenza test set are as follows:\n",
      "Accuracy:      0.5478046892280469 ± 0.0\n",
      "Precision:     0.0627718664257512 ± 0.0\n",
      "Recall:        0.28527980535279807 ± 0.0\n",
      "F1-score:      0.10290165103395316 ± 0.0\n",
      "Specificity:   0.5740571776155717 ± 0.0\n",
      "ROC AUC score: 0.41854414378614857 ± 0.0\n"
     ]
    }
   ],
   "source": [
    "ground_truth_paths = [\n",
    "    \"/Users/jacobanter/Documents/Code/VACV_screen/HVIDB_pos_instances_\"\\\n",
    "    \"with_nucleolus_neg_instances/Fine-tuning/SENSE-PPI/Fine-tuning_\"\\\n",
    "    \"without_freezing/evaluation_on_authors'_test_data_set/human-\"\\\n",
    "    \"virus_test_data_set/hv_test_Epstein_c2_with_header.tsv\",\n",
    "    \"/Users/jacobanter/Documents/Code/VACV_screen/HVIDB_pos_instances_\"\\\n",
    "    \"with_nucleolus_neg_instances/Fine-tuning/SENSE-PPI/Fine-tuning_\"\\\n",
    "    \"without_freezing/evaluation_on_authors'_test_data_set/human-\"\\\n",
    "    \"virus_test_data_set/hv_test_Influenza_c2_with_header.tsv\"\n",
    "]\n",
    "\n",
    "test_data_set_name = [\"Epstein-Barr\", \"Influenza\"]\n",
    "\n",
    "# Filter out results files harbouring only positive interactions\n",
    "results_files = [\n",
    "    \"predictions_Epstein-Barr_virus.tsv\",\n",
    "    \"predictions_Influenza_virus.tsv\"\n",
    "]\n",
    "\n",
    "for i, result_file in enumerate(results_files):\n",
    "    file_path = os.path.join(\"Results\", result_file)\n",
    "\n",
    "    evaluation_utils.evaluation_k_fold_cross_val(\n",
    "        ground_truth_path=ground_truth_paths[i],\n",
    "        splits_path=file_path,\n",
    "        n_fold=1,\n",
    "        probability_key=\"preds\",\n",
    "        model_name=\"fine-tuned SENSE-PPI on \"\\\n",
    "        f\"{test_data_set_name[i]} test set\",\n",
    "        output_path=\"results_fine-tuned_SENSE-PPI_performance_\"\\\n",
    "        f\"on_{test_data_set_name[i]}_test_set.txt\"\n",
    "    )"
   ]
  },
  {
   "cell_type": "code",
   "execution_count": null,
   "id": "e460b0f3",
   "metadata": {},
   "outputs": [],
   "source": []
  }
 ],
 "metadata": {
  "kernelspec": {
   "display_name": "bioinformatics",
   "language": "python",
   "name": "python3"
  },
  "language_info": {
   "codemirror_mode": {
    "name": "ipython",
    "version": 3
   },
   "file_extension": ".py",
   "mimetype": "text/x-python",
   "name": "python",
   "nbconvert_exporter": "python",
   "pygments_lexer": "ipython3",
   "version": "3.10.8"
  }
 },
 "nbformat": 4,
 "nbformat_minor": 5
}
