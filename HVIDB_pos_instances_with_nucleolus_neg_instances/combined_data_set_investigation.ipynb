{
 "cells": [
  {
   "cell_type": "code",
   "execution_count": 1,
   "metadata": {},
   "outputs": [
    {
     "data": {
      "text/plain": [
       "'\\nThe purpose of this Jupyter notebook is to determine the distribution of\\nprotein sequence lengths in the combined data set involving both\\nconfirmed human-VACV WR PPIs and reliable negative PPIs. This is done as\\none of the published benchmark PPI prediction models, SENSE-PPI, is\\nespecially susceptible to memory issues brought about by large\\nsequences.\\n'"
      ]
     },
     "execution_count": 1,
     "metadata": {},
     "output_type": "execute_result"
    }
   ],
   "source": [
    "\"\"\"\n",
    "The purpose of this Jupyter notebook is to determine the distribution of\n",
    "protein sequence lengths in the combined data set involving both\n",
    "confirmed human-VACV WR PPIs and reliable negative PPIs. This is done as\n",
    "one of the published benchmark PPI prediction models, SENSE-PPI, is\n",
    "especially susceptible to memory issues brought about by large\n",
    "sequences.\n",
    "\"\"\""
   ]
  },
  {
   "cell_type": "code",
   "execution_count": 19,
   "metadata": {},
   "outputs": [],
   "source": [
    "import pandas as pd\n",
    "from biotite.sequence.io import fasta"
   ]
  },
  {
   "cell_type": "code",
   "execution_count": 3,
   "metadata": {},
   "outputs": [
    {
     "name": "stdout",
     "output_type": "stream",
     "text": [
      "[35991, 34350, 6885, 5795, 5596, 4128, 3433, 3256, 3224, 3177, 3177, 2997, 2871, 2850, 2839, 2785, 2677, 2623, 2554, 2514, 2482, 2440, 2426, 2390, 2382, 2364, 2364, 2351, 2346, 2346, 2325, 2297, 2271, 2144, 2027, 2004, 1995, 1979, 1907, 1905, 1898, 1883, 1871, 1849, 1820, 1800, 1798, 1792, 1722, 1720, 1711, 1690, 1685, 1683, 1675, 1670, 1626, 1570, 1531, 1524, 1500, 1488, 1478, 1432, 1419, 1374, 1365, 1341, 1336, 1328, 1324, 1312, 1297, 1282, 1273, 1270, 1257, 1255, 1245, 1235, 1233, 1230, 1226, 1222, 1222, 1214, 1209, 1200, 1193, 1167, 1164, 1157, 1151, 1146, 1140, 1135, 1132, 1130, 1128, 1123, 1097, 1096, 1093, 1071, 1070, 1068, 1063, 1060, 1058, 1053, 1042, 1025, 1025, 1024, 1023, 1020, 1014, 1013, 1012, 1012, 1009, 1002, 1001, 989, 980, 979, 970, 970, 963, 960, 958, 956, 951, 950, 950, 943, 937, 929, 927, 919, 916, 907, 907, 906, 905, 900, 896, 894, 894, 892, 886, 885, 882, 881, 875, 874, 869, 868, 860, 857, 856, 853, 851, 851, 847, 844, 839, 830, 828, 825, 821, 819, 812, 810, 808, 804, 802, 800, 796, 796, 795, 788, 785, 783, 783, 781, 781, 780, 778, 773, 771, 771, 768, 767, 766, 765, 764, 763, 762, 759, 758, 756, 756, 756, 756, 755, 754, 750, 749, 748, 747, 746, 745, 745, 741, 740, 737, 735, 734, 732, 731, 730, 729, 729, 728, 725, 724, 724, 719, 717, 715, 712, 711, 710, 709, 709, 707, 707, 707, 706, 702, 699, 693, 692, 690, 688, 687, 686, 685, 685, 681, 679, 678, 677, 677, 677, 670, 669, 669, 666, 662, 654, 653, 653, 653, 651, 648, 646, 646, 645, 641, 639, 639, 638, 634, 634, 633, 632, 630, 629, 628, 627, 626, 625, 623, 620, 615, 614, 613, 610, 599, 598, 597, 594, 593, 591, 590, 588, 588, 586, 585, 582, 582, 582, 578, 577, 576, 574, 573, 572, 570, 570, 567, 567, 565, 564, 563, 560, 558, 558, 556, 551, 551, 551, 549, 547, 543, 539, 539, 535, 534, 531, 531, 530, 529, 529, 528, 526, 523, 522, 522, 520, 520, 519, 518, 517, 516, 514, 514, 513, 513, 512, 510, 510, 504, 501, 498, 498, 491, 490, 485, 484, 483, 479, 479, 478, 478, 475, 473, 471, 470, 469, 468, 468, 466, 465, 465, 465, 464, 463, 463, 463, 462, 462, 462, 461, 461, 459, 459, 458, 456, 455, 454, 454, 453, 451, 450, 450, 449, 449, 446, 445, 445, 445, 445, 445, 444, 444, 444, 444, 443, 441, 440, 440, 439, 439, 437, 437, 434, 434, 434, 434, 433, 432, 431, 430, 430, 429, 429, 426, 426, 425, 423, 422, 419, 419, 413, 412, 411, 410, 406, 404, 404, 403, 403, 403, 403, 401, 400, 397, 397, 396, 396, 394, 392, 392, 391, 390, 390, 387, 386, 385, 383, 381, 381, 380, 380, 379, 378, 376, 373, 372, 372, 371, 371, 370, 367, 365, 365, 365, 364, 364, 363, 362, 362, 361, 359, 359, 358, 356, 356, 355, 353, 353, 353, 353, 350, 349, 349, 349, 349, 348, 347, 346, 346, 346, 345, 341, 340, 339, 339, 338, 338, 336, 334, 334, 333, 332, 332, 332, 331, 331, 330, 330, 329, 329, 328, 327, 327, 326, 326, 326, 325, 324, 323, 321, 320, 319, 318, 318, 315, 313, 313, 313, 310, 306, 306, 306, 304, 302, 300, 300, 299, 298, 298, 298, 297, 296, 294, 294, 293, 293, 293, 293, 293, 292, 291, 291, 290, 289, 284, 284, 284, 284, 283, 282, 282, 280, 280, 276, 275, 273, 273, 272, 272, 272, 271, 271, 271, 268, 267, 264, 263, 262, 261, 261, 260, 260, 259, 258, 257, 256, 254, 253, 252, 250, 250, 249, 249, 248, 248, 248, 246, 246, 246, 245, 245, 244, 244, 244, 243, 242, 241, 240, 239, 238, 237, 235, 234, 234, 232, 230, 226, 225, 224, 224, 224, 221, 221, 220, 219, 219, 217, 215, 215, 215, 213, 213, 211, 211, 210, 210, 209, 208, 208, 207, 205, 205, 204, 204, 204, 204, 204, 203, 203, 203, 201, 200, 199, 198, 198, 198, 198, 195, 195, 195, 195, 194, 194, 194, 192, 191, 190, 190, 188, 187, 187, 184, 184, 183, 182, 181, 180, 180, 178, 178, 178, 177, 177, 176, 175, 175, 172, 171, 171, 168, 167, 166, 166, 165, 165, 163, 163, 160, 160, 158, 157, 156, 156, 156, 155, 154, 154, 153, 153, 152, 151, 151, 151, 150, 150, 150, 149, 149, 149, 149, 148, 147, 146, 146, 146, 145, 144, 143, 141, 140, 139, 138, 136, 136, 136, 136, 136, 136, 135, 134, 134, 133, 133, 132, 132, 131, 130, 130, 130, 130, 130, 130, 130, 130, 130, 129, 129, 129, 128, 128, 128, 128, 128, 128, 127, 127, 127, 127, 126, 126, 126, 126, 126, 126, 126, 126, 126, 126, 126, 125, 125, 124, 124, 119, 119, 117, 110, 108, 107, 106, 105, 105, 105, 105, 105, 105, 105, 105, 104, 103, 103, 103, 101, 101, 101, 100, 96, 94, 94, 90, 88, 88, 84, 81, 73, 72, 72, 72, 72, 69, 67, 64, 61, 59, 58, 54, 44]\n"
     ]
    }
   ],
   "source": [
    "# First, gain an impression of the distribution of protein lengths in\n",
    "# the combined FASTA file, i.e. the FASTA file comprising proteins\n",
    "# involved in both confirmed positive interactions and reliable negative\n",
    "# interactions\n",
    "path_to_combined_fasta = (\n",
    "    \"/Users/jacobanter/Documents/Code/VACV_screen/HVIDB_pos_instances_\"\n",
    "    \"with_nucleolus_neg_instances/human_nucleolus_and_VACV_WR_prot_\"\n",
    "    \"seqs.fasta\"\n",
    ")\n",
    "\n",
    "prot_seqs_VACV_WR_pos_and_neg_PPIs_fasta = fasta.FastaFile.read(\n",
    "    path_to_combined_fasta\n",
    ")\n",
    "\n",
    "combined_prot_seq_len_list = []\n",
    "\n",
    "for _, seq_str in prot_seqs_VACV_WR_pos_and_neg_PPIs_fasta.items():\n",
    "    combined_prot_seq_len_list.append(len(seq_str))\n",
    "\n",
    "# By default, the `.sort()` method sorts the respective list's elements\n",
    "# in ascending order; in order to sort them in descending order,\n",
    "# `reverse=True` has to be explicitly passed\n",
    "combined_prot_seq_len_list.sort(reverse=True)\n",
    "\n",
    "print(combined_prot_seq_len_list)"
   ]
  },
  {
   "cell_type": "code",
   "execution_count": 4,
   "metadata": {},
   "outputs": [
    {
     "name": "stdout",
     "output_type": "stream",
     "text": [
      "[5596, 4128, 3256, 2997, 2839, 2785, 2677, 2271, 2144, 2004, 1905, 1883, 1871, 1849, 1820, 1792, 1722, 1720, 1690, 1626, 1531, 1524, 1500, 1488, 1432, 1419, 1374, 1365, 1336, 1328, 1297, 1282, 1273, 1270, 1255, 1226, 1209, 1200, 1167, 1164, 1157, 1146, 1135, 1132, 1130, 1123, 1097, 1096, 1071, 1063, 1060, 1058, 1053, 1042, 1025, 1025, 1024, 1014, 1009, 989, 979, 970, 970, 960, 958, 951, 950, 943, 929, 919, 907, 905, 900, 896, 894, 892, 885, 882, 881, 874, 869, 860, 857, 856, 853, 851, 851, 847, 830, 828, 821, 819, 812, 808, 804, 800, 796, 796, 795, 783, 781, 773, 771, 767, 766, 765, 764, 762, 759, 758, 756, 756, 755, 749, 748, 746, 741, 740, 737, 734, 732, 731, 730, 729, 719, 711, 710, 709, 707, 707, 706, 702, 699, 692, 690, 688, 687, 686, 685, 681, 679, 677, 670, 669, 666, 653, 653, 651, 648, 646, 646, 645, 641, 639, 638, 634, 632, 629, 627, 614, 610, 599, 598, 597, 594, 588, 588, 582, 582, 578, 574, 572, 570, 570, 567, 560, 558, 558, 556, 551, 549, 547, 543, 534, 531, 530, 529, 528, 526, 523, 522, 520, 518, 516, 514, 514, 513, 513, 510, 510, 501, 498, 491, 490, 485, 479, 478, 475, 473, 471, 469, 468, 465, 465, 464, 463, 462, 462, 461, 459, 459, 458, 456, 455, 454, 453, 450, 449, 446, 445, 445, 441, 439, 437, 437, 433, 432, 430, 430, 429, 423, 422, 419, 413, 403, 403, 401, 400, 396, 396, 394, 392, 390, 387, 386, 385, 383, 381, 380, 379, 376, 373, 372, 370, 365, 365, 364, 364, 363, 362, 361, 359, 358, 356, 356, 353, 353, 353, 350, 349, 349, 348, 347, 346, 340, 339, 338, 338, 336, 334, 332, 330, 328, 327, 326, 325, 323, 321, 320, 318, 318, 315, 313, 310, 306, 306, 302, 300, 297, 294, 294, 293, 293, 293, 293, 292, 291, 291, 289, 284, 283, 282, 282, 280, 280, 276, 275, 272, 272, 271, 271, 268, 264, 263, 262, 261, 260, 260, 259, 258, 257, 253, 252, 250, 250, 249, 249, 248, 248, 248, 246, 246, 245, 245, 244, 244, 243, 242, 241, 239, 237, 235, 230, 225, 220, 217, 215, 215, 213, 211, 210, 209, 208, 208, 205, 204, 204, 203, 201, 200, 199, 198, 198, 195, 195, 194, 194, 191, 184, 184, 183, 181, 180, 178, 178, 178, 171, 167, 165, 163, 163, 160, 158, 156, 154, 153, 152, 151, 151, 150, 147, 146, 145, 144, 143, 141, 140, 138, 136, 135, 134, 133, 133, 132, 132, 131, 130, 130, 129, 128, 127, 127, 126, 125, 124, 124, 119, 119, 106, 105, 105, 105, 105, 105, 105, 105, 105, 104, 103, 100, 88, 84, 69, 67, 64, 58, 44]\n"
     ]
    }
   ],
   "source": [
    "# Now, in a bid to determine which type of protein the two extremely\n",
    "# long proteins are (VACV WR protein, human protein involved in\n",
    "# confirmed positive interaction or human nucleolus protein), the FASTA\n",
    "# file containing human nucleolus proteins is subjected to the same\n",
    "# procedure\n",
    "path_to_human_nucleolus_prots_fasta = (\n",
    "    \"/Users/jacobanter/Documents/Code/VACV_screen/HVIDB_pos_instances_\"\n",
    "    \"with_nucleolus_neg_instances/uniprotkb_organism_id_9606_AND_scl_\"\n",
    "    \"SL-0188_2025_01_16_uniprot_only_header.fasta\"\n",
    ")\n",
    "\n",
    "human_nucleolus_prots_fasta = fasta.FastaFile.read(\n",
    "    path_to_human_nucleolus_prots_fasta\n",
    ")\n",
    "\n",
    "nucleolus_prots_len_list = []\n",
    "\n",
    "for _, seq_str in human_nucleolus_prots_fasta.items():\n",
    "    nucleolus_prots_len_list.append(len(seq_str))\n",
    "\n",
    "nucleolus_prots_len_list.sort(reverse=True)\n",
    "\n",
    "print(nucleolus_prots_len_list)"
   ]
  },
  {
   "cell_type": "code",
   "execution_count": 5,
   "metadata": {},
   "outputs": [
    {
     "name": "stdout",
     "output_type": "stream",
     "text": [
      "[844, 785, 771, 634, 564, 512, 439, 426, 371, 345, 331, 319, 300, 284, 273, 272, 244, 240, 226, 224, 221, 219, 204, 204, 203, 190, 190, 187, 177, 175, 171, 166, 165, 151, 150, 149, 149, 125, 117, 110, 90, 88, 61]\n"
     ]
    }
   ],
   "source": [
    "# The two abovementioned extremely long proteins do not belong to the\n",
    "# nucleolus proteins; thus, it is investigated whether they belong to\n",
    "# the VACV WR proteins known to engage in human-virus PPIs\n",
    "path_to_VACV_WR_prots_fasta = (\n",
    "    \"/Users/jacobanter/Documents/Code/VACV_screen/HVIDB_pos_instances_\"\n",
    "    \"with_nucleolus_neg_instances/VACV_WR_prots_in_HVIDB_uniprot_only_\"\n",
    "    \"header.fasta\"\n",
    ")\n",
    "\n",
    "VACV_WR_prots_fasta = fasta.FastaFile.read(path_to_VACV_WR_prots_fasta)\n",
    "\n",
    "VACV_WR_prots_len_list = []\n",
    "\n",
    "for _, seq_str in VACV_WR_prots_fasta.items():\n",
    "    VACV_WR_prots_len_list.append(len(seq_str))\n",
    "\n",
    "VACV_WR_prots_len_list.sort(reverse=True)\n",
    "\n",
    "print(VACV_WR_prots_len_list)"
   ]
  },
  {
   "cell_type": "code",
   "execution_count": 6,
   "metadata": {},
   "outputs": [
    {
     "name": "stdout",
     "output_type": "stream",
     "text": [
      "['C9JQJ2', 'Q8WZ42']\n"
     ]
    }
   ],
   "source": [
    "# It emerges that the two extremely long proteins do not belong to the\n",
    "# VACV WR proteins either\n",
    "# Hence, they must be part of the human proteins confirmed to engage in\n",
    "# human-VACV WR PPIs\n",
    "# The precise amount of confirmed human-VACV WR PPIs involving these two\n",
    "# extremely long proteins is determined\n",
    "\n",
    "# First, determine the UniProt IDs of the two proteins\n",
    "# To this end, it is iterated over the entries of the combined FASTA\n",
    "# file\n",
    "extremely_long_uniprots_ids = []\n",
    "for uniprot_id, seq_str in prot_seqs_VACV_WR_pos_and_neg_PPIs_fasta.items():\n",
    "    if len(seq_str) == 35991:\n",
    "        extremely_long_uniprots_ids.append(uniprot_id)\n",
    "    elif len(seq_str) == 34350:\n",
    "        extremely_long_uniprots_ids.append(uniprot_id)\n",
    "\n",
    "print(extremely_long_uniprots_ids)"
   ]
  },
  {
   "cell_type": "code",
   "execution_count": 9,
   "metadata": {},
   "outputs": [
    {
     "name": "stdout",
     "output_type": "stream",
     "text": [
      "Total amount of confirmed PPIs involving the two extremely long protein sequences: 2\n"
     ]
    }
   ],
   "source": [
    "# Now, determine the amount of PPIs these two proteins are involved in\n",
    "path_to_confirmed_VACV_WR_PPIs = (\n",
    "    \"/Users/jacobanter/Documents/Code/VACV_screen/\"\n",
    "    \"all_HVIDB_VACV_WR_interactions.csv\"\n",
    ")\n",
    "\n",
    "confirmed_VACV_WR_PPIs_df = pd.read_csv(path_to_confirmed_VACV_WR_PPIs)\n",
    "\n",
    "human_prots_in_PPIs = [\n",
    "    int_pair.split(\"-\")[0] for int_pair\n",
    "    in confirmed_VACV_WR_PPIs_df[\"Human-virus PPI\"]\n",
    "]\n",
    "\n",
    "n_PPIs_with_long_prots = (\n",
    "    human_prots_in_PPIs.count(\"C9JQJ2\")\n",
    "    +\n",
    "    human_prots_in_PPIs.count(\"Q8WZ42\")\n",
    ")\n",
    "\n",
    "print(\n",
    "    \"Total amount of confirmed PPIs involving the two extremely long \"\n",
    "    f\"protein sequences: {n_PPIs_with_long_prots}\"\n",
    ")"
   ]
  },
  {
   "cell_type": "code",
   "execution_count": 23,
   "metadata": {},
   "outputs": [],
   "source": [
    "# Furthermore, SENSE-PPI is specified to work best with proteins of\n",
    "# 50 - 800 amino acids in length\n",
    "# Out of curiosity, the data set's size is determined for different\n",
    "# values of the maximum sequence length\n",
    "VACV_WR_pos_and_neg_PPIs_df = pd.read_csv(\n",
    "    \"VACV_WR_pos_and_nucleolus_prots_neg_PPI_instances.tsv\",\n",
    "    sep=\"\\t\"\n",
    ")\n",
    "\n",
    "# Generate a list containing for each and every PPI the larger of the\n",
    "# two proteins' lengths\n",
    "larger_len_PPIs_list = [\n",
    "    max(\n",
    "        len(prot_seqs_VACV_WR_pos_and_neg_PPIs_fasta[human_id]),\n",
    "        len(prot_seqs_VACV_WR_pos_and_neg_PPIs_fasta[VACV_id])\n",
    "    )\n",
    "    for human_id, VACV_id in zip(\n",
    "        VACV_WR_pos_and_neg_PPIs_df[\"Human_prot\"],\n",
    "        VACV_WR_pos_and_neg_PPIs_df[\"VACV_prot\"]\n",
    "    )\n",
    "]\n",
    "\n",
    "larger_len_PPIs_list.sort(reverse=True)"
   ]
  },
  {
   "cell_type": "code",
   "execution_count": 26,
   "metadata": {},
   "outputs": [],
   "source": [
    "ds_size_without_max_len = len(VACV_WR_pos_and_neg_PPIs_df)\n",
    "\n",
    "max_len_vals = [800, 1000, 5000, 10000]\n",
    "n_PPIs_per_max_len_val = []\n",
    "\n",
    "for max_len_val in max_len_vals:\n",
    "    n_PPIs_satisfying_constraint = sum([\n",
    "        (prot_len <= max_len_val) for prot_len in larger_len_PPIs_list\n",
    "    ])\n",
    "    n_PPIs_per_max_len_val.append(n_PPIs_satisfying_constraint)"
   ]
  },
  {
   "cell_type": "code",
   "execution_count": 27,
   "metadata": {},
   "outputs": [
    {
     "name": "stdout",
     "output_type": "stream",
     "text": [
      "869\n",
      "[664, 736, 864, 867]\n"
     ]
    }
   ],
   "source": [
    "print(ds_size_without_max_len)\n",
    "print(n_PPIs_per_max_len_val)"
   ]
  },
  {
   "cell_type": "code",
   "execution_count": null,
   "metadata": {},
   "outputs": [],
   "source": []
  }
 ],
 "metadata": {
  "kernelspec": {
   "display_name": "bioinformatics",
   "language": "python",
   "name": "python3"
  },
  "language_info": {
   "codemirror_mode": {
    "name": "ipython",
    "version": 3
   },
   "file_extension": ".py",
   "mimetype": "text/x-python",
   "name": "python",
   "nbconvert_exporter": "python",
   "pygments_lexer": "ipython3",
   "version": "3.10.8"
  }
 },
 "nbformat": 4,
 "nbformat_minor": 2
}
