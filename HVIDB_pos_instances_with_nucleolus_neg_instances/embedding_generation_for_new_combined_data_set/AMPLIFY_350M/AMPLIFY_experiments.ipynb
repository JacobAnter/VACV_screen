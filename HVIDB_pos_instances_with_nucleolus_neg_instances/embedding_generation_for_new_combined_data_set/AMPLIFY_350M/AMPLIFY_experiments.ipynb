{
 "cells": [
  {
   "cell_type": "code",
   "execution_count": 1,
   "id": "bf96ae6b",
   "metadata": {},
   "outputs": [
    {
     "name": "stderr",
     "output_type": "stream",
     "text": [
      "/opt/homebrew/Caskroom/miniforge/base/envs/AMPLIFY_venv/lib/python3.10/site-packages/tqdm/auto.py:21: TqdmWarning: IProgress not found. Please update jupyter and ipywidgets. See https://ipywidgets.readthedocs.io/en/stable/user_install.html\n",
      "  from .autonotebook import tqdm as notebook_tqdm\n",
      "WARNING[XFORMERS]: xFormers can't load C++/CUDA extensions. xFormers was built for:\n",
      "    PyTorch 2.2.2 with CUDA None (you have 2.2.2)\n",
      "    Python  3.10.18 (you have 3.10.18)\n",
      "  Please reinstall xformers (see https://github.com/facebookresearch/xformers#installing-xformers)\n",
      "  Memory-efficient attention, SwiGLU, sparse and more won't be available.\n",
      "  Set XFORMERS_MORE_DETAILS=1 for more details\n"
     ]
    },
    {
     "name": "stdout",
     "output_type": "stream",
     "text": [
      "[2025-07-05 11:36:42,675] [INFO] [real_accelerator.py:191:get_accelerator] Setting ds_accelerator to mps (auto detect)\n"
     ]
    },
    {
     "name": "stderr",
     "output_type": "stream",
     "text": [
      "[2025-07-05 11:36:42,913] torch.distributed.elastic.multiprocessing.redirects: [WARNING] NOTE: Redirects are currently not supported in Windows or MacOs.\n"
     ]
    }
   ],
   "source": [
    "import amplify"
   ]
  },
  {
   "cell_type": "code",
   "execution_count": 2,
   "id": "b4d7bd2a",
   "metadata": {},
   "outputs": [],
   "source": [
    "# Load the model\n",
    "config_path = (\n",
    "    \"/Users/jacobanter/Documents/Code/VACV_screen/AMPLIFY/checkpoints/\"\n",
    "    \"AMPLIFY_350M/config.yaml\"\n",
    ")\n",
    "checkpoint_file = (\n",
    "    \"/Users/jacobanter/Documents/Code/VACV_screen/AMPLIFY/checkpoints/\"\n",
    "    \"AMPLIFY_350M/pytorch_model.pt\"\n",
    ")\n",
    "\n",
    "model, tokenizer = amplify.AMPLIFY.load(checkpoint_file, config_path)"
   ]
  },
  {
   "cell_type": "code",
   "execution_count": 3,
   "id": "1bc01266",
   "metadata": {},
   "outputs": [],
   "source": [
    "# Link the model to the inference API\n",
    "predictor = amplify.inference.Predictor(model, tokenizer, \"mps\")"
   ]
  },
  {
   "cell_type": "code",
   "execution_count": 4,
   "id": "1f4a6791",
   "metadata": {},
   "outputs": [],
   "source": [
    "# Get the embedding for a given sequence\n",
    "sample_seq = \"M\" * 5\n",
    "sequence_embedding = predictor.embed(sample_seq)"
   ]
  },
  {
   "cell_type": "code",
   "execution_count": 5,
   "id": "0145eaa1",
   "metadata": {},
   "outputs": [
    {
     "name": "stdout",
     "output_type": "stream",
     "text": [
      "[[  14.279908   150.52124     -1.2784848 ...  237.69208   -222.49493\n",
      "     7.5650177]\n",
      " [  18.936071   120.12081     16.844099  ...  230.33548   -222.92877\n",
      "    14.6637   ]\n",
      " [  16.012566   115.931915    25.165592  ...  218.76083   -229.19809\n",
      "     8.483625 ]\n",
      " [  41.305355   151.96017    -11.799402  ...  225.01257   -210.5677\n",
      "     6.435379 ]\n",
      " [  62.9414     168.82512    -23.599388  ...  227.3971    -188.0126\n",
      "    17.242388 ]]\n"
     ]
    }
   ],
   "source": [
    "print(sequence_embedding)"
   ]
  },
  {
   "cell_type": "code",
   "execution_count": 6,
   "id": "f9d2e40c",
   "metadata": {},
   "outputs": [
    {
     "name": "stdout",
     "output_type": "stream",
     "text": [
      "5\n"
     ]
    }
   ],
   "source": [
    "print(len(sequence_embedding))"
   ]
  },
  {
   "cell_type": "code",
   "execution_count": 28,
   "id": "fa2d541b",
   "metadata": {},
   "outputs": [
    {
     "name": "stdout",
     "output_type": "stream",
     "text": [
      "(2000, 960)\n"
     ]
    }
   ],
   "source": [
    "print(sequence_embedding.shape)"
   ]
  },
  {
   "cell_type": "code",
   "execution_count": null,
   "id": "43da4929",
   "metadata": {},
   "outputs": [],
   "source": []
  }
 ],
 "metadata": {
  "kernelspec": {
   "display_name": "AMPLIFY_venv",
   "language": "python",
   "name": "python3"
  },
  "language_info": {
   "codemirror_mode": {
    "name": "ipython",
    "version": 3
   },
   "file_extension": ".py",
   "mimetype": "text/x-python",
   "name": "python",
   "nbconvert_exporter": "python",
   "pygments_lexer": "ipython3",
   "version": "3.10.18"
  }
 },
 "nbformat": 4,
 "nbformat_minor": 5
}
