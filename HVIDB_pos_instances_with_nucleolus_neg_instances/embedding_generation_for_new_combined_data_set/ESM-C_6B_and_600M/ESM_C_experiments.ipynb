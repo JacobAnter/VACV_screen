{
 "cells": [
  {
   "cell_type": "code",
   "execution_count": 1,
   "id": "244354bd",
   "metadata": {},
   "outputs": [
    {
     "data": {
      "text/plain": [
       "'\\nThe purpose of this Jupyter notebook is to familiarize oneself with ESM\\nC (ESM Cambrian).\\n'"
      ]
     },
     "execution_count": 1,
     "metadata": {},
     "output_type": "execute_result"
    }
   ],
   "source": [
    "\"\"\"\n",
    "The purpose of this Jupyter notebook is to familiarize oneself with ESM\n",
    "C (ESM Cambrian).\n",
    "\"\"\""
   ]
  },
  {
   "cell_type": "code",
   "execution_count": 2,
   "id": "ebb126f0",
   "metadata": {},
   "outputs": [
    {
     "name": "stderr",
     "output_type": "stream",
     "text": [
      "/opt/homebrew/Caskroom/miniforge/base/envs/ESM-3_experiments/lib/python3.10/site-packages/tqdm/auto.py:21: TqdmWarning: IProgress not found. Please update jupyter and ipywidgets. See https://ipywidgets.readthedocs.io/en/stable/user_install.html\n",
      "  from .autonotebook import tqdm as notebook_tqdm\n"
     ]
    }
   ],
   "source": [
    "import os\n",
    "\n",
    "import torch\n",
    "from esm.models.esmc import ESMC\n",
    "from esm.sdk import batch_executor\n",
    "from esm.sdk.api import ESMProtein, LogitsConfig"
   ]
  },
  {
   "cell_type": "code",
   "execution_count": 3,
   "id": "b261b7c4",
   "metadata": {},
   "outputs": [
    {
     "name": "stderr",
     "output_type": "stream",
     "text": [
      "Fetching 4 files: 100%|██████████| 4/4 [00:00<00:00, 81840.08it/s]\n"
     ]
    }
   ],
   "source": [
    "DEVICE = \"mps\"\n",
    "model = ESMC.from_pretrained(\"esmc_600m\").to(DEVICE).eval()"
   ]
  },
  {
   "cell_type": "code",
   "execution_count": 4,
   "id": "ae76b2be",
   "metadata": {},
   "outputs": [],
   "source": [
    "def embed_sequence(model, sequence):\n",
    "    with torch.no_grad():\n",
    "        protein = ESMProtein(sequence=sequence)\n",
    "        protein_tensor = model.encode(protein)\n",
    "        output = model.logits(\n",
    "            protein_tensor, LogitsConfig(sequence=False, return_embeddings=True)\n",
    "        )\n",
    "    return output"
   ]
  },
  {
   "cell_type": "code",
   "execution_count": 29,
   "id": "a8267a36",
   "metadata": {},
   "outputs": [
    {
     "name": "stderr",
     "output_type": "stream",
     "text": [
      "Processing  100%|████████████████████████| 100/100 [Elapsed: 00:10 | Remaining: 00:00] , Success=100 Fail=0 Retry=0\n"
     ]
    }
   ],
   "source": [
    "some_seqs = [\"A\" * 3] * 100\n",
    "\n",
    "with batch_executor() as executor:\n",
    "    outputs = executor.execute_batch(\n",
    "        user_func=embed_sequence, model=model, sequence=some_seqs\n",
    "    )"
   ]
  },
  {
   "cell_type": "code",
   "execution_count": 30,
   "id": "f9ebbeb4",
   "metadata": {},
   "outputs": [
    {
     "name": "stdout",
     "output_type": "stream",
     "text": [
      "100\n"
     ]
    }
   ],
   "source": [
    "print(len(outputs))"
   ]
  },
  {
   "cell_type": "code",
   "execution_count": 31,
   "id": "3137da9f",
   "metadata": {},
   "outputs": [
    {
     "name": "stdout",
     "output_type": "stream",
     "text": [
      "LogitsOutput(logits=ForwardTrackData(sequence=None, structure=None, secondary_structure=None, sasa=None, function=None), embeddings=tensor([[[ 0.0042, -0.0045,  0.0032,  ...,  0.0155,  0.0032, -0.0076],\n",
      "         [ 0.0288, -0.0025,  0.0080,  ...,  0.0262,  0.0543,  0.0122],\n",
      "         [ 0.0279, -0.0257, -0.0047,  ...,  0.0200,  0.0187,  0.0086],\n",
      "         [ 0.0280, -0.0160, -0.0238,  ..., -0.0051,  0.0120, -0.0143],\n",
      "         [-0.0065, -0.0131, -0.0015,  ...,  0.0060,  0.0086, -0.0147]]],\n",
      "       device='mps:0'), residue_annotation_logits=None, hidden_states=None)\n"
     ]
    }
   ],
   "source": [
    "print(outputs[0])"
   ]
  },
  {
   "cell_type": "code",
   "execution_count": 28,
   "id": "aa251635",
   "metadata": {},
   "outputs": [
    {
     "name": "stdout",
     "output_type": "stream",
     "text": [
      "torch.Size([1, 5, 960])\n",
      "Sequence length: 3\n",
      "\n",
      "torch.Size([1, 8, 960])\n",
      "Sequence length: 6\n",
      "\n",
      "torch.Size([1, 4, 960])\n",
      "Sequence length: 2\n",
      "\n"
     ]
    }
   ],
   "source": [
    "for i in range(3):\n",
    "    current_embedding = outputs[i].embeddings\n",
    "    print(current_embedding.shape)\n",
    "    print(f\"Sequence length: {len(some_seqs[i])}\")\n",
    "    print()"
   ]
  },
  {
   "cell_type": "code",
   "execution_count": 5,
   "id": "12e6980b",
   "metadata": {},
   "outputs": [],
   "source": [
    "humongous_seq = \"G\" * 10000\n",
    "humongous_output = embed_sequence(model, humongous_seq)"
   ]
  },
  {
   "cell_type": "code",
   "execution_count": 7,
   "id": "6299f023",
   "metadata": {},
   "outputs": [
    {
     "name": "stdout",
     "output_type": "stream",
     "text": [
      "torch.Size([1, 10002, 1152])\n"
     ]
    }
   ],
   "source": [
    "print(humongous_output.embeddings.shape)"
   ]
  },
  {
   "cell_type": "code",
   "execution_count": 8,
   "id": "23c552c4",
   "metadata": {},
   "outputs": [],
   "source": [
    "tiny_seq = \"A\"\n",
    "tiny_output = embed_sequence(model, tiny_seq)"
   ]
  },
  {
   "cell_type": "code",
   "execution_count": 9,
   "id": "843b7084",
   "metadata": {},
   "outputs": [
    {
     "name": "stdout",
     "output_type": "stream",
     "text": [
      "torch.Size([1, 3, 1152])\n"
     ]
    }
   ],
   "source": [
    "print(tiny_output.embeddings.shape)"
   ]
  },
  {
   "cell_type": "code",
   "execution_count": null,
   "id": "74b48ffd",
   "metadata": {},
   "outputs": [],
   "source": []
  }
 ],
 "metadata": {
  "kernelspec": {
   "display_name": "ESM-3_experiments",
   "language": "python",
   "name": "python3"
  },
  "language_info": {
   "codemirror_mode": {
    "name": "ipython",
    "version": 3
   },
   "file_extension": ".py",
   "mimetype": "text/x-python",
   "name": "python",
   "nbconvert_exporter": "python",
   "pygments_lexer": "ipython3",
   "version": "3.10.4"
  }
 },
 "nbformat": 4,
 "nbformat_minor": 5
}
