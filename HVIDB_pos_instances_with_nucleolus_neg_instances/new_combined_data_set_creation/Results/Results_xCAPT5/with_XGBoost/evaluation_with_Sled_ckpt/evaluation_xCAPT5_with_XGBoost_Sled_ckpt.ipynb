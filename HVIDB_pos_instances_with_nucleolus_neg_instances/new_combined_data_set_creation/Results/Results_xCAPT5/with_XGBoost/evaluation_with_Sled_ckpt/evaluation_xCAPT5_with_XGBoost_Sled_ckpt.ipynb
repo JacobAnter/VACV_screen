{
 "cells": [
  {
   "cell_type": "code",
   "execution_count": 1,
   "id": "425d9868",
   "metadata": {},
   "outputs": [
    {
     "data": {
      "text/plain": [
       "'\\nThe purpose of this Jupyter notebook is to evaluate the performance of\\nxCAPT5 ...\\n'"
      ]
     },
     "execution_count": 1,
     "metadata": {},
     "output_type": "execute_result"
    }
   ],
   "source": [
    "\"\"\"\n",
    "The purpose of this Jupyter notebook is to evaluate the performance of\n",
    "xCAPT5 ...\n",
    "\"\"\""
   ]
  },
  {
   "cell_type": "code",
   "execution_count": 1,
   "id": "828aeb36",
   "metadata": {},
   "outputs": [],
   "source": [
    "# As this Jupyter notebook is not part of a package, the module's/file's\n",
    "# `__name__` attribute is set to `__main__`, i.e. it does not contain\n",
    "# any package information\n",
    "# This, in turn, makes relative imports infeasible\n",
    "# Thus, the directory the desired file is located in has to be manually\n",
    "# added to path\n",
    "import sys\n",
    "sys.path.append(\n",
    "    \"/Users/jacobanter/Documents/Code/VACV_screen/\"\n",
    "    \"HVIDB_pos_instances_with_nucleolus_neg_instances/Results\"\n",
    ")"
   ]
  },
  {
   "cell_type": "code",
   "execution_count": 2,
   "id": "a607d162",
   "metadata": {},
   "outputs": [],
   "source": [
    "import evaluation_utils"
   ]
  },
  {
   "cell_type": "code",
   "execution_count": 4,
   "id": "856c969c",
   "metadata": {},
   "outputs": [],
   "source": [
    "# In the case of xCAPT5, only the predicted probabilities, but not the\n",
    "# corresponding labels are stored in the output file\n",
    "# Therefore, as a first step, a `label` column is added to the output\n",
    "# file\n",
    "# As threshold, 0.5 is applied, i.e. a PPI having a probability of at\n",
    "# least 0.5 is predicted to occur and is assigned a label of 1;\n",
    "# conversely, PPIs with a probability below 0.5 are predicted not to\n",
    "# occur and are assigned a label of 0\n",
    "path_to_results_file = (\n",
    "    \"xCAPT5_interaction_probs_sled_ckpt_bullet-proof_data_set_with_\"\n",
    "    \"XGBoost.tsv\"\n",
    ")\n",
    "\n",
    "evaluation_utils.add_labels_based_on_probs(\n",
    "    path_tsv_files=path_to_results_file,\n",
    "    pred_col_name=\"interaction_probability\",\n",
    "    n_fold=1\n",
    ")"
   ]
  },
  {
   "cell_type": "code",
   "execution_count": 5,
   "id": "ebd66521",
   "metadata": {},
   "outputs": [
    {
     "name": "stdout",
     "output_type": "stream",
     "text": [
      "Using 1-fold cross-validation, the metrics for xCAPT5 with XGBoost Sled ckpt are as follows:\n",
      "Accuracy:      0.8398058252427184 ± 0.0\n",
      "Precision:     0.7916666666666666 ± 0.0\n",
      "Recall:        0.9223300970873787 ± 0.0\n",
      "F1-score:      0.852017937219731 ± 0.0\n",
      "Specificity:   0.7572815533980582 ± 0.0\n",
      "MCC:           0.689061827088388 ± 0.0\n",
      "ROC AUC score: 0.9353879960410971 ± 0.0\n",
      "AUPRC score    0.9344352406386947 ± 0.0\n"
     ]
    },
    {
     "data": {
      "text/plain": [
       "((0.8398058252427184, 0.0),\n",
       " (0.7916666666666666, 0.0),\n",
       " (0.9223300970873787, 0.0),\n",
       " (0.852017937219731, 0.0),\n",
       " (0.7572815533980582, 0.0),\n",
       " (0.689061827088388, 0.0),\n",
       " (0.9353879960410971, 0.0),\n",
       " (0.9344352406386947, 0.0))"
      ]
     },
     "execution_count": 5,
     "metadata": {},
     "output_type": "execute_result"
    }
   ],
   "source": [
    "evaluation_utils.evaluation_k_fold_cross_val(\n",
    "    ground_truth_path=\"/Users/jacobanter/Documents/Code/VACV_screen/\"\n",
    "    \"HVIDB_pos_instances_with_nucleolus_neg_instances/new_combined_\"\n",
    "    \"data_set_creation/data_set_files/entire_bullet-proof_ppi_data_\"\n",
    "    \"set.tsv\",\n",
    "    splits_path=path_to_results_file,\n",
    "    n_fold=1,\n",
    "    probability_key=\"interaction_probability\",\n",
    "    model_name=\"xCAPT5 with XGBoost Sled ckpt\",\n",
    "    output_path=\"xCAPT5_with_XGBoost_Sled_ckpt_results_on_new_\"\\\n",
    "    \"combined_VACV_WR_data_set_without_training.txt\"\n",
    ")"
   ]
  },
  {
   "cell_type": "code",
   "execution_count": 3,
   "id": "3c1210cd",
   "metadata": {},
   "outputs": [],
   "source": [
    "# For table 2 of the publication, the evaluation is supposed to be\n",
    "# limited to the test set\n",
    "# Apart from that, XGBoost has been fitted in two different manners, the\n",
    "# first of which involved fitting from scratch and the second of which\n",
    "# involved fine-tuning from either the Pan or the Sled checkpoint\n",
    "# In this Jupyter notebook, exclusively the Sled checkpoint is dealt\n",
    "# with\n",
    "# First, perform the evaluation for XGBoost fitted from scratch\n",
    "path_to_test_set_results_XGBoost_from_scratch = (\n",
    "    \"fine-tuning_XGBoost_on_training_set_only_from_scratch/xCAPT5_\"\n",
    "    \"interaction_probs_Sled_ckpt_bullet-proof_test_set_XGBoost_from_\"\n",
    "    \"scratch_seed_{i}_with_XGBoost_no_fitting.tsv\"\n",
    ")\n",
    "\n",
    "evaluation_utils.add_labels_based_on_probs(\n",
    "    path_tsv_files=path_to_test_set_results_XGBoost_from_scratch,\n",
    "    pred_col_name=\"interaction_probability\",\n",
    "    n_fold=5\n",
    ")"
   ]
  },
  {
   "cell_type": "code",
   "execution_count": 4,
   "id": "a0b05210",
   "metadata": {},
   "outputs": [
    {
     "name": "stdout",
     "output_type": "stream",
     "text": [
      "Using 5-fold cross-validation, the metrics for xCAPT5 Sled ckpt XGBoost from scratch are as follows:\n",
      "Accuracy:      0.8942857142857144 ± 0.014568627181693668\n",
      "Precision:     0.8712343922870238 ± 0.018085383399919393\n",
      "Recall:        0.9257142857142858 ± 0.01399708424447531\n",
      "F1-score:      0.8975571848135999 ± 0.013657129454246127\n",
      "Specificity:   0.8628571428571428 ± 0.02138089935299392\n",
      "MCC:           0.7903003187962664 ± 0.028771815854130068\n",
      "ROC AUC score: 0.946857142857143 ± 0.001514060162529917\n",
      "AUPRC score    0.9523353978200391 ± 0.0013385932814591883\n"
     ]
    },
    {
     "data": {
      "text/plain": [
       "((0.8942857142857144, 0.014568627181693668),\n",
       " (0.8712343922870238, 0.018085383399919393),\n",
       " (0.9257142857142858, 0.01399708424447531),\n",
       " (0.8975571848135999, 0.013657129454246127),\n",
       " (0.8628571428571428, 0.02138089935299392),\n",
       " (0.7903003187962664, 0.028771815854130068),\n",
       " (0.946857142857143, 0.001514060162529917),\n",
       " (0.9523353978200391, 0.0013385932814591883))"
      ]
     },
     "execution_count": 4,
     "metadata": {},
     "output_type": "execute_result"
    }
   ],
   "source": [
    "evaluation_utils.evaluation_k_fold_cross_val(\n",
    "    ground_truth_path=\"/Users/jacobanter/Documents/Code/VACV_screen/\"\\\n",
    "    \"HVIDB_pos_instances_with_nucleolus_neg_instances/new_combined_\"\\\n",
    "    \"data_set_creation/data_set_files/bullet-proof_test_set.tsv\",\n",
    "    splits_path=path_to_test_set_results_XGBoost_from_scratch,\n",
    "    n_fold=5,\n",
    "    probability_key=\"interaction_probability\",\n",
    "    model_name=\"xCAPT5 Sled ckpt XGBoost from scratch\",\n",
    "    output_path=\"fine-tuning_XGBoost_on_training_set_only_from_\"\\\n",
    "    \"scratch/xCAPT5_Sled_ckpt_XGBoost_from_scratch_results_on_new_\"\\\n",
    "    \"test_test_5_seeds.txt\"\n",
    ")"
   ]
  },
  {
   "cell_type": "code",
   "execution_count": 5,
   "id": "749289cd",
   "metadata": {},
   "outputs": [],
   "source": [
    "# Now, address XGBoost fine-tuned from the corresponding Sled checkpoint\n",
    "path_to_test_set_results_XGBoost_from_Sled_ckpt = (\n",
    "    \"fine-tuning_XGBoost_on_training_set_only_resumption_from_Sled_\"\n",
    "    \"ckpt/xCAPT5_interaction_probs_Sled_ckpt_bullet-proof_test_set_\"\n",
    "    \"XGBoost_fine-tuned_from_Sled_ckpt_seed_{i}_with_XGBoost_no_\"\n",
    "    \"fitting.tsv\"\n",
    ")\n",
    "\n",
    "evaluation_utils.add_labels_based_on_probs(\n",
    "    path_tsv_files=path_to_test_set_results_XGBoost_from_Sled_ckpt,\n",
    "    pred_col_name=\"interaction_probability\",\n",
    "    n_fold=5\n",
    ")"
   ]
  },
  {
   "cell_type": "code",
   "execution_count": 6,
   "id": "d6efe154",
   "metadata": {},
   "outputs": [
    {
     "name": "stdout",
     "output_type": "stream",
     "text": [
      "Using 5-fold cross-validation, the metrics for xCAPT5 Sled ckpt XGBoost from Sled ckpt are as follows:\n",
      "Accuracy:      0.5714285714285714 ± 0.0\n",
      "Precision:     0.8571428571428571 ± 0.0\n",
      "Recall:        0.17142857142857143 ± 0.0\n",
      "F1-score:      0.2857142857142857 ± 0.0\n",
      "Specificity:   0.9714285714285713 ± 1.1102230246251565e-16\n",
      "MCC:           0.23809523809523808 ± 0.0\n",
      "ROC AUC score: 0.6367346938775511 ± 0.0\n",
      "AUPRC score    0.6590250412519321 ± 0.0\n"
     ]
    },
    {
     "data": {
      "text/plain": [
       "((0.5714285714285714, 0.0),\n",
       " (0.8571428571428571, 0.0),\n",
       " (0.17142857142857143, 0.0),\n",
       " (0.2857142857142857, 0.0),\n",
       " (0.9714285714285713, 1.1102230246251565e-16),\n",
       " (0.23809523809523808, 0.0),\n",
       " (0.6367346938775511, 0.0),\n",
       " (0.6590250412519321, 0.0))"
      ]
     },
     "execution_count": 6,
     "metadata": {},
     "output_type": "execute_result"
    }
   ],
   "source": [
    "evaluation_utils.evaluation_k_fold_cross_val(\n",
    "    ground_truth_path=\"/Users/jacobanter/Documents/Code/VACV_screen/\"\\\n",
    "    \"HVIDB_pos_instances_with_nucleolus_neg_instances/new_combined_\"\\\n",
    "    \"data_set_creation/data_set_files/bullet-proof_test_set.tsv\",\n",
    "    splits_path=path_to_test_set_results_XGBoost_from_Sled_ckpt,\n",
    "    n_fold=5,\n",
    "    probability_key=\"interaction_probability\",\n",
    "    model_name=\"xCAPT5 Sled ckpt XGBoost from Sled ckpt\",\n",
    "    output_path=\"fine-tuning_XGBoost_on_training_set_only_resumption_\"\\\n",
    "    \"from_Sled_ckpt/xCAPT5_Sled_ckpt_XGBoost_from_Sled_ckpt_results_\"\\\n",
    "    \"on_new_test_set_5_seeds.txt\"\n",
    ")"
   ]
  },
  {
   "cell_type": "code",
   "execution_count": null,
   "id": "bfe6dacb",
   "metadata": {},
   "outputs": [],
   "source": []
  }
 ],
 "metadata": {
  "kernelspec": {
   "display_name": "bioinformatics",
   "language": "python",
   "name": "python3"
  },
  "language_info": {
   "codemirror_mode": {
    "name": "ipython",
    "version": 3
   },
   "file_extension": ".py",
   "mimetype": "text/x-python",
   "name": "python",
   "nbconvert_exporter": "python",
   "pygments_lexer": "ipython3",
   "version": "3.10.8"
  }
 },
 "nbformat": 4,
 "nbformat_minor": 5
}
