{
 "cells": [
  {
   "cell_type": "code",
   "execution_count": 2,
   "id": "f91f48f5",
   "metadata": {},
   "outputs": [
    {
     "data": {
      "text/plain": [
       "'\\nThe purpose of this Jupyter notebook is to evaluate the performance of\\nxCAPT5 ...\\n'"
      ]
     },
     "execution_count": 2,
     "metadata": {},
     "output_type": "execute_result"
    }
   ],
   "source": [
    "\"\"\"\n",
    "The purpose of this Jupyter notebook is to evaluate the performance of\n",
    "xCAPT5 ...\n",
    "\"\"\""
   ]
  },
  {
   "cell_type": "code",
   "execution_count": 1,
   "id": "2a8653e8",
   "metadata": {},
   "outputs": [],
   "source": [
    "# As this Jupyter notebook is not part of a package, the module's/file's\n",
    "# `__name__` attribute is set to `__main__`, i.e. it does not contain\n",
    "# any package information\n",
    "# This, in turn, makes relative imports infeasible\n",
    "# Thus, the directory the desired file is located in has to be manually\n",
    "# added to path\n",
    "import sys\n",
    "sys.path.append(\n",
    "    \"/Users/jacobanter/Documents/Code/VACV_screen/\"\n",
    "    \"HVIDB_pos_instances_with_nucleolus_neg_instances/Results\"\n",
    ")"
   ]
  },
  {
   "cell_type": "code",
   "execution_count": 2,
   "id": "a1a87f5d",
   "metadata": {},
   "outputs": [],
   "source": [
    "import evaluation_utils"
   ]
  },
  {
   "cell_type": "code",
   "execution_count": 4,
   "id": "04165c15",
   "metadata": {},
   "outputs": [],
   "source": [
    "# In the case of xCAPT5, only the predicted probabilities, but not the\n",
    "# corresponding labels are stored in the output file\n",
    "# Therefore, as a first step, a `label` column is added to the output\n",
    "# file\n",
    "# As threshold, 0.5 is applied, i.e. a PPI having a probability of at\n",
    "# least 0.5 is predicted to occur and is assigned a label of 1;\n",
    "# conversely, PPIs with a probability below 0.5 are predicted not to\n",
    "# occur and are assigned a label of 0\n",
    "path_to_results_file = (\n",
    "    \"xCAPT5_interaction_probs_pan_ckpt_bullet-proof_data_set_with_\"\n",
    "    \"XGBoost.tsv\"\n",
    ")\n",
    "\n",
    "evaluation_utils.add_labels_based_on_probs(\n",
    "    path_tsv_files=path_to_results_file,\n",
    "    pred_col_name=\"interaction_probability\",\n",
    "    n_fold=1\n",
    ")"
   ]
  },
  {
   "cell_type": "code",
   "execution_count": 5,
   "id": "a02219f3",
   "metadata": {},
   "outputs": [
    {
     "name": "stdout",
     "output_type": "stream",
     "text": [
      "Using 1-fold cross-validation, the metrics for xCAPT5 with XGBoost Pan ckpt are as follows:\n",
      "Accuracy:      0.8725728155339806 ± 0.0\n",
      "Precision:     0.8946015424164524 ± 0.0\n",
      "Recall:        0.8446601941747572 ± 0.0\n",
      "F1-score:      0.8689138576779026 ± 0.0\n",
      "Specificity:   0.9004854368932039 ± 0.0\n",
      "MCC:           0.7463094594709799 ± 0.0\n",
      "ROC AUC score: 0.9440569327929116 ± 0.0\n",
      "AUPRC score    0.9436321159617355 ± 0.0\n"
     ]
    },
    {
     "data": {
      "text/plain": [
       "((0.8725728155339806, 0.0),\n",
       " (0.8946015424164524, 0.0),\n",
       " (0.8446601941747572, 0.0),\n",
       " (0.8689138576779026, 0.0),\n",
       " (0.9004854368932039, 0.0),\n",
       " (0.7463094594709799, 0.0),\n",
       " (0.9440569327929116, 0.0),\n",
       " (0.9436321159617355, 0.0))"
      ]
     },
     "execution_count": 5,
     "metadata": {},
     "output_type": "execute_result"
    }
   ],
   "source": [
    "evaluation_utils.evaluation_k_fold_cross_val(\n",
    "    ground_truth_path=\"/Users/jacobanter/Documents/Code/VACV_screen/\"\n",
    "    \"HVIDB_pos_instances_with_nucleolus_neg_instances/new_combined_\"\n",
    "    \"data_set_creation/data_set_files/entire_bullet-proof_ppi_data_\"\n",
    "    \"set.tsv\",\n",
    "    splits_path=path_to_results_file,\n",
    "    n_fold=1,\n",
    "    probability_key=\"interaction_probability\",\n",
    "    model_name=\"xCAPT5 with XGBoost Pan ckpt\",\n",
    "    output_path=\"xCAPT5_with_XGBoost_Pan_ckpt_results_on_new_\"\\\n",
    "    \"combined_VACV_WR_data_set_without_training.txt\"\n",
    ")"
   ]
  },
  {
   "cell_type": "code",
   "execution_count": 3,
   "id": "b5cc0183",
   "metadata": {},
   "outputs": [],
   "source": [
    "# For table 2 of the publication, the evaluation is supposed to be\n",
    "# limited to the test\n",
    "# Apart from that, XGBoost has been fitted in two different manners, the\n",
    "# first of which involved fitting from scratch and the second of which\n",
    "# involved fine-tuning from either the Pan or the Sled checkpoint\n",
    "# In this Jupyter notebook, exclusively the Pan checkpoint is dealt with\n",
    "# First, perform the evaluation for XGBoost fitted from scratch\n",
    "path_to_test_set_results_XGBoost_from_scratch = (\n",
    "    \"fine-tuning_XGBoost_on_training_set_only_from_scratch/xCAPT5_\"\n",
    "    \"interaction_probs_Pan_ckpt_bullet-proof_test_set_XGBoost_from_\"\n",
    "    \"scratch_seed_{i}_with_XGBoost_no_fitting.tsv\"\n",
    ")\n",
    "\n",
    "evaluation_utils.add_labels_based_on_probs(\n",
    "    path_tsv_files=path_to_test_set_results_XGBoost_from_scratch,\n",
    "    pred_col_name=\"interaction_probability\",\n",
    "    n_fold=5\n",
    ")"
   ]
  },
  {
   "cell_type": "code",
   "execution_count": 4,
   "id": "b81e8339",
   "metadata": {},
   "outputs": [
    {
     "name": "stdout",
     "output_type": "stream",
     "text": [
      "Using 5-fold cross-validation, the metrics for xCAPT5 Pan ckpt XGBoost from scratch are as follows:\n",
      "Accuracy:      0.8257142857142858 ± 0.013997084244475294\n",
      "Precision:     0.8244878491937315 ± 0.02243407959165288\n",
      "Recall:        0.8285714285714286 ± 0.0\n",
      "F1-score:      0.8263699102829538 ± 0.011399086131429832\n",
      "Specificity:   0.822857142857143 ± 0.027994168488950588\n",
      "MCC:           0.6516809818764713 ± 0.02770303181134907\n",
      "ROC AUC score: 0.8631836734693877 ± 0.0020554576835941337\n",
      "AUPRC score    0.8454114920436252 ± 0.010891649596854389\n"
     ]
    },
    {
     "data": {
      "text/plain": [
       "((0.8257142857142858, 0.013997084244475294),\n",
       " (0.8244878491937315, 0.02243407959165288),\n",
       " (0.8285714285714286, 0.0),\n",
       " (0.8263699102829538, 0.011399086131429832),\n",
       " (0.822857142857143, 0.027994168488950588),\n",
       " (0.6516809818764713, 0.02770303181134907),\n",
       " (0.8631836734693877, 0.0020554576835941337),\n",
       " (0.8454114920436252, 0.010891649596854389))"
      ]
     },
     "execution_count": 4,
     "metadata": {},
     "output_type": "execute_result"
    }
   ],
   "source": [
    "evaluation_utils.evaluation_k_fold_cross_val(\n",
    "    ground_truth_path=\"/Users/jacobanter/Documents/Code/VACV_screen/\"\\\n",
    "    \"HVIDB_pos_instances_with_nucleolus_neg_instances/new_combined_\"\\\n",
    "    \"data_set_creation/data_set_files/bullet-proof_test_set.tsv\",\n",
    "    splits_path=path_to_test_set_results_XGBoost_from_scratch,\n",
    "    n_fold=5,\n",
    "    probability_key=\"interaction_probability\",\n",
    "    model_name=\"xCAPT5 Pan ckpt XGBoost from scratch\",\n",
    "    output_path=\"fine-tuning_XGBoost_on_training_set_only_from_\"\\\n",
    "    \"scratch/xCAPT5_Pan_ckpt_XGBoost_from_scratch_results_on_new_\"\\\n",
    "    \"test_set_5_seeds.txt\"\n",
    ")"
   ]
  },
  {
   "cell_type": "code",
   "execution_count": 5,
   "id": "6ef54a21",
   "metadata": {},
   "outputs": [],
   "source": [
    "# Now, address XGBoost fine-tuned from the corresponding Pan checkpoint\n",
    "path_to_test_set_results_XGBoost_from_Pan_ckpt = (\n",
    "    \"fine-tuning_XGBoost_on_training_set_only_resumption_from_Pan_ckpt/\"\n",
    "    \"xCAPT5_interaction_probs_Pan_ckpt_bullet-proof_test_set_XGBoost_\"\n",
    "    \"fine-tuned_from_Pan_ckpt_seed_{i}_with_XGBoost_no_fitting.tsv\"\n",
    ")\n",
    "\n",
    "evaluation_utils.add_labels_based_on_probs(\n",
    "    path_tsv_files=path_to_test_set_results_XGBoost_from_Pan_ckpt,\n",
    "    pred_col_name=\"interaction_probability\",\n",
    "    n_fold=5\n",
    ")"
   ]
  },
  {
   "cell_type": "code",
   "execution_count": 6,
   "id": "d91f20f6",
   "metadata": {},
   "outputs": [
    {
     "name": "stdout",
     "output_type": "stream",
     "text": [
      "Using 5-fold cross-validation, the metrics for xCAPT5 Pan ckpt XGBoost from Pan ckpt are as follows:\n",
      "Accuracy:      0.7714285714285715 ± 0.0\n",
      "Precision:     0.7714285714285715 ± 0.0\n",
      "Recall:        0.7714285714285715 ± 0.0\n",
      "F1-score:      0.7714285714285715 ± 0.0\n",
      "Specificity:   0.7714285714285715 ± 0.0\n",
      "MCC:           0.5428571428571428 ± 0.0\n",
      "ROC AUC score: 0.8089795918367347 ± 1.1102230246251565e-16\n",
      "AUPRC score    0.758307486486351 ± 0.0\n"
     ]
    },
    {
     "data": {
      "text/plain": [
       "((0.7714285714285715, 0.0),\n",
       " (0.7714285714285715, 0.0),\n",
       " (0.7714285714285715, 0.0),\n",
       " (0.7714285714285715, 0.0),\n",
       " (0.7714285714285715, 0.0),\n",
       " (0.5428571428571428, 0.0),\n",
       " (0.8089795918367347, 1.1102230246251565e-16),\n",
       " (0.758307486486351, 0.0))"
      ]
     },
     "execution_count": 6,
     "metadata": {},
     "output_type": "execute_result"
    }
   ],
   "source": [
    "evaluation_utils.evaluation_k_fold_cross_val(\n",
    "    ground_truth_path=\"/Users/jacobanter/Documents/Code/VACV_screen/\"\\\n",
    "    \"HVIDB_pos_instances_with_nucleolus_neg_instances/new_combined_\"\\\n",
    "    \"data_set_creation/data_set_files/bullet-proof_test_set.tsv\",\n",
    "    splits_path=path_to_test_set_results_XGBoost_from_Pan_ckpt,\n",
    "    n_fold=5,\n",
    "    probability_key=\"interaction_probability\",\n",
    "    model_name=\"xCAPT5 Pan ckpt XGBoost from Pan ckpt\",\n",
    "    output_path=\"fine-tuning_XGBoost_on_training_set_only_resumption_\"\\\n",
    "    \"from_Pan_ckpt/xCAPT5_Pan_ckpt_XGBoost_from_Pan_ckpt_results_on_\"\\\n",
    "    \"new_test_set_5_seeds.txt\"\n",
    ")"
   ]
  },
  {
   "cell_type": "code",
   "execution_count": null,
   "id": "8a0b659a",
   "metadata": {},
   "outputs": [],
   "source": []
  }
 ],
 "metadata": {
  "kernelspec": {
   "display_name": "bioinformatics",
   "language": "python",
   "name": "python3"
  },
  "language_info": {
   "codemirror_mode": {
    "name": "ipython",
    "version": 3
   },
   "file_extension": ".py",
   "mimetype": "text/x-python",
   "name": "python",
   "nbconvert_exporter": "python",
   "pygments_lexer": "ipython3",
   "version": "3.10.8"
  }
 },
 "nbformat": 4,
 "nbformat_minor": 5
}
