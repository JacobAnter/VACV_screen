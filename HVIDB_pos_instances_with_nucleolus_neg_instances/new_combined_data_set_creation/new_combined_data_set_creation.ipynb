{
 "cells": [
  {
   "cell_type": "code",
   "execution_count": 1,
   "id": "e79cf6f0",
   "metadata": {},
   "outputs": [
    {
     "data": {
      "text/plain": [
       "'\\nThe purpose of this Jupyter notebook is to create a new combined data\\nset meeting two requirements. The first requirement is that the human\\nproteins involved in negative PPIs exclusively occur in the nucleolus.\\nThe second requirement is that the proteins involved in negative PPIs\\n(both VACV and human) have a length of at most 1,700 amino acids. The\\nsecond requirement is imposed so as to ensure the feasibility of\\nmolecular dynamics simulations.\\n'"
      ]
     },
     "execution_count": 1,
     "metadata": {},
     "output_type": "execute_result"
    }
   ],
   "source": [
    "\"\"\"\n",
    "The purpose of this Jupyter notebook is to create a new combined data\n",
    "set meeting two requirements. The first requirement is that the human\n",
    "proteins involved in negative PPIs exclusively occur in the nucleolus.\n",
    "The second requirement is that the proteins involved in negative PPIs\n",
    "(both VACV and human) have a length of at most 1,700 amino acids. The\n",
    "second requirement is imposed so as to ensure the feasibility of\n",
    "molecular dynamics simulations.\n",
    "\"\"\""
   ]
  },
  {
   "cell_type": "code",
   "execution_count": 2,
   "id": "474b43a6",
   "metadata": {},
   "outputs": [],
   "source": [
    "# Unfortunately, restricting the search query to proteins occurring\n",
    "# exclusively in the nucleolus via the GUI (i.e. the UniProt website) is\n",
    "# not possible\n",
    "# Therefore, it is resorted to using the XML file in order to filter the\n",
    "# results\n",
    "\n",
    "# In detail, on the UniProt website, a search is conducted with the\n",
    "# following settings: Organism [OS] 9606 AND subcellular location term\n",
    "# Nucleolus [SL-0188]\n",
    "# The search results are downloaded as XML file; the search has been\n",
    "# conducted on 19th June 2025\n",
    "\n",
    "# The filtering is based on the following rationale: Each protein has at\n",
    "# least one subcellular location, namely the nucleolus\n",
    "# Only proteins with exactly one subcellular location (i.e. the\n",
    "# nucleolus) are retained\n",
    "# In the case of proteins with multiple isoforms, the protein is only\n",
    "# retained if all isoforms occur exclusively in the nucleolus\n",
    "\n",
    "import xml.etree.ElementTree as ET\n",
    "\n",
    "path_to_nucleolus_xml = (\n",
    "    \"/Users/jacobanter/Documents/Code/VACV_screen/HVIDB_pos_instances_\"\n",
    "    \"with_nucleolus_neg_instances/new_combined_data_set_creation/\"\n",
    "    \"uniprotkb_organism_id_9606_AND_cc_scl_t_0188_nucleolus_2025_06_\"\n",
    "    \"19.xml\"\n",
    ")\n",
    "\n",
    "tree = ET.parse(path_to_nucleolus_xml)\n",
    "root = tree.getroot()"
   ]
  },
  {
   "cell_type": "code",
   "execution_count": 3,
   "id": "0779f28c",
   "metadata": {},
   "outputs": [],
   "source": [
    "uniprot_accs_only_in_nucleolus = []\n",
    "\n",
    "for entry in root.iterfind(\"./{http://uniprot.org/uniprot}entry\"):\n",
    "    # Some entries have multiple `accession` tags, only the first of\n",
    "    # which is of interest\n",
    "    # Conveniently enough, the `find()` method finds the first child\n",
    "    # with a particular tag\n",
    "    uniprot_acc = entry.find(\"{http://uniprot.org/uniprot}accession\").text\n",
    "    \n",
    "    # Determine the amount of subcellular locations listed for the entry\n",
    "    # at hand\n",
    "    # Some entries have isoforms; thus, for each potential isoform, the\n",
    "    # amount of subcellular locations must not exceed 1 in order for the\n",
    "    # protein to be retained\n",
    "    scl_entries = entry.findall(\n",
    "        \"{http://uniprot.org/uniprot}comment[@type='subcellular location']\"\n",
    "    )\n",
    "    \n",
    "    n_subcell_locs = [\n",
    "        len(scl_entry.findall(\n",
    "            \"./{http://uniprot.org/uniprot}subcellularLocation\"\n",
    "        ))\n",
    "        for scl_entry in scl_entries\n",
    "    ]\n",
    "\n",
    "    if all([n == 1 for n in n_subcell_locs]):\n",
    "        uniprot_accs_only_in_nucleolus.append(uniprot_acc)\n"
   ]
  },
  {
   "cell_type": "code",
   "execution_count": 4,
   "id": "ee2d3159",
   "metadata": {},
   "outputs": [
    {
     "name": "stdout",
     "output_type": "stream",
     "text": [
      "The amount of human proteins occurring exclusively in the nucleolus is 433.\n"
     ]
    }
   ],
   "source": [
    "print(\n",
    "    \"The amount of human proteins occurring exclusively in the \"\n",
    "    f\"nucleolus is {len(uniprot_accs_only_in_nucleolus):,}.\"\n",
    ")"
   ]
  },
  {
   "cell_type": "code",
   "execution_count": 5,
   "id": "4cf93572",
   "metadata": {},
   "outputs": [
    {
     "name": "stdout",
     "output_type": "stream",
     "text": [
      "True\n"
     ]
    }
   ],
   "source": [
    "# As it turns out, one of the human proteins involved in positive\n",
    "# reliable PPIs from HVIDB is a human nucleolus protein\n",
    "# In detail, it is the protein with the uniprot accession F4ZW62\n",
    "# Therefore, this nucleolus protein cannot be used in the construction\n",
    "# of negative PPI instances and has to be removed from the list\n",
    "print(\n",
    "    \"F4ZW62\" in uniprot_accs_only_in_nucleolus\n",
    ")\n",
    "\n",
    "uniprot_accs_only_in_nucleolus.remove(\"F4ZW62\")\n",
    "\n",
    "assert \"F4ZW62\" not in uniprot_accs_only_in_nucleolus, (\n",
    "    \"The removal of the UniProt accession \\\"F4ZW62\\\" was not successful!\"\n",
    ")"
   ]
  },
  {
   "cell_type": "code",
   "execution_count": null,
   "id": "0cab1cbf",
   "metadata": {},
   "outputs": [
    {
     "name": "stdout",
     "output_type": "stream",
     "text": [
      "DataFrame length prior to filtering based on location: 1,156\n",
      "DataFrame length after filtering based on location: 432\n"
     ]
    }
   ],
   "source": [
    "import pandas as pd\n",
    "\n",
    "# In a subsequent step, the TSV file downloaded from UniProt is filtered\n",
    "# to only contain proteins occurring exclusively in the nucleolus\n",
    "# This TSV file does not only contain proteins exclusively occurring in\n",
    "# the nucleolus, but also proteins occurring in the nucleolus among\n",
    "# other locations\n",
    "# Load the TSV file into a Pandas DataFrame\n",
    "path_to_uniprot_tsv = (\n",
    "    \"/Users/jacobanter/Documents/Code/VACV_screen/HVIDB_pos_instances_\"\n",
    "    \"with_nucleolus_neg_instances/new_combined_data_set_creation/\"\n",
    "    \"uniprotkb_organism_id_9606_AND_cc_scl_t_0188_nucleolus_2025_\"\n",
    "    \"06_19.tsv\"\n",
    ")\n",
    "nucleolus_uniprot_df = pd.read_csv(\n",
    "    path_to_uniprot_tsv,\n",
    "    sep=\"\\t\"\n",
    ")\n",
    "\n",
    "print(\n",
    "    \"DataFrame length prior to filtering based on location: \"\n",
    "    f\"{len(nucleolus_uniprot_df):,}\"\n",
    ")\n",
    "\n",
    "nucleolus_uniprot_df = nucleolus_uniprot_df[\n",
    "    nucleolus_uniprot_df[\"Entry\"].isin(uniprot_accs_only_in_nucleolus)\n",
    "]\n",
    "\n",
    "print(\n",
    "    \"DataFrame length after filtering based on location: \"\n",
    "    f\"{len(nucleolus_uniprot_df):,}\"\n",
    ")"
   ]
  },
  {
   "cell_type": "code",
   "execution_count": null,
   "id": "32c2bb78",
   "metadata": {},
   "outputs": [
    {
     "name": "stdout",
     "output_type": "stream",
     "text": [
      "Amount of proteins meeting length requirement: 421 of 432\n"
     ]
    }
   ],
   "source": [
    "# Molecular Dynamics (MD) simulations are supposed to be performed to\n",
    "# verify the reliability of negative PPI instances\n",
    "# As too long protein lengths make MD simulations infeasible, it is\n",
    "# investigated how many proteins have a sequence length of at most 1,700\n",
    "# amino acids\n",
    "n_prots_below_cut_off = (nucleolus_uniprot_df[\"Length\"] <= 1700).sum()\n",
    "\n",
    "print(\n",
    "    \"Amount of proteins meeting length requirement: \"\n",
    "    f\"{n_prots_below_cut_off} of {len(nucleolus_uniprot_df)}\"\n",
    ")"
   ]
  },
  {
   "cell_type": "code",
   "execution_count": null,
   "id": "8d7b4464",
   "metadata": {},
   "outputs": [],
   "source": [
    "# Apply this sequence length cut-off\n",
    "nucleolus_uniprot_df = nucleolus_uniprot_df[\n",
    "    nucleolus_uniprot_df[\"Length\"] <= 1700\n",
    "]\n",
    "\n",
    "assert len(nucleolus_uniprot_df) == 421, (\n",
    "    \"Something went wrong while applying the length cut-off!\"\n",
    ")"
   ]
  },
  {
   "cell_type": "code",
   "execution_count": null,
   "id": "101f4a97",
   "metadata": {},
   "outputs": [],
   "source": [
    "# Save the filtered DataFrame to a TSV file\n",
    "nucleolus_uniprot_df.to_csv(\n",
    "    \"uniprotkb_organism_id_9606_AND_cc_scl_t_0188_nucleolus_2025_06_19\"\n",
    "    \"_exclusively_nucleolus_filtered.tsv\",\n",
    "    sep=\"\\t\",\n",
    "    header=True,\n",
    "    index=False\n",
    ")"
   ]
  },
  {
   "cell_type": "code",
   "execution_count": 3,
   "id": "a71e1e3b",
   "metadata": {},
   "outputs": [],
   "source": [
    "# Load the filtered TSV file into a DataFrame\n",
    "import pandas as pd\n",
    "\n",
    "path_to_uniprot_tsv = (\n",
    "    \"/Users/jacobanter/Documents/Code/VACV_screen/HVIDB_pos_instances_\"\n",
    "    \"with_nucleolus_neg_instances/new_combined_data_set_creation/\"\n",
    "    \"uniprotkb_organism_id_9606_AND_cc_scl_t_0188_nucleolus_2025_06_\"\n",
    "    \"19_exclusively_nucleolus_filtered.tsv\"\n",
    ")\n",
    "nucleolus_uniprot_df = pd.read_csv(\n",
    "    path_to_uniprot_tsv,\n",
    "    sep=\"\\t\"\n",
    ")"
   ]
  },
  {
   "cell_type": "code",
   "execution_count": 4,
   "id": "cfa8a835",
   "metadata": {},
   "outputs": [],
   "source": [
    "from biotite.sequence.io import fasta"
   ]
  },
  {
   "cell_type": "code",
   "execution_count": null,
   "id": "cbd1ea9a",
   "metadata": {},
   "outputs": [],
   "source": [
    "# The FASTA file of the nucleolus proteins has also been downloaded on\n",
    "# 19th June 2025 as \"FASTA (canonical)\"\n",
    "# Load the FASTA file into a FASTA file object and adjust the headers\n",
    "# such that they exclusively contain the UniProt accession\n",
    "\n",
    "path_to_nucleolus_fasta = (\n",
    "    \"uniprotkb_organism_id_9606_AND_cc_scl_t_0188_nucleolus_2025_06_19.fasta\"\n",
    ")\n",
    "\n",
    "nucleolus_fasta = fasta.FastaFile.read(path_to_nucleolus_fasta)\n",
    "\n",
    "nucleolus_fasta_uniprot_only_header = fasta.FastaFile()\n",
    "\n",
    "for header, seq in nucleolus_fasta.items():\n",
    "    uniprot_only_header = header.split(\"|\")[1]\n",
    "    nucleolus_fasta_uniprot_only_header[uniprot_only_header] = seq\n",
    "\n",
    "nucleolus_fasta_uniprot_only_header.write(\n",
    "    \"uniprotkb_organism_id_9606_AND_cc_scl_t_0188_nucleolus_2025_06_19_\"\n",
    "    \"uniprot_only_header.fasta\"\n",
    ")"
   ]
  },
  {
   "cell_type": "code",
   "execution_count": 5,
   "id": "d1cb99a8",
   "metadata": {},
   "outputs": [],
   "source": [
    "# Load the FASTA file with adjusted headers\n",
    "nucleolus_fasta = fasta.FastaFile.read(\n",
    "    \"uniprotkb_organism_id_9606_AND_cc_scl_t_0188_nucleolus_2025_06_19_\"\n",
    "    \"uniprot_only_header.fasta\"\n",
    ")"
   ]
  },
  {
   "cell_type": "code",
   "execution_count": null,
   "id": "0630ff2a",
   "metadata": {},
   "outputs": [],
   "source": [
    "# Regarding the human proteins involved in reliable positive\n",
    "# interactions, a FASTA file encompassing all of them has already been\n",
    "# generated earlier\n",
    "# However, it contains full headers\n",
    "# The headers are also adjusted to only contain the UniProt accession\n",
    "human_prots_in_HVIDB_data_set_fasta = fasta.FastaFile.read(\n",
    "    \"human_prots_in_HVIDB_VACV_WR_data_set.fasta\"\n",
    ")\n",
    "\n",
    "human_prots_in_HVIDB_data_set_uniprot_only_header_fasta = fasta.FastaFile()\n",
    "\n",
    "for header, seq in human_prots_in_HVIDB_data_set_fasta.items():\n",
    "    uniprot_only_header = header.split(\"|\")[1]\n",
    "    human_prots_in_HVIDB_data_set_uniprot_only_header_fasta[\n",
    "        uniprot_only_header\n",
    "    ] = seq"
   ]
  },
  {
   "cell_type": "code",
   "execution_count": null,
   "id": "2962b8f7",
   "metadata": {},
   "outputs": [],
   "source": [
    "# Save the FASTA file with updated headers to disk\n",
    "human_prots_in_HVIDB_data_set_uniprot_only_header_fasta.write(\n",
    "    \"human_prots_in_HVIDB_VACV_WR_data_set_uniprot_only_header.fasta\"\n",
    ")"
   ]
  },
  {
   "cell_type": "code",
   "execution_count": 6,
   "id": "49a41d94",
   "metadata": {},
   "outputs": [],
   "source": [
    "# Load the FASTA file with adjusted headers\n",
    "human_prots_in_HVIDB_data_set_fasta = fasta.FastaFile.read(\n",
    "    \"human_prots_in_HVIDB_VACV_WR_data_set_uniprot_only_header.fasta\"\n",
    ")"
   ]
  },
  {
   "cell_type": "code",
   "execution_count": 13,
   "id": "1cb15eba",
   "metadata": {},
   "outputs": [],
   "source": [
    "# In addition to nucleolus proteins, peroxisome proteins are also good\n",
    "# candidates for negative human interaction partners\n",
    "# Thus, peroxisome proteins are subjected to the same procedure as\n",
    "# nucleolus proteins\n",
    "# In detail, on the UniProt website, a search is conducted with the\n",
    "# following settings: Organism [OS] 9606 AND subcellular location term\n",
    "# Peroxisome [SL-0204]\n",
    "# The search results are downloaded both as XML file and FASTA file;\n",
    "# regarding the FASTA file, only canonical protein sequences are\n",
    "# downloaded, i.e. no isoforms (\"FASTA (canonical)\" is chosen as\n",
    "# \"Format\" option); the search has been conducted on 23rd June 2025\n",
    "\n",
    "# Here, a different filtering rationale is being applied: The individual\n",
    "# proteins as well as their isoforms are allowed to contain multiple\n",
    "# subcellular locations, but each subcellular location must contain the\n",
    "# term \"Peroxisome\"\n",
    "\n",
    "# Load the XML file\n",
    "path_to_peroxisome_xml = (\n",
    "    \"/Users/jacobanter/Documents/Code/VACV_screen/HVIDB_pos_instances_\"\n",
    "    \"with_nucleolus_neg_instances/new_combined_data_set_creation/\"\n",
    "    \"uniprotkb_organism_id_9606_AND_cc_scl_t_0204_peroxisome_2025_\"\n",
    "    \"06_23.xml\"\n",
    ")\n",
    "\n",
    "peroxisome_tree = ET.parse(path_to_peroxisome_xml)\n",
    "peroxisome_root = peroxisome_tree.getroot()"
   ]
  },
  {
   "cell_type": "code",
   "execution_count": 14,
   "id": "505a9359",
   "metadata": {},
   "outputs": [],
   "source": [
    "uniprot_accs_only_in_peroxisome = []\n",
    "\n",
    "for entry in peroxisome_root.iterfind(\"./{http://uniprot.org/uniprot}entry\"):\n",
    "    # Some entries have multiple `accession` tags, only the first of\n",
    "    # which is of interest\n",
    "    # Conveniently enough, the `find()` method finds the first child\n",
    "    # with a particular tag\n",
    "    uniprot_acc = entry.find(\"{http://uniprot.org/uniprot}accession\").text\n",
    "\n",
    "    # Retrieve all subcellular location entries for the protein at hand\n",
    "    scl_entries = entry.findall(\n",
    "        \"{http://uniprot.org/uniprot}comment[@type='subcellular location']/\"\n",
    "        \"{http://uniprot.org/uniprot}subcellularLocation/\"\n",
    "        \"{http://uniprot.org/uniprot}location\"\n",
    "    )\n",
    "\n",
    "    scl_texts = [scl.text for scl in scl_entries]\n",
    "\n",
    "    if all([\n",
    "        \"Peroxisome\" in scl_text for scl_text in scl_texts\n",
    "    ]):\n",
    "        uniprot_accs_only_in_peroxisome.append(uniprot_acc)"
   ]
  },
  {
   "cell_type": "code",
   "execution_count": 15,
   "id": "4b677db4",
   "metadata": {},
   "outputs": [
    {
     "name": "stdout",
     "output_type": "stream",
     "text": [
      "The amount of human proteins occurring exclusively in the peroxisome is 213.\n"
     ]
    }
   ],
   "source": [
    "print(\n",
    "    \"The amount of human proteins occurring exclusively in the \"\n",
    "    f\"peroxisome is {len(uniprot_accs_only_in_peroxisome):,}.\"\n",
    ")"
   ]
  },
  {
   "cell_type": "code",
   "execution_count": 17,
   "id": "1fad9904",
   "metadata": {},
   "outputs": [],
   "source": [
    "# Quickly check whether any of the human proteins involved in reliable\n",
    "# positive PPIs from HVIDB is part of this peroxisome subset\n",
    "assert all([\n",
    "    peroxisome_prot not in human_prots_in_HVIDB_data_set_fasta.keys()\n",
    "    for peroxisome_prot in uniprot_accs_only_in_peroxisome\n",
    "]), (\n",
    "    \"One or more peroxisome proteins indeed are involved in reliable \"\n",
    "    \"positive interactions!\"\n",
    ")"
   ]
  },
  {
   "cell_type": "code",
   "execution_count": 19,
   "id": "d3e2b9a1",
   "metadata": {},
   "outputs": [
    {
     "name": "stdout",
     "output_type": "stream",
     "text": [
      "DataFrame length prior to filtering based on location: 359\n",
      "DataFrame length after filtering based on location: 213\n"
     ]
    }
   ],
   "source": [
    "# Fortunately, no peroxisome proteins are involved in reliable positive\n",
    "# interactions from HVIDB\n",
    "# Now, the procedure is analogous to that of nucleolus proteins, i.e.\n",
    "# the TSV file downloaded from UniProt is filtered to only contain\n",
    "# proteins occurring exclusively in peroxisomes\n",
    "# Subsequently, a second filtering step is applied, removing all\n",
    "# proteins exceeding a length of 1,700 amino acids\n",
    "\n",
    "# Load the TSV file into a Pandas DataFrame; the TSV file has been\n",
    "# downloaded on 24th June 2025\n",
    "path_to_peroxisome_uniprot_tsv = (\n",
    "    \"/Users/jacobanter/Documents/Code/VACV_screen/HVIDB_pos_instances_\"\n",
    "    \"with_nucleolus_neg_instances/new_combined_data_set_creation/\"\n",
    "    \"uniprotkb_organism_id_9606_AND_cc_scl_t_0204_peroxisome_2025_\"\n",
    "    \"06_24.tsv\"\n",
    ")\n",
    "peroxisome_uniprot_df = pd.read_csv(\n",
    "    path_to_peroxisome_uniprot_tsv,\n",
    "    sep=\"\\t\"\n",
    ")\n",
    "\n",
    "print(\n",
    "    \"DataFrame length prior to filtering based on location: \"\n",
    "    f\"{len(peroxisome_uniprot_df):,}\"\n",
    ")\n",
    "\n",
    "peroxisome_uniprot_df = peroxisome_uniprot_df[\n",
    "    peroxisome_uniprot_df[\"Entry\"].isin(uniprot_accs_only_in_peroxisome)\n",
    "]\n",
    "\n",
    "print(\n",
    "    \"DataFrame length after filtering based on location: \"\n",
    "    f\"{len(peroxisome_uniprot_df):,}\"\n",
    ")"
   ]
  },
  {
   "cell_type": "code",
   "execution_count": 20,
   "id": "940c9bcc",
   "metadata": {},
   "outputs": [
    {
     "name": "stdout",
     "output_type": "stream",
     "text": [
      "Amount of peroxisome proteins meeting the length requirement: 212 of 213\n"
     ]
    }
   ],
   "source": [
    "# Perform the length-based filtering\n",
    "n_peroxisome_prots_below_cut_off = (\n",
    "    peroxisome_uniprot_df[\"Length\"] <= 1700\n",
    ").sum()\n",
    "\n",
    "print(\n",
    "    \"Amount of peroxisome proteins meeting the length requirement: \"\n",
    "    f\"{n_peroxisome_prots_below_cut_off} of {len(peroxisome_uniprot_df)}\"\n",
    ")"
   ]
  },
  {
   "cell_type": "code",
   "execution_count": 21,
   "id": "62eb39fe",
   "metadata": {},
   "outputs": [],
   "source": [
    "# Apply this sequence length cut-off and save the filtered DataFrame to\n",
    "# a TSV file\n",
    "peroxisome_uniprot_df = peroxisome_uniprot_df[\n",
    "    peroxisome_uniprot_df[\"Length\"] <= 1700\n",
    "]\n",
    "\n",
    "assert len(peroxisome_uniprot_df) == 212, (\n",
    "    \"Something went wrong while applying the length cut-off!\"\n",
    ")\n",
    "\n",
    "peroxisome_uniprot_df.to_csv(\n",
    "    \"uniprotkb_organism_id_9606_AND_cc_scl_t_0204_peroxisome_2025_06_\"\n",
    "    \"24_exclusively_peroxisome_filtered.tsv\",\n",
    "    sep=\"\\t\",\n",
    "    header=True,\n",
    "    index=False\n",
    ")"
   ]
  },
  {
   "cell_type": "code",
   "execution_count": 7,
   "id": "4d0bdadd",
   "metadata": {},
   "outputs": [],
   "source": [
    "# Load the filtered TSV file into a DataFrame\n",
    "path_to_peroxisome_uniprot_tsv = (\n",
    "    \"/Users/jacobanter/Documents/Code/VACV_screen/HVIDB_pos_instances_\"\n",
    "    \"with_nucleolus_neg_instances/new_combined_data_set_creation/\"\n",
    "    \"uniprotkb_organism_id_9606_AND_cc_scl_t_0204_peroxisome_2025_06_\"\n",
    "    \"24_exclusively_peroxisome_filtered.tsv\"\n",
    ")\n",
    "peroxisome_uniprot_df = pd.read_csv(\n",
    "    path_to_peroxisome_uniprot_tsv,\n",
    "    sep=\"\\t\"\n",
    ")"
   ]
  },
  {
   "cell_type": "code",
   "execution_count": 23,
   "id": "500aa274",
   "metadata": {},
   "outputs": [],
   "source": [
    "# The FASTA file of the peroxisome proteins has been downloaded on 23rd\n",
    "# June 2025 as \"FASTA (canonical)\"\n",
    "# Load the FASTA file into a FASTA file object and adjust the headers\n",
    "# such that they exclusovely contain the UniProt accessions\n",
    "path_to_peroxisome_fasta = (\n",
    "    \"/Users/jacobanter/Documents/Code/VACV_screen/HVIDB_pos_instances_\"\n",
    "    \"with_nucleolus_neg_instances/new_combined_data_set_creation/\"\n",
    "    \"uniprotkb_organism_id_9606_AND_cc_scl_t_0204_peroxisome_2025_06_\"\n",
    "    \"23.fasta\"\n",
    ")\n",
    "\n",
    "peroxisome_fasta = fasta.FastaFile.read(path_to_peroxisome_fasta)\n",
    "\n",
    "peroxisome_fasta_uniprot_only_header = fasta.FastaFile()\n",
    "\n",
    "for header, seq in peroxisome_fasta.items():\n",
    "    uniprot_only_header = header.split(\"|\")[1]\n",
    "    peroxisome_fasta_uniprot_only_header[uniprot_only_header] = seq\n",
    "\n",
    "peroxisome_fasta_uniprot_only_header.write(\n",
    "    \"uniprotkb_organism_id_9606_AND_cc_scl_t_0204_peroxisome_2025_06_23\"\n",
    "    \"_uniprot_only_header.fasta\"\n",
    ")"
   ]
  },
  {
   "cell_type": "code",
   "execution_count": 8,
   "id": "4de24902",
   "metadata": {},
   "outputs": [],
   "source": [
    "# Load the FASTA file with adjusted headers\n",
    "peroxisome_fasta = fasta.FastaFile.read(\n",
    "    \"uniprotkb_organism_id_9606_AND_cc_scl_t_0204_peroxisome_2025_06_\"\n",
    "    \"23_uniprot_only_header.fasta\"\n",
    ")"
   ]
  },
  {
   "cell_type": "code",
   "execution_count": null,
   "id": "951533a1",
   "metadata": {},
   "outputs": [],
   "source": [
    "# Now that eligible human proteins for the negative PPI instances have\n",
    "# been determined, the VACV WR proteins are turned to\n",
    "# All VACV WR proteins available on UniProt are downloaded both as FASTA\n",
    "# and TSV file on 19th June 2025\n",
    "# In total, there are 440 VACV WR proteins\n",
    "# Regarding the FASTA file, only canonical protein sequences are\n",
    "# downloaded, i.e. no isoforms (\"FASTA (canonical)\" is chosen as\n",
    "# \"Format\" option)\n",
    "# Load the FASTA file and modify the headers such that it only contains\n",
    "# the UniProt accessions\n",
    "path_to_VACV_WR_fasta = (\n",
    "    \"uniprotkb_organism_id_10254_2025_06_19_all_VACV_WR_prots.fasta\"\n",
    ")\n",
    "\n",
    "all_VACV_WR_prots_fasta = fasta.FastaFile.read(path_to_VACV_WR_fasta)\n",
    "\n",
    "all_VACV_WR_prots_uniprot_only_header_fasta = fasta.FastaFile()\n",
    "\n",
    "for header, seq in all_VACV_WR_prots_fasta.items():\n",
    "    uniprot_only_header = header.split(\"|\")[1]\n",
    "\n",
    "    all_VACV_WR_prots_uniprot_only_header_fasta[uniprot_only_header] = (\n",
    "        seq\n",
    "    )\n",
    "\n",
    "all_VACV_WR_prots_uniprot_only_header_fasta.write(\n",
    "    \"uniprotkb_organism_id_10254_2025_06_19_all_VACV_WR_prots_\"\n",
    "    \"uniprot_only_header.fasta\"\n",
    ")"
   ]
  },
  {
   "cell_type": "code",
   "execution_count": 9,
   "id": "0dff985e",
   "metadata": {},
   "outputs": [],
   "source": [
    "# Load the FASTA file with adjusted headers\n",
    "path_to_VACV_WR_fasta = (\n",
    "    \"uniprotkb_organism_id_10254_2025_06_19_all_VACV_WR_prots_uniprot_\"\n",
    "    \"only_header.fasta\"\n",
    ")\n",
    "\n",
    "all_VACV_WR_prots_fasta = fasta.FastaFile.read(path_to_VACV_WR_fasta)"
   ]
  },
  {
   "cell_type": "code",
   "execution_count": 26,
   "id": "6b73f397",
   "metadata": {},
   "outputs": [],
   "source": [
    "# Quickly verify that all VACV WR proteins involved in positive\n",
    "# interactions are covered by the VACV WR FASTA file\n",
    "# To this end, the interaction file has to be loaded\n",
    "import numpy as np\n",
    "\n",
    "uniprot_accs_in_VACV_WR_fasta = list(all_VACV_WR_prots_fasta.keys())\n",
    "\n",
    "path_to_pos_ints = \"all_HVIDB_VACV_WR_interactions.csv\"\n",
    "\n",
    "pos_VACV_WR_ints_df = pd.read_csv(\n",
    "    path_to_pos_ints\n",
    ")\n",
    "\n",
    "# Extract the UniProt IDs of VACV WR proteins\n",
    "interaction_pairs = pos_VACV_WR_ints_df[\"Human-virus PPI\"]\n",
    "\n",
    "VACV_WR_in_pos_ints_uniprot_accs = np.unique([\n",
    "    int_pair.split(\"-\")[1]\n",
    "    for int_pair in interaction_pairs\n",
    "])\n",
    "\n",
    "assert all([\n",
    "    VACV_WR_uniprot_acc in uniprot_accs_in_VACV_WR_fasta\n",
    "    for VACV_WR_uniprot_acc in VACV_WR_in_pos_ints_uniprot_accs\n",
    "]), (\n",
    "    \"Not all VACV WR proteins involved in reliable positive \"\n",
    "    \"interactions are covered by the FASTA file!\"\n",
    ")"
   ]
  },
  {
   "cell_type": "code",
   "execution_count": 27,
   "id": "26d7308b",
   "metadata": {},
   "outputs": [
    {
     "name": "stdout",
     "output_type": "stream",
     "text": [
      "Amount of VACV WR proteins meeting length requirement: 440 out of 440\n"
     ]
    }
   ],
   "source": [
    "# Investigate whether imposing a length cut-off reduces the amount of\n",
    "# eligible VACV WR proteins\n",
    "path_to_VACV_WR_tsv = (\n",
    "    \"uniprotkb_organism_id_10254_2025_06_19_all_VACV_WR_prots.tsv\"\n",
    ")\n",
    "all_VACV_WR_prots_df = pd.read_csv(\n",
    "    path_to_VACV_WR_tsv,\n",
    "    sep=\"\\t\"\n",
    ")\n",
    "\n",
    "n_VACV_WR_prots_below_cut_off = (\n",
    "    all_VACV_WR_prots_df[\"Length\"] <= 1700\n",
    ").sum()\n",
    "\n",
    "print(\n",
    "    \"Amount of VACV WR proteins meeting length requirement: \"\n",
    "    f\"{n_VACV_WR_prots_below_cut_off} out of {len(all_VACV_WR_prots_df)}\"\n",
    ")"
   ]
  },
  {
   "cell_type": "code",
   "execution_count": 11,
   "id": "042dcfe3",
   "metadata": {},
   "outputs": [],
   "source": [
    "# A FASTA file is generated encompassing all protein classes, i.e. VACV \n",
    "# WR proteins, human nucleolus proteins as well as human proteins\n",
    "# involved in reliable positive interactions\n",
    "# Human peroxisome proteins are not included as the amount of eligible\n",
    "# nucleolus proteins already suffices\n",
    "VACV_WR_pos_human_and_human_nucleolus_prots_fasta = fasta.FastaFile()\n",
    "\n",
    "# First, add the VACV WR proteins\n",
    "for header, seq in all_VACV_WR_prots_fasta.items():\n",
    "    VACV_WR_pos_human_and_human_nucleolus_prots_fasta[\n",
    "        header\n",
    "    ] = seq\n",
    "\n",
    "# As a next step, add the human proteins involved in reliable positive\n",
    "# interactions\n",
    "for header, seq in human_prots_in_HVIDB_data_set_fasta.items():\n",
    "    VACV_WR_pos_human_and_human_nucleolus_prots_fasta[\n",
    "        header\n",
    "    ] = seq\n",
    "\n",
    "# # In the penultimate step, all human peroxisome proteins meeting the\n",
    "# # length requirement are added\n",
    "# for header, seq in peroxisome_fasta.items():\n",
    "#     if header in peroxisome_uniprot_df[\"Entry\"].values:\n",
    "#         VACV_WR_pos_human_and_human_nucleolus_prots_fasta[\n",
    "#             header\n",
    "#         ] = seq\n",
    "\n",
    "# Finally, add all human nucleolus proteins meeting the length\n",
    "# requirement\n",
    "for header, seq in nucleolus_fasta.items():\n",
    "    if header in nucleolus_uniprot_df[\"Entry\"].values:\n",
    "        VACV_WR_pos_human_and_human_nucleolus_prots_fasta[\n",
    "            header\n",
    "        ] = seq\n",
    "\n",
    "# As a sanity check, verify that the newly created FASTA file\n",
    "# encompasses the expected amount of entries\n",
    "expected_n_entries = (\n",
    "    len(all_VACV_WR_prots_fasta)\n",
    "    +\n",
    "    len(human_prots_in_HVIDB_data_set_fasta)\n",
    "    +\n",
    "    # len(peroxisome_uniprot_df)\n",
    "    # +\n",
    "    len(nucleolus_uniprot_df)\n",
    ")\n",
    "\n",
    "assert (\n",
    "    len(VACV_WR_pos_human_and_human_nucleolus_prots_fasta)\n",
    "    ==\n",
    "    expected_n_entries\n",
    "), (\n",
    "    \"The newly created FASTA file does not encompass the expected \"\n",
    "    \"amount of entries!\"\n",
    ")\n",
    "\n",
    "# Save the FASTA file to disk\n",
    "# VACV_WR_pos_human_and_human_nucleolus_prots_fasta.write(\n",
    "#     \"VACV_WR_prots_pos_human_prots_human_peroxisome_prots_and_human_\"\n",
    "#     \"nucleolus_prots_max_length_1700_AAs.fasta\"\n",
    "# )\n",
    "VACV_WR_pos_human_and_human_nucleolus_prots_fasta.write(\n",
    "    \"VACV_WR_prots_pos_human_prots_and_human_nucleolus_prots_max_\"\n",
    "    \"length_1700_AAs.fasta\"\n",
    ")"
   ]
  },
  {
   "cell_type": "code",
   "execution_count": null,
   "id": "2cf0372f",
   "metadata": {},
   "outputs": [],
   "source": []
  }
 ],
 "metadata": {
  "kernelspec": {
   "display_name": "bioinformatics",
   "language": "python",
   "name": "python3"
  },
  "language_info": {
   "codemirror_mode": {
    "name": "ipython",
    "version": 3
   },
   "file_extension": ".py",
   "mimetype": "text/x-python",
   "name": "python",
   "nbconvert_exporter": "python",
   "pygments_lexer": "ipython3",
   "version": "3.10.8"
  }
 },
 "nbformat": 4,
 "nbformat_minor": 5
}
