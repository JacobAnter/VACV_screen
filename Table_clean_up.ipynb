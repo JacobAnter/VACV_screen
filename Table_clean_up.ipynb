{
 "cells": [
  {
   "cell_type": "code",
   "execution_count": 2,
   "metadata": {},
   "outputs": [],
   "source": [
    "# Import required libraries\n",
    "import csv\n",
    "\n",
    "import numpy as np\n",
    "import pandas as pd\n",
    "import dask.dataframe as dd"
   ]
  },
  {
   "cell_type": "code",
   "execution_count": 3,
   "metadata": {},
   "outputs": [],
   "source": [
    "# Multiple columns comprised in the TSV file contain entries with mixed\n",
    "# data types, which impedes the processing by Dask or Pandas\n",
    "# Hence, contents of the respective columns are standardised to only one\n",
    "# data type\n",
    "# Affected columns are:\n",
    "# Concentration,\n",
    "# Ensembl_ID_OnTarget_Ensembl_GRCh38_release_87,\n",
    "# Ensembl_ID_OnTarget_NCBI_HeLa_phs000643_v3_p1_c1_HMB,\n",
    "# Gene_Description,\n",
    "# ID,\n",
    "# ID_OnTarget_Ensembl_GRCh38_release_87,\n",
    "# ID_OnTarget_Merge,\n",
    "# ID_OnTarget_NCBI_HeLa_phs000643_v3_p1_c1_HMB,\n",
    "# ID_OnTarget_RefSeq_20170215,\n",
    "# ID_manufacturer,\n",
    "# Name_alternatives,\n",
    "# PLATE_QUALITY_DESCRIPTION,\n",
    "# RefSeq_ID_OnTarget_RefSeq_20170215,\n",
    "# Seed_sequence_common,\n",
    "# WELL_QUALITY_DESCRIPTION,\n",
    "# siRNA_error,\n",
    "# siRNA_number\n",
    "feature_list = [\n",
    "    \"Concentration\", \"Ensembl_ID_OnTarget_Ensembl_GRCh38_release_87\",\n",
    "    \"Ensembl_ID_OnTarget_NCBI_HeLa_phs000643_v3_p1_c1_HMB\",\n",
    "    \"Gene_Description\", \"ID\", \"ID_OnTarget_Ensembl_GRCh38_release_87\",\n",
    "    \"ID_OnTarget_Merge\", \"ID_OnTarget_NCBI_HeLa_phs000643_v3_p1_c1_HMB\",\n",
    "    \"ID_OnTarget_RefSeq_20170215\", \"ID_manufacturer\",\n",
    "    \"Name_alternatives\", \"PLATE_QUALITY_DESCRIPTION\",\n",
    "    \"RefSeq_ID_OnTarget_RefSeq_20170215\", \"Seed_sequence_common\",\n",
    "    \"WELL_QUALITY_DESCRIPTION\", \"siRNA_error\", \"siRNA_number\",\n",
    "]\n",
    "\n",
    "# Creating empty lists to store the respective column contents in\n",
    "column_lists = [[] for _ in range(17)]\n",
    "\n",
    "# Bear in mind that with statements automatically take care of closing\n",
    "# files\n",
    "file_path = \"VacciniaReport_20170223-0958_ZScored.csv\"\n",
    "with open(file_path) as f:\n",
    "    # Conveniently enough, the TSV file can be read into a dictionary\n",
    "    # This allows to retrieve the contents of individual columns by\n",
    "    # passing the column name as dictionary key\n",
    "    csv_reader = csv.DictReader(f, delimiter=\"\\t\")\n",
    "\n",
    "    # Iterate over the rows and append the values to the lists\n",
    "    for row in csv_reader:\n",
    "        for i, feature in enumerate(feature_list):\n",
    "            column_lists[i].append(row[feature])"
   ]
  },
  {
   "cell_type": "code",
   "execution_count": 4,
   "metadata": {},
   "outputs": [],
   "source": [
    "# Save the unique values of the affected columns to a file\n",
    "# Bear in mind that with statements are preferred for the purpose of\n",
    "# opening files as they automatically take care of closing it\n",
    "with open(\"unique_values_per_feature.txt\", \"w\") as f:\n",
    "    for i, content in enumerate(column_lists):\n",
    "        if i != 0:\n",
    "            f.write(\n",
    "                \"\\n\\n\" + feature_list[i] + \":\\n\"\n",
    "                +\n",
    "                # Converting the NumPy array to an ordinary list ensures\n",
    "                # that all its entries are displayed\n",
    "                str(list(np.unique(content)))\n",
    "            )\n",
    "        else:\n",
    "            f.write(\n",
    "                feature_list[i] + \":\\n\"\n",
    "                +\n",
    "                str(list(np.unique(content)))\n",
    "            )"
   ]
  },
  {
   "cell_type": "code",
   "execution_count": 11,
   "metadata": {},
   "outputs": [],
   "source": [
    "# Each feature/column is dealt with one at a time\n",
    "# With respect to the feature \"Concentration\", it emerges that the\n",
    "# entries contain both floats and strings, the latter of which\n",
    "# represents the concentration unit, in this case \"pmol\"\n",
    "# Therefore, the string representing the concentration unit is\n",
    "# discarded whereas the float is retained\n",
    "concentration_list = column_lists[0]\n",
    "\n",
    "concentration_list = [\n",
    "    entry.split(\" \")[0] if entry != \"\"\n",
    "    else np.nan for entry in concentration_list\n",
    "]\n",
    "\n",
    "assert list(np.unique(concentration_list)) == [\"0.4\", \"1.6\", \"nan\"]"
   ]
  },
  {
   "cell_type": "code",
   "execution_count": 3,
   "metadata": {},
   "outputs": [
    {
     "name": "stdout",
     "output_type": "stream",
     "text": [
      "[' ' 'A' 'C' 'G' 'U']\n"
     ]
    }
   ],
   "source": [
    "# With respect to the feature \"ID\", it becomes apparent that its entries\n",
    "# are comprised of both digits and letters/alphabetic characters\n",
    "# Hence, the data type of the respective column will later be manually\n",
    "# set to `str`\n",
    "# The same applies to ID_manufacturer, Name_alternatives and\n",
    "# WELL_QUALITY_DESCRIPTION\n",
    "# Regarding the feature \"Seed_sequence_common\", only the four RNA\n",
    "# nucleotides A, C, G and U as well as a single space character occur\n",
    "# However, for some strange reason, Pandas expects the entries to be\n",
    "# floats\n",
    "# Thus, manually setting the data type to `str` is also required for\n",
    "# this column\n",
    "seed_sequence_common_list = column_lists[4]\n",
    "single_char_list = []\n",
    "\n",
    "for i, entry in enumerate(seed_sequence_common_list):\n",
    "    single_char_list += [*entry]\n",
    "\n",
    "print(np.unique(single_char_list))"
   ]
  },
  {
   "cell_type": "code",
   "execution_count": 15,
   "metadata": {},
   "outputs": [
    {
     "ename": "TypeError",
     "evalue": "list.append() takes exactly one argument (3 given)",
     "output_type": "error",
     "traceback": [
      "\u001b[0;31m---------------------------------------------------------------------------\u001b[0m",
      "\u001b[0;31mTypeError\u001b[0m                                 Traceback (most recent call last)",
      "Cell \u001b[0;32mIn[15], line 4\u001b[0m\n\u001b[1;32m      1\u001b[0m cool_list \u001b[38;5;241m=\u001b[39m [\u001b[38;5;124m\"\u001b[39m\u001b[38;5;124mDeine Mudda\u001b[39m\u001b[38;5;124m\"\u001b[39m, \u001b[38;5;124m\"\u001b[39m\u001b[38;5;124mHalt\u001b[39m\u001b[38;5;124m'\u001b[39m\u001b[38;5;124ms Maul\u001b[39m\u001b[38;5;124m\"\u001b[39m, \u001b[38;5;124m\"\u001b[39m\u001b[38;5;124mFuck off\u001b[39m\u001b[38;5;124m\"\u001b[39m]\n\u001b[1;32m      3\u001b[0m cooler_list \u001b[38;5;241m=\u001b[39m []\n\u001b[0;32m----> 4\u001b[0m \u001b[43mcooler_list\u001b[49m\u001b[38;5;241;43m.\u001b[39;49m\u001b[43mappend\u001b[49m\u001b[43m(\u001b[49m\u001b[38;5;241;43m*\u001b[39;49m\u001b[43mcool_list\u001b[49m\u001b[43m)\u001b[49m\n\u001b[1;32m      5\u001b[0m \u001b[38;5;28mprint\u001b[39m(cooler_list)\n",
      "\u001b[0;31mTypeError\u001b[0m: list.append() takes exactly one argument (3 given)"
     ]
    }
   ],
   "source": []
  },
  {
   "cell_type": "code",
   "execution_count": null,
   "metadata": {},
   "outputs": [],
   "source": []
  }
 ],
 "metadata": {
  "kernelspec": {
   "display_name": "bioinformatics",
   "language": "python",
   "name": "python3"
  },
  "language_info": {
   "codemirror_mode": {
    "name": "ipython",
    "version": 3
   },
   "file_extension": ".py",
   "mimetype": "text/x-python",
   "name": "python",
   "nbconvert_exporter": "python",
   "pygments_lexer": "ipython3",
   "version": "3.10.8"
  }
 },
 "nbformat": 4,
 "nbformat_minor": 2
}
