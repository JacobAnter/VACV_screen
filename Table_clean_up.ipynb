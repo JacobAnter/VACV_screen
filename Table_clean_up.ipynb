{
 "cells": [
  {
   "cell_type": "code",
   "execution_count": 11,
   "metadata": {},
   "outputs": [],
   "source": [
    "# Import required libraries\n",
    "import csv\n",
    "\n",
    "import numpy as np"
   ]
  },
  {
   "cell_type": "code",
   "execution_count": 12,
   "metadata": {},
   "outputs": [],
   "source": [
    "# Multiple columns comprised in the TSV file contain entries with mixed\n",
    "# data types, which impedes the processing by Dask or Pandas\n",
    "# Hence, contents of the respective columns are standardised to only one\n",
    "# data type\n",
    "# Affected columns are: Concentration, ID, ID_manufacturer,\n",
    "# Name_alternatives, Seed_sequence_common, WELL_QUALITY_DESCRIPTION,\n",
    "# dArea_oCells, dArea_oCells_nZScore, dArea_oNuclei_nZScore,\n",
    "# dArea_oPeriNuclei_nZScore, dArea_oVoronoiCells_nZScore,\n",
    "# dInfectionDT_dLateInfected_eCount_nZScore,\n",
    "# dInfectionDT_dLateInfected_eIndex_nZScore,\n",
    "# dInfectionDT_eCount_nZScore, dInfectionDT_eIndex_nZScore,\n",
    "# dIntensity_cLatePathogen_eMean_oCells_nZScore,\n",
    "# dIntensity_cLatePathogen_eMean_oNuclei_nZScore,\n",
    "# dIntensity_cLatePathogen_eMean_oPeriNuclei_nZScore,\n",
    "# dIntensity_cLatePathogen_eMean_oVoronoiCells_nZScore,\n",
    "# dIntensity_cPathogen_eMean_oCells_nZScore,\n",
    "# dIntensity_cPathogen_eMean_oNuclei_nZScore,\n",
    "# dIntensity_cPathogen_eMean_oPeriNuclei_nZScore,\n",
    "# dIntensity_cPathogen_eMean_oVoronoiCells_nZScore,\n",
    "# eCount_oCells_nZScore, siRNA_error, siRNA_number\n",
    "feature_list = [\n",
    "    \"Concentration\", \"ID\", \"ID_manufacturer\", \"Name_alternatives\",\n",
    "    \"Seed_sequence_common\", \"WELL_QUALITY_DESCRIPTION\", \"dArea_oCells\",\n",
    "    \"dArea_oCells_nZScore\", \"dArea_oNuclei_nZScore\",\n",
    "    \"dArea_oPeriNuclei_nZScore\", \"dArea_oVoronoiCells_nZScore\",\n",
    "    \"dInfectionDT_dLateInfected_eCount_nZScore\",\n",
    "    \"dInfectionDT_dLateInfected_eIndex_nZScore\",\n",
    "    \"dInfectionDT_eCount_nZScore\", \"dInfectionDT_eIndex_nZScore\",\n",
    "    \"dIntensity_cLatePathogen_eMean_oCells_nZScore\",\n",
    "    \"dIntensity_cLatePathogen_eMean_oNuclei_nZScore\",\n",
    "    \"dIntensity_cLatePathogen_eMean_oPeriNuclei_nZScore\",\n",
    "    \"dIntensity_cLatePathogen_eMean_oVoronoiCells_nZScore\",\n",
    "    \"dIntensity_cPathogen_eMean_oCells_nZScore\",\n",
    "    \"dIntensity_cPathogen_eMean_oNuclei_nZScore\",\n",
    "    \"dIntensity_cPathogen_eMean_oPeriNuclei_nZScore\",\n",
    "    \"dIntensity_cPathogen_eMean_oVoronoiCells_nZScore\",\n",
    "    \"eCount_oCells_nZScore\", \"siRNA_error\", \"siRNA_number\",\n",
    "]\n",
    "\n",
    "# Creating empty lists to store the respective column contents in\n",
    "column_lists = [[] for _ in range(26)]\n",
    "\n",
    "# Bear in mind that with statements automatically take care of closing\n",
    "# files\n",
    "file_path = \"VacciniaReport_20170223-0958_ZScored.tsv\"\n",
    "with open(file_path) as f:\n",
    "    # Conveniently enough, the TSV file can be read into a dictionary\n",
    "    # This allows to retrieve the contents of individual columns by\n",
    "    # passing the column name as dictionary key\n",
    "    csv_reader = csv.DictReader(f, delimiter=\"\\t\")\n",
    "\n",
    "    # Iterate over the rows and append the values to the lists\n",
    "    for column in csv_reader:\n",
    "        for i, feature in enumerate(feature_list):\n",
    "            column_lists[i].append(column[feature])"
   ]
  },
  {
   "cell_type": "code",
   "execution_count": 13,
   "metadata": {},
   "outputs": [
    {
     "name": "stdout",
     "output_type": "stream",
     "text": [
      "['' '0.4 pmol' '1.6 pmol']\n"
     ]
    }
   ],
   "source": [
    "print(np.unique(column_lists[0]))"
   ]
  },
  {
   "cell_type": "code",
   "execution_count": 8,
   "metadata": {},
   "outputs": [
    {
     "ename": "IndentationError",
     "evalue": "unexpected indent (1033521487.py, line 5)",
     "output_type": "error",
     "traceback": [
      "\u001b[0;36m  Cell \u001b[0;32mIn[8], line 5\u001b[0;36m\u001b[0m\n\u001b[0;31m    csv_reader = csv.DictReader(file_path, delimiter=\"\\t\")\u001b[0m\n\u001b[0m    ^\u001b[0m\n\u001b[0;31mIndentationError\u001b[0m\u001b[0;31m:\u001b[0m unexpected indent\n"
     ]
    }
   ],
   "source": [
    "exit()\n",
    "    # Conveniently enough, the TSV file can be read into a dictionary\n",
    "    # This allows to retrieve the contents of individual columns by\n",
    "    # passing the column name as dictionary key\n",
    "    csv_reader = csv.DictReader(file_path, delimiter=\"\\t\")\n",
    "\n",
    "    # Iterate over the rows and append the values to the lists\n",
    "    for column in csv_reader:\n",
    "        print(column.keys())\n",
    "        print(column[\"V\"])\n",
    "        print()\n",
    "        #for i, feature in enumerate(feature_list):\n",
    "            #column_lists[i].append(column[feature])"
   ]
  }
 ],
 "metadata": {
  "kernelspec": {
   "display_name": "bioinformatics",
   "language": "python",
   "name": "python3"
  },
  "language_info": {
   "codemirror_mode": {
    "name": "ipython",
    "version": 3
   },
   "file_extension": ".py",
   "mimetype": "text/x-python",
   "name": "python",
   "nbconvert_exporter": "python",
   "pygments_lexer": "ipython3",
   "version": "3.10.8"
  }
 },
 "nbformat": 4,
 "nbformat_minor": 2
}
