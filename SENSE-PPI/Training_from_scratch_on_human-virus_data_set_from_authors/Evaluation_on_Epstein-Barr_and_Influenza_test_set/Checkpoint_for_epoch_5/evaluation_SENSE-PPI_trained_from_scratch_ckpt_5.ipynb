{
 "cells": [
  {
   "cell_type": "code",
   "execution_count": 1,
   "id": "76ea8d4c",
   "metadata": {},
   "outputs": [
    {
     "data": {
      "text/plain": [
       "'\\nThe purpose of this Jupyter notebook is to evaluate the performance of\\ncheckpoint 5 of SENSE-PPI trained from scratch on the two test sets\\nemployed by the authors.\\n'"
      ]
     },
     "execution_count": 1,
     "metadata": {},
     "output_type": "execute_result"
    }
   ],
   "source": [
    "\"\"\"\n",
    "The purpose of this Jupyter notebook is to evaluate the performance of\n",
    "checkpoint 5 of SENSE-PPI trained from scratch on the two test sets\n",
    "employed by the authors.\n",
    "\"\"\""
   ]
  },
  {
   "cell_type": "code",
   "execution_count": 2,
   "id": "5b9e670e",
   "metadata": {},
   "outputs": [],
   "source": [
    "import os\n",
    "\n",
    "import sys\n",
    "sys.path.append(\n",
    "    \"/Users/jacobanter/Documents/Code/VACV_screen/HVIDB_pos_\"\n",
    "    \"instances_with_nucleolus_neg_instances/Results\"\n",
    ")"
   ]
  },
  {
   "cell_type": "code",
   "execution_count": 3,
   "id": "72773b11",
   "metadata": {},
   "outputs": [],
   "source": [
    "import pandas as pd\n",
    "\n",
    "import evaluation_utils"
   ]
  },
  {
   "cell_type": "code",
   "execution_count": 4,
   "id": "1adaf78f",
   "metadata": {},
   "outputs": [],
   "source": [
    "# When three columns are provided in the input TSV file, i.e. the TSV\n",
    "# file harbouring PPI pairs to predict, SENSE-PPI interprets the third\n",
    "# column as `label` column and adopts the ground truth labels rather\n",
    "# than determining predicted labels based on the probability\n",
    "# Therefore, the `label` column has to be removed from the TSV files\n",
    "# and replaced with labels based on the predicted probabilities\n",
    "\n",
    "# Iterate over the results TSV files and remove the `label` column\n",
    "results_files = os.listdir(\"Results\")\n",
    "\n",
    "for result_file in results_files:\n",
    "    file_path = os.path.join(\"Results\", result_file)\n",
    "    current_df = pd.read_csv(file_path, sep=\"\\t\")\n",
    "    current_df.drop(labels=\"label\", axis=1, inplace=True)\n",
    "    current_df.to_csv(\n",
    "        file_path, sep=\"\\t\", index=False\n",
    "    )"
   ]
  },
  {
   "cell_type": "code",
   "execution_count": 5,
   "id": "48c48902",
   "metadata": {},
   "outputs": [],
   "source": [
    "# In a subsequent step, a new `label` column is introduced in each of\n",
    "# the TSV files with labels based on the predicted probability\n",
    "for result_file in results_files:\n",
    "    file_path = os.path.join(\"Results\", result_file)\n",
    "\n",
    "    evaluation_utils.add_labels_based_on_probs(\n",
    "        path_tsv_files=file_path,\n",
    "        pred_col_name=\"preds\",\n",
    "        n_fold=1\n",
    "    )"
   ]
  },
  {
   "cell_type": "code",
   "execution_count": 4,
   "id": "8ccfc1cc",
   "metadata": {},
   "outputs": [
    {
     "name": "stderr",
     "output_type": "stream",
     "text": [
      "/Users/jacobanter/Documents/Code/VACV_screen/HVIDB_pos_instances_with_nucleolus_neg_instances/Results/evaluation_utils.py:299: RuntimeWarning: invalid value encountered in long_scalars\n",
      "  precision = cm[1,1] / (cm[1,1] + cm[0,1])\n"
     ]
    },
    {
     "name": "stdout",
     "output_type": "stream",
     "text": [
      "Using 1-fold cross-validation, the metrics for SENSE-PPI from scratch on Epstein-Barr test set are as follows:\n",
      "Accuracy:      0.9090909090909091 ± 0.0\n",
      "Precision:     nan ± nan\n",
      "Recall:        0.0 ± 0.0\n",
      "F1-score:      0.0 ± 0.0\n",
      "Specificity:   1.0 ± 0.0\n",
      "MCC:           0.0 ± 0.0\n",
      "ROC AUC score: 0.8780243158284025 ± 0.0\n",
      "AUPRC score    0.3038223878591052 ± 0.0\n",
      "Using 1-fold cross-validation, the metrics for SENSE-PPI from scratch on Influenza test set are as follows:\n",
      "Accuracy:      0.9090909090909091 ± 0.0\n",
      "Precision:     nan ± nan\n",
      "Recall:        0.0 ± 0.0\n",
      "F1-score:      0.0 ± 0.0\n",
      "Specificity:   1.0 ± 0.0\n",
      "MCC:           0.0 ± 0.0\n",
      "ROC AUC score: 0.7980379696722136 ± 0.0\n",
      "AUPRC score    0.2698852224646688 ± 0.0\n"
     ]
    },
    {
     "name": "stderr",
     "output_type": "stream",
     "text": [
      "/Users/jacobanter/Documents/Code/VACV_screen/HVIDB_pos_instances_with_nucleolus_neg_instances/Results/evaluation_utils.py:299: RuntimeWarning: invalid value encountered in long_scalars\n",
      "  precision = cm[1,1] / (cm[1,1] + cm[0,1])\n"
     ]
    }
   ],
   "source": [
    "ground_truth_paths = [\n",
    "    \"/Users/jacobanter/Documents/Code/VACV_screen/HVIDB_pos_instances_\"\\\n",
    "    \"with_nucleolus_neg_instances/Fine-tuning/SENSE-PPI/Fine-tuning_\"\\\n",
    "    \"without_freezing/evaluation_on_authors'_test_data_set/human-\"\\\n",
    "    \"virus_test_data_set/hv_test_Epstein_c2_with_header.tsv\",\n",
    "    \"/Users/jacobanter/Documents/Code/VACV_screen/HVIDB_pos_instances_\"\\\n",
    "    \"with_nucleolus_neg_instances/Fine-tuning/SENSE-PPI/Fine-tuning_\"\\\n",
    "    \"without_freezing/evaluation_on_authors'_test_data_set/human-\"\\\n",
    "    \"virus_test_data_set/hv_test_Influenza_c2_with_header.tsv\"\n",
    "]\n",
    "\n",
    "test_data_set_name = [\"Epstein-Barr\", \"Influenza\"]\n",
    "\n",
    "# Filter out results files harbouring only positive interactions\n",
    "results_files = [\n",
    "    \"predictions_Epstein-Barr_virus.tsv\",\n",
    "    \"predictions_Influenza_virus.tsv\"\n",
    "]\n",
    "\n",
    "for i, result_file in enumerate(results_files):\n",
    "    file_path = os.path.join(\"Results\", result_file)\n",
    "\n",
    "    evaluation_utils.evaluation_k_fold_cross_val(\n",
    "        ground_truth_path=ground_truth_paths[i],\n",
    "        splits_path=file_path,\n",
    "        n_fold=1,\n",
    "        probability_key=\"preds\",\n",
    "        model_name=\"SENSE-PPI from scratch on \"\\\n",
    "            f\"{test_data_set_name[i]} test set\",\n",
    "        output_path=\"results_SENSE-PPI_from_scratch_performance_\"\\\n",
    "            f\"on_{test_data_set_name[i]}_test_set.txt\"\n",
    "    )"
   ]
  },
  {
   "cell_type": "code",
   "execution_count": null,
   "id": "363562e9",
   "metadata": {},
   "outputs": [],
   "source": []
  }
 ],
 "metadata": {
  "kernelspec": {
   "display_name": "bioinformatics",
   "language": "python",
   "name": "python3"
  },
  "language_info": {
   "codemirror_mode": {
    "name": "ipython",
    "version": 3
   },
   "file_extension": ".py",
   "mimetype": "text/x-python",
   "name": "python",
   "nbconvert_exporter": "python",
   "pygments_lexer": "ipython3",
   "version": "3.10.8"
  }
 },
 "nbformat": 4,
 "nbformat_minor": 5
}
