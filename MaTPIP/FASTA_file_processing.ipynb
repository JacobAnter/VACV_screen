{
 "cells": [
  {
   "cell_type": "code",
   "execution_count": null,
   "metadata": {},
   "outputs": [
    {
     "data": {
      "text/plain": [
       "'\\nThe purpose of this Jupyter notebook is to satisfy the requirements\\nMaTPIP places on FASTA (and possibly also on TSV) files. To be more\\nprecise, the requirement consists of the sequences in FASTA files\\noccupying only a single line. Thus, sequences spanning multiple lines\\nare \"flattened\" to only one line.\\n\\nAccording to the second requirement, FASTA file headers (which are also\\nused in the corresponding TSV file) must be convertible to intgers, i.e.\\nthey must exclusively consist of the digits 0-9.\\n'"
      ]
     },
     "execution_count": 1,
     "metadata": {},
     "output_type": "execute_result"
    }
   ],
   "source": [
    "\"\"\"\n",
    "The purpose of this Jupyter notebook is to satisfy the requirement\n",
    "MaTPIP places on FASTA files. To be more precise, the requirement\n",
    "consists of the sequences in FASTA files occupying only a single line.\n",
    "Thus, sequences spanning multiple lines are \"flattened\" to only one\n",
    "line.\n",
    "\"\"\""
   ]
  },
  {
   "cell_type": "code",
   "execution_count": 2,
   "metadata": {},
   "outputs": [],
   "source": [
    "def flatten_seqs_in_fasta(path_to_fasta):\n",
    "    \"\"\"\n",
    "    This function performs flattening of the sequences in FASTA files,\n",
    "    i.e. in case of the sequences spanning multiple lines, they are\n",
    "    processed such that each sequence occupies only one line. The\n",
    "    original FASTA file is overwritten with these changes.\n",
    "\n",
    "    Parameters\n",
    "    ----------\n",
    "    path_to_fasta: str\n",
    "        A string denoting the path to a FASTA file the sequences of\n",
    "        which potentially span multiple lines.\n",
    "\n",
    "    Returns\n",
    "    -------\n",
    "    None\n",
    "    \"\"\"\n",
    "\n",
    "    # Bear in mind that in the context of working with files, the `with`\n",
    "    # context manager is preferred as it automatically takes care of\n",
    "    # closing files, even in case of errors/exceptions\n",
    "    with open(path_to_fasta, \"r\") as f:\n",
    "        fasta_lines = f.readlines()\n",
    "    \n",
    "    header_line_indices = [\n",
    "        i for i, line in enumerate(fasta_lines) if line.startswith(\">\")\n",
    "    ]\n",
    "    \n",
    "    one_line_per_seq_fasta_lines = []\n",
    "\n",
    "    for i in range(len(header_line_indices)):\n",
    "        # Extract the current FASTA entry\n",
    "        current_start_idx = header_line_indices[i]\n",
    "        try:\n",
    "            current_end_idx = header_line_indices[i + 1]\n",
    "        except IndexError:\n",
    "            current_end_idx = len(fasta_lines)\n",
    "        \n",
    "        current_FASTA_entry = fasta_lines[\n",
    "            current_start_idx:current_end_idx\n",
    "        ]\n",
    "\n",
    "        # Now, remove the newline character, i.e. \\n from the end of the\n",
    "        # sequence lines\n",
    "        # The very first element of the current entry's list is always\n",
    "        # the header\n",
    "        sequence_lines = current_FASTA_entry[1:]\n",
    "        sequence_lines = [\n",
    "            line[:-1] if \"\\n\" in line else line\n",
    "            for line in sequence_lines\n",
    "        ]\n",
    "\n",
    "        # Accommodate the fact that unless the very last FASTA entry is\n",
    "        # dealt with, the last sequence line of the entry at hand is\n",
    "        # supposed to contain a newline character at its end\n",
    "        if current_start_idx < header_line_indices[-1]:\n",
    "            sequence_lines[-1] = sequence_lines[-1] + \"\\n\"\n",
    "        \n",
    "        # Now, merge the processed sequence lines and append them in\n",
    "        # conjunction with the header line to the\n",
    "        # `one_line_per_seq_fasta_lines` list\n",
    "        one_line_per_seq_fasta_lines.append(current_FASTA_entry[0])\n",
    "        merged_seq = \"\".join(sequence_lines)\n",
    "        one_line_per_seq_fasta_lines.append(merged_seq)\n",
    "    \n",
    "    # Finally, overwrite the original FASTA file with sequences\n",
    "    # occupying only one line\n",
    "    with open(path_to_fasta, \"w\") as f:\n",
    "        f.writelines(one_line_per_seq_fasta_lines)"
   ]
  },
  {
   "cell_type": "code",
   "execution_count": 14,
   "metadata": {},
   "outputs": [],
   "source": [
    "path_to_fasta = (\n",
    "    \"/Users/jacobanter/Documents/Code/VACV_screen/MaTPIP/Human_PPI_\"\n",
    "    \"data_set_for_training_from_D-SCRIPT/human_truncated.fasta\"\n",
    ")\n",
    "\n",
    "flatten_seqs_in_fasta(path_to_fasta)"
   ]
  }
 ],
 "metadata": {
  "kernelspec": {
   "display_name": "bioinformatics",
   "language": "python",
   "name": "python3"
  },
  "language_info": {
   "codemirror_mode": {
    "name": "ipython",
    "version": 3
   },
   "file_extension": ".py",
   "mimetype": "text/x-python",
   "name": "python",
   "nbconvert_exporter": "python",
   "pygments_lexer": "ipython3",
   "version": "3.10.8"
  }
 },
 "nbformat": 4,
 "nbformat_minor": 2
}
