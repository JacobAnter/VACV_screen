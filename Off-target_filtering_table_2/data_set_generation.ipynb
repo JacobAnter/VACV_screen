{
 "cells": [
  {
   "cell_type": "code",
   "execution_count": 1,
   "metadata": {},
   "outputs": [
    {
     "data": {
      "text/plain": [
       "\"\\nThe purpose of this Jupyter notebook is to generate the TSV file as well\\nas the FASTA file required to evaluate xCAPT5's off-target filtering\\nperformance. In detail, the TSV file pairs each humn protein occurring\\nin the HVIDB data set for VACV WR with all VACV WR proteins.\\nAccordingly, the corresponding TSV file encompasses the sequences of all\\nVACV WR proteins and of human proteins occurring in the HVIDB data set.\\n\""
      ]
     },
     "execution_count": 1,
     "metadata": {},
     "output_type": "execute_result"
    }
   ],
   "source": [
    "\"\"\"\n",
    "The purpose of this Jupyter notebook is to generate the TSV file as well\n",
    "as the FASTA file required to evaluate xCAPT5's off-target filtering\n",
    "performance. In detail, the TSV file pairs each humn protein occurring\n",
    "in the HVIDB data set for VACV WR with all VACV WR proteins.\n",
    "Accordingly, the corresponding TSV file encompasses the sequences of all\n",
    "VACV WR proteins and of human proteins occurring in the HVIDB data set.\n",
    "\"\"\""
   ]
  },
  {
   "cell_type": "code",
   "execution_count": 2,
   "metadata": {},
   "outputs": [],
   "source": [
    "import numpy as np\n",
    "import pandas as pd\n",
    "from biotite.sequence.io import fasta"
   ]
  },
  {
   "cell_type": "code",
   "execution_count": 3,
   "metadata": {},
   "outputs": [],
   "source": [
    "# Determine the unique UniProt accessions of human proteins occurring in\n",
    "# the HVIDB data set\n",
    "path_to_HVIDB_data_set = (\n",
    "    \"/Users/jacobanter/Documents/Code/VACV_screen/all_HVIDB_VACV_\"\n",
    "    \"WR_interactions.csv\"\n",
    ")\n",
    "\n",
    "HVIDB_df = pd.read_csv(path_to_HVIDB_data_set)\n",
    "\n",
    "# In the `Human-virus PPI` column of the HVIDB data set, PPI pairs are\n",
    "# listed as combinations of UniProt accessions separated by a hyphen\n",
    "# from one another\n",
    "# The firt UniProt accession represents a human protein, whereas the\n",
    "# second UniProt accession represents a VACV WR protein\n",
    "human_prots = np.unique([\n",
    "    int_pair.split(\"-\")[0] for int_pair in HVIDB_df[\"Human-virus PPI\"]\n",
    "]).tolist()"
   ]
  },
  {
   "cell_type": "code",
   "execution_count": 4,
   "metadata": {},
   "outputs": [
    {
     "name": "stdout",
     "output_type": "stream",
     "text": [
      "Amount of unique human proteins occurring in the HVIDB data set: 354\n"
     ]
    }
   ],
   "source": [
    "n_human_prots_in_HVIDB = len(human_prots)\n",
    "\n",
    "print(\n",
    "    \"Amount of unique human proteins occurring in the HVIDB data set: \"\n",
    "    f\"{n_human_prots_in_HVIDB:,}\"\n",
    ")"
   ]
  },
  {
   "cell_type": "code",
   "execution_count": 5,
   "metadata": {},
   "outputs": [],
   "source": [
    "# Now, load the UniProt accessions of all VACV WR proteins\n",
    "# They are obtained from the FASTA file downloaded from UniProt\n",
    "path_to_VACV_WR_fasta_file = (\n",
    "    \"/Users/jacobanter/Documents/Code/VACV_screen/uniprotkb_taxonomy_\"\n",
    "    \"id_10254_all_VACV_WR_prots_05_11_2024.fasta\"\n",
    ")\n",
    "\n",
    "VACV_WR_fasta = fasta.FastaFile.read(path_to_VACV_WR_fasta_file)\n",
    "\n",
    "VACV_WR_uniprot_accessions = [\n",
    "    header.split(\"|\")[1] for header in VACV_WR_fasta.keys()\n",
    "]"
   ]
  },
  {
   "cell_type": "code",
   "execution_count": 6,
   "metadata": {},
   "outputs": [
    {
     "name": "stdout",
     "output_type": "stream",
     "text": [
      "Amount of VACV WR proteins: 442\n"
     ]
    }
   ],
   "source": [
    "n_VACV_WR_prots = len(VACV_WR_uniprot_accessions)\n",
    "\n",
    "print(\n",
    "    f\"Amount of VACV WR proteins: {n_VACV_WR_prots}\"\n",
    ")"
   ]
  },
  {
   "cell_type": "code",
   "execution_count": 7,
   "metadata": {},
   "outputs": [],
   "source": [
    "# Now, each human protein occurring in the HVIDB data set is paired with\n",
    "# all 442 VACV WR proteins\n",
    "# The resulting PPI pairs are saved to a TSV file\n",
    "human_column_list = [\n",
    "    uniprot_id\n",
    "    for uniprot_id in human_prots\n",
    "    for _ in range(n_VACV_WR_prots)\n",
    "]\n",
    "\n",
    "VACV_column_list = VACV_WR_uniprot_accessions * n_human_prots_in_HVIDB"
   ]
  },
  {
   "cell_type": "code",
   "execution_count": 8,
   "metadata": {},
   "outputs": [],
   "source": [
    "assert len(human_column_list) == len(VACV_column_list), (\n",
    "    \"Something went wrong while creating the column lists!\"\n",
    ")"
   ]
  },
  {
   "cell_type": "code",
   "execution_count": 9,
   "metadata": {},
   "outputs": [],
   "source": [
    "prot_pair_dict = {\n",
    "    \"Human_protein\": human_column_list,\n",
    "    \"VACV_protein\": VACV_column_list\n",
    "}\n",
    "\n",
    "prot_pair_df = pd.DataFrame(data=prot_pair_dict)\n",
    "prot_pair_df.to_csv(\n",
    "    \"PPI_pairs_between_human_prots_from_HVIDB_and_VACV_WR_proteome.tsv\",\n",
    "    sep=\"\\t\",\n",
    "    header=False,\n",
    "    index=False\n",
    ")"
   ]
  },
  {
   "cell_type": "code",
   "execution_count": 11,
   "metadata": {},
   "outputs": [],
   "source": [
    "# Now, address the generation of the corresponding FASTA file\n",
    "# This requires loading the FASTA file containing the human proteins\n",
    "# occurring in the HVIDB data set\n",
    "path_to_human_prots_in_HVIDB_fasta_file = (\n",
    "    \"/Users/jacobanter/Documents/Code/VACV_screen/human_prots_in_\"\n",
    "    \"HVIDB_VACV_WR_data_set.fasta\"\n",
    ")\n",
    "human_prots_in_HVIDB_fasta = fasta.FastaFile.read(\n",
    "    path_to_human_prots_in_HVIDB_fasta_file\n",
    ")\n",
    "\n",
    "human_prots_from_HVIDB_and_VACV_WR_proteome_fasta = fasta.FastaFile()\n",
    "\n",
    "for header, seq in VACV_WR_fasta.items():\n",
    "    uniprot_accession = header.split(\"|\")[1]\n",
    "\n",
    "    human_prots_from_HVIDB_and_VACV_WR_proteome_fasta[\n",
    "        uniprot_accession\n",
    "    ] = seq\n",
    "\n",
    "for header, seq in human_prots_in_HVIDB_fasta.items():\n",
    "    uniprot_accession = header.split(\"|\")[1]\n",
    "\n",
    "    human_prots_from_HVIDB_and_VACV_WR_proteome_fasta[\n",
    "        uniprot_accession\n",
    "    ] = seq"
   ]
  },
  {
   "cell_type": "code",
   "execution_count": 12,
   "metadata": {},
   "outputs": [],
   "source": [
    "# Verify whether the total amount of sequences stored in the FASTA file\n",
    "# corresponds to the sum of human proteins in the HVIDB data set and the\n",
    "# VACV WR proteome\n",
    "assert (\n",
    "    len(human_prots_from_HVIDB_and_VACV_WR_proteome_fasta)\n",
    "    ==\n",
    "    (len(VACV_WR_fasta) + len(human_prots_in_HVIDB_fasta))\n",
    "), (\n",
    "    \"Not all proteins of the VACV WR proteome and/or the human \"\n",
    "    \"proteins occurring in the HVIDB data set have been added!\"\n",
    ")"
   ]
  },
  {
   "cell_type": "code",
   "execution_count": null,
   "metadata": {},
   "outputs": [],
   "source": [
    "# Finally, having passed the sanity check, the FASTA file is saved to\n",
    "# disk\n",
    "human_prots_from_HVIDB_and_VACV_WR_proteome_fasta.write(\n",
    "    \"human_proteins_in_HVIDB_and_VACV_WR_proteome.fasta\"\n",
    ")"
   ]
  },
  {
   "cell_type": "code",
   "execution_count": null,
   "metadata": {},
   "outputs": [],
   "source": []
  }
 ],
 "metadata": {
  "kernelspec": {
   "display_name": "bioinformatics",
   "language": "python",
   "name": "python3"
  },
  "language_info": {
   "codemirror_mode": {
    "name": "ipython",
    "version": 3
   },
   "file_extension": ".py",
   "mimetype": "text/x-python",
   "name": "python",
   "nbconvert_exporter": "python",
   "pygments_lexer": "ipython3",
   "version": "3.10.8"
  }
 },
 "nbformat": 4,
 "nbformat_minor": 2
}
