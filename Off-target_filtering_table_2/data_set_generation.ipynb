{
 "cells": [
  {
   "cell_type": "code",
   "execution_count": 1,
   "metadata": {},
   "outputs": [
    {
     "data": {
      "text/plain": [
       "\"\\nThe purpose of this Jupyter notebook is to generate the TSV file as well\\nas the FASTA file required to evaluate xCAPT5's off-target filtering\\nperformance. In detail, the TSV file pairs each human protein occurring\\nin the combined data (both confirmed positive PPIs as well as reliable\\nnegative PPIs) with all VACV WR proteins. Accordingly, the corresponding\\nFASTA file encompasses the sequences of all VACV WR proteins and of\\nhuman proteins occurring in the combined data set.\\n\""
      ]
     },
     "execution_count": 1,
     "metadata": {},
     "output_type": "execute_result"
    }
   ],
   "source": [
    "\"\"\"\n",
    "The purpose of this Jupyter notebook is to generate the TSV file as well\n",
    "as the FASTA file required to evaluate xCAPT5's off-target filtering\n",
    "performance. In detail, the TSV file pairs each human protein occurring\n",
    "in the combined data (both confirmed positive PPIs as well as reliable\n",
    "negative PPIs) with all VACV WR proteins. Accordingly, the corresponding\n",
    "FASTA file encompasses the sequences of all VACV WR proteins and of\n",
    "human proteins occurring in the combined data set.\n",
    "\"\"\""
   ]
  },
  {
   "cell_type": "code",
   "execution_count": 2,
   "metadata": {},
   "outputs": [],
   "source": [
    "import numpy as np\n",
    "import pandas as pd\n",
    "from biotite.sequence.io import fasta"
   ]
  },
  {
   "cell_type": "code",
   "execution_count": null,
   "metadata": {},
   "outputs": [],
   "source": [
    "# Determine the unique UniProt accessions of human proteins occurring in\n",
    "# the combined data set\n",
    "path_to_combined_data_set_tsv = (\n",
    "    \"/Users/jacobanter/Documents/Code/VACV_screen/HVIDB_pos_instances_\"\n",
    "    \"with_nucleolus_neg_instances/VACV_WR_pos_and_nucleolus_prots_neg_\"\n",
    "    \"PPI_instances.tsv\"\n",
    ")\n",
    "\n",
    "combined_data_set_df = pd.read_csv(\n",
    "    path_to_combined_data_set_tsv,\n",
    "    sep=\"\\t\"\n",
    ")\n",
    "\n",
    "human_prots = np.unique(combined_data_set_df[\"Human_prot\"]).tolist()"
   ]
  },
  {
   "cell_type": "code",
   "execution_count": 6,
   "metadata": {},
   "outputs": [
    {
     "name": "stdout",
     "output_type": "stream",
     "text": [
      "Amount of unique human proteins occurring in the combined data set: 800\n"
     ]
    }
   ],
   "source": [
    "n_human_prots_in_combined_data_set = len(human_prots)\n",
    "\n",
    "print(\n",
    "    \"Amount of unique human proteins occurring in the combined data \"\n",
    "    f\"set: {n_human_prots_in_combined_data_set:,}\"\n",
    ")"
   ]
  },
  {
   "cell_type": "code",
   "execution_count": 7,
   "metadata": {},
   "outputs": [],
   "source": [
    "# Now, load the UniProt accessions of all VACV WR proteins\n",
    "# They are obtained from the FASTA file downloaded from UniProt\n",
    "path_to_VACV_WR_fasta_file = (\n",
    "    \"/Users/jacobanter/Documents/Code/VACV_screen/uniprotkb_taxonomy_\"\n",
    "    \"id_10254_all_VACV_WR_prots_05_11_2024.fasta\"\n",
    ")\n",
    "\n",
    "VACV_WR_fasta = fasta.FastaFile.read(path_to_VACV_WR_fasta_file)\n",
    "\n",
    "VACV_WR_uniprot_accessions = [\n",
    "    header.split(\"|\")[1] for header in VACV_WR_fasta.keys()\n",
    "]"
   ]
  },
  {
   "cell_type": "code",
   "execution_count": 8,
   "metadata": {},
   "outputs": [
    {
     "name": "stdout",
     "output_type": "stream",
     "text": [
      "Amount of VACV WR proteins: 442\n"
     ]
    }
   ],
   "source": [
    "n_VACV_WR_prots = len(VACV_WR_uniprot_accessions)\n",
    "\n",
    "print(\n",
    "    f\"Amount of VACV WR proteins: {n_VACV_WR_prots}\"\n",
    ")"
   ]
  },
  {
   "cell_type": "code",
   "execution_count": 9,
   "metadata": {},
   "outputs": [],
   "source": [
    "# Now, each human protein occurring in the combined data set is paired\n",
    "# with all 442 VACV WR proteins\n",
    "# The resulting PPI pairs are saved to a TSV file\n",
    "human_column_list = [\n",
    "    uniprot_id\n",
    "    for uniprot_id in human_prots\n",
    "    for _ in range(n_VACV_WR_prots)\n",
    "]\n",
    "\n",
    "VACV_column_list = (\n",
    "    VACV_WR_uniprot_accessions * n_human_prots_in_combined_data_set\n",
    ")"
   ]
  },
  {
   "cell_type": "code",
   "execution_count": 10,
   "metadata": {},
   "outputs": [],
   "source": [
    "assert len(human_column_list) == len(VACV_column_list), (\n",
    "    \"Something went wrong while creating the column lists!\"\n",
    ")"
   ]
  },
  {
   "cell_type": "code",
   "execution_count": 11,
   "metadata": {},
   "outputs": [
    {
     "name": "stdout",
     "output_type": "stream",
     "text": [
      "Amount of PPI pairs in the TSV file for table 2: 353,600\n"
     ]
    }
   ],
   "source": [
    "prot_pair_dict = {\n",
    "    \"Human_protein\": human_column_list,\n",
    "    \"VACV_protein\": VACV_column_list\n",
    "}\n",
    "\n",
    "prot_pair_df = pd.DataFrame(data=prot_pair_dict)\n",
    "print(\n",
    "    \"Amount of PPI pairs in the TSV file for table 2: \"\n",
    "    f\"{len(prot_pair_df):,}\"\n",
    ")\n",
    "\n",
    "prot_pair_df.to_csv(\n",
    "    \"PPI_pairs_between_human_prots_in_combined_data_set_and_VACV_WR_\"\\\n",
    "    \"proteome.tsv\",\n",
    "    sep=\"\\t\",\n",
    "    header=False,\n",
    "    index=False\n",
    ")"
   ]
  },
  {
   "cell_type": "code",
   "execution_count": 12,
   "metadata": {},
   "outputs": [
    {
     "ename": "AssertionError",
     "evalue": "Not all VACV WR proteins are covered by the FASTA file!",
     "output_type": "error",
     "traceback": [
      "\u001b[0;31m---------------------------------------------------------------------------\u001b[0m",
      "\u001b[0;31mAssertionError\u001b[0m                            Traceback (most recent call last)",
      "Cell \u001b[0;32mIn[12], line 29\u001b[0m\n\u001b[1;32m     19\u001b[0m VACV_WR_presence_list \u001b[38;5;241m=\u001b[39m [\n\u001b[1;32m     20\u001b[0m     VACV_WR_prot \u001b[38;5;129;01min\u001b[39;00m fasta_file_accs\n\u001b[1;32m     21\u001b[0m     \u001b[38;5;28;01mfor\u001b[39;00m VACV_WR_prot \u001b[38;5;129;01min\u001b[39;00m VACV_WR_uniprot_accessions\n\u001b[1;32m     22\u001b[0m ]\n\u001b[1;32m     24\u001b[0m \u001b[38;5;28;01massert\u001b[39;00m \u001b[38;5;28mall\u001b[39m(human_prot_presence_list), (\n\u001b[1;32m     25\u001b[0m     \u001b[38;5;124m\"\u001b[39m\u001b[38;5;124mNot all human proteins occurring in the combined data set are \u001b[39m\u001b[38;5;124m\"\u001b[39m\n\u001b[1;32m     26\u001b[0m     \u001b[38;5;124m\"\u001b[39m\u001b[38;5;124mcovered by the FASTA file!\u001b[39m\u001b[38;5;124m\"\u001b[39m\n\u001b[1;32m     27\u001b[0m )\n\u001b[0;32m---> 29\u001b[0m \u001b[38;5;28;01massert\u001b[39;00m \u001b[38;5;28mall\u001b[39m(VACV_WR_presence_list), (\n\u001b[1;32m     30\u001b[0m     \u001b[38;5;124m\"\u001b[39m\u001b[38;5;124mNot all VACV WR proteins are covered by the FASTA file!\u001b[39m\u001b[38;5;124m\"\u001b[39m\n\u001b[1;32m     31\u001b[0m )\n",
      "\u001b[0;31mAssertionError\u001b[0m: Not all VACV WR proteins are covered by the FASTA file!"
     ]
    }
   ],
   "source": [
    "# Now, address the generation of the corresponding FASTA file\n",
    "# The file `human_nucleolus_and_VACV_WR_prot_seqs.fasta` is supposed to\n",
    "# contain all sequences; it is verified whether this indeed is the case\n",
    "path_to_combined_data_set_fasta_file = (\n",
    "    \"/Users/jacobanter/Documents/Code/VACV_screen/HVIDB_pos_instances_\"\n",
    "    \"with_nucleolus_neg_instances/human_nucleolus_and_VACV_WR_prot_\"\n",
    "    \"seqs.fasta\"\n",
    ")\n",
    "combined_data_set_fasta = fasta.FastaFile.read(\n",
    "    path_to_combined_data_set_fasta_file\n",
    ")\n",
    "\n",
    "fasta_file_accs = combined_data_set_fasta.keys()\n",
    "\n",
    "human_prot_presence_list = [\n",
    "    human_prot in fasta_file_accs for human_prot in human_prots\n",
    "]\n",
    "\n",
    "VACV_WR_presence_list = [\n",
    "    VACV_WR_prot in fasta_file_accs\n",
    "    for VACV_WR_prot in VACV_WR_uniprot_accessions\n",
    "]\n",
    "\n",
    "assert all(human_prot_presence_list), (\n",
    "    \"Not all human proteins occurring in the combined data set are \"\n",
    "    \"covered by the FASTA file!\"\n",
    ")\n",
    "\n",
    "assert all(VACV_WR_presence_list), (\n",
    "    \"Not all VACV WR proteins are covered by the FASTA file!\"\n",
    ")"
   ]
  },
  {
   "cell_type": "code",
   "execution_count": 13,
   "metadata": {},
   "outputs": [],
   "source": [
    "# Generate a FASTA file encompassing all VACV WR protein sequences as\n",
    "# well as sequences of human proteins occurring in the combined data set\n",
    "path_to_VACV_WR_fasta_file = (\n",
    "    \"/Users/jacobanter/Documents/Code/VACV_screen/uniprotkb_taxonomy_\"\n",
    "    \"id_10254_all_VACV_WR_prots_05_11_2024.fasta\"\n",
    ")\n",
    "VACV_WR_fasta = fasta.FastaFile.read(\n",
    "    path_to_VACV_WR_fasta_file\n",
    ")\n",
    "\n",
    "human_prots_in_combined_data_set_and_VACV_WR_proteome_fasta = fasta.FastaFile()\n",
    "\n",
    "for header, seq in VACV_WR_fasta.items():\n",
    "    uniprot_accession = header.split(\"|\")[1]\n",
    "\n",
    "    human_prots_in_combined_data_set_and_VACV_WR_proteome_fasta[\n",
    "        uniprot_accession\n",
    "    ] = seq\n",
    "\n",
    "for header, seq in combined_data_set_fasta.items():\n",
    "    if header in human_prots:\n",
    "        human_prots_in_combined_data_set_and_VACV_WR_proteome_fasta[\n",
    "            header\n",
    "        ] = seq"
   ]
  },
  {
   "cell_type": "code",
   "execution_count": 14,
   "metadata": {},
   "outputs": [],
   "source": [
    "# Verify whether the total amount of sequences stored in the FASTA file\n",
    "# corresponds to the sum of human proteins in the combined data set and\n",
    "# the VACV WR proteome\n",
    "assert (\n",
    "    len(human_prots_in_combined_data_set_and_VACV_WR_proteome_fasta)\n",
    "    ==\n",
    "    (len(VACV_WR_fasta) + len(human_prots))\n",
    "), (\n",
    "    \"Not all proteins of the VACV WR proteome and/or the human \"\n",
    "    \"proteins occurring in the combined data set have been added!\"\n",
    ")"
   ]
  },
  {
   "cell_type": "code",
   "execution_count": 15,
   "metadata": {},
   "outputs": [],
   "source": [
    "# Finally, having passed the sanity check, the FASTA file is saved to\n",
    "# disk\n",
    "human_prots_in_combined_data_set_and_VACV_WR_proteome_fasta.write(\n",
    "    \"human_proteins_in_combined_data_set_and_VACV_WR_proteome.fasta\"\n",
    ")"
   ]
  },
  {
   "cell_type": "code",
   "execution_count": 8,
   "metadata": {},
   "outputs": [],
   "source": [
    "# Strangely enough, SENSE-PPI does not manage to process 350,000 PPIs\n",
    "# within 48 hours although it manages to process 500,000 PPIs within 48\n",
    "# hours on other occasions\n",
    "# Therefore, the TSV file is split into two parts of roughly equal size\n",
    "path_to_PPI_tsv_file = (\n",
    "    \"PPI_pairs_between_human_prots_in_combined_data_set_and_VACV_WR_\"\n",
    "    \"proteome.tsv\"\n",
    ")\n",
    "\n",
    "prot_pair_df = pd.read_csv(\n",
    "    path_to_PPI_tsv_file,\n",
    "    sep=\"\\t\",\n",
    "    header=None\n",
    ")\n",
    "\n",
    "len_PPI_df = len(prot_pair_df)\n",
    "\n",
    "n_PPIs_first_half = len_PPI_df // 2\n",
    "\n",
    "first_half_df = prot_pair_df.iloc[:n_PPIs_first_half]\n",
    "first_half_df.to_csv(\n",
    "    \"PPI_pairs_between_human_prots_in_combined_data_set_and_VACV_WR_\"\\\n",
    "    \"proteome_part_1.tsv\",\n",
    "    sep=\"\\t\",\n",
    "    index=False,\n",
    "    header=False\n",
    ")\n",
    "\n",
    "second_half_df = prot_pair_df.iloc[n_PPIs_first_half:]\n",
    "second_half_df.to_csv(\n",
    "    \"PPI_pairs_between_human_prots_in_combined_data_set_and_VACV_WR_\"\\\n",
    "    \"proteome_part_2.tsv\",\n",
    "    sep=\"\\t\",\n",
    "    index=False,\n",
    "    header=False\n",
    ")"
   ]
  },
  {
   "cell_type": "code",
   "execution_count": null,
   "metadata": {},
   "outputs": [],
   "source": []
  }
 ],
 "metadata": {
  "kernelspec": {
   "display_name": "bioinformatics",
   "language": "python",
   "name": "python3"
  },
  "language_info": {
   "codemirror_mode": {
    "name": "ipython",
    "version": 3
   },
   "file_extension": ".py",
   "mimetype": "text/x-python",
   "name": "python",
   "nbconvert_exporter": "python",
   "pygments_lexer": "ipython3",
   "version": "3.10.8"
  }
 },
 "nbformat": 4,
 "nbformat_minor": 2
}
