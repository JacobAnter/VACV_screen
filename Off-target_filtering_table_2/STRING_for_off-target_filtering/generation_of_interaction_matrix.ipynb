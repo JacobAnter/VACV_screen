{
 "cells": [
  {
   "cell_type": "code",
   "execution_count": 1,
   "metadata": {},
   "outputs": [
    {
     "data": {
      "text/plain": [
       "'\\nThe purpose of this Jupyter notebook is to generate an interaction\\nmatrix based on PPI data obtained from the STRING database. The\\ninteraction matrix is a symmetric matrix with its row and column\\npositions corresponding to one protein each. It is a binary matrix, i.e.\\nexclusively populated with the values 0 and 1, indicating the absence or\\nthe presence of a PPI, respectively.\\n'"
      ]
     },
     "execution_count": 1,
     "metadata": {},
     "output_type": "execute_result"
    }
   ],
   "source": [
    "\"\"\"\n",
    "The purpose of this Jupyter notebook is to generate an interaction\n",
    "matrix based on PPI data obtained from the STRING database. The\n",
    "interaction matrix is a symmetric matrix with its row and column\n",
    "positions corresponding to one protein each. It is a binary matrix, i.e.\n",
    "exclusively populated with the values 0 and 1, indicating the absence or\n",
    "the presence of a PPI, respectively.\n",
    "\"\"\""
   ]
  },
  {
   "cell_type": "code",
   "execution_count": 2,
   "metadata": {},
   "outputs": [
    {
     "name": "stderr",
     "output_type": "stream",
     "text": [
      "/var/folders/j1/64kbg_f11z97kx1dw__420vh0000gn/T/ipykernel_5313/2755710975.py:13: DtypeWarning: Columns (42,74) have mixed types. Specify dtype option on import or set low_memory=False.\n",
      "  VACV_screen_df = pd.read_csv(\n"
     ]
    }
   ],
   "source": [
    "# The interaction matrix is supposed to be generated for the Qiagen\n",
    "# subset of the VACV screen\n",
    "# Therefore, as a first step, the VACV screen is loaded into a Pandas\n",
    "# DataFrame and the unique gene names are determined\n",
    "import numpy as np\n",
    "import pandas as pd\n",
    "\n",
    "path_to_VACV_screen_report = (\n",
    "    \"../VACV_Report_only_valid_single_pooled_siRNA_and_esiRNA_single_\"\n",
    "    \"entries_only_without_Qiagen_mismatches.tsv\"\n",
    ")\n",
    "\n",
    "VACV_screen_df = pd.read_csv(\n",
    "    path_to_VACV_screen_report,\n",
    "    sep=\"\\t\"\n",
    ")\n",
    "\n",
    "# Filter out the Qiagen subset\n",
    "Qiagen_subset_VACV_screen_df = VACV_screen_df.loc[\n",
    "    VACV_screen_df[\"Manufacturer\"] == \"Qiagen\"\n",
    "]"
   ]
  },
  {
   "cell_type": "code",
   "execution_count": 3,
   "metadata": {},
   "outputs": [
    {
     "name": "stdout",
     "output_type": "stream",
     "text": [
      "2,219 out of 20,213 gene names could not be mapped to a STRING ID in the case of the Qiagen subset of the VACV screen.\n"
     ]
    }
   ],
   "source": [
    "# Not each and every gene name is mapped to a STRING ID for reasons\n",
    "# elaborated on elsewhere (e.g. the fact of encoding merely ncRNA or a\n",
    "# pseudogene)\n",
    "# Thus, only genes with an associated STRING ID are filtered out from\n",
    "# the Qiagen subset\n",
    "Qiagen_subset_with_string_id_df = Qiagen_subset_VACV_screen_df.loc[\n",
    "    Qiagen_subset_VACV_screen_df[\"ID_String\"] != \"Not available\"\n",
    "]\n",
    "\n",
    "total_n_Qiagen_genes = len(\n",
    "    np.unique(Qiagen_subset_VACV_screen_df[\"Name\"])\n",
    ")\n",
    "n_Qiagen_genes_not_mapped = total_n_Qiagen_genes - len(\n",
    "    np.unique(Qiagen_subset_with_string_id_df[\"Name\"])\n",
    ")\n",
    "\n",
    "print(\n",
    "    f\"{n_Qiagen_genes_not_mapped:,} out of {total_n_Qiagen_genes:,} \"\n",
    "    \"gene names could not be mapped to a STRING ID in the case of the \"\n",
    "    \"Qiagen subset of the VACV screen.\"\n",
    ")"
   ]
  },
  {
   "cell_type": "code",
   "execution_count": 4,
   "metadata": {},
   "outputs": [],
   "source": [
    "# `np.unique` inherently performs sorting of the unique values\n",
    "Qiagen_subset_gene_names, indices = np.unique(\n",
    "    Qiagen_subset_with_string_id_df[\"Name\"],\n",
    "    return_index=True\n",
    ")\n",
    "\n",
    "Qiagen_subset_string_ids = Qiagen_subset_with_string_id_df[\n",
    "    \"ID_String\"\n",
    "].to_numpy()[indices]\n",
    "\n",
    "# Verify that the unique gene names as well as the STRING IDs have the\n",
    "# correct ordering\n",
    "correct_alignment_list = []\n",
    "\n",
    "for gene_name, string_id in zip(\n",
    "    Qiagen_subset_gene_names, Qiagen_subset_string_ids\n",
    "):\n",
    "    current_gene_string_ids =  Qiagen_subset_with_string_id_df.loc[\n",
    "        Qiagen_subset_with_string_id_df[\"Name\"] == gene_name,\n",
    "        \"ID_String\"\n",
    "    ]\n",
    "\n",
    "    # The filtered Pandas Series is supposed to encompass only one\n",
    "    # STRING ID\n",
    "    current_gene_string_ids = np.unique(current_gene_string_ids)\n",
    "\n",
    "    assert len(current_gene_string_ids) == 1, (\n",
    "        f\"More than one STRING ID has been assigned to gene {gene_name}!\"\n",
    "    )\n",
    "\n",
    "    aligned_string_id = current_gene_string_ids[0]\n",
    "\n",
    "    if aligned_string_id == string_id:\n",
    "        correct_alignment_list.append(True)\n",
    "\n",
    "assert all(correct_alignment_list), (\n",
    "    \"Not all gene names are aligned with their correct STRING ID!\"\n",
    ")"
   ]
  },
  {
   "cell_type": "code",
   "execution_count": 5,
   "metadata": {},
   "outputs": [],
   "source": [
    "# Now that both the unique gene names and their corresponding STRING IDs\n",
    "# have been retrieved in the correct ordering, the actual interaction\n",
    "# matrix is built\n",
    "# To this end, the interaction data deposited in STRING has to be loaded\n",
    "path_to_string_interaction_data = \"9606.protein.links.v12.0.txt\"\n",
    "\n",
    "# Despite the file being a text file, it can be loaded into a Pandas\n",
    "# DataFrame as it exhibits a tabular structure with a space as delimiter\n",
    "string_interaction_data_df = pd.read_csv(\n",
    "    path_to_string_interaction_data,\n",
    "    sep=\" \"\n",
    ")"
   ]
  },
  {
   "cell_type": "code",
   "execution_count": 16,
   "metadata": {},
   "outputs": [],
   "source": [
    "n_Qiagen_genes_with_string_id = len(Qiagen_subset_gene_names)\n",
    "\n",
    "interaction_matrix = np.zeros(\n",
    "    shape=(n_Qiagen_genes_with_string_id, n_Qiagen_genes_with_string_id)\n",
    ")\n",
    "\n",
    "# Iterate over the DataFrame with PPI information and populate the\n",
    "# interaction matrix\n",
    "for _, row in string_interaction_data_df.iterrows():\n",
    "    # Bear in mind that STRING uses its STRING IDs to list PPI pairs,\n",
    "    # not the official gene symbols!\n",
    "    int_partner_1 = row[\"protein1\"]\n",
    "    int_partner_2 = row[\"protein2\"]\n",
    "\n",
    "    if (\n",
    "        (int_partner_1 in Qiagen_subset_string_ids)\n",
    "        and\n",
    "        (int_partner_2 in Qiagen_subset_string_ids)\n",
    "    ):\n",
    "        # Determine the current proteins' positions in the sorted array\n",
    "        # of unique STRING IDs\n",
    "        # Bear in mind that `np.nonzero()` returns a tuple of arrays\n",
    "        # with the individual arrays harbouring the indices of elements\n",
    "        # that are non-zero\n",
    "        # Thus, the returned object must be indexed twice\n",
    "        idx_1 = np.nonzero(Qiagen_subset_string_ids == int_partner_1)[0][0]\n",
    "        idx_2 = np.nonzero(Qiagen_subset_string_ids == int_partner_2)[0][0]\n",
    "        \n",
    "        interaction_matrix[idx_1, idx_2] = 1\n",
    "        interaction_matrix[idx_2, idx_1] = 1\n",
    "    else:\n",
    "        continue"
   ]
  },
  {
   "cell_type": "code",
   "execution_count": 28,
   "metadata": {},
   "outputs": [],
   "source": [
    "# As the iteration over the file comprising the STRING PPI information\n",
    "# took more than two hours, it is advisable to pickle, i.e. save the\n",
    "# interaction matrix to a file\n",
    "import pickle\n",
    "\n",
    "# Bear in mind that in the context of working with files, the `with`\n",
    "# context manager is preferred as it automatically takes care of closing\n",
    "# files, even in case of errors/exceptions\n",
    "with open(\"VACV_screen_Qiagen_subset_interaction_matrix.pkl\", \"wb\") as f:\n",
    "    # The interaction matrix is pickled along with the gene names and\n",
    "    # STRING IDs\n",
    "    pickle.dump(\n",
    "        (\n",
    "            Qiagen_subset_gene_names,\n",
    "            Qiagen_subset_string_ids,\n",
    "            interaction_matrix\n",
    "        ),\n",
    "        f\n",
    "    )"
   ]
  },
  {
   "cell_type": "code",
   "execution_count": null,
   "metadata": {},
   "outputs": [],
   "source": [
    "# Load the pickled interaction matrix\n",
    "import pickle\n",
    "\n",
    "path_to_interaction_matrix = \"VACV_screen_Qiagen_subset_interaction_\"\\\n",
    "    \"matrix.pkl\"\n",
    "\n",
    "with open(path_to_interaction_matrix, \"rb\") as f:\n",
    "    gene_names, string_ids, interaction_matrix = pickle.load(f)"
   ]
  },
  {
   "cell_type": "code",
   "execution_count": null,
   "metadata": {},
   "outputs": [],
   "source": []
  }
 ],
 "metadata": {
  "kernelspec": {
   "display_name": "bioinformatics",
   "language": "python",
   "name": "python3"
  },
  "language_info": {
   "codemirror_mode": {
    "name": "ipython",
    "version": 3
   },
   "file_extension": ".py",
   "mimetype": "text/x-python",
   "name": "python",
   "nbconvert_exporter": "python",
   "pygments_lexer": "ipython3",
   "version": "3.10.8"
  }
 },
 "nbformat": 4,
 "nbformat_minor": 2
}
