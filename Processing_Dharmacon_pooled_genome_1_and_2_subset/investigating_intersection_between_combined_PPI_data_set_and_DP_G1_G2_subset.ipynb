{
 "cells": [
  {
   "cell_type": "code",
   "execution_count": 1,
   "id": "2511b00c",
   "metadata": {},
   "outputs": [
    {
     "data": {
      "text/plain": [
       "'\\nThe purpose of this Jupyter notebook is to ...\\n'"
      ]
     },
     "execution_count": 1,
     "metadata": {},
     "output_type": "execute_result"
    }
   ],
   "source": [
    "\"\"\"\n",
    "The purpose of this Jupyter notebook is to ...\n",
    "\"\"\""
   ]
  },
  {
   "cell_type": "code",
   "execution_count": 1,
   "id": "60194300",
   "metadata": {},
   "outputs": [],
   "source": [
    "import pandas as pd\n",
    "from biotite.sequence.io import fasta"
   ]
  },
  {
   "cell_type": "markdown",
   "id": "fd4450cb",
   "metadata": {},
   "source": [
    "#### Intersection Between Human Proteins in Confirmed PPIs and the<br>Dharmacon Pooled Subset (Not Specific for a Data Set Split)"
   ]
  },
  {
   "cell_type": "code",
   "execution_count": 2,
   "id": "5545c846",
   "metadata": {},
   "outputs": [],
   "source": [
    "# As a first step, determine the intersection between the confirmed\n",
    "# positive PPIs and the human proteins present in the DP G1/G2 subset\n",
    "# To this end, the corresponding files need to be loaded\n",
    "\n",
    "# Load the updated TSV file of the subset into a Pandas DataFrame\n",
    "dp_g1_g2_subset_path = (\n",
    "    \"Dharmacon_pooled_G1_G2_screening_plates_subset_updated.tsv\"\n",
    ")\n",
    "dp_g1_g2_subset_df = pd.read_csv(\n",
    "    dp_g1_g2_subset_path,\n",
    "    sep=\"\\t\"\n",
    ")"
   ]
  },
  {
   "cell_type": "code",
   "execution_count": 3,
   "id": "6fdbca54",
   "metadata": {},
   "outputs": [],
   "source": [
    "# Extract the unique human UniProt accessions of the subset\n",
    "# Don't forget to remove NaN\n",
    "human_prots_in_subset_list = dp_g1_g2_subset_df[\n",
    "    \"UniProt_IDs\"\n",
    "].dropna().to_list()\n",
    "\n",
    "# Intermediate conversion to a set removes possible duplicates\n",
    "human_prots_in_subset_list = list(set([\n",
    "    uniprot_acc\n",
    "    for entry in human_prots_in_subset_list\n",
    "    for uniprot_acc in entry.split(\";\")\n",
    "]))"
   ]
  },
  {
   "cell_type": "code",
   "execution_count": 4,
   "id": "8de972b3",
   "metadata": {},
   "outputs": [],
   "source": [
    "# Load the confirmed HVIDB PPIs\n",
    "pos_ppis_path = \"all_HVIDB_VACV_WR_interactions.csv\"\n",
    "pos_ppis_df = pd.read_csv(pos_ppis_path)"
   ]
  },
  {
   "cell_type": "code",
   "execution_count": 5,
   "id": "39faf509",
   "metadata": {},
   "outputs": [],
   "source": [
    "# In the CSV file containing the confirmed PPI pairs, the PPI pairs are\n",
    "# stored in the `Human-virus PPI` column\n",
    "# The individual entries consist of a human UniProt accession and a VACV\n",
    "# WR UniProt accession separated by a hyphen, i.e. they have the\n",
    "# following format:\n",
    "# <human UniProt accession>-<VACV WR UniProt accession>\n",
    "# Extract the human interaction partners of the confirmed positive\n",
    "# interactions\n",
    "ppi_pairs_list = pos_ppis_df[\"Human-virus PPI\"].to_list()\n",
    "# Intermediate conversion to a set removes possible duplicates\n",
    "human_prots_in_HVIDB = list(set([\n",
    "    ppi_pair.split(\"-\")[0]\n",
    "    for ppi_pair in ppi_pairs_list\n",
    "]))"
   ]
  },
  {
   "cell_type": "code",
   "execution_count": 6,
   "id": "56731168",
   "metadata": {},
   "outputs": [],
   "source": [
    "# Finally, determine the intersection between the human proteins\n",
    "# involved in confirmed positive PPIs and the human proteins\n",
    "# interrogated in the screen subset\n",
    "common_uniprot_accs = set.intersection(\n",
    "    set(human_prots_in_subset_list), set(human_prots_in_HVIDB)\n",
    ")"
   ]
  },
  {
   "cell_type": "code",
   "execution_count": 7,
   "id": "b24f9b0f",
   "metadata": {},
   "outputs": [
    {
     "name": "stdout",
     "output_type": "stream",
     "text": [
      "{'O00585', 'O75113', 'B2R4S9', 'Q16695', 'Q92878', 'Q9H2G4', 'Q13227', 'Q00839', 'Q13753', 'Q8WXH0', 'G5E9I4', 'Q7Z406', 'P12273', 'O00391', 'P22531', 'P23025', 'Q76M96', 'Q9Y6K9', 'Q15057', 'Q8TAQ2', 'P28838', 'P55327', 'P09651', 'P33176', 'O00571', 'P63010', 'P22362', 'P20671', 'Q96E22', 'P42338', 'Q9NRJ3', 'P55265', 'Q9Y258', 'Q93077', 'Q9BQS8', 'Q14444', 'P04908', 'Q9UBB5', 'Q9Y5Q9', 'Q9HCC0', 'Q96RQ9', 'P42336', 'P06748', 'Q13794', 'Q8IUR0', 'Q9Y618', 'Q7Z7A1', 'O15444', 'Q05639', 'Q92187', 'O75152', 'Q9HCU9', 'Q9BYP7', 'Q9NP74', 'Q9Y3B3', 'Q07866', 'Q96DA0', 'P84243', 'Q9C0F3', 'Q13283', 'B8ZZN6', 'O14920', 'P61978', 'Q15853', 'D9ZGF2', 'Q3ZCM7', 'O00339', 'P27986', 'P20042', 'A3KPC7', 'P13861', 'P04792', 'O15111', 'P20700', 'P62807', 'Q8IWX8', 'O14654', 'P63165', 'F4ZW62', 'A6NFX8', 'Q8TDL5', 'Q05086', 'Q96JH7', 'P04083', 'P62805', 'P05166', 'P24001', 'P35325', 'O95400', 'Q9H6S1', 'Q9P0K7', 'Q9H334', 'Q00325', 'Q8WTS1', 'Q16543', 'Q5JRA6', 'P68371', 'P52179', 'Q9UMR2', 'Q9BYE4', 'P22492', 'Q9UKK9', 'Q00610', 'Q9BRK4', 'P67809', 'P35268', 'P49792', 'Q9Y4E1', 'Q9Y3S1', 'P42224', 'Q92583', 'P09493', 'E9KL37', 'O00206', 'P48788', 'Q9NUL3', 'Q14103', 'Q9BVA1', 'P08238', 'Q9NP98', 'Q06481', 'P19237', 'A0N0N7', 'Q96C34', 'O00459', 'A7MCY6', 'Q6ZN40', 'A4FTV9', 'P62979', 'B2ZZ89', 'P07437', 'Q9BTM1', 'Q03252', 'O75398', 'P13929', 'Q05BQ5', 'Q8WW38', 'Q9NQ29', 'Q08AE8', 'B4DJ51', 'Q96AH0', 'P07355', 'Q96PG8', 'P35222', 'B2RDW1', 'P07910', 'Q13427', 'P01903', 'P12236', 'Q9H6S3', 'F8VXC8', 'Q9Y5S2', 'F8VZQ9', 'A0A3B3ISQ4', 'Q9BT92', 'Q15084', 'Q01955', 'O43815', 'P31025', 'P13637', 'Q8WV24', 'P00451', 'P68431', 'P19876', 'P19013', 'A0N0Q3', 'P68104', 'Q2TBE0', 'K7EQ78', 'Q9BS26', 'B2R4P9', 'Q96JA1', 'B4DLJ1', 'Q93008', 'Q9H4A3', 'O14933', 'P13051', 'Q9GZT9', 'P05412', 'Q9BQE3', 'P04439', 'Q12905', 'Q9Y3C5', 'P28562', 'O14578', 'Q92624', 'Q86VP6', 'Q15643', 'Q9Y679', 'Q8WZ42', 'P62266', 'P58753', 'O94763', 'K7ERV3', 'Q9NUU7', 'Q96F44', 'O60814', 'P05023', 'A0A0D9SG04', 'A0A3B3IRW5', 'P12235', 'Q13085', 'O15131', 'Q96KK5', 'Q6UWP8', 'Q92844', 'O75376', 'O43390', 'P0DP23', 'P52292', 'P02511', 'Q07812', 'O00327', 'Q13618', 'Q9BXF6', 'P35221', 'Q99661', 'Q53H80', 'Q5EBL4', 'P12111', 'P84101', 'O00499', 'O75665', 'Q99836', 'Q9NRQ2', 'Q86X95', 'P58876', 'P0C0S8', 'Q92569', 'A0A0U1RRM6', 'Q6P597', 'Q9NSA3', 'Q8IUC6', 'O15020', 'O00151', 'Q99675', 'Q548T7', 'P12036', 'Q9Y2H9', 'P46778', 'Q8IY57', 'P05141', 'Q02539', 'Q01850', 'J3QK89', 'P12277', 'O95793', 'P22626', 'P02775', 'P01579', 'P61923', 'O00515', 'Q12906', 'Q16611', 'Q9UH99', 'Q71U36', 'A0A0J9YX62', 'D9YZV4', 'P54652', 'Q66GS9', 'Q8WUM4', 'Q92934', 'G3V5R9', 'P06733', 'Q08379', 'Q13162', 'Q5QNW6', 'Q8N8S7', 'P50552', 'P82979', 'P15924', 'A8ASI8', 'Q15155', 'Q9Y4Z0', 'P02776', 'Q53SF7', 'Q6P0Q8', 'O15037', 'E5KTA5', 'Q92560', 'Q9P2P1', 'O60506', 'Q4G0J3', 'P98179', 'P46776', 'Q14141', 'Q8IXT5', 'P46939', 'P78344', 'Q9Y5X3', 'P04183', 'O15021', 'Q15797', 'P38159', 'A0A1B0GTL5', 'P23246', 'Q9UPT5', 'Q6P5S2', 'O75190', 'P19525', 'Q13885', 'B2R4R0', 'Q8NFZ5', 'O43187', 'P31151', 'Q9H2G2', 'Q96ES6', 'Q01082', 'Q9Y4K3', 'P24539', 'Q08211', 'P78423', 'P0CG48', 'P27449', 'P11021', 'P14923', 'P62750', 'P09104', 'P55957', 'Q86YZ3', 'P18583', 'Q07666'}\n",
      "Number of common human UniProt accessions: 322\n"
     ]
    }
   ],
   "source": [
    "print(common_uniprot_accs)\n",
    "print(\n",
    "    f\"Number of common human UniProt accessions: {len(common_uniprot_accs):,}\"\n",
    ")"
   ]
  },
  {
   "cell_type": "code",
   "execution_count": 8,
   "id": "ad56ecdc",
   "metadata": {},
   "outputs": [],
   "source": [
    "# Regarding the human UniProt accessions of confirmed positive PPIs,\n",
    "# there is the possibility that some UniProt accessions have been\n",
    "# replaced or withdrawn/retracted altogether\n",
    "# Therefore, it is checked whether all human UniProt accessions of\n",
    "# confirmed positive interactions occur in the FASTA file for the\n",
    "# bullet-proof data set\n",
    "# Load the FASTA file\n",
    "path_to_bullet_proof_fasta = \"bullet-proof_data_set.fasta\"\n",
    "\n",
    "bullet_proof_fasta = fasta.FastaFile.read(path_to_bullet_proof_fasta)"
   ]
  },
  {
   "cell_type": "code",
   "execution_count": 9,
   "id": "702f7caf",
   "metadata": {},
   "outputs": [],
   "source": [
    "presence_list = [\n",
    "    human_acc in list(bullet_proof_fasta.keys())\n",
    "    for human_acc in human_prots_in_HVIDB\n",
    "]\n",
    "\n",
    "assert all(presence_list), (\n",
    "    \"Not all human proteins involved in positive confirmed \"\n",
    "    \"interactions occur in the FASTA file!\"\n",
    ")"
   ]
  },
  {
   "cell_type": "code",
   "execution_count": 10,
   "id": "aac3aac3",
   "metadata": {},
   "outputs": [],
   "source": [
    "# While all human UniProt accessions indeed are covered by the FASTA\n",
    "# file, there still is the possibility that some of them are outdated\n",
    "# Thus, using the NCBI Entrez database file\n",
    "# gene_refseq_uniprotkb_collab_human_9606.tsv, it is investigate whether\n",
    "# they are still valid\n",
    "human_uniprot_collab_path = \"gene_refseq_uniprotkb_collab_human_9606.tsv\"\n",
    "\n",
    "human_uniprot_collab_df = pd.read_csv(\n",
    "    human_uniprot_collab_path,\n",
    "    sep=\"\\t\"\n",
    ")"
   ]
  },
  {
   "cell_type": "code",
   "execution_count": 11,
   "id": "ab0c1905",
   "metadata": {},
   "outputs": [],
   "source": [
    "valid_uniprot_accs = human_uniprot_collab_df[\n",
    "    \"UniProtKB_protein_accession\"\n",
    "].drop_duplicates().dropna().to_list()"
   ]
  },
  {
   "cell_type": "code",
   "execution_count": 12,
   "id": "2d3b26db",
   "metadata": {},
   "outputs": [
    {
     "name": "stdout",
     "output_type": "stream",
     "text": [
      "Not all human UniProt accessions involved in confirmed positive PPIs are covered\n",
      "by the NCBI Entrez database file!\n",
      "\n",
      "F8WBV6\n",
      "A0A2R8Y5A3\n",
      "Q8WWI1\n",
      "H3BSR6\n",
      "V9GZ56\n",
      "Q5VTE0\n",
      "Q93086\n",
      "Q99729\n",
      "F8VVA7\n",
      "A8MUS3\n",
      "E9PDI4\n"
     ]
    }
   ],
   "source": [
    "validity_list = [\n",
    "    human_acc in valid_uniprot_accs\n",
    "    for human_acc in human_prots_in_HVIDB\n",
    "]\n",
    "\n",
    "if not all(validity_list):\n",
    "    print(\n",
    "        \"Not all human UniProt accessions involved in confirmed \"\n",
    "        \"positive PPIs are covered\\nby the NCBI Entrez database file!\\n\"\n",
    "    )\n",
    "\n",
    "for human_acc in human_prots_in_HVIDB:\n",
    "    if human_acc not in valid_uniprot_accs:\n",
    "        print(human_acc)"
   ]
  },
  {
   "cell_type": "code",
   "execution_count": 13,
   "id": "0ec1509f",
   "metadata": {},
   "outputs": [
    {
     "name": "stdout",
     "output_type": "stream",
     "text": [
      "Taking the human UniProt accessions not present in the NCBI files into account,\n",
      "the number of common human UniProt accessions increases to 332.\n"
     ]
    }
   ],
   "source": [
    "# As it turns out, 11 human UniProt accessions are not covered by the\n",
    "# NCBI Entrez database file\n",
    "# This, however, does not necessarily imply that the corresponding\n",
    "# accessions are outdated\n",
    "# Thus, manual UniProt database lookups are necessary\n",
    "#\n",
    "# Q5VTE0: is still valid; probably does not occur in the NCBI file since\n",
    "# it could be the product of a pseudogene\n",
    "#\n",
    "# V9GZ56: is still valid, is part of UniProt TrEMBL (unreviewed); the\n",
    "# corresponding gene is also present in the subset (LSM4)\n",
    "#\n",
    "# Q99729: is still valid, is part of UniProt Swiss-Prot (reviewed); the\n",
    "# corresponding gene is also present in the subset (HNRNPAB)\n",
    "#\n",
    "# A8MUS3: is still valid, is part of UniProt TrEMBL (unreviewed); the\n",
    "# corresponding gene is also present in the subset (RPL23A)\n",
    "#\n",
    "# E9PDI4: is still valid, is part of UniProt TrEMBL (unreviewed); the\n",
    "# corresponding gene is also present in the subset (LAD1)\n",
    "#\n",
    "# Q93086: is still valid, is part of UniProt Swiss-Prot (reviewed); the\n",
    "# corresponding gene is also present in the subset (P2RX5)\n",
    "#\n",
    "# Q8WWI1: is still valid, is part of UniProt Swiss-Prot (reviewed); the\n",
    "# corresponding gene is also present in the subset (LMO7)\n",
    "#\n",
    "# A0A2R8Y5A3: is still valid, is part of UniProt TrEMBL (unreviewed);\n",
    "# the corresponding gene is also present in the subset (CTNNB1)\n",
    "#\n",
    "# F8VVA7: is still valid, is part of UniProt TrEMBL (unreviewed); the\n",
    "# corresponding gene is also present in the subset (COPZ1)\n",
    "#\n",
    "# F8WBV6: is still valid, is part of UniProt TrEMBL (unreviewed); the\n",
    "# corresponding gene is also present in the subset (SERF2)\n",
    "#\n",
    "# H3BSR6: is still valid, is part of UniProt TrEMBL (unreviewed); the\n",
    "# corresponding gene is also present in the subset (CX3CL1)\n",
    "\n",
    "# This increases the number of common human UniProt accessions by 10\n",
    "\n",
    "print(\n",
    "    \"Taking the human UniProt accessions not present in the NCBI \"\n",
    "    \"files into account,\\nthe number of common human UniProt \"\n",
    "    \"accessions increases to 332.\"\n",
    ")"
   ]
  },
  {
   "cell_type": "markdown",
   "id": "5286b0aa",
   "metadata": {},
   "source": [
    "#### Intersection Between Human Proteins in Negative PPIs and<br>the Dharmacon Pooled Subset (Not Specific for a Data Set Split)"
   ]
  },
  {
   "cell_type": "code",
   "execution_count": 14,
   "id": "6f194e4e",
   "metadata": {},
   "outputs": [],
   "source": [
    "# Also compute the intersection between human UniProt accessions\n",
    "# involved in reliable negative PPIs and the human proteins present in\n",
    "# the subset\n",
    "# To this end, the corresponding TSV file comprising all PPIs must be\n",
    "# loaded\n",
    "path_to_all_PPIs = \"entire_bullet-proof_ppi_data_set.tsv\"\n",
    "\n",
    "all_PPIs_df = pd.read_csv(\n",
    "    path_to_all_PPIs,\n",
    "    sep=\"\\t\"\n",
    ")"
   ]
  },
  {
   "cell_type": "code",
   "execution_count": 15,
   "id": "e662fb93",
   "metadata": {},
   "outputs": [],
   "source": [
    "# Extract human UniProt accessions involved in negative PPI instances\n",
    "neg_PPIs_df = all_PPIs_df[\n",
    "    all_PPIs_df[\"label\"] == 0\n",
    "]\n",
    "\n",
    "human_prots_in_neg_PPIs = neg_PPIs_df[\n",
    "    \"Human_prot\"\n",
    "].drop_duplicates().to_list()"
   ]
  },
  {
   "cell_type": "code",
   "execution_count": 16,
   "id": "b75e94c9",
   "metadata": {},
   "outputs": [
    {
     "name": "stdout",
     "output_type": "stream",
     "text": [
      "Not all human UniProt accessions involved in negative PPIs are covered\n",
      "by the NBCI Entrez database file!\n",
      "\n",
      "Number of human UniProt accessions involved in negative PPIs\n",
      "not covered: 124\n",
      "\n",
      "A0A8I5QKX4\n",
      "Q4G0D9\n",
      "Q6DKJ9\n",
      "A0JLT1\n",
      "Q05BI1\n",
      "A0A1B0GTK2\n",
      "B4DP15\n",
      "A0A1U9X8U3\n",
      "A8K806\n",
      "A8K9A1\n",
      "B4DNI0\n",
      "H0Y6G3\n",
      "A0A0G2JJL1\n",
      "A0A140T9L0\n",
      "Q96GC8\n",
      "A0A8I5KT77\n",
      "U3KQ48\n",
      "A0A8Q3WK70\n",
      "A0A8Q3WKH7\n",
      "B4DM91\n",
      "Q6AI50\n",
      "F5GWN9\n",
      "D6RC52\n",
      "B4E303\n",
      "B4E074\n",
      "A0A0A0MRH0\n",
      "A0A7I2V506\n",
      "A0A7I2V5M5\n",
      "A0A7I2V2U7\n",
      "A0A7I2V349\n",
      "A0A7I2V699\n",
      "B4E263\n",
      "B3KWS1\n",
      "A2VDI1\n",
      "B7ZAU8\n",
      "A8MPP1\n",
      "A0A8V8TMR1\n",
      "B7Z284\n",
      "O60747\n",
      "A0JLS5\n",
      "B3KPN5\n",
      "G3V0G3\n",
      "Q05CW7\n",
      "B4DHR2\n",
      "E9PKP7\n",
      "B4DNQ1\n",
      "Q8N7L7\n",
      "A0A8Q3SHT6\n",
      "D6RC60\n",
      "F8WDT8\n",
      "B4DHA6\n",
      "B4DRX8\n",
      "B4DMU5\n",
      "C9JZT7\n",
      "O60531\n",
      "F8WC81\n",
      "E9PLY7\n",
      "F8VRX4\n",
      "C9JJU7\n",
      "H7BZ72\n",
      "E9PPY3\n",
      "H7C446\n",
      "A0A087WWQ2\n",
      "B4DQC7\n",
      "V9GYP5\n",
      "F5GYR3\n",
      "F8WE32\n",
      "G3V5S9\n",
      "Q5VU10\n",
      "B4DJR3\n",
      "B4DSM4\n",
      "B4DPI9\n",
      "A0PJ87\n",
      "I3L3U9\n",
      "M0R0P1\n",
      "D6RBR7\n",
      "J3QR28\n",
      "H0Y9Y4\n",
      "Q05DN1\n",
      "B3KVX2\n",
      "B7Z9G4\n",
      "Q96ES5\n",
      "B1AMU7\n",
      "R4GNH9\n",
      "D6R8Y9\n",
      "D6R9C8\n",
      "B4DW33\n",
      "E7EX70\n",
      "A0PJ56\n",
      "C9J6C5\n",
      "M0R2U2\n",
      "M0R1H0\n",
      "M0R2B0\n",
      "B4E098\n",
      "H0YBV6\n",
      "A8MYC1\n",
      "D6RJF7\n",
      "F8W8T7\n",
      "A0A8V8TPK8\n",
      "A0A8V8TQT0\n",
      "A0A8V8TP28\n",
      "A0A8V8TPD4\n",
      "G3V2M5\n",
      "F8WFE7\n",
      "F6VJE8\n",
      "Q5VXM9\n",
      "U3KQN5\n",
      "A0A994J4Y2\n",
      "Q53GY5\n",
      "B4DXL4\n",
      "A5D904\n",
      "A0A0A0MQS4\n",
      "I3L234\n",
      "H0Y9L8\n",
      "V9GYY5\n",
      "P0DW28\n",
      "B3KN82\n",
      "M0QYK9\n",
      "D6RC74\n",
      "A0A075B729\n",
      "B2RE66\n",
      "U3KQ75\n",
      "J3QR85\n",
      "J3KSR7\n"
     ]
    }
   ],
   "source": [
    "# Investigate whether all human UniProt accessions involved in negative\n",
    "# PPIs are also present in the\n",
    "# `gene_refseq_uniprotkb_collab_human_9606.tsv` file\n",
    "validity_list_neg_PPIs = [\n",
    "    human_acc in valid_uniprot_accs\n",
    "    for human_acc in human_prots_in_neg_PPIs\n",
    "]\n",
    "\n",
    "if not all(validity_list_neg_PPIs):\n",
    "    print(\n",
    "        \"Not all human UniProt accessions involved in negative PPIs \"\n",
    "        \"are covered\\nby the NBCI Entrez database file!\\n\"\n",
    "    )\n",
    "\n",
    "n_neg_human_accs_not_covered = (\n",
    "    len(validity_list_neg_PPIs) - sum(validity_list_neg_PPIs)\n",
    ")\n",
    "print(\n",
    "    \"Number of human UniProt accessions involved in negative PPIs\\nnot \"\n",
    "    f\"covered: {n_neg_human_accs_not_covered}\\n\"\n",
    ")\n",
    "\n",
    "for human_acc in human_prots_in_neg_PPIs:\n",
    "    if human_acc not in valid_uniprot_accs:\n",
    "        print(human_acc)"
   ]
  },
  {
   "cell_type": "code",
   "execution_count": 17,
   "id": "8da2260c",
   "metadata": {},
   "outputs": [],
   "source": [
    "# ID mapping has been conducted for these 124 human UniProt accessions\n",
    "# in order to determine the genes encoding them\n",
    "# Load the resulting TSV file\n",
    "path_to_neg_PPI_human_prots_id_mapping = (\n",
    "    \"idmapping_2025_09_30_neg_human_UniProt_accs_not_present_in_NCBI_\"\n",
    "    \"Entrez_UniProt_collab_file.tsv\"\n",
    ")\n",
    "\n",
    "id_mapping_neg_PPIs_human_prots_df = pd.read_csv(\n",
    "    path_to_neg_PPI_human_prots_id_mapping,\n",
    "    sep=\"\\t\"\n",
    ")"
   ]
  },
  {
   "cell_type": "markdown",
   "id": "592a972f",
   "metadata": {},
   "source": [
    "##### Adding Missing Gene Names to the ID Mapping TSV File"
   ]
  },
  {
   "cell_type": "code",
   "execution_count": 18,
   "id": "6bddf792",
   "metadata": {},
   "outputs": [],
   "source": [
    "# Unfortunately, some gene name entries are NaN\n",
    "# They have to be determined manually\n",
    "# Create a dictionary mapping the UniProt accessions to their gene names\n",
    "acc_to_gene_name_dict = {\n",
    "    \"B4DP15\": \"WDR46\",\n",
    "    \"A0A1U9X8U3\": \"WDR46\",\n",
    "    \"A8K806\": \"WDR46\",\n",
    "    \"A8K9A1\": \"WDR46\",\n",
    "    \"B4DNI0\": \"WDR46\",\n",
    "    \"B4DM91\": \"NOL8\",\n",
    "    \"B4E303\": \"NLE1\",\n",
    "    \"B4E074\": \"NLE1\",\n",
    "    \"B4E263\": \"HEATR1\",\n",
    "    \"B3KWS1\": \"HEATR1\",\n",
    "    \"B7ZAU8\": \"HEATR1\",\n",
    "    \"B7Z284\": \"RPA1\",\n",
    "    \"O60747\": \"GTPBP4\",\n",
    "    \"B3KPN5\": \"NOL6\",\n",
    "    \"B4DHR2\": \"GTPBP4\",\n",
    "    \"B4DNQ1\": \"UBTF\",\n",
    "    \"Q8N7L7\": \"HEATR1\",\n",
    "    \"B4DHA6\": \"EBNA1BP2\",\n",
    "    \"B4DRX8\": \"EBNA1BP2\",\n",
    "    \"O60531\": \"UTP14A\",\n",
    "    \"A0A087WWQ2\": \"EMG1\",\n",
    "    \"B4DQC7\": \"EMG1\",\n",
    "    \"V9GYP5\": \"EMG1\",\n",
    "    \"B4DJR3\": \"RPP30\",\n",
    "    \"B4DSM4\": \"MKI67IP\",\n",
    "    \"B4DPI9\": \"GNL2\",\n",
    "    \"B3KVX2\": \"UTP25\",\n",
    "    \"B7Z9G4\": \"UTP6\",\n",
    "    \"B4DW33\": \"POLR1E\",\n",
    "    \"B4E098\": \"NOP16\",\n",
    "    \"A8MYC1\": \"POP4\",\n",
    "    \"Q53GY5\": \"DGCR8\",\n",
    "    \"B4DXL4\": \"NOC3L\",\n",
    "    \"V9GYY5\": \"NOL12\",\n",
    "    \"B3KN82\": \"NOP58\",\n",
    "    \"B2RE66\": \"ZNF501\"\n",
    "}"
   ]
  },
  {
   "cell_type": "code",
   "execution_count": 32,
   "id": "2a3fff56",
   "metadata": {},
   "outputs": [],
   "source": [
    "# Update the ID mapping TSV file with the manually determined gene names\n",
    "for uniprot_acc, gene_name in acc_to_gene_name_dict.items():\n",
    "    id_mapping_neg_PPIs_human_prots_df.loc[\n",
    "        id_mapping_neg_PPIs_human_prots_df[\"From\"] == uniprot_acc,\n",
    "        \"Gene Names\"\n",
    "    ] = gene_name"
   ]
  },
  {
   "cell_type": "code",
   "execution_count": 33,
   "id": "e4fb2ea9",
   "metadata": {},
   "outputs": [],
   "source": [
    "# Perform a sanity check to ensure that all NaN entries have been\n",
    "# replaced\n",
    "assert not any(\n",
    "    id_mapping_neg_PPIs_human_prots_df[\"Gene Names\"].isna().to_list()\n",
    "), \"Not all NaN entries have been replaced with gene names!\""
   ]
  },
  {
   "cell_type": "code",
   "execution_count": 34,
   "id": "60dd4ff8",
   "metadata": {},
   "outputs": [],
   "source": [
    "# Finally, overwrite the ID mapping TSV file with the updated Pandas\n",
    "# DataFrame\n",
    "id_mapping_neg_PPIs_human_prots_df.to_csv(\n",
    "    \"idmapping_2025_09_30_neg_human_UniProt_accs_not_present_in_NCBI_\"\n",
    "    \"Entrez_UniProt_collab_file.tsv\",\n",
    "    sep=\"\\t\",\n",
    "    index=False\n",
    ")"
   ]
  },
  {
   "cell_type": "markdown",
   "id": "39caf6e4",
   "metadata": {},
   "source": [
    "##### Determining Common Genes Between Negative PPI Instances and the<br>Dharmacon Pooled Subset for PPI Pair Generation"
   ]
  },
  {
   "cell_type": "code",
   "execution_count": 19,
   "id": "c470691b",
   "metadata": {},
   "outputs": [],
   "source": [
    "# Load the updated ID mapping TSV file\n",
    "id_mapping_neg_PPIs_human_prots_df = pd.read_csv(\n",
    "    \"idmapping_2025_09_30_neg_human_UniProt_accs_not_present_in_NCBI_\"\n",
    "    \"Entrez_UniProt_collab_file.tsv\",\n",
    "    sep=\"\\t\"\n",
    ")"
   ]
  },
  {
   "cell_type": "code",
   "execution_count": 20,
   "id": "483c8786",
   "metadata": {},
   "outputs": [],
   "source": [
    "# Now, determine the intersection of genes between the screen subset and\n",
    "# the ID mapping TSV file\n",
    "# This is necessary in order to create PPI pairs (logically, the missing\n",
    "# UniProt accessions were not present in the `UniProt_IDs` column of the\n",
    "# subset TSV file and thus not taken into account during PPI pair\n",
    "# generation)\n",
    "\n",
    "# Set of genes in the ID mapping TSV file\n",
    "id_mapping_neg_PPIs_human_prots_genes_set = set(\n",
    "    id_mapping_neg_PPIs_human_prots_df[\"Gene Names\"].to_list()\n",
    ")\n",
    "\n",
    "# Set of genes in the subset\n",
    "dp_g1_g2_subset_genes_set = set(\n",
    "    dp_g1_g2_subset_df[\"Name\"].dropna().drop_duplicates().to_list()\n",
    ")\n",
    "\n",
    "common_genes_neg_PPIs_screen_subset = set.intersection(\n",
    "    id_mapping_neg_PPIs_human_prots_genes_set,\n",
    "    dp_g1_g2_subset_genes_set\n",
    ")"
   ]
  },
  {
   "cell_type": "code",
   "execution_count": 21,
   "id": "bee369b0",
   "metadata": {},
   "outputs": [],
   "source": [
    "# Create a dictionary mapping the gene names to a list of UniProt\n",
    "# accessions in the ID mapping TSV file\n",
    "# To this end, the `defaultdict` class is used\n",
    "from collections import defaultdict\n",
    "\n",
    "id_mapping_gene_name_to_uniprot_acc_dict = defaultdict(list)\n",
    "\n",
    "for _, row in id_mapping_neg_PPIs_human_prots_df.iterrows():\n",
    "    gene_name = row[\"Gene Names\"]\n",
    "    uniprot_acc = row[\"Entry\"]\n",
    "    id_mapping_gene_name_to_uniprot_acc_dict[gene_name].append(\n",
    "        uniprot_acc\n",
    "    )"
   ]
  },
  {
   "cell_type": "code",
   "execution_count": 22,
   "id": "5c302087",
   "metadata": {},
   "outputs": [
    {
     "name": "stdout",
     "output_type": "stream",
     "text": [
      "\"F8WE32\": \"TAF1B\",\n",
      "\"U3KQ75\": \"TAF1B\",\n",
      "\"F8WDT8\": \"DDX56\",\n",
      "\"C9J6C5\": \"NIFK\",\n",
      "\"D6RJF7\": \"NEK11\",\n",
      "\"A0A1B0GTK2\": \"LIN28B\",\n",
      "\"A0A8I5KT77\": \"PHF8\",\n",
      "\"B1AMU7\": \"EXOSC1\",\n",
      "\"R4GNH9\": \"EXOSC1\",\n",
      "\"U3KQ48\": \"MPHOSPH10\",\n",
      "\"A0A8Q3WK70\": \"MPHOSPH10\",\n",
      "\"A0A8Q3WKH7\": \"MPHOSPH10\",\n",
      "\"F5GYR3\": \"NOP2\",\n",
      "\"F6VJE8\": \"UTP18\",\n",
      "\"J3QR85\": \"UTP18\",\n",
      "\"J3KSR7\": \"UTP18\",\n",
      "\"Q5VU10\": \"RPP30\",\n",
      "\"B4DJR3\": \"RPP30\",\n",
      "\"J3QR28\": \"NOL11\",\n",
      "\"B4DW33\": \"POLR1E\",\n",
      "\"E7EX70\": \"POLR1E\",\n",
      "\"B7Z9G4\": \"UTP6\",\n",
      "\"A0PJ56\": \"MAK16\",\n",
      "\"H0YBV6\": \"MAK16\",\n",
      "\"Q05CW7\": \"NAT10\",\n",
      "\"V9GYY5\": \"NOL12\",\n",
      "\"G3V5S9\": \"FCF1\",\n",
      "\"G3V2M5\": \"FCF1\",\n",
      "\"B2RE66\": \"ZNF501\",\n",
      "\"Q5VXM9\": \"RPF2\",\n",
      "\"U3KQN5\": \"RPF2\",\n",
      "\"M0QYK9\": \"DEDD2\",\n",
      "\"B4DP15\": \"WDR46\",\n",
      "\"A0A1U9X8U3\": \"WDR46\",\n",
      "\"A8K806\": \"WDR46\",\n",
      "\"A8K9A1\": \"WDR46\",\n",
      "\"B4DNI0\": \"WDR46\",\n",
      "\"H0Y6G3\": \"WDR46\",\n",
      "\"A0A0G2JJL1\": \"WDR46\",\n",
      "\"A0A140T9L0\": \"WDR46\",\n",
      "\"B4E303\": \"NLE1\",\n",
      "\"B4E074\": \"NLE1\",\n",
      "\"A0A0A0MRH0\": \"NLE1\",\n",
      "\"Q4G0D9\": \"BOP1\",\n",
      "\"Q6DKJ9\": \"BOP1\",\n",
      "\"A0A075B729\": \"BOP1\",\n",
      "\"P0DW28\": \"RBM10\",\n",
      "\"E9PKP7\": \"UBTF\",\n",
      "\"B4DNQ1\": \"UBTF\",\n",
      "\"B4DM91\": \"NOL8\",\n",
      "\"F5GWN9\": \"NOL8\",\n",
      "\"B3KVX2\": \"UTP25\",\n",
      "\"A0A8I5QKX4\": \"ZBTB11\",\n",
      "\"E9PPY3\": \"RRP8\",\n",
      "\"F8W8T7\": \"SDAD1\",\n",
      "\"D6RC74\": \"SDAD1\",\n",
      "\"A0A8V8TMR1\": \"PRKDC\",\n",
      "\"A0JLS5\": \"TBL3\",\n",
      "\"A0A8V8TPK8\": \"NOP10\",\n",
      "\"A0A8V8TQT0\": \"NOP10\",\n",
      "\"A0A8V8TP28\": \"NOP10\",\n",
      "\"A0A8V8TPD4\": \"NOP10\",\n",
      "\"O60747\": \"GTPBP4\",\n",
      "\"B4DHR2\": \"GTPBP4\",\n",
      "\"A0A087WWQ2\": \"EMG1\",\n",
      "\"B4DQC7\": \"EMG1\",\n",
      "\"V9GYP5\": \"EMG1\",\n",
      "\"F8WFE7\": \"RPS19BP1\",\n",
      "\"D6RC60\": \"NOP16\",\n",
      "\"B4E098\": \"NOP16\",\n",
      "\"A0A7I2V506\": \"NCL\",\n",
      "\"A0A7I2V5M5\": \"NCL\",\n",
      "\"A0A7I2V2U7\": \"NCL\",\n",
      "\"A0A7I2V349\": \"NCL\",\n",
      "\"A0A7I2V699\": \"NCL\",\n",
      "\"M0R0P1\": \"FBL\",\n",
      "\"M0R2U2\": \"FBL\",\n",
      "\"M0R1H0\": \"FBL\",\n",
      "\"M0R2B0\": \"FBL\",\n",
      "\"H7C446\": \"PPAN\",\n",
      "\"B4DXL4\": \"NOC3L\",\n",
      "\"F8VRX4\": \"DDX54\",\n",
      "\"B4DPI9\": \"GNL2\",\n",
      "\"D6RC52\": \"NHP2\",\n",
      "\"B4DHA6\": \"EBNA1BP2\",\n",
      "\"B4DRX8\": \"EBNA1BP2\",\n",
      "\"B4DMU5\": \"GNL3\",\n",
      "\"C9JZT7\": \"GNL3\",\n",
      "\"A0A994J4Y2\": \"DGCR8\",\n",
      "\"Q53GY5\": \"DGCR8\",\n",
      "\"H7BZ72\": \"NOP58\",\n",
      "\"B3KN82\": \"NOP58\",\n",
      "\"E9PLY7\": \"FRG1\",\n",
      "\"A8MYC1\": \"POP4\",\n",
      "\"A0A0A0MQS4\": \"POP4\",\n",
      "\"F8WC81\": \"WDR75\",\n",
      "\"A0PJ87\": \"RSL1D1\",\n",
      "\"I3L3U9\": \"RSL1D1\",\n",
      "\"I3L234\": \"RSL1D1\",\n",
      "\"A0A8Q3SHT6\": \"NOL10\",\n",
      "\"H0Y9Y4\": \"RPS3A\",\n",
      "\"Q05DN1\": \"ZCCHC7\",\n",
      "\"C9JJU7\": \"SLX9\",\n",
      "\"B4E263\": \"HEATR1\",\n",
      "\"B3KWS1\": \"HEATR1\",\n",
      "\"A2VDI1\": \"HEATR1\",\n",
      "\"B7ZAU8\": \"HEATR1\",\n",
      "\"Q8N7L7\": \"HEATR1\",\n",
      "\"Q96ES5\": \"HEATR1\",\n",
      "\"B7Z284\": \"RPA1\",\n",
      "\"B3KPN5\": \"NOL6\",\n",
      "\"O60531\": \"UTP14A\",\n",
      "\"A5D904\": \"RPS9\",\n",
      "\"H0Y9L8\": \"RIOX2\",\n",
      "\"Q96GC8\": \"NOP14\",\n",
      "\"D6RBR7\": \"ZNF330\",\n",
      "\"D6R8Y9\": \"ZNF330\",\n",
      "\"D6R9C8\": \"ZNF330\",\n"
     ]
    }
   ],
   "source": [
    "# For each common gene, print the respective gene and the corresponding\n",
    "# UniProt accession in a dictionary-like format, i.e.\n",
    "# \"<UniProt accession>\": \"<gene name>\"\n",
    "for common_gene in common_genes_neg_PPIs_screen_subset:\n",
    "    for acc in id_mapping_gene_name_to_uniprot_acc_dict[common_gene]:\n",
    "        print(f\"\\\"{acc}\\\": \\\"{common_gene}\\\",\")"
   ]
  },
  {
   "cell_type": "code",
   "execution_count": 23,
   "id": "f17fdb1e",
   "metadata": {},
   "outputs": [
    {
     "name": "stdout",
     "output_type": "stream",
     "text": [
      "\"TAF1B\": ['F8WE32', 'U3KQ75'],\n",
      "\"DDX56\": ['F8WDT8'],\n",
      "\"NIFK\": ['C9J6C5'],\n",
      "\"NEK11\": ['D6RJF7'],\n",
      "\"LIN28B\": ['A0A1B0GTK2'],\n",
      "\"PHF8\": ['A0A8I5KT77'],\n",
      "\"EXOSC1\": ['B1AMU7', 'R4GNH9'],\n",
      "\"MPHOSPH10\": ['U3KQ48', 'A0A8Q3WK70', 'A0A8Q3WKH7'],\n",
      "\"NOP2\": ['F5GYR3'],\n",
      "\"UTP18\": ['F6VJE8', 'J3QR85', 'J3KSR7'],\n",
      "\"RPP30\": ['Q5VU10', 'B4DJR3'],\n",
      "\"NOL11\": ['J3QR28'],\n",
      "\"POLR1E\": ['B4DW33', 'E7EX70'],\n",
      "\"UTP6\": ['B7Z9G4'],\n",
      "\"MAK16\": ['A0PJ56', 'H0YBV6'],\n",
      "\"NAT10\": ['Q05CW7'],\n",
      "\"NOL12\": ['V9GYY5'],\n",
      "\"FCF1\": ['G3V5S9', 'G3V2M5'],\n",
      "\"ZNF501\": ['B2RE66'],\n",
      "\"RPF2\": ['Q5VXM9', 'U3KQN5'],\n",
      "\"DEDD2\": ['M0QYK9'],\n",
      "\"WDR46\": ['B4DP15', 'A0A1U9X8U3', 'A8K806', 'A8K9A1', 'B4DNI0', 'H0Y6G3', 'A0A0G2JJL1', 'A0A140T9L0'],\n",
      "\"NLE1\": ['B4E303', 'B4E074', 'A0A0A0MRH0'],\n",
      "\"BOP1\": ['Q4G0D9', 'Q6DKJ9', 'A0A075B729'],\n",
      "\"RBM10\": ['P0DW28'],\n",
      "\"UBTF\": ['E9PKP7', 'B4DNQ1'],\n",
      "\"NOL8\": ['B4DM91', 'F5GWN9'],\n",
      "\"UTP25\": ['B3KVX2'],\n",
      "\"ZBTB11\": ['A0A8I5QKX4'],\n",
      "\"RRP8\": ['E9PPY3'],\n",
      "\"SDAD1\": ['F8W8T7', 'D6RC74'],\n",
      "\"PRKDC\": ['A0A8V8TMR1'],\n",
      "\"TBL3\": ['A0JLS5'],\n",
      "\"NOP10\": ['A0A8V8TPK8', 'A0A8V8TQT0', 'A0A8V8TP28', 'A0A8V8TPD4'],\n",
      "\"GTPBP4\": ['O60747', 'B4DHR2'],\n",
      "\"EMG1\": ['A0A087WWQ2', 'B4DQC7', 'V9GYP5'],\n",
      "\"RPS19BP1\": ['F8WFE7'],\n",
      "\"NOP16\": ['D6RC60', 'B4E098'],\n",
      "\"NCL\": ['A0A7I2V506', 'A0A7I2V5M5', 'A0A7I2V2U7', 'A0A7I2V349', 'A0A7I2V699'],\n",
      "\"FBL\": ['M0R0P1', 'M0R2U2', 'M0R1H0', 'M0R2B0'],\n",
      "\"PPAN\": ['H7C446'],\n",
      "\"NOC3L\": ['B4DXL4'],\n",
      "\"DDX54\": ['F8VRX4'],\n",
      "\"GNL2\": ['B4DPI9'],\n",
      "\"NHP2\": ['D6RC52'],\n",
      "\"EBNA1BP2\": ['B4DHA6', 'B4DRX8'],\n",
      "\"GNL3\": ['B4DMU5', 'C9JZT7'],\n",
      "\"DGCR8\": ['A0A994J4Y2', 'Q53GY5'],\n",
      "\"NOP58\": ['H7BZ72', 'B3KN82'],\n",
      "\"FRG1\": ['E9PLY7'],\n",
      "\"POP4\": ['A8MYC1', 'A0A0A0MQS4'],\n",
      "\"WDR75\": ['F8WC81'],\n",
      "\"RSL1D1\": ['A0PJ87', 'I3L3U9', 'I3L234'],\n",
      "\"NOL10\": ['A0A8Q3SHT6'],\n",
      "\"RPS3A\": ['H0Y9Y4'],\n",
      "\"ZCCHC7\": ['Q05DN1'],\n",
      "\"SLX9\": ['C9JJU7'],\n",
      "\"HEATR1\": ['B4E263', 'B3KWS1', 'A2VDI1', 'B7ZAU8', 'Q8N7L7', 'Q96ES5'],\n",
      "\"RPA1\": ['B7Z284'],\n",
      "\"NOL6\": ['B3KPN5'],\n",
      "\"UTP14A\": ['O60531'],\n",
      "\"RPS9\": ['A5D904'],\n",
      "\"RIOX2\": ['H0Y9L8'],\n",
      "\"NOP14\": ['Q96GC8'],\n",
      "\"ZNF330\": ['D6RBR7', 'D6R8Y9', 'D6R9C8'],\n"
     ]
    }
   ],
   "source": [
    "# Additionally, also print common genes and their UniProt accessions in\n",
    "# the following format: <gene name>: <list of UniProt accessions>\n",
    "for common_gene in common_genes_neg_PPIs_screen_subset:\n",
    "    uniprot_accs_list = id_mapping_gene_name_to_uniprot_acc_dict[common_gene]\n",
    "    print(f\"\\\"{common_gene}\\\": \", uniprot_accs_list, \",\", sep=\"\")"
   ]
  },
  {
   "cell_type": "markdown",
   "id": "d91f5003",
   "metadata": {},
   "source": [
    "##### Computing Intersections"
   ]
  },
  {
   "cell_type": "code",
   "execution_count": 24,
   "id": "85a389b8",
   "metadata": {},
   "outputs": [],
   "source": [
    "# Compute the intersection between the human UniProt accessions involved\n",
    "# in negative PPIs and the human proteins present in the subset\n",
    "common_uniprot_accs_neg_PPIs = set.intersection(\n",
    "    set(human_prots_in_subset_list), set(human_prots_in_neg_PPIs)\n",
    ")"
   ]
  },
  {
   "cell_type": "code",
   "execution_count": 25,
   "id": "6b7ac25b",
   "metadata": {},
   "outputs": [
    {
     "name": "stdout",
     "output_type": "stream",
     "text": [
      "{'Q8N3Z6', 'E7EW05', 'Q4FZ45', 'B7ZAN7', 'B8ZZ47', 'Q9BZE4', 'Q9P0T8', 'Q9NV06', 'Q15269', 'D6RIC3', 'P52272', 'Q96G21', 'Q14146', 'B4DYZ1', 'Q9H0S4', 'Q9BVJ6', 'E7ENR5', 'Q5U5Z3', 'B3KQ21', 'A0A7I2V3F3', 'A0A994J7C7', 'Q7Z2T5', 'Q68CQ4', 'B9A008', 'A3F769', 'Q8NI36', 'A0JLQ5', 'H7C2Q8', 'Q9UL41', 'Q3B726', 'Q9NW13', 'A0A6M8YDW1', 'P49715', 'Q9NVN8', 'Q9BXY0', 'O43159', 'Q9UL42', 'Q9NYV6', 'B2RD09', 'B2R9F5', 'A0A8J8YW94', 'A0A2R8Y6A4', 'Q5J7U2', 'Q9BRU9', 'Q76FK4', 'Q9H8H0', 'Q99848', 'P17480', 'Q53ES5', 'Q9NY61', 'B4DT66', 'Q08E77', 'Q13823', 'O95625', 'A0AAG2UWQ9', 'Q53T94', 'P78316', 'Q9H633', 'B1ALV0', 'Q96HI0', 'Q9Y3C1', 'Q8N4P8', 'D6RCB9', 'J3KNP2', 'Q9GZS1', 'H0Y714', 'A0A590UJW4', 'A0A087WXF8', 'B9EG90', 'Q9NVX2', 'P78345', 'A3F768', 'Q4ZG72', 'P56182', 'Q15572', 'Q8ND90', 'Q8IZU1', 'Q5T8A7', 'E9PS41', 'A2A2V2', 'Q9UHA3', 'Q969H6', 'A0A8I5KX72', 'B1AMU4', 'A8K6D2', 'Q13428', 'Q92979', 'Q5T0F3', 'Q5VU11', 'Q5TAP6', 'Q96P11', 'O15213', 'A8K330', 'P36954', 'O15226', 'B3KX63', 'Q9H9Y2', 'B4DYA9', 'A0A0D9SEW3', 'B3KTZ6', 'Q8IWA0', 'A0A1U9X8W1', 'Q53HB9', 'O75818', 'Q68D10', 'Q9Y6V7', 'Q2NL82', 'Q1ED39', 'A8MV53', 'H0Y8P4', 'Q9H0D6', 'G3V1S4', 'A0A6M8YHF9', 'A0A2U3TZM3', 'Q9NVU7', 'B4E024', 'F8WE42', 'Q8N8A6', 'A8K9U0', 'Q9NQZ2', 'F5H101', 'R4GMQ7', 'O43818', 'A0A994J7A5', 'A8K7A1', 'A8KA74', 'Q14692', 'Q9NYH9', 'Q8TDN6', 'Q9Y3A2', 'Q6NUN2', 'B4DLD4', 'A0A384NL74', 'Q96EU6', 'P42696', 'A7E2T3', 'Q9Y5J1', 'A0A087WXU5', 'Q9HAJ7', 'Q53GS0', 'A8K905', 'Q12788', 'A0A1B0GVD3', 'B4E343', 'Q9H9L3', 'Q53EN0', 'A0A0C4DGU5', 'Q9Y324', 'Q9Y2R4', 'B4DM56', 'H0Y3N9', 'Q96AY2', 'O94818', 'Q8TDD1', 'Q8TED0', 'A0A087X0R7', 'Q9NRX1', 'Q8IY81', 'O95478', 'A8K0P8', 'Q15050', 'B4DSL9', 'Q9Y221', 'Q6IB29', 'B2R9K5', 'A0A590UJ73', 'Q9NV31', 'B2RAX6', 'A0A6M8YDW2', 'A0A1U9X8U7', 'Q5VZU3', 'B4DFG9', 'K7ERD7', 'Q9NY93', 'Q96NY9', 'A8K818', 'B2R823', 'A8K962', 'B3KPV5', 'B0UZZ8', 'A0A0S2Z5C3', 'E9PHI8', 'A0A8Q3SHX7', 'B4E005', 'A0A087WYF0', 'Q99575', 'E9PFK5', 'A0A024R753', 'D2CFK9', 'Q9NWT1', 'Q9NP64', 'Q9H0U9', 'F6VXF5', 'Q8N6M6', 'O95707', 'B4DT51'}\n",
      "Number of common human UniProt accessions (without missing UniProt accessions): 196\n"
     ]
    }
   ],
   "source": [
    "print(common_uniprot_accs_neg_PPIs)\n",
    "print(\n",
    "    \"Number of common human UniProt accessions (without missing \"\n",
    "    \"UniProt accessions): \"\n",
    "    f\"{len(common_uniprot_accs_neg_PPIs)}\"\n",
    ")"
   ]
  },
  {
   "cell_type": "code",
   "execution_count": 26,
   "id": "02f96a4b",
   "metadata": {},
   "outputs": [],
   "source": [
    "# Additionally, also determine the intersection for the missing UniProt\n",
    "# accessions\n",
    "# This has already been done above with the generation of the\n",
    "# `id_mapping_gene_name_to_uniprot_acc_dict` dict and the determination\n",
    "# of common genes\n",
    "n_common_missing_hum_uniprot_accs_neg_PPIs = 0\n",
    "\n",
    "for common_gene in common_genes_neg_PPIs_screen_subset:\n",
    "    n_common_uniprot_accs = len(\n",
    "        id_mapping_gene_name_to_uniprot_acc_dict[common_gene]\n",
    "    )\n",
    "    n_common_missing_hum_uniprot_accs_neg_PPIs += n_common_uniprot_accs"
   ]
  },
  {
   "cell_type": "code",
   "execution_count": 27,
   "id": "c985a447",
   "metadata": {},
   "outputs": [
    {
     "name": "stdout",
     "output_type": "stream",
     "text": [
      "Number of common missing UniProt accessions: 118\n"
     ]
    }
   ],
   "source": [
    "print(\n",
    "    \"Number of common missing UniProt accessions: \"\n",
    "    f\"{n_common_missing_hum_uniprot_accs_neg_PPIs:,}\"\n",
    ")"
   ]
  },
  {
   "cell_type": "markdown",
   "id": "9f3210f2",
   "metadata": {},
   "source": [
    "#### Computing the Intersection for the Test Set"
   ]
  },
  {
   "cell_type": "code",
   "execution_count": 28,
   "id": "b6befe28",
   "metadata": {},
   "outputs": [],
   "source": [
    "# The Dharmacon pooled subset TSV file has been updated with the missing\n",
    "# UniProt accessions from both confirmed positive PPIs and reliable\n",
    "# negative PPIs\n",
    "# Load the updated subset TSV file\n",
    "path_to_latest_subset_tsv_file = (\n",
    "    \"Dharmacon_pooled_G1_G2_screening_plates_subset_with_missing_\"\n",
    "    \"UniProt_IDs_Z-scored.tsv\"\n",
    ")\n",
    "\n",
    "dp_g1_g2_subset_df = pd.read_csv(\n",
    "    path_to_latest_subset_tsv_file,\n",
    "    sep=\"\\t\"\n",
    ")"
   ]
  },
  {
   "cell_type": "code",
   "execution_count": 29,
   "id": "67118159",
   "metadata": {},
   "outputs": [],
   "source": [
    "# Once again, compute the intersection between the screen subset human\n",
    "# UniProt accessions and the human UniProt accessions from the combined\n",
    "# PPI data set\n",
    "human_prots_in_subset_list = dp_g1_g2_subset_df[\n",
    "    \"UniProt_IDs\"\n",
    "].dropna().to_list()\n",
    "\n",
    "# Intermediate conversion to a set removes possible duplicates\n",
    "human_prots_in_subset_list = list(set([\n",
    "    uniprot_acc\n",
    "    for entry in human_prots_in_subset_list\n",
    "    for uniprot_acc in entry.split(\";\")\n",
    "\n",
    "]))"
   ]
  },
  {
   "cell_type": "code",
   "execution_count": 30,
   "id": "0db32b98",
   "metadata": {},
   "outputs": [],
   "source": [
    "# Intersection between the screen subset human UniProt accessions and\n",
    "# the human proteins involved in confirmed positive PPIs\n",
    "common_uniprot_accs_pos_ppis = set.intersection(\n",
    "    set(human_prots_in_subset_list), set(human_prots_in_HVIDB)\n",
    ")"
   ]
  },
  {
   "cell_type": "code",
   "execution_count": 32,
   "id": "d098d903",
   "metadata": {},
   "outputs": [],
   "source": [
    "assert (\n",
    "    len(common_uniprot_accs_pos_ppis)\n",
    "    ==\n",
    "    (322 + 10)\n",
    "), \"Something went wrong while updating the subset TSV file!\""
   ]
  },
  {
   "cell_type": "code",
   "execution_count": 33,
   "id": "e09f0468",
   "metadata": {},
   "outputs": [],
   "source": [
    "# Intersection between the screen subset human UniProt accessions and\n",
    "# the human proteins involved in reliable negative PPIs\n",
    "common_uniprot_accs_neg_ppis = set.intersection(\n",
    "    set(human_prots_in_subset_list), set(human_prots_in_neg_PPIs)\n",
    ")"
   ]
  },
  {
   "cell_type": "code",
   "execution_count": 34,
   "id": "63dc3dca",
   "metadata": {},
   "outputs": [],
   "source": [
    "assert (\n",
    "    len(common_uniprot_accs_neg_ppis)\n",
    "    ==\n",
    "    (196 + 118)\n",
    "), \"Something went wrong while updating the subset TSV file!\""
   ]
  },
  {
   "cell_type": "code",
   "execution_count": 39,
   "id": "8efc2118",
   "metadata": {},
   "outputs": [],
   "source": [
    "# Now that the sanity checks have successfully been passed, finally\n",
    "# determine the intersection between the screen subset human UniProt\n",
    "# accessions and the test set human UniProt accessions\n",
    "# To this end, the test set has to be loaded into a Pandas DataFrame\n",
    "path_to_test_set = (\n",
    "    \"/Users/jacobanter/Documents/Code/VACV_screen/HVIDB_pos_instances_\"\n",
    "    \"with_nucleolus_neg_instances/new_combined_data_set_creation/data_\"\n",
    "    \"set_files/bullet-proof_test_set.tsv\"\n",
    ")\n",
    "\n",
    "test_set_df = pd.read_csv(\n",
    "    path_to_test_set,\n",
    "    sep=\"\\t\"\n",
    ")"
   ]
  },
  {
   "cell_type": "code",
   "execution_count": 41,
   "id": "eec5b1d4",
   "metadata": {},
   "outputs": [],
   "source": [
    "# Extract the unique human UniProt accessions from the test set\n",
    "test_set_human_uniprot_accs = test_set_df[\n",
    "    \"Human_prot\"\n",
    "].drop_duplicates().to_list()"
   ]
  },
  {
   "cell_type": "code",
   "execution_count": 43,
   "id": "fd7ef608",
   "metadata": {},
   "outputs": [],
   "source": [
    "test_set_common_human_uniprot_accs = set.intersection(\n",
    "    set(human_prots_in_subset_list), set(test_set_human_uniprot_accs)\n",
    ")"
   ]
  },
  {
   "cell_type": "code",
   "execution_count": 45,
   "id": "6a8159e7",
   "metadata": {},
   "outputs": [
    {
     "name": "stdout",
     "output_type": "stream",
     "text": [
      "Number of common human UniProt accessions shared between the screen subset\n",
      "and the test set: 62\n"
     ]
    }
   ],
   "source": [
    "print(\n",
    "    \"Number of common human UniProt accessions shared between the \"\n",
    "    \"screen subset\\nand the test set: \"\n",
    "    f\"{len(test_set_common_human_uniprot_accs):,}\"\n",
    ")"
   ]
  },
  {
   "cell_type": "code",
   "execution_count": null,
   "id": "42127170",
   "metadata": {},
   "outputs": [],
   "source": []
  }
 ],
 "metadata": {
  "kernelspec": {
   "display_name": "bioinformatics",
   "language": "python",
   "name": "python3"
  },
  "language_info": {
   "codemirror_mode": {
    "name": "ipython",
    "version": 3
   },
   "file_extension": ".py",
   "mimetype": "text/x-python",
   "name": "python",
   "nbconvert_exporter": "python",
   "pygments_lexer": "ipython3",
   "version": "3.10.8"
  }
 },
 "nbformat": 4,
 "nbformat_minor": 5
}
