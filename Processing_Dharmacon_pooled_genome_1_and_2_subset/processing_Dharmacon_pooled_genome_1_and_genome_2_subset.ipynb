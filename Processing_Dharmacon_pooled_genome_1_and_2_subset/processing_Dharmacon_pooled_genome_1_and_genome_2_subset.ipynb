{
 "cells": [
  {
   "cell_type": "code",
   "execution_count": 1,
   "id": "3d70317a",
   "metadata": {},
   "outputs": [
    {
     "data": {
      "text/plain": [
       "'\\nThe purpose of this Jupyter notebook is to process the Dharmacon pooled\\nGenome 1 and Genome 2 subset of the VACV screen.\\n'"
      ]
     },
     "execution_count": 1,
     "metadata": {},
     "output_type": "execute_result"
    }
   ],
   "source": [
    "\"\"\"\n",
    "The purpose of this Jupyter notebook is to process the Dharmacon pooled\n",
    "Genome 1 and Genome 2 subset of the VACV screen.\n",
    "\"\"\""
   ]
  },
  {
   "cell_type": "code",
   "execution_count": 1,
   "id": "8d984fb8",
   "metadata": {},
   "outputs": [],
   "source": [
    "import os\n",
    "import math\n",
    "\n",
    "import pandas as pd\n",
    "from biotite.sequence.io import fasta"
   ]
  },
  {
   "cell_type": "markdown",
   "id": "c0d40810",
   "metadata": {},
   "source": [
    "#### Extraction of Dharmacon Pooled Genome 1 & 2 Screening Plates Subset"
   ]
  },
  {
   "cell_type": "code",
   "execution_count": 32,
   "id": "f5825579",
   "metadata": {},
   "outputs": [
    {
     "name": "stderr",
     "output_type": "stream",
     "text": [
      "/var/folders/j1/64kbg_f11z97kx1dw__420vh0000gn/T/ipykernel_3966/4203157425.py:6: DtypeWarning: Columns (37) have mixed types. Specify dtype option on import or set low_memory=False.\n",
      "  entire_vacv_screen_df = pd.read_csv(\n"
     ]
    }
   ],
   "source": [
    "path_to_entire_vacv_screen = (\n",
    "    \"/Users/jacobanter/Documents/Code/VACV_screen/VacciniaReport_\"\n",
    "    \"20170223-0958_ZScored_conc_and_NaN_adjusted.csv\"\n",
    ")\n",
    "\n",
    "entire_vacv_screen_df = pd.read_csv(\n",
    "    path_to_entire_vacv_screen,\n",
    "    sep=\"\\t\"\n",
    ")"
   ]
  },
  {
   "cell_type": "code",
   "execution_count": 33,
   "id": "46c7a051",
   "metadata": {},
   "outputs": [],
   "source": [
    "# Now, extract the subset of interest, i.e. the Dharmacon pooled genome\n",
    "# 1 and 2 subset with screening plates and no checkerboard plates\n",
    "# Note that the `query()` method can be used instead of square brackets\n",
    "# in order to avoid entering the DataFrame name multiple times\n",
    "dp_g1_g2_subset_df = entire_vacv_screen_df.query(\n",
    "    \"(Experiment == 'VACCINIA-DP-G1' or Experiment == 'VACCINIA-DP-G2') \"\n",
    "    \"and \"\n",
    "    \"PLATE_TYPE == 'ScreeningPlate'\"\n",
    ")"
   ]
  },
  {
   "cell_type": "code",
   "execution_count": 34,
   "id": "04068bd7",
   "metadata": {},
   "outputs": [],
   "source": [
    "assert len(dp_g1_g2_subset_df) == 43776, (\n",
    "    \"Something went wrong while extracting the subset from the screen!\"\n",
    ")"
   ]
  },
  {
   "cell_type": "code",
   "execution_count": 35,
   "id": "3c8fa77d",
   "metadata": {},
   "outputs": [],
   "source": [
    "# Save the Dharmacon pooled subset to a TSV file\n",
    "dp_g1_g2_subset_df.to_csv(\n",
    "    \"Dharmacon_pooled_G1_G2_screening_plates_subset.tsv\",\n",
    "    sep=\"\\t\",\n",
    "    index=False\n",
    ")"
   ]
  },
  {
   "cell_type": "markdown",
   "id": "54630c3d",
   "metadata": {},
   "source": [
    "#### Determining Unique Gene IDs"
   ]
  },
  {
   "cell_type": "code",
   "execution_count": 20,
   "id": "3a08022f",
   "metadata": {},
   "outputs": [],
   "source": [
    "# Load the Dharmacon pooled subset into a DataFrame\n",
    "path_to_dharmacon_pooled_subset = (\n",
    "    \"Dharmacon_pooled_G1_G2_screening_plates_subset.tsv\"\n",
    ")\n",
    "\n",
    "dp_g1_g2_subset_df = pd.read_csv(\n",
    "    path_to_dharmacon_pooled_subset,\n",
    "    sep=\"\\t\"\n",
    ")"
   ]
  },
  {
   "cell_type": "code",
   "execution_count": 21,
   "id": "3b3c95c7",
   "metadata": {},
   "outputs": [],
   "source": [
    "# Determine the unique values in the \"ID_manufacturer\" column to query\n",
    "# NCBI Entrez with\n",
    "unique_ids = dp_g1_g2_subset_df[\"ID_manufacturer\"].unique()"
   ]
  },
  {
   "cell_type": "code",
   "execution_count": 22,
   "id": "4a756960",
   "metadata": {},
   "outputs": [
    {
     "name": "stdout",
     "output_type": "stream",
     "text": [
      "There are 18,042 unique gene ids.\n"
     ]
    }
   ],
   "source": [
    "print(f\"There are {len(unique_ids):,} unique gene ids.\")"
   ]
  },
  {
   "cell_type": "code",
   "execution_count": 23,
   "id": "3fb2db38",
   "metadata": {},
   "outputs": [
    {
     "name": "stdout",
     "output_type": "stream",
     "text": [
      "Not available\n"
     ]
    }
   ],
   "source": [
    "for unique_id in unique_ids:\n",
    "    try:\n",
    "        int(unique_id)\n",
    "    except ValueError:\n",
    "        print(unique_id)"
   ]
  },
  {
   "cell_type": "code",
   "execution_count": 24,
   "id": "d852282f",
   "metadata": {},
   "outputs": [],
   "source": [
    "# In order to download information from the NCBI Entrez gene database,\n",
    "# these 18,042 gene ids are put into a text file with one gene ID per\n",
    "# line\n",
    "# Bear in mind that in the context of working with files, the `with`\n",
    "# context manager is preferred as it automatically takes care of closing\n",
    "# files, even in case of errors/exceptions\n",
    "with open(\"gene_ids.txt\", \"w\") as f:\n",
    "    for i, unique_id in enumerate(unique_ids):\n",
    "        # Note that the unique IDs may comprise some special values,\n",
    "        # such as \"Not available\"\n",
    "        # These need to be omitted by filtering for integers/integer\n",
    "        # sequences\n",
    "        try:\n",
    "            int(unique_id)\n",
    "        except ValueError:\n",
    "            continue\n",
    "\n",
    "        if i != (len(unique_ids) - 1):\n",
    "            f.write(unique_id + \"\\n\")\n",
    "        else:\n",
    "            f.write(unique_id)"
   ]
  },
  {
   "cell_type": "markdown",
   "id": "bff87fce",
   "metadata": {},
   "source": [
    "#### Processing NCBI Entrez Gene Database Files from the FTP File Server"
   ]
  },
  {
   "cell_type": "code",
   "execution_count": null,
   "id": "d556f855",
   "metadata": {},
   "outputs": [
    {
     "name": "stderr",
     "output_type": "stream",
     "text": [
      "/var/folders/j1/64kbg_f11z97kx1dw__420vh0000gn/T/ipykernel_1194/2071511180.py:11: DtypeWarning: Columns (6) have mixed types. Specify dtype option on import or set low_memory=False.\n",
      "  gene_info_df = pd.read_csv(\n"
     ]
    }
   ],
   "source": [
    "# As it turns out, downloading files directly from the NCBI Entrez FTP\n",
    "# file server is far more convenient than using the `datasets` CLI\n",
    "# Thus, two files have been downloaded, namely `gene_info.gz` as well as\n",
    "# `gene_history.gz`\n",
    "# The latter is required in order to identify withdrawn or replaced gene\n",
    "# IDs\n",
    "# However, both files contain entries for all species, which is why they\n",
    "# have to be filtered to include only human entries (taxonomic ID 9606)\n",
    "\n",
    "# First, process `gene_info`\n",
    "gene_info_df = pd.read_csv(\n",
    "    \"gene_info\",\n",
    "    sep=\"\\t\"\n",
    ")"
   ]
  },
  {
   "cell_type": "code",
   "execution_count": 9,
   "id": "e2913323",
   "metadata": {},
   "outputs": [],
   "source": [
    "gene_info_df = gene_info_df[\n",
    "    gene_info_df[\"#tax_id\"] == 9606\n",
    "]"
   ]
  },
  {
   "cell_type": "code",
   "execution_count": 12,
   "id": "81c01c87",
   "metadata": {},
   "outputs": [],
   "source": [
    "gene_info_df.to_csv(\n",
    "    \"gene_info_human_9606.tsv\",\n",
    "    sep=\"\\t\",\n",
    "    index=False\n",
    ")"
   ]
  },
  {
   "cell_type": "code",
   "execution_count": 13,
   "id": "2f977e10",
   "metadata": {},
   "outputs": [],
   "source": [
    "gene_history_df = pd.read_csv(\n",
    "    \"gene_history\",\n",
    "    sep=\"\\t\"\n",
    ")"
   ]
  },
  {
   "cell_type": "code",
   "execution_count": 14,
   "id": "9aea2d35",
   "metadata": {},
   "outputs": [],
   "source": [
    "gene_history_df = gene_history_df[\n",
    "    gene_history_df[\"#tax_id\"] == 9606\n",
    "]"
   ]
  },
  {
   "cell_type": "code",
   "execution_count": 15,
   "id": "297954ec",
   "metadata": {},
   "outputs": [],
   "source": [
    "gene_history_df.to_csv(\n",
    "    \"gene_history_human_9606.tsv\",\n",
    "    sep=\"\\t\",\n",
    "    index=False\n",
    ")"
   ]
  },
  {
   "cell_type": "code",
   "execution_count": 16,
   "id": "52bc1d99",
   "metadata": {},
   "outputs": [],
   "source": [
    "# Additionally, two other files have been downloaded; they are required\n",
    "# for the mapping of genes to UniProt accessions, i.e. proteins\n",
    "# These two files are `gene2accession.gz` and\n",
    "# `gene_refseq_uniprotkb_collab.gz`\n",
    "# As for the two previous files, they have to be filtered to include\n",
    "# only human entries (taxonomic ID 9606)\n",
    "gene_refseq_uniprotkb_collab_df = pd.read_csv(\n",
    "    \"gene_refseq_uniprotkb_collab\",\n",
    "    sep=\"\\t\"\n",
    ")"
   ]
  },
  {
   "cell_type": "code",
   "execution_count": 19,
   "id": "fb862600",
   "metadata": {},
   "outputs": [],
   "source": [
    "gene_refseq_uniprotkb_collab_df = gene_refseq_uniprotkb_collab_df[\n",
    "    gene_refseq_uniprotkb_collab_df[\"NCBI_tax_id\"] == 9606\n",
    "]"
   ]
  },
  {
   "cell_type": "code",
   "execution_count": 21,
   "id": "469ca303",
   "metadata": {},
   "outputs": [],
   "source": [
    "gene_refseq_uniprotkb_collab_df.to_csv(\n",
    "    \"gene_refseq_uniprotkb_collab_human_9606.tsv\",\n",
    "    sep=\"\\t\",\n",
    "    index=False\n",
    ")"
   ]
  },
  {
   "cell_type": "code",
   "execution_count": 22,
   "id": "3946018c",
   "metadata": {},
   "outputs": [
    {
     "name": "stderr",
     "output_type": "stream",
     "text": [
      "/var/folders/j1/64kbg_f11z97kx1dw__420vh0000gn/T/ipykernel_1194/1663381539.py:1: DtypeWarning: Columns (6,8,9,10) have mixed types. Specify dtype option on import or set low_memory=False.\n",
      "  gene2accession_df = pd.read_csv(\n"
     ]
    }
   ],
   "source": [
    "gene2accession_df = pd.read_csv(\n",
    "    \"gene2accession\",\n",
    "    sep=\"\\t\"\n",
    ")"
   ]
  },
  {
   "cell_type": "code",
   "execution_count": 24,
   "id": "d8d2af74",
   "metadata": {},
   "outputs": [],
   "source": [
    "gene2accession_df = gene2accession_df[\n",
    "    gene2accession_df[\"#tax_id\"] == 9606\n",
    "]"
   ]
  },
  {
   "cell_type": "code",
   "execution_count": 26,
   "id": "bb84d982",
   "metadata": {},
   "outputs": [],
   "source": [
    "gene2accession_df.to_csv(\n",
    "    \"gene2accession_human_9606.tsv\",\n",
    "    sep=\"\\t\",\n",
    "    index=False\n",
    ")"
   ]
  },
  {
   "cell_type": "markdown",
   "id": "961ed08d",
   "metadata": {},
   "source": [
    "#### Inserting Columns into the DataFrame"
   ]
  },
  {
   "cell_type": "code",
   "execution_count": 2,
   "id": "67c0c9ce",
   "metadata": {},
   "outputs": [],
   "source": [
    "dp_g1_g2_subset_df = pd.read_csv(\n",
    "    \"Dharmacon_pooled_G1_G2_screening_plates_subset.tsv\",\n",
    "    sep=\"\\t\"\n",
    ")"
   ]
  },
  {
   "cell_type": "code",
   "execution_count": 3,
   "id": "518706de",
   "metadata": {},
   "outputs": [],
   "source": [
    "# The following columns are supposed to be inserted into the DataFrame:\n",
    "# `Gene_type`, which, as its name already suggests, indicates the type\n",
    "# of the respecticve gene\n",
    "# `UniProt_IDs`, which stores the UniProt ID(s) associated with the\n",
    "# respective gene\n",
    "# `Withdrawn_by_NCBI`, which, as its name already implied, indicates\n",
    "# whether the gene ID is still valid or not\n",
    "# They are supposed to be inserted immediately after the\n",
    "# \"Name_alternatives\" column\n",
    "# Thus, its index has to be determined\n",
    "columns_list = dp_g1_g2_subset_df.columns.to_list()\n",
    "\n",
    "insertion_index = columns_list.index(\"Name_alternatives\") + 1\n",
    "\n",
    "dp_g1_g2_subset_df.insert(\n",
    "    loc=insertion_index,\n",
    "    column=\"Gene_type\",\n",
    "    value=\"Value not set\"\n",
    ")\n",
    "\n",
    "insertion_index += 1\n",
    "\n",
    "dp_g1_g2_subset_df.insert(\n",
    "    loc=insertion_index,\n",
    "    column=\"UniProt_IDs\",\n",
    "    value=\"Value not set\"\n",
    ")\n",
    "\n",
    "insertion_index += 1\n",
    "\n",
    "dp_g1_g2_subset_df.insert(\n",
    "    loc=insertion_index,\n",
    "    column=\"Withdrawn_by_NCBI\",\n",
    "    value=\"Value not set\"\n",
    ")"
   ]
  },
  {
   "cell_type": "markdown",
   "id": "dc54cfec",
   "metadata": {},
   "source": [
    "#### Conducting the TSV File Update"
   ]
  },
  {
   "cell_type": "code",
   "execution_count": 4,
   "id": "b98d9a33",
   "metadata": {},
   "outputs": [
    {
     "data": {
      "text/plain": [
       "<module 'NCBI_Entrez_utils' from '/Users/jacobanter/Documents/Code/VACV_screen/Processing_Dharmacon_pooled_genome_1_and_2_subset/NCBI_Entrez_utils.py'>"
      ]
     },
     "execution_count": 4,
     "metadata": {},
     "output_type": "execute_result"
    }
   ],
   "source": [
    "from importlib import reload\n",
    "\n",
    "import NCBI_Entrez_utils as utils\n",
    "\n",
    "reload(utils)"
   ]
  },
  {
   "cell_type": "code",
   "execution_count": 5,
   "id": "82657cf1",
   "metadata": {},
   "outputs": [],
   "source": [
    "data_updater = utils.NCBI_Entrez_data_lookup(\n",
    "    \"gene_info_human_9606.tsv\",\n",
    "    \"gene_history_human_9606.tsv\",\n",
    "    \"gene2accession_human_9606.tsv\",\n",
    "    \"gene_refseq_uniprotkb_collab_human_9606.tsv\",\n",
    "    \"sec_ac.txt\",\n",
    "    \"uniprotkb_organism_id_9606_2025_09_19_all_human_prots_Swiss-Prot_\"\n",
    "    \"and_TrEMBL_uniprot_acc_headers.fasta\"\n",
    ")"
   ]
  },
  {
   "cell_type": "code",
   "execution_count": 6,
   "id": "79c25fe3",
   "metadata": {},
   "outputs": [],
   "source": [
    "updated_dp_g1_g2_subset_df = data_updater.check_gene_id_and_symbol(\n",
    "    dp_g1_g2_subset_df\n",
    ")"
   ]
  },
  {
   "cell_type": "code",
   "execution_count": 7,
   "id": "fa27d024",
   "metadata": {},
   "outputs": [],
   "source": [
    "updated_dp_g1_g2_subset_df = data_updater.add_uniprot_ids(\n",
    "    updated_dp_g1_g2_subset_df\n",
    ")"
   ]
  },
  {
   "cell_type": "code",
   "execution_count": 8,
   "id": "d9acf3d5",
   "metadata": {},
   "outputs": [],
   "source": [
    "updated_dp_g1_g2_subset_df.to_csv(\n",
    "    \"Dharmacon_pooled_G1_G2_screening_plates_subset_updated.tsv\",\n",
    "    sep=\"\\t\",\n",
    "    index=False\n",
    ")"
   ]
  },
  {
   "cell_type": "markdown",
   "id": "a3d127af",
   "metadata": {},
   "source": [
    "#### Construction of PPI Pairs for Screen Refinement"
   ]
  },
  {
   "cell_type": "code",
   "execution_count": 9,
   "id": "377a1ff3",
   "metadata": {},
   "outputs": [],
   "source": [
    "# Load the updated TSV file into a Pandas DataFrame\n",
    "dp_g1_g2_subset_df = pd.read_csv(\n",
    "    \"Dharmacon_pooled_G1_G2_screening_plates_subset_updated.tsv\",\n",
    "    sep=\"\\t\"\n",
    ")"
   ]
  },
  {
   "cell_type": "code",
   "execution_count": 10,
   "id": "f0214c59",
   "metadata": {},
   "outputs": [],
   "source": [
    "# Extract the UniProt accessions from the Dharmacon pooled subset\n",
    "# Bear in mind that many entries are composite entries with semicolons\n",
    "# as separator\n",
    "# Also remember that many UniProt accessions probably occur multiple\n",
    "# times, requiring the removal of redundancies via e.g. the Pandas\n",
    "# `.drop_duplicates()` method\n",
    "# Yet another layer of complexity stems from the fact that some entries\n",
    "# are `Nan`, necessitating filtering\n",
    "dp_accs_list = (\n",
    "    dp_g1_g2_subset_df[\"UniProt_IDs\"]\n",
    "    .dropna()\n",
    "    .str.split(\";\")\n",
    "    .explode()\n",
    "    .drop_duplicates()\n",
    "    .to_list()\n",
    ")"
   ]
  },
  {
   "cell_type": "code",
   "execution_count": 11,
   "id": "d89138d1",
   "metadata": {},
   "outputs": [
    {
     "name": "stdout",
     "output_type": "stream",
     "text": [
      "There are 43,639 UniProtKB protein accessions in the Dharmacon pooled G1/G2\n",
      "screening plates subset of the screen.\n"
     ]
    }
   ],
   "source": [
    "print(\n",
    "    f\"There are {len(dp_accs_list):,} UniProtKB protein accessions in \"\n",
    "    \"the Dharmacon pooled G1/G2\\nscreening plates subset of the screen.\"\n",
    ")"
   ]
  },
  {
   "cell_type": "code",
   "execution_count": 12,
   "id": "06f4cd47",
   "metadata": {},
   "outputs": [],
   "source": [
    "# Load the FASTA file encompassing all 440 VACV WR proteins\n",
    "path_to_VACV_WR_fasta = (\n",
    "    \"uniprotkb_organism_id_10254_2025_06_19_all_VACV_WR_prots_uniprot_\"\n",
    "    \"only_header.fasta\"\n",
    ")\n",
    "\n",
    "VACV_WR_fasta = fasta.FastaFile.read(path_to_VACV_WR_fasta)"
   ]
  },
  {
   "cell_type": "code",
   "execution_count": 13,
   "id": "ee3087d0",
   "metadata": {},
   "outputs": [],
   "source": [
    "# Extract the VACV WR UniProt accessions from the FASTA file\n",
    "VACV_WR_uniprot_accs = list(VACV_WR_fasta.keys())"
   ]
  },
  {
   "cell_type": "code",
   "execution_count": 14,
   "id": "85390000",
   "metadata": {},
   "outputs": [],
   "source": [
    "# Now that both the VACV WR UniProt accessions and the Dharmacon pooled\n",
    "# subset UniProt accessions have been extracted, they are combined such\n",
    "# that each and every human protein from the screen is paired with each\n",
    "# of the 440 VACV WR proteins\n",
    "# This can be achieved in a very elegant way using a Pandas cross join\n",
    "# (also called a Cartesian product)\n",
    "\n",
    "# Convert the lists into DataFrames\n",
    "human_df = pd.DataFrame({\"human_protein\": dp_accs_list})\n",
    "vacv_wr_df = pd.DataFrame({\"VACV_WR_protein\": VACV_WR_uniprot_accs})\n",
    "\n",
    "# Perform a cross join\n",
    "human_vacv_ppi_pairs_df = human_df.merge(\n",
    "    vacv_wr_df,\n",
    "    how=\"cross\"\n",
    ")"
   ]
  },
  {
   "cell_type": "code",
   "execution_count": 15,
   "id": "e207d6a4",
   "metadata": {},
   "outputs": [],
   "source": [
    "human_vacv_ppi_pairs_df.to_csv(\n",
    "    \"Dharmacon_pooled_G1_G2_screening_plates_subset_human-VACV_WR_\"\n",
    "    \"PPI_pairs.tsv\",\n",
    "    sep=\"\\t\",\n",
    "    index=False\n",
    ")"
   ]
  },
  {
   "cell_type": "markdown",
   "id": "7c7b5789",
   "metadata": {},
   "source": [
    "#### Splitting the PPI Pairs TSV File into Chunks"
   ]
  },
  {
   "cell_type": "code",
   "execution_count": 7,
   "id": "9830b37f",
   "metadata": {},
   "outputs": [],
   "source": [
    "# Load the TSV file harbouring the PPI pairs into a Pandas DataFrame\n",
    "human_vacv_ppi_pairs_df = pd.read_csv(\n",
    "    \"Dharmacon_pooled_G1_G2_screening_plates_subset_human-VACV_WR_\"\n",
    "    \"PPI_pairs.tsv\",\n",
    "    sep=\"\\t\"\n",
    ")"
   ]
  },
  {
   "cell_type": "code",
   "execution_count": 8,
   "id": "aa5e8166",
   "metadata": {},
   "outputs": [
    {
     "name": "stdout",
     "output_type": "stream",
     "text": [
      "Number of human-VACV WR PPI pairs: 19,201,160\n"
     ]
    }
   ],
   "source": [
    "n_ppi_pairs = len(human_vacv_ppi_pairs_df)\n",
    "\n",
    "print(\n",
    "    f\"Number of human-VACV WR PPI pairs: {n_ppi_pairs:,}\"\n",
    ")"
   ]
  },
  {
   "cell_type": "code",
   "execution_count": 9,
   "id": "506b815d",
   "metadata": {},
   "outputs": [],
   "source": [
    "# In total, there are roughly 19,200,000 PPI pairs\n",
    "# The maximum time for HPC jobs using GPUs is 48 hours, which may be too\n",
    "# short\n",
    "# Thus, the PPI pairs are split into chunks each encompassing 5 million\n",
    "# PPI pairs (6 hours of the 48 hours are reserved for loading the FASTA\n",
    "# file and the embeddings; the batch size is 64; one batch takes roughly\n",
    "# 1 second; 42 hours can be used for actual inference;\n",
    "# 42 hours * 60 * 60 = 151,200 seconds = 151,200 batches;\n",
    "# 151,200 batches * 64 = 9,676,800 PPI pairs ≈ 9,600,000 PPI pairs;\n",
    "# thus, up to 9,000,000 PPI pairs per chunk would be possible)\n",
    "ppi_pair_chunks_dir_path = \"PPI_pair_chunks\"\n",
    "\n",
    "if not os.path.exists(ppi_pair_chunks_dir_path):\n",
    "    os.makedirs(ppi_pair_chunks_dir_path)"
   ]
  },
  {
   "cell_type": "code",
   "execution_count": 10,
   "id": "3995d99f",
   "metadata": {},
   "outputs": [
    {
     "name": "stdout",
     "output_type": "stream",
     "text": [
      "In total, there are 4 chunks.\n"
     ]
    }
   ],
   "source": [
    "# Determine the total number of chunks\n",
    "CHUNK_SIZE = 5_000_000\n",
    "\n",
    "n_chunks = math.ceil(n_ppi_pairs / CHUNK_SIZE)\n",
    "\n",
    "print(f\"In total, there are {n_chunks} chunks.\")"
   ]
  },
  {
   "cell_type": "code",
   "execution_count": null,
   "id": "87070ac3",
   "metadata": {},
   "outputs": [],
   "source": [
    "# Now, for each of the 4 chunks, extract the respective subset and save\n",
    "# it to a separate TSV file\n",
    "for i in range(n_chunks):\n",
    "    current_subset = human_vacv_ppi_pairs_df.iloc[\n",
    "        i * CHUNK_SIZE: (i + 1) * CHUNK_SIZE\n",
    "    ]\n",
    "\n",
    "    # Bear in mind that xCAPT5 expects TSV files not to have a header\n",
    "    current_subset.to_csv(\n",
    "        os.path.join(\n",
    "            ppi_pair_chunks_dir_path,\n",
    "            \"Dharmacon_pooled_G1_G2_screening_plates_subset_human-\"\n",
    "            f\"VACV_WR_PPI_pairs_chunk_{i}.tsv\"\n",
    "        ),\n",
    "        sep=\"\\t\",\n",
    "        index=False,\n",
    "        header=False\n",
    "    )"
   ]
  },
  {
   "cell_type": "markdown",
   "id": "71a9f1d9",
   "metadata": {},
   "source": [
    "#### FASTA File Generation"
   ]
  },
  {
   "cell_type": "code",
   "execution_count": 21,
   "id": "f92c3c97",
   "metadata": {},
   "outputs": [],
   "source": [
    "# Create a FASTA file comprising the 440 VACV WR protein sequences as\n",
    "# well as the sequences of the human proteins in the Dharmacon pooled\n",
    "# subset\n",
    "human_Dharmacon_and_VACV_WR_prots_fasta = fasta.FastaFile()"
   ]
  },
  {
   "cell_type": "code",
   "execution_count": 22,
   "id": "f3c4f642",
   "metadata": {},
   "outputs": [],
   "source": [
    "for header, seq in VACV_WR_fasta.items():\n",
    "    human_Dharmacon_and_VACV_WR_prots_fasta[header] = seq"
   ]
  },
  {
   "cell_type": "code",
   "execution_count": 23,
   "id": "87a4e0b4",
   "metadata": {},
   "outputs": [],
   "source": [
    "# In order to obtain the protein sequences of the human proteins, all\n",
    "# UniProt Swiss-Prot and UniProt TrEMBL sequences for Homo sapiens (tax\n",
    "# ID 9606) are downloaded from UniProt\n",
    "# Only canonical protein sequences are downloaded, i.e. no isoforms\n",
    "# The download was conducted on September 19th 2025\n",
    "\n",
    "# Load the FASTA file\n",
    "all_human_prots_fasta = fasta.FastaFile.read(\n",
    "    \"uniprotkb_organism_id_9606_2025_09_19_all_human_prots_Swiss-Prot_\"\n",
    "    \"and_TrEMBL.fasta\"\n",
    ")"
   ]
  },
  {
   "cell_type": "code",
   "execution_count": 16,
   "id": "efe29380",
   "metadata": {},
   "outputs": [],
   "source": [
    "# The FASTA file downloaded from UniProt still has default headers\n",
    "# The headers have to be modified to contain only the UniProt accession\n",
    "all_human_prots_simple_header_fasta = fasta.FastaFile()\n",
    "\n",
    "for header, seq in all_human_prots_fasta.items():\n",
    "    # Conveniently enough, the header elements are separated by pipes/\n",
    "    # vertical bars with the UniProt accession being the second element\n",
    "    uniprot_acc = header.split(\"|\")[1]\n",
    "    all_human_prots_simple_header_fasta[uniprot_acc] = seq"
   ]
  },
  {
   "cell_type": "code",
   "execution_count": 17,
   "id": "61ed2773",
   "metadata": {},
   "outputs": [],
   "source": [
    "# Save the new FASTA file to disk\n",
    "all_human_prots_simple_header_fasta.write(\n",
    "    \"uniprotkb_organism_id_9606_2025_09_19_all_human_prots_Swiss-Prot_\"\n",
    "    \"and_TrEMBL_uniprot_acc_headers.fasta\"\n",
    ")"
   ]
  },
  {
   "cell_type": "code",
   "execution_count": 29,
   "id": "3dfc2578",
   "metadata": {},
   "outputs": [],
   "source": [
    "# Load the FASTA file with simplified headers\n",
    "all_human_prots_fasta = fasta.FastaFile.read(\n",
    "    \"uniprotkb_organism_id_9606_2025_09_19_all_human_prots_Swiss-Prot_\"\n",
    "    \"and_TrEMBL_uniprot_acc_headers.fasta\"\n",
    ")"
   ]
  },
  {
   "cell_type": "code",
   "execution_count": 30,
   "id": "4972fc11",
   "metadata": {},
   "outputs": [],
   "source": [
    "# Quickly verify that all human proteins present in the Dharmacon pooled\n",
    "# subset are also covered by the FASTA file\n",
    "# Python set lookups are faster\n",
    "uniprot_accs_in_fasta = set(all_human_prots_fasta.keys())\n",
    "\n",
    "coverage_list = [\n",
    "    acc in uniprot_accs_in_fasta\n",
    "    for acc in dp_accs_list\n",
    "]\n",
    "\n",
    "assert all(coverage_list), (\n",
    "    \"Not all human proteins in the Dharmacon pooled subset are covered \"\n",
    "    \"by the FASTA file!\"\n",
    ")"
   ]
  },
  {
   "cell_type": "code",
   "execution_count": 31,
   "id": "5a05b799",
   "metadata": {},
   "outputs": [],
   "source": [
    "# Finally, add the human protein sequences to the FASTA file\n",
    "for human_prot_acc in dp_accs_list:\n",
    "    human_Dharmacon_and_VACV_WR_prots_fasta[human_prot_acc] = (\n",
    "        all_human_prots_fasta[human_prot_acc]\n",
    "    )"
   ]
  },
  {
   "cell_type": "code",
   "execution_count": 32,
   "id": "c7115a28",
   "metadata": {},
   "outputs": [],
   "source": [
    "# Perform a sanity check\n",
    "assert (\n",
    "    len(human_Dharmacon_and_VACV_WR_prots_fasta)\n",
    "    ==\n",
    "    (440 + 43_639)\n",
    "), \"Something went wrong while populating the FASTA file!\""
   ]
  },
  {
   "cell_type": "code",
   "execution_count": 33,
   "id": "13cab3a8",
   "metadata": {},
   "outputs": [],
   "source": [
    "# Now that the sanity check has been successfully passed, save the FASTA\n",
    "# file to disk\n",
    "human_Dharmacon_and_VACV_WR_prots_fasta.write(\n",
    "    \"VACV_WR_and_Dharmacon_pooled_G1_G2_screening_plates_human_prots.fasta\"\n",
    ")"
   ]
  },
  {
   "cell_type": "code",
   "execution_count": null,
   "id": "268fc0a8",
   "metadata": {},
   "outputs": [],
   "source": []
  }
 ],
 "metadata": {
  "kernelspec": {
   "display_name": "bioinformatics",
   "language": "python",
   "name": "python3"
  },
  "language_info": {
   "codemirror_mode": {
    "name": "ipython",
    "version": 3
   },
   "file_extension": ".py",
   "mimetype": "text/x-python",
   "name": "python",
   "nbconvert_exporter": "python",
   "pygments_lexer": "ipython3",
   "version": "3.10.8"
  }
 },
 "nbformat": 4,
 "nbformat_minor": 5
}
