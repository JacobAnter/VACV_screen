{
 "cells": [
  {
   "cell_type": "code",
   "execution_count": 2,
   "metadata": {},
   "outputs": [
    {
     "name": "stderr",
     "output_type": "stream",
     "text": [
      "/opt/homebrew/Caskroom/miniforge/base/envs/bioinformatics/lib/python3.10/site-packages/dask/dataframe/_pyarrow_compat.py:17: FutureWarning: Minimal version of pyarrow will soon be increased to 14.0.1. You are using 13.0.0. Please consider upgrading.\n",
      "  warnings.warn(\n"
     ]
    }
   ],
   "source": [
    "import pandas as pd\n",
    "import dask.dataframe as dd\n",
    "from biotite.database import entrez"
   ]
  },
  {
   "cell_type": "code",
   "execution_count": 3,
   "metadata": {},
   "outputs": [],
   "source": [
    "# Unfortunately, to my knowledge, downloading all VACV interactions from\n",
    "# the HVIDB database at once is not possible\n",
    "# Hence, they have been downloaded in packages of up to 100 interactions\n",
    "# It is investigated whether the 5 packages are all different from each\n",
    "# other so as to rule out errors during the manual download, such as\n",
    "# accidentally downloading the same package twice\n",
    "# As a first step, the individual packages are loaded into the Jupyter\n",
    "# notebook\n",
    "HVIDB_package_1 = pd.read_csv(\"HVIDB_VACV_interactions_1.csv\")\n",
    "HVIDB_package_2 = pd.read_csv(\"HVIDB_VACV_interactions_2.csv\")\n",
    "HVIDB_package_3 = pd.read_csv(\"HVIDB_VACV_interactions_3.csv\")\n",
    "HVIDB_package_4 = pd.read_csv(\"HVIDB_VACV_interactions_4.csv\")\n",
    "HVIDB_package_5 = pd.read_csv(\"HVIDB_VACV_interactions_5.csv\")\n",
    "\n",
    "# According to the HVIDB database, the total amount of interactions is\n",
    "# 456\n",
    "# It is checked whether this also applies to the five downloaded\n",
    "# packages\n",
    "packages_list = [\n",
    "    HVIDB_package_1,\n",
    "    HVIDB_package_2,\n",
    "    HVIDB_package_3,\n",
    "    HVIDB_package_4,\n",
    "    HVIDB_package_5\n",
    "]\n",
    "\n",
    "assert sum(map(len, packages_list)) == 456, (\n",
    "    \"An error has been made during the manual download of the \"\n",
    "    \"interaction packages!\"\n",
    ")"
   ]
  },
  {
   "cell_type": "code",
   "execution_count": 5,
   "metadata": {},
   "outputs": [],
   "source": [
    "# Now, verify that all downloaded interaction packages are distinct from\n",
    "# one another\n",
    "# Unfortunately, checking equality for more than two DataFrames at once\n",
    "# is not possible to the best of my knowledge\n",
    "# Hence, it is resorted to for-loops\n",
    "package_equality = False\n",
    "\n",
    "for i, package in enumerate(packages_list):\n",
    "    # For obvious reasons, equality checks are only performed between\n",
    "    # different interaction packages\n",
    "    # Moreover, redundant equality checks are avoided\n",
    "    for j in range(i + 1, 5):\n",
    "        package_equality = package_equality or package.equals(packages_list[j])\n",
    "\n",
    "assert package_equality == False, (\n",
    "    \"Identical interaction packages have erroneously been downloaded!\"\n",
    ")"
   ]
  },
  {
   "cell_type": "code",
   "execution_count": 8,
   "metadata": {},
   "outputs": [],
   "source": [
    "# Now, for the sake of convenience, concatenate the five individual\n",
    "# interaction packages to generate one coherent CSV file\n",
    "HVIDB_VACV_interactions_df = pd.concat(packages_list, ignore_index=True)\n",
    "\n",
    "assert (\n",
    "    len(HVIDB_VACV_interactions_df) == 456\n",
    "    and\n",
    "    len(HVIDB_VACV_interactions_df.columns) == 4\n",
    "), \"A mistake was done during DataFrame concatenation!\""
   ]
  },
  {
   "cell_type": "code",
   "execution_count": 9,
   "metadata": {},
   "outputs": [],
   "source": [
    "# Save the coherent DataFrame as a CSV file\n",
    "HVIDB_VACV_interactions_df.to_csv(\n",
    "    \"all_HVIDB_VACV_interactions.csv\", index=False\n",
    ")"
   ]
  },
  {
   "cell_type": "code",
   "execution_count": 11,
   "metadata": {},
   "outputs": [
    {
     "name": "stdout",
     "output_type": "stream",
     "text": [
      "Amount of human proteins targeted in the VACV screen: 18,396\n"
     ]
    }
   ],
   "source": [
    "# Determine the amount of genes targeted by siRNAs/esiRNAs and\n",
    "# low-molecular weight organic compounds in the VACV screen\n",
    "siRNA_and_compounds_STRING_IDs_df = pd.read_csv(\n",
    "    \"siRNA_and_compounds_STRING_IDs.csv\",\n",
    "    delimiter=\"\\t\"\n",
    ")\n",
    "\n",
    "n_targets = len(siRNA_and_compounds_STRING_IDs_df)\n",
    "\n",
    "print(\n",
    "    f\"Amount of human proteins targeted in the VACV screen: {n_targets:,}\"\n",
    ")"
   ]
  },
  {
   "cell_type": "code",
   "execution_count": 13,
   "metadata": {},
   "outputs": [],
   "source": [
    "# Now, determine the amount of human genes interrogated in the VACV\n",
    "# screen that engage in PPIs recorded by HVIDB\n",
    "# To this end, the protein target names have to be converted in\n",
    "# UniProtIDs as they are employed by HVIDB\n",
    "# This is achieved via the ID mapping GUI on\n",
    "# https://www.uniprot.org/id-mapping\n",
    "VACV_screen_human_targets_series = siRNA_and_compounds_STRING_IDs_df[\n",
    "    \"queryItem\"\n",
    "]\n",
    "\n",
    "VACV_screen_human_targets_series.to_csv(\n",
    "    \"VACV_screen_human_targets_gene_names.txt\",\n",
    "    header=False,\n",
    "    index=False\n",
    ")"
   ]
  },
  {
   "cell_type": "code",
   "execution_count": 1,
   "metadata": {},
   "outputs": [],
   "source": [
    "# Using the parameters \"from: Gene_Name\", \"to: UniProtKB-Swiss-Prot\" and\n",
    "# \"taxId: 9606\", 18,185 of the 18,396 human protein IDs were mapped to\n",
    "# 18,645 results, whereas 213 ID were not mapped\n",
    "# This is subjected to close scrutiny\n",
    "#\n",
    "# For the ALG1L gene, the official gene symbol has apparently been\n",
    "# changed after the VACV screen has been conducted; its new official\n",
    "# gene symbol is ALG1L1P while its NCBI Gene ID remained unchanged\n",
    "# (200810)\n",
    "#\n",
    "# Regarding the gene AKAP2, the NCBI Gene ID has been changed from 11217\n",
    "# to 445815; note that AKAP2 is only an alias and that the offical gene\n",
    "# symbol is PALM2AKAP2\n",
    "#\n",
    "# With respect to the gene PPAN-P2RY11, neither the official gene symbol\n",
    "# nor the NCBI Gene ID have been altered after the VACV screen, but the\n",
    "# respective UniProtKB entry belongs to the UniProtKB/TrEMBL section,\n",
    "# i.e. has not been manually reviewed. Consequently, using the setting\n",
    "# \"to: UniProtKB-Swiss-Prot\" does not yield any UniProtID for this gene\n",
    "# It becomes apparent that the most convenient way of obtaining\n",
    "# UniProtIDs in one single step is to use the settings\n",
    "# \"From database: Genomic annotation databases/GeneID\" (Gene ID is the\n",
    "# same as NCBI Gene ID) and \"To database: UniProt/UniProtKB\" (choosing\n",
    "# UniProtKB includes both UniProtKB sections, i.e. UniProtKB/Swiss-Prot\n",
    "# and UniProtKB/TrEMBL)\n",
    "#\n",
    "# With regard to the gene CDY, the specified NCBI Gene ID is still valid\n",
    "# (203611), but its official gene symbol is CDY2B\n",
    "#\n",
    "# As to the gene FLJ40296, the specified NCBI Gene ID is still valid\n",
    "# (122183), but its official gene symbol is PRR20A\n",
    "#\n",
    "# Regarding the gene MGC39606, the specified NCBI Gene ID is still valid\n",
    "# (399668), but its official gene symbol is SMIM10L2A\n",
    "#\n",
    "# etc."
   ]
  },
  {
   "cell_type": "code",
   "execution_count": 3,
   "metadata": {},
   "outputs": [],
   "source": [
    "# Instead of doing this investigation manually, it is accomplished in an\n",
    "# automated fashion by means of the Biotite bioinformatics library\n",
    "# Biotite provides functionalities allowing to access various NCBI\n",
    "# databases in a programmatic manner, i.e. from within Python scripts\n",
    "\n",
    "# Two columns of interest for the following endeavour are \"ID\" as well\n",
    "# as \"ID_manufacturer\"\n",
    "# Upon closer scrutiny, it became apparent that contrary to their names,\n",
    "# both features basically harbour the same information, namely the NCBI\n",
    "# Gene ID of the targeted gene\n",
    "# However, they differ in that while the feature \"ID\" is populated\n",
    "# depending on whether the respective experiment was successful or not,\n",
    "# \"ID_manufacturer\" is continuously populated, irrespective of the\n",
    "# experiment's outcome\n",
    "# Hence, the entries of the \"ID_manufacturer\" feature are employed in\n",
    "# order to query NCBI's gene database\n",
    "# As a first step, it is checker whether all entries of the\n",
    "# \"ID_manufacturer\" feature are indeed populated with values or whether\n",
    "# there are isolated occurrences of \"Not available\"\n",
    "# Note that the features \"ID\" and \"ID_manufacturer\" only harbour NCBI\n",
    "# Gene IDs in the case of siRNA, pooled siRNA and esiRNA\n",
    "\n",
    "# Load the screen data\n",
    "# Bear in mind that for certain columns, the data type has to be\n",
    "# manually specified\n",
    "dtype_dict = {\n",
    "    \"Ensembl_ID_OnTarget_Ensembl_GRCh38_release_87\": str,\n",
    "    \"Ensembl_ID_OnTarget_NCBI_HeLa_phs000643_v3_p1_c1_HMB\": str,\n",
    "    \"Gene_Description\": str,\n",
    "    \"ID\": str,\n",
    "    \"ID_OnTarget_Ensembl_GRCh38_release_87\": str,\n",
    "    \"ID_OnTarget_Merge\": str,\n",
    "    \"ID_OnTarget_NCBI_HeLa_phs000643_v3_p1_c1_HMB\": str,\n",
    "    \"ID_OnTarget_RefSeq_20170215\": str,\n",
    "    \"ID_manufacturer\": str,\n",
    "    \"Name_alternatives\": str,\n",
    "    \"PLATE_QUALITY_DESCRIPTION\": str,\n",
    "    \"RefSeq_ID_OnTarget_RefSeq_20170215\": str,\n",
    "    \"Seed_sequence_common\": str,\n",
    "    \"WELL_QUALITY_DESCRIPTION\": str,\n",
    "    \"siRNA_error\": str,\n",
    "    \"siRNA_number\": str,\n",
    "    \"Precursor_Name\": str\n",
    "}\n",
    "\n",
    "main_csv_df = dd.read_csv(\n",
    "    \"VacciniaReport_20170223-0958_ZScored_conc_and_NaN_adjusted.csv\",\n",
    "    sep=\"\\t\",\n",
    "    dtype=dtype_dict\n",
    ")\n",
    "\n",
    "# Bear in mind that due to operator precedence, i.e. \"|\" (logical OR)\n",
    "# having precedence over equality checks, the equality checks have to be\n",
    "# surrounded by parentheses\n",
    "single_pooled_siRNA_and_esiRNA_df = main_csv_df.loc[\n",
    "    (main_csv_df[\"WellType\"] == \"SIRNA\")\n",
    "    |\n",
    "    (main_csv_df[\"WellType\"] == \"POOLED_SIRNA\")\n",
    "    |\n",
    "    (main_csv_df[\"WellType\"] == \"ESIRNA\")\n",
    "]"
   ]
  },
  {
   "cell_type": "code",
   "execution_count": 7,
   "metadata": {},
   "outputs": [],
   "source": [
    "single_pooled_siRNA_and_esiRNA_IDs = single_pooled_siRNA_and_esiRNA_df[\n",
    "    \"ID_manufacturer\"\n",
    "]\n",
    "\n",
    "assert \"Not available\" not in single_pooled_siRNA_and_esiRNA_IDs.compute(), (\n",
    "    \"Contrary to our expectations, the entry \\\"Not available\\\" does occur \"\n",
    "    \"in the feature \\\"ID_manufacturer\\\"!\"\n",
    ")"
   ]
  },
  {
   "cell_type": "code",
   "execution_count": 8,
   "metadata": {},
   "outputs": [],
   "source": [
    "# Retrieve the two columns \"Name\" and \"ID_manufacturer\"\n",
    "single_pooled_siRNA_and_esiRNA_names_and_IDs_df = (\n",
    "    single_pooled_siRNA_and_esiRNA_df[[\"Name\", \"ID_manufacturer\"]]\n",
    ")"
   ]
  },
  {
   "cell_type": "code",
   "execution_count": 10,
   "metadata": {},
   "outputs": [
    {
     "name": "stdout",
     "output_type": "stream",
     "text": [
      "MRE11A\n",
      "4361\n"
     ]
    }
   ],
   "source": [
    "ID_change_str = \"This record was replaced with GeneID:\"\n",
    "\n",
    "# Iterate over the DataFrame rows using the iterrows() method\n",
    "for i, row in single_pooled_siRNA_and_esiRNA_names_and_IDs_df.iterrows():\n",
    "    gene_name = row[\"Name\"]\n",
    "    NCBI_Gene_ID = row[\"ID_manufacturer\"]\n",
    "    \n",
    "    # Query NCBI's gene database with the Gene ID currently dealt with\n",
    "    NCBI_entry = entrez.fetch_single_file(\n",
    "        uids=[NCBI_Gene_ID],\n",
    "        file_name=None,\n",
    "        db_name=\"gene\",\n",
    "        ret_type=\"\",\n",
    "        ret_mode=\"text\"\n",
    "    )\n",
    "\n",
    "    # As the file_name is specified to be None, Biotite's\n",
    "    # fetch_single_file() function returns a StringIO object\n",
    "    # It's content can be accessed via the getvalue() method\n",
    "    # Note that the getvalue() method is preferred to the read() method\n",
    "    # as the latter moves the cursor to the last index so that\n",
    "    # repeatedly using the read() method returns an empty string\n",
    "    NCBI_entry_str = NCBI_entry.getvalue()\n",
    "\n",
    "    # Different approaches are necessary depending on whether merely the\n",
    "    # official gene symbol was altered, whereas the NCBI Gene ID\n",
    "    # remained unchanged, or the record has been replaced altogether\n",
    "    # with an entirely new ID\n",
    "    if ID_change_str in NCBI_entry_str:\n",
    "        pass\n",
    "    else:\n",
    "        # For some strange reason, the string retrieved from the NCBI\n",
    "        # entry contains blank lines; they are removed\n",
    "        NCBI_entry_str_list = NCBI_entry_str.split(\"\\n\")\n",
    "        while \"\" in NCBI_entry_str_list:\n",
    "            NCBI_entry_str_list.remove(\"\")\n",
    "        \n",
    "        # Following the removal of empty strings, the official gene\n",
    "        # symbol is represented by the first list element, but it is\n",
    "        # preceded by the string \"1. \", which encompasses three\n",
    "        # characters\n",
    "        # Hence, prior to comparing the gene names provided by the VACV\n",
    "        # screen data set to the official gene symbols, the first list\n",
    "        # element has to be sliced accordingly\n",
    "        pass"
   ]
  },
  {
   "cell_type": "code",
   "execution_count": null,
   "metadata": {},
   "outputs": [],
   "source": []
  }
 ],
 "metadata": {
  "kernelspec": {
   "display_name": "bioinformatics",
   "language": "python",
   "name": "python3"
  },
  "language_info": {
   "codemirror_mode": {
    "name": "ipython",
    "version": 3
   },
   "file_extension": ".py",
   "mimetype": "text/x-python",
   "name": "python",
   "nbconvert_exporter": "python",
   "pygments_lexer": "ipython3",
   "version": "3.10.8"
  }
 },
 "nbformat": 4,
 "nbformat_minor": 2
}
