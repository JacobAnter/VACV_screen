{
 "cells": [
  {
   "cell_type": "code",
   "execution_count": 2,
   "metadata": {},
   "outputs": [],
   "source": [
    "import pandas as pd\n",
    "import dask.dataframe as dd"
   ]
  },
  {
   "cell_type": "code",
   "execution_count": 3,
   "metadata": {},
   "outputs": [],
   "source": [
    "# Unfortunately, to my knowledge, downloading all VACV interactions from\n",
    "# the HVIDB database at once is not possible\n",
    "# Hence, they have been downloaded in packages of up to 100 interactions\n",
    "# It is investigated whether the 5 packages are all different from each\n",
    "# other so as to rule out errors during the manual download, such as\n",
    "# accidentally downloading the same package twice\n",
    "# As a first step, the individual packages are loaded into the Jupyter\n",
    "# notebook\n",
    "HVIDB_package_1 = pd.read_csv(\"HVIDB_VACV_interactions_1.csv\")\n",
    "HVIDB_package_2 = pd.read_csv(\"HVIDB_VACV_interactions_2.csv\")\n",
    "HVIDB_package_3 = pd.read_csv(\"HVIDB_VACV_interactions_3.csv\")\n",
    "HVIDB_package_4 = pd.read_csv(\"HVIDB_VACV_interactions_4.csv\")\n",
    "HVIDB_package_5 = pd.read_csv(\"HVIDB_VACV_interactions_5.csv\")\n",
    "\n",
    "# According to the HVIDB database, the total amount of interactions is\n",
    "# 456\n",
    "# It is checked whether this also applies to the five downloaded\n",
    "# packages\n",
    "packages_list = [\n",
    "    HVIDB_package_1,\n",
    "    HVIDB_package_2,\n",
    "    HVIDB_package_3,\n",
    "    HVIDB_package_4,\n",
    "    HVIDB_package_5\n",
    "]\n",
    "\n",
    "assert sum(map(len, packages_list)) == 456, (\n",
    "    \"An error has been made during the manual download of the \"\n",
    "    \"interaction packages!\"\n",
    ")"
   ]
  },
  {
   "cell_type": "code",
   "execution_count": 5,
   "metadata": {},
   "outputs": [],
   "source": [
    "# Now, verify that all downloaded interaction packages are distinct from\n",
    "# one another\n",
    "# Unfortunately, checking equality for more than two DataFrames at once\n",
    "# is not possible to the best of my knowledge\n",
    "# Hence, it is resorted to for-loops\n",
    "package_equality = False\n",
    "\n",
    "for i, package in enumerate(packages_list):\n",
    "    # For obvious reasons, equality checks are only performed between\n",
    "    # different interaction packages\n",
    "    # Moreover, redundant equality checks are avoided\n",
    "    for j in range(i + 1, 5):\n",
    "        package_equality = package_equality or package.equals(packages_list[j])\n",
    "\n",
    "assert package_equality == False, (\n",
    "    \"Identical interaction packages have erroneously been downloaded!\"\n",
    ")"
   ]
  },
  {
   "cell_type": "code",
   "execution_count": 8,
   "metadata": {},
   "outputs": [],
   "source": [
    "# Now, for the sake of convenience, concatenate the five individual\n",
    "# interaction packages to generate one coherent CSV file\n",
    "HVIDB_VACV_interactions_df = pd.concat(packages_list, ignore_index=True)\n",
    "\n",
    "assert (\n",
    "    len(HVIDB_VACV_interactions_df) == 456\n",
    "    and\n",
    "    len(HVIDB_VACV_interactions_df.columns) == 4\n",
    "), \"A mistake was done during DataFrame concatenation!\""
   ]
  },
  {
   "cell_type": "code",
   "execution_count": 9,
   "metadata": {},
   "outputs": [],
   "source": [
    "# Save the coherent DataFrame as a CSV file\n",
    "HVIDB_VACV_interactions_df.to_csv(\n",
    "    \"all_HVIDB_VACV_interactions.csv\", index=False\n",
    ")"
   ]
  },
  {
   "cell_type": "code",
   "execution_count": 11,
   "metadata": {},
   "outputs": [
    {
     "name": "stdout",
     "output_type": "stream",
     "text": [
      "Amount of human proteins targeted in the VACV screen: 18,396\n"
     ]
    }
   ],
   "source": [
    "# Determine the amount of genes targeted by siRNAs/esiRNAs and\n",
    "# low-molecular weight organic compounds in the VACV screen\n",
    "siRNA_and_compounds_STRING_IDs_df = pd.read_csv(\n",
    "    \"siRNA_and_compounds_STRING_IDs.csv\",\n",
    "    delimiter=\"\\t\"\n",
    ")\n",
    "\n",
    "n_targets = len(siRNA_and_compounds_STRING_IDs_df)\n",
    "\n",
    "print(\n",
    "    f\"Amount of human proteins targeted in the VACV screen: {n_targets:,}\"\n",
    ")"
   ]
  },
  {
   "cell_type": "code",
   "execution_count": 13,
   "metadata": {},
   "outputs": [],
   "source": [
    "# Now, determine the amount of human genes interrogated in the VACV\n",
    "# screen that engage in PPIs recorded by HVIDB\n",
    "# To this end, the protein target names have to be converted in\n",
    "# UniProtIDs as they are employed by HVIDB\n",
    "# This is achieved via the ID mapping GUI on\n",
    "# https://www.uniprot.org/id-mapping\n",
    "VACV_screen_human_targets_series = siRNA_and_compounds_STRING_IDs_df[\n",
    "    \"queryItem\"\n",
    "]\n",
    "\n",
    "VACV_screen_human_targets_series.to_csv(\n",
    "    \"VACV_screen_human_targets_gene_names.txt\",\n",
    "    header=False,\n",
    "    index=False\n",
    ")"
   ]
  },
  {
   "cell_type": "code",
   "execution_count": 15,
   "metadata": {},
   "outputs": [
    {
     "name": "stdout",
     "output_type": "stream",
     "text": [
      "18396\n"
     ]
    }
   ],
   "source": [
    "print(len(siRNA_and_compounds_STRING_IDs_df[\"queryItem\"]))"
   ]
  },
  {
   "cell_type": "code",
   "execution_count": null,
   "metadata": {},
   "outputs": [],
   "source": []
  }
 ],
 "metadata": {
  "kernelspec": {
   "display_name": "bioinformatics",
   "language": "python",
   "name": "python3"
  },
  "language_info": {
   "codemirror_mode": {
    "name": "ipython",
    "version": 3
   },
   "file_extension": ".py",
   "mimetype": "text/x-python",
   "name": "python",
   "nbconvert_exporter": "python",
   "pygments_lexer": "ipython3",
   "version": "3.10.8"
  }
 },
 "nbformat": 4,
 "nbformat_minor": 2
}
