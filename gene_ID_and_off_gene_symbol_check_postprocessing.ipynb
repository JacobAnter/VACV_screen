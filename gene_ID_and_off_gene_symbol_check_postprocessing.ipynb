{
 "cells": [
  {
   "cell_type": "code",
   "execution_count": null,
   "metadata": {},
   "outputs": [],
   "source": [
    "\"\"\"\n",
    "The Python script \"gene_ID_and_off_gene_symbol_check.py\" has been\n",
    "successfully run on the Hemera HPC cluster. However, on throwing a\n",
    "glance at the output file and subsequently scutinising the\n",
    "\"ID_manufacturer\" column in the CSV file, several issues emerged.\n",
    "\n",
    "The first is that the database query failed for four gene IDs, namely\n",
    "644862, 441848, 441931 and 441860.\n",
    "\n",
    "The second is that for some perturbation agents, be they siRNA, pooled\n",
    "siRNA or esiRNA, more than one target gene is listed. In both the column\n",
    "\"ID_manufacturer\" and \"Name\", the individual entries are separated by\n",
    "semicolons.\n",
    "\n",
    "The third is that for some perturbation agents, the entry in both\n",
    "\"ID_manufacturer\" and \"Name\" is \"Not available\". However, as both the\n",
    "total amount of perturbation agents this applies to is manageable and\n",
    "the catalogue number of along with the manufacturer is provided, the\n",
    "target genes are manually looked up.\n",
    "\n",
    "As to the first two issues, however, postprocessing is accomplished in\n",
    "an automated manner.\n",
    "\n",
    "Apart from that, some records have been discontinued in the NCBI\n",
    "database, such as the record corresponding to the gene ID 441848. Such\n",
    "discontinued records contain the sentence \"This record was\n",
    "discontinued\". It is decided at a later time how discontinued records\n",
    "are dealt with.\n",
    "\"\"\""
   ]
  },
  {
   "cell_type": "code",
   "execution_count": 1,
   "metadata": {},
   "outputs": [],
   "source": [
    "import string\n",
    "\n",
    "import numpy as np\n",
    "import pandas as pd"
   ]
  },
  {
   "cell_type": "code",
   "execution_count": 2,
   "metadata": {},
   "outputs": [],
   "source": [
    "# Load the screen data\n",
    "# Bear in mind that for certain columns, the data type has to be\n",
    "# manually specified\n",
    "dtype_dict = {\n",
    "    \"Ensembl_ID_OnTarget_Ensembl_GRCh38_release_87\": str,\n",
    "    \"Ensembl_ID_OnTarget_NCBI_HeLa_phs000643_v3_p1_c1_HMB\": str,\n",
    "    \"Gene_Description\": str,\n",
    "    \"ID\": str,\n",
    "    \"ID_OnTarget_Ensembl_GRCh38_release_87\": str,\n",
    "    \"ID_OnTarget_Merge\": str,\n",
    "    \"ID_OnTarget_NCBI_HeLa_phs000643_v3_p1_c1_HMB\": str,\n",
    "    \"ID_OnTarget_RefSeq_20170215\": str,\n",
    "    \"ID_manufacturer\": str,\n",
    "    \"Name_alternatives\": str,\n",
    "    \"PLATE_QUALITY_DESCRIPTION\": str,\n",
    "    \"RefSeq_ID_OnTarget_RefSeq_20170215\": str,\n",
    "    \"Seed_sequence_common\": str,\n",
    "    \"WELL_QUALITY_DESCRIPTION\": str,\n",
    "    \"siRNA_error\": str,\n",
    "    \"siRNA_number\": str,\n",
    "    \"Precursor_Name\": str\n",
    "}\n",
    "\n",
    "# Dask DataFrames exhibit a peculiarity regarding the index labels: By\n",
    "# default, the index labels are integers, just as with Pandas\n",
    "# DataFrames. However, unlike Pandas DataFrames, the index labels do not\n",
    "# monotonically increase from 0, but restart at 0 for each partition,\n",
    "# thereby resulting in duplicated index labels (Dask subdivides a Dask\n",
    "# DataFram into multiple so-called partitions as the whole idea behind\n",
    "# Dask is to handle large data sets in a memory-efficient way, https://\n",
    "# docs.dask.org/en/stable/generated/dask.dataframe.DataFrame.reset_\n",
    "# index.html)\n",
    "# Hence, performing operations with Dask DataFrames might potentially\n",
    "# raise the `ValueError: cannot reindex on an axis with duplicate\n",
    "# labels` error\n",
    "# In this case, loading the entire data set into a Pandas DataFrame is\n",
    "# feasible, which is why this is preferred to loading it into a Dask\n",
    "# DataFrame (strangely enough, this has not been possible in the very\n",
    "# beginning, which is why Dask was used in the first place)\n",
    "main_csv_df = pd.read_csv(\n",
    "    \"VacciniaReport_20170223-0958_ZScored_conc_and_NaN_adjusted.csv\",\n",
    "    sep=\"\\t\",\n",
    "    dtype=dtype_dict\n",
    ")\n",
    "\n",
    "# Bear in mind that due to operator precedence, i.e. \"|\" (logical OR)\n",
    "# having precedence over equality checks, the equality checks have to be\n",
    "# surrounded by parentheses\n",
    "single_pooled_siRNA_and_esiRNA_df = main_csv_df.loc[\n",
    "    (main_csv_df[\"WellType\"] == \"SIRNA\")\n",
    "    |\n",
    "    (main_csv_df[\"WellType\"] == \"POOLED_SIRNA\")\n",
    "    |\n",
    "    (main_csv_df[\"WellType\"] == \"ESIRNA\")\n",
    "]"
   ]
  },
  {
   "cell_type": "code",
   "execution_count": 3,
   "metadata": {},
   "outputs": [
    {
     "name": "stdout",
     "output_type": "stream",
     "text": [
      "Amount of perturbation agents for which the target genes are not specified: 22\n"
     ]
    }
   ],
   "source": [
    "# Determine the amount of perturbation agents for which the target genes\n",
    "# are not specified\n",
    "ID_manufacturer_series = single_pooled_siRNA_and_esiRNA_df[\n",
    "    \"ID_manufacturer\"\n",
    "]\n",
    "\n",
    "n_target_not_specified = np.count_nonzero(\n",
    "    ID_manufacturer_series == \"Not available\"\n",
    ")\n",
    "\n",
    "print(\n",
    "    \"Amount of perturbation agents for which the target genes are not \"\n",
    "    f\"specified: {n_target_not_specified}\"\n",
    ")"
   ]
  },
  {
   "cell_type": "code",
   "execution_count": 5,
   "metadata": {},
   "outputs": [
    {
     "name": "stdout",
     "output_type": "stream",
     "text": [
      "The following features/columns contain commata in their entries:\n",
      "Feature name      Numeric index Alphabetical Index\n",
      "--------------------------------------------------\n",
      "Name_alternatives 30            AE\n",
      "Gene_Description  62            BK"
     ]
    }
   ],
   "source": [
    "# Now, address the first two issues in an automated manner (failed\n",
    "# database query for four gene IDs and the listing of several target\n",
    "# genes separated by semicolons)\n",
    "# To this end, the CSV file with the updated gene IDs and official gene\n",
    "# symbols is also loaded\n",
    "# Unfortunately, when saving the updated Pandas DataFrame to a CSV file,\n",
    "# the separator has not been specified, which is why the default\n",
    "# separator has been used\n",
    "# This, however, conflicts with the usage of commata in some entries\n",
    "# Thus, prior to loading the updated CSV file, the commata have to be\n",
    "# replaced with tab stops in a sophisticated manner taking account of\n",
    "# this difference between actual delimiters and commata which are part\n",
    "# of entries\n",
    "# To this end, columns containing commata in their entries have to be\n",
    "# identified\n",
    "feature_names = main_csv_df.columns\n",
    "features_with_commata = []\n",
    "features_with_commata_indices = []\n",
    "\n",
    "for i, feature_name in enumerate(feature_names):\n",
    "    feature_series = main_csv_df[feature_name]\n",
    "    if feature_series.dtype != \"object\":\n",
    "        continue\n",
    "    # Bear in mind that in order to check for the presence of a\n",
    "    # substring in a Pandas DataFrame, \"pandas.Series.str.contains\" has\n",
    "    # to be used rather than \"pandas.Series.isin\" as the latter only\n",
    "    # verifies complete matches between column entries and query strings\n",
    "    n_commata_in_entries = feature_series.str.contains(\",\").sum()\n",
    "    if n_commata_in_entries > 0:\n",
    "        features_with_commata.append(feature_name)\n",
    "        features_with_commata_indices.append(i)\n",
    "\n",
    "# Excel uses upper case letters instead of numbers in order to index\n",
    "# columns\n",
    "# Hence, for the sake of convenience, the numeric indices are\n",
    "# simultaneously mapped to the corresponding alphabetical indices\n",
    "# The built-in string module allows to fetch a string representing the\n",
    "# entire alphabet\n",
    "alphabet_list = list(string.ascii_uppercase)\n",
    "\n",
    "alphabetic_indices_list = list(string.ascii_uppercase)\n",
    "for first_letter in alphabet_list[:3]:\n",
    "    for second_letter in alphabet_list:\n",
    "        alphabetic_indices_list.append(first_letter + second_letter)\n",
    "\n",
    "numeric_alphabetic_index_dict = {}\n",
    "for numeric_index, alphabetic_index in enumerate(alphabetic_indices_list):\n",
    "    numeric_alphabetic_index_dict[numeric_index] = alphabetic_index\n",
    "\n",
    "max_feature_name_length = max(map(len, features_with_commata))\n",
    "\n",
    "print(\n",
    "    \"The following features/columns contain commata in their entries:\\n\",\n",
    "    \"Feature name\".ljust(max_feature_name_length + 1),\n",
    "    \"Numeric index\".ljust(14),\n",
    "    \"Alphabetical Index\\n\",\n",
    "    \"-\" * (max_feature_name_length + 1 + 14 + len(\"Alphabetical index\")),\n",
    "    sep=\"\",\n",
    "    end=\"\"\n",
    ")\n",
    "\n",
    "for i, feature_name in zip(\n",
    "    features_with_commata_indices, features_with_commata\n",
    "):\n",
    "    print(\n",
    "        \"\\n\",\n",
    "        feature_name.ljust(max_feature_name_length + 1),\n",
    "        str(i).ljust(14),\n",
    "        numeric_alphabetic_index_dict[i],\n",
    "        sep=\"\",\n",
    "        end=\"\"\n",
    "    )"
   ]
  },
  {
   "cell_type": "code",
   "execution_count": 6,
   "metadata": {},
   "outputs": [
    {
     "name": "stdout",
     "output_type": "stream",
     "text": [
      "['MultipleTargets' 'NoTargets' 'Not available' 'OK' 'POOLED_SIRNA_ERROR'\n",
      " 'TargetMismatch' 'Unknown']\n",
      "['ENST00000000233;ENST00000463733'\n",
      " 'ENST00000000233;ENST00000463733;ENST00000415666;ENST00000467281;ENST00000489673;ENST00000459680'\n",
      " 'ENST00000000233;ENST00000463733;ENST00000415666;ENST00000489673;ENST00000464403'\n",
      " ... 'ENST00000515849;ENST00000302763;ENST00000355078' 'ENST00000516084'\n",
      " 'Not available']\n"
     ]
    }
   ],
   "source": [
    "# Now, the entries of the columns immediately following those the\n",
    "# entries of which contain commata are scrutinised\n",
    "# Ideally, they exhibit common characteristics that can be leveraged for\n",
    "# the distinction between actual delimiters and commata belonging to\n",
    "# entries\n",
    "following_series_1 = main_csv_df[feature_names[31]]\n",
    "following_series_2 = main_csv_df[feature_names[63]]\n",
    "\n",
    "unique_vals_series_1 = np.unique(following_series_1)\n",
    "unique_vals_series_2 = np.unique(following_series_2)\n",
    "\n",
    "print(unique_vals_series_1)\n",
    "print(unique_vals_series_2)"
   ]
  },
  {
   "cell_type": "code",
   "execution_count": 9,
   "metadata": {},
   "outputs": [
    {
     "name": "stdout",
     "output_type": "stream",
     "text": [
      "False\n"
     ]
    }
   ],
   "source": [
    "# Regarding the second of the two investigated columns, it emerges that\n",
    "# the vast majority of its entries begin with the sequence \"ENST\"\n",
    "# It is investigated whether this is indeed the case for all entries or\n",
    "# whether there are some exceptions\n",
    "print(all([entry[:4] == \"ENST\" for entry in unique_vals_series_2]))"
   ]
  },
  {
   "cell_type": "code",
   "execution_count": 10,
   "metadata": {},
   "outputs": [
    {
     "name": "stdout",
     "output_type": "stream",
     "text": [
      "['Not available']\n"
     ]
    }
   ],
   "source": [
    "# Apparently, there are entries not starting with the \"ENST\" sequence\n",
    "# They are extracted and examined\n",
    "# The arguably easiest way to accomplish this is boolean indexing, which\n",
    "# is provided by NumPy\n",
    "outcast_vals_arr = unique_vals_series_2[\n",
    "    [entry[:4] != \"ENST\" for entry in unique_vals_series_2]\n",
    "]\n",
    "print(outcast_vals_arr)"
   ]
  },
  {
   "cell_type": "code",
   "execution_count": 11,
   "metadata": {},
   "outputs": [],
   "source": [
    "# It becomes apparent that I am damn lucky as I indeed am able to\n",
    "# leverage common characterics in order to distinguish actual delimiters\n",
    "# from commata belonging to entries\n",
    "with open(\n",
    "    \"Vaccinia_Report_NCBI_Gene_IDs_and_official_gene_symbols_updated.csv\",\n",
    "    \"r\"\n",
    ") as f:\n",
    "    file_lines = f.readlines()"
   ]
  },
  {
   "cell_type": "code",
   "execution_count": 17,
   "metadata": {},
   "outputs": [
    {
     "name": "stdout",
     "output_type": "stream",
     "text": [
      "[1, 3, 5, 7, 9, 11, 13, 15, 17, 19, 21, 23, 25, 27, 29, 31, 33, 35, 37, 39, 41, 43, 45, 47, 49, 51, 53, 55, 57, 59, 61, 63, 65, 67, 69, 71, 73, 75, 77, 79, 81, 83, 85, 87, 89, 91, 93, 95, 97, 99, 101, 103, 105, 107, 109, 111, 113, 115, 117, 119, 121, 123, 125, 127, 129, 131, 133, 135, 137, 139, 141, 143, 145, 147, 149, 151, 153, 155, 157, 159, 161, 163, 165, 167, 169, 171, 173, 175, 177, 179, 181]\n"
     ]
    }
   ],
   "source": [
    "# List comprising unique values of column 31, i.e. the column following\n",
    "# column 30 (\"Name_alternatives\")\n",
    "siRNA_error_options = [\n",
    "    \"MultipleTargets\",\n",
    "    \"NoTargets\",\n",
    "    \"Not available\",\n",
    "    \"OK\",\n",
    "    \"POOLED_SIRNA_ERROR\",\n",
    "    \"TargetMismatch\",\n",
    "    \"Unknown\"\n",
    "]\n",
    "\n",
    "# Iterate through the lines, modify them accordingly and write the\n",
    "# adjusted lines to a new output file\n",
    "with open(\"adjusted_file.csv\", \"w\") as f:\n",
    "    for line in file_lines:\n",
    "        # When employing the built-in split method for strings, the\n",
    "        # separation character is not retained, but discarded\n",
    "        # Hence, by employing a trick involving a nested list\n",
    "        # comprehension, the separation character is added at its\n",
    "        # corresponding positions\n",
    "        # (https://www.geeksforgeeks.org/python-string-split-including-spaces/)\n",
    "        split_line = [i for j in line.split(\",\") for i in (j, \",\")][:-1]\n",
    "        \n",
    "        line_comma_indices = [\n",
    "            i for i, x in enumerate(split_line) if x == \",\"\n",
    "        ]\n",
    "\n",
    "        # Determine the indices of commata belonging to entries in lieu\n",
    "        # of being delimiters\n",
    "        entry_commata_list = []\n",
    "\n",
    "        # First, deal with column 30, i.e. \"Name alternatives\"\n",
    "        # Keep in mind that it is iterated through the list\n",
    "        # `split_line`, which encompasses both the entries as well as\n",
    "        # commata\n",
    "        # Therefore, the index corresponding to column 30 is not 30, but\n",
    "        # 1 + 28 * 2 + 1 = 58 (counting starts with 0, hence the comma\n",
    "        # of the first entry has index 1; to account for the remaining\n",
    "        # 28 entries, 28 * 2 is added; finally, in order to obtain the\n",
    "        # index of the 30th entry, 1 is added)\n",
    "        entry_index_1 = 58\n",
    "        subsequent_entry = split_line[entry_index_1]\n",
    "        while subsequent_entry not in siRNA_error_options:\n",
    "            entry_commata_list.append(entry_index_1 - 1)\n",
    "            entry_index_1 += 2\n",
    "        \n",
    "        # Now, do the same thing with column 62, i.e.\n",
    "        # (\"Gene_Description\")\n",
    "        # Again, the index of the entry in `split_line` corresponding to\n",
    "        # column 62 is not 62, but 1 + 60 * 2 + 1 = 122\n",
    "        # Note that the index of the first entry to investigate has to\n",
    "        # be adjusted according to the previous amount of \"entry\n",
    "        # commata\"\n",
    "        entry_index_2 = 122 + len(entry_commata_list) * 2\n",
    "        subsequent_entry = split_line[entry_index_2]\n",
    "        while ...:\n",
    "            pass\n",
    "        \n",
    "        n_additional_commata = 0\n",
    "        for comma_index in line_comma_indices:\n",
    "            # Due to the fact that counting begins with 0, the amount of\n",
    "            # delimiters preceding a column with a certain index equals\n",
    "            # that index, at least before the occurrence of additional\n",
    "            # commata in the entries\n",
    "            # Thus, the first column containing commata in its entries\n",
    "            # is preceded by 30 delimiters\n",
    "            if comma_index < 31:\n",
    "                split_line[comma_index] = \"\\t\"\n",
    "            # Now, a sophisticated approach is required in order to\n",
    "            # distinguish commata belonging to entries from actual\n",
    "            # delimiters\n",
    "            elif ...:\n",
    "                pass\n",
    "        break"
   ]
  },
  {
   "cell_type": "code",
   "execution_count": 20,
   "metadata": {},
   "outputs": [
    {
     "name": "stdout",
     "output_type": "stream",
     "text": [
      "122\n"
     ]
    }
   ],
   "source": [
    "print(1 + 60 * 2 + 1)"
   ]
  },
  {
   "cell_type": "code",
   "execution_count": 13,
   "metadata": {},
   "outputs": [
    {
     "name": "stdout",
     "output_type": "stream",
     "text": [
      "Barcode,PlateType,PLATE_QUALITY_STATUS,PLATE_QUALITY_DESCRIPTION,BEE.RELEASE.STATUS,PLATE_TYPE,BATCH,Space,Group,Experiment,ExperimentType,Library,PATHOGEN,GENESET,REPLICATE,WellRow,WellColumn,WellName,WellType,WELL_QUALITY_DESCRIPTION,WELL_QUALITY_STATUS,PublicationLink_well,PublicationLink_material,Manufacturer,Catalog_number,ID,ID_manufacturer,ID_String,ID_openBIS,Name,Name_alternatives,siRNA_error,Seed_sequence_antisense_5_3,Seed_sequence_sense_5_3,Sequence_antisense_5_3,Sequence_sense_5_3,Sequence_target_sense_5_3,siRNA_number,Seed_sequence_common,Concentration [pmol],Seeded_cell_number,eCount_oCells,dArea_oNuclei,dArea_oPeriNuclei,dArea_oCells,dArea_oVoronoiCells,dIntensity_cPathogen_eMean_oNuclei,dIntensity_cPathogen_eMean_oPeriNuclei,dIntensity_cPathogen_eMean_oCells,dIntensity_cPathogen_eMean_oVoronoiCells,dIntensity_cLatePathogen_eMean_oNuclei,dIntensity_cLatePathogen_eMean_oPeriNuclei,dIntensity_cLatePathogen_eMean_oCells,dIntensity_cLatePathogen_eMean_oVoronoiCells,dInfectionDT_eCount,dInfectionDT_eIndex,dInfectionDT_dLateInfected_eCount,dInfectionDT_dLateInfected_eIndex,Gene_Symbol,Accession,Contained_Catalog_Numbers,Sequence_antisense_5_3_MD5,Gene_Description,Ensembl_ID_OnTarget_NCBI_HeLa_phs000643_v3_p1_c1_HMB,ID_OnTarget_NCBI_HeLa_phs000643_v3_p1_c1_HMB,RefSeq_ID_OnTarget_RefSeq_20170215,ID_OnTarget_RefSeq_20170215,Ensembl_ID_OnTarget_Ensembl_GRCh38_release_87,ID_OnTarget_Ensembl_GRCh38_release_87,ID_OnTarget_Merge,ID_OnTarget_Intersection,Precursor_Accession,Precursor_Name,Precursor_Alternative_Names,openBISLink_well,dArea_oCells_nZScore,dArea_oNuclei_nZScore,dArea_oPeriNuclei_nZScore,dArea_oVoronoiCells_nZScore,dInfectionDT_dLateInfected_eCount_nZScore,dInfectionDT_dLateInfected_eIndex_nZScore,dInfectionDT_eCount_nZScore,dInfectionDT_eIndex_nZScore,dIntensity_cPathogen_eMean_oCells_nZScore,dIntensity_cPathogen_eMean_oNuclei_nZScore,dIntensity_cPathogen_eMean_oPeriNuclei_nZScore,dIntensity_cPathogen_eMean_oVoronoiCells_nZScore,dIntensity_cLatePathogen_eMean_oCells_nZScore,dIntensity_cLatePathogen_eMean_oNuclei_nZScore,dIntensity_cLatePathogen_eMean_oPeriNuclei_nZScore,dIntensity_cLatePathogen_eMean_oVoronoiCells_nZScore,eCount_oCells_nZScore\n",
      "\n"
     ]
    }
   ],
   "source": [
    "print(file_lines[0])"
   ]
  },
  {
   "cell_type": "code",
   "execution_count": 14,
   "metadata": {},
   "outputs": [
    {
     "name": "stdout",
     "output_type": "stream",
     "text": [
      "Barcode\tPlateType\tPLATE_QUALITY_STATUS\tPLATE_QUALITY_DESCRIPTION\tBEE.RELEASE.STATUS\tPLATE_TYPE\tBATCH\tSpace\tGroup\tExperiment\tExperimentType\tLibrary\tPATHOGEN\tGENESET\tREPLICATE\tWellRow\tWellColumn\tWellName\tWellType\tWELL_QUALITY_DESCRIPTION\tWELL_QUALITY_STATUS\tPublicationLink_well\tPublicationLink_material\tManufacturer\tCatalog_number\tID\tID_manufacturer\tID_String\tID_openBIS\tName\tName_alternatives\tsiRNA_error\tSeed_sequence_antisense_5_3\tSeed_sequence_sense_5_3\tSequence_antisense_5_3\tSequence_sense_5_3\tSequence_target_sense_5_3\tsiRNA_number\tSeed_sequence_common\tConcentration [pmol]\tSeeded_cell_number\teCount_oCells\tdArea_oNuclei\tdArea_oPeriNuclei\tdArea_oCells\tdArea_oVoronoiCells\tdIntensity_cPathogen_eMean_oNuclei\tdIntensity_cPathogen_eMean_oPeriNuclei\tdIntensity_cPathogen_eMean_oCells\tdIntensity_cPathogen_eMean_oVoronoiCells\tdIntensity_cLatePathogen_eMean_oNuclei\tdIntensity_cLatePathogen_eMean_oPeriNuclei\tdIntensity_cLatePathogen_eMean_oCells\tdIntensity_cLatePathogen_eMean_oVoronoiCells\tdInfectionDT_eCount\tdInfectionDT_eIndex\tdInfectionDT_dLateInfected_eCount\tdInfectionDT_dLateInfected_eIndex\tGene_Symbol\tAccession\tContained_Catalog_Numbers\tSequence_antisense_5_3_MD5\tGene_Description\tEnsembl_ID_OnTarget_NCBI_HeLa_phs000643_v3_p1_c1_HMB\tID_OnTarget_NCBI_HeLa_phs000643_v3_p1_c1_HMB\tRefSeq_ID_OnTarget_RefSeq_20170215\tID_OnTarget_RefSeq_20170215\tEnsembl_ID_OnTarget_Ensembl_GRCh38_release_87\tID_OnTarget_Ensembl_GRCh38_release_87\tID_OnTarget_Merge\tID_OnTarget_Intersection\tPrecursor_Accession\tPrecursor_Name\tPrecursor_Alternative_Names\topenBISLink_well\tdArea_oCells_nZScore\tdArea_oNuclei_nZScore\tdArea_oPeriNuclei_nZScore\tdArea_oVoronoiCells_nZScore\tdInfectionDT_dLateInfected_eCount_nZScore\tdInfectionDT_dLateInfected_eIndex_nZScore\tdInfectionDT_eCount_nZScore\tdInfectionDT_eIndex_nZScore\tdIntensity_cPathogen_eMean_oCells_nZScore\tdIntensity_cPathogen_eMean_oNuclei_nZScore\tdIntensity_cPathogen_eMean_oPeriNuclei_nZScore\tdIntensity_cPathogen_eMean_oVoronoiCells_nZScore\tdIntensity_cLatePathogen_eMean_oCells_nZScore\tdIntensity_cLatePathogen_eMean_oNuclei_nZScore\tdIntensity_cLatePathogen_eMean_oPeriNuclei_nZScore\tdIntensity_cLatePathogen_eMean_oVoronoiCells_nZScore\teCount_oCells_nZScore\n",
      "\n"
     ]
    }
   ],
   "source": [
    "with open(\"VacciniaReport_20170223-0958_ZScored_conc_and_NaN_adjusted.csv\", \"r\") as f:\n",
    "    boring_lines = f.readlines()\n",
    "\n",
    "print(boring_lines[0])"
   ]
  },
  {
   "cell_type": "code",
   "execution_count": 15,
   "metadata": {},
   "outputs": [
    {
     "name": "stdout",
     "output_type": "stream",
     "text": [
      "Deine\tMutter\n"
     ]
    }
   ],
   "source": [
    "print(\"Deine\\tMutter\")"
   ]
  },
  {
   "cell_type": "code",
   "execution_count": 5,
   "metadata": {},
   "outputs": [
    {
     "name": "stdout",
     "output_type": "stream",
     "text": [
      "  Barcode,PlateType,PLATE_QUALITY_STATUS,PLATE_QUALITY_DESCRIPTION,BEE.RELEASE.STATUS,PLATE_TYPE,BATCH,Space,Group,Experiment,ExperimentType,Library,PATHOGEN,GENESET,REPLICATE,WellRow,WellColumn,WellName,WellType,WELL_QUALITY_DESCRIPTION,WELL_QUALITY_STATUS,PublicationLink_well,PublicationLink_material,Manufacturer,Catalog_number,ID,ID_manufacturer,ID_String,ID_openBIS,Name,Name_alternatives,siRNA_error,Seed_sequence_antisense_5_3,Seed_sequence_sense_5_3,Sequence_antisense_5_3,Sequence_sense_5_3,Sequence_target_sense_5_3,siRNA_number,Seed_sequence_common,Concentration [pmol],Seeded_cell_number,eCount_oCells,dArea_oNuclei,dArea_oPeriNuclei,dArea_oCells,dArea_oVoronoiCells,dIntensity_cPathogen_eMean_oNuclei,dIntensity_cPathogen_eMean_oPeriNuclei,dIntensity_cPathogen_eMean_oCells,dIntensity_cPathogen_eMean_oVoronoiCells,dIntensity_cLatePathogen_eMean_oNuclei,dIntensity_cLatePathogen_eMean_oPeriNuclei,dIntensity_cLatePathogen_eMean_oCells,dIntensity_cLatePathogen_eMean_oVoronoiCells,dInfectionDT_eCount,dInfectionDT_eIndex,dInfectionDT_dLateInfected_eCount,dInfectionDT_dLateInfected_eIndex,Gene_Symbol,Accession,Contained_Catalog_Numbers,Sequence_antisense_5_3_MD5,Gene_Description,Ensembl_ID_OnTarget_NCBI_HeLa_phs000643_v3_p1_c1_HMB,ID_OnTarget_NCBI_HeLa_phs000643_v3_p1_c1_HMB,RefSeq_ID_OnTarget_RefSeq_20170215,ID_OnTarget_RefSeq_20170215,Ensembl_ID_OnTarget_Ensembl_GRCh38_release_87,ID_OnTarget_Ensembl_GRCh38_release_87,ID_OnTarget_Merge,ID_OnTarget_Intersection,Precursor_Accession,Precursor_Name,Precursor_Alternative_Names,openBISLink_well,dArea_oCells_nZScore,dArea_oNuclei_nZScore,dArea_oPeriNuclei_nZScore,dArea_oVoronoiCells_nZScore,dInfectionDT_dLateInfected_eCount_nZScore,dInfectionDT_dLateInfected_eIndex_nZScore,dInfectionDT_eCount_nZScore,dInfectionDT_eIndex_nZScore,dIntensity_cPathogen_eMean_oCells_nZScore,dIntensity_cPathogen_eMean_oNuclei_nZScore,dIntensity_cPathogen_eMean_oPeriNuclei_nZScore,dIntensity_cPathogen_eMean_oVoronoiCells_nZScore,dIntensity_cLatePathogen_eMean_oCells_nZScore,dIntensity_cLatePathogen_eMean_oNuclei_nZScore,dIntensity_cLatePathogen_eMean_oPeriNuclei_nZScore,dIntensity_cLatePathogen_eMean_oVoronoiCells_nZScore,eCount_oCells_nZScore\n",
      "0  BB01-1M,PLATE,UNKNOWN,Not available,,CheckerBo...                                                                                                                                                                                                                                                                                                                                                                                                                                                                                                                                                                                                                                                                                                                                                                                                                                                                                                                                                                                                                                                                                                                                                                                                                                                                                                                                                                                                                                                                                                                                                                                                                                                                                                                                                                                                                                                                                                                                                                                                                                                                                                                                                                                                                                  \n",
      "1  BB01-1M,PLATE,UNKNOWN,Not available,,CheckerBo...                                                                                                                                                                                                                                                                                                                                                                                                                                                                                                                                                                                                                                                                                                                                                                                                                                                                                                                                                                                                                                                                                                                                                                                                                                                                                                                                                                                                                                                                                                                                                                                                                                                                                                                                                                                                                                                                                                                                                                                                                                                                                                                                                                                                                                  \n",
      "2  BB01-1M,PLATE,UNKNOWN,Not available,,CheckerBo...                                                                                                                                                                                                                                                                                                                                                                                                                                                                                                                                                                                                                                                                                                                                                                                                                                                                                                                                                                                                                                                                                                                                                                                                                                                                                                                                                                                                                                                                                                                                                                                                                                                                                                                                                                                                                                                                                                                                                                                                                                                                                                                                                                                                                                  \n",
      "3  BB01-1M,PLATE,UNKNOWN,Not available,,CheckerBo...                                                                                                                                                                                                                                                                                                                                                                                                                                                                                                                                                                                                                                                                                                                                                                                                                                                                                                                                                                                                                                                                                                                                                                                                                                                                                                                                                                                                                                                                                                                                                                                                                                                                                                                                                                                                                                                                                                                                                                                                                                                                                                                                                                                                                                  \n",
      "4  BB01-1M,PLATE,UNKNOWN,Not available,,CheckerBo...                                                                                                                                                                                                                                                                                                                                                                                                                                                                                                                                                                                                                                                                                                                                                                                                                                                                                                                                                                                                                                                                                                                                                                                                                                                                                                                                                                                                                                                                                                                                                                                                                                                                                                                                                                                                                                                                                                                                                                                                                                                                                                                                                                                                                                  \n"
     ]
    }
   ],
   "source": [
    "updated_main_csv_df = pd.read_csv(\n",
    "    \"Vaccinia_Report_NCBI_Gene_IDs_and_official_gene_symbols_updated.csv\",\n",
    "    sep=\"\\t\",\n",
    "    dtype=dtype_dict\n",
    ")"
   ]
  },
  {
   "cell_type": "code",
   "execution_count": null,
   "metadata": {},
   "outputs": [],
   "source": []
  }
 ],
 "metadata": {
  "kernelspec": {
   "display_name": "bioinformatics",
   "language": "python",
   "name": "python3"
  },
  "language_info": {
   "codemirror_mode": {
    "name": "ipython",
    "version": 3
   },
   "file_extension": ".py",
   "mimetype": "text/x-python",
   "name": "python",
   "nbconvert_exporter": "python",
   "pygments_lexer": "ipython3",
   "version": "3.10.8"
  }
 },
 "nbformat": 4,
 "nbformat_minor": 2
}
