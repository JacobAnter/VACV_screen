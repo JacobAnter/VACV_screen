{
 "cells": [
  {
   "cell_type": "code",
   "execution_count": null,
   "metadata": {},
   "outputs": [],
   "source": [
    "\"\"\"\n",
    "The Python script \"gene_ID_and_off_gene_symbol_check.py\" has been\n",
    "successfully run on the Hemera HPC cluster. However, on throwing a\n",
    "glance at the output file and subsequently scutinising the\n",
    "\"ID_manufacturer\" column in the CSV file, several issues emerged.\n",
    "\n",
    "The first is that the database query failed for four gene IDs, namely\n",
    "644862, 441848, 441931 and 441860.\n",
    "\n",
    "The second is that for some perturbation agents, be they siRNA, pooled\n",
    "siRNA or esiRNA, more than one target gene is listed. In both the column\n",
    "\"ID_manufacturer\" and \"Name\", the individual entries are separated by\n",
    "semicolons.\n",
    "\n",
    "The third is that for some perturbation agents, the entry in both\n",
    "\"ID_manufacturer\" and \"Name\" is \"Not available\". However, as both the\n",
    "total amount of perturbation agents this applies to is manageable and\n",
    "the catalogue number of along with the manufacturer is provided, the\n",
    "target genes are manually looked up.\n",
    "\n",
    "As to the first two issues, however, postprocessing is accomplished in\n",
    "an automated manner.\n",
    "\n",
    "Apart from that, some records have been discontinued in the NCBI\n",
    "database, such as the record corresponding to the gene ID 441848. Such\n",
    "discontinued records contain the sentence \"This record was\n",
    "discontinued\". It is decided at a later time how discontinued records\n",
    "are dealt with.\n",
    "\"\"\""
   ]
  },
  {
   "cell_type": "code",
   "execution_count": 6,
   "metadata": {},
   "outputs": [],
   "source": [
    "import numpy as np\n",
    "import pandas as pd"
   ]
  },
  {
   "cell_type": "code",
   "execution_count": 7,
   "metadata": {},
   "outputs": [],
   "source": [
    "# Load the screen data\n",
    "# Bear in mind that for certain columns, the data type has to be\n",
    "# manually specified\n",
    "dtype_dict = {\n",
    "    \"Ensembl_ID_OnTarget_Ensembl_GRCh38_release_87\": str,\n",
    "    \"Ensembl_ID_OnTarget_NCBI_HeLa_phs000643_v3_p1_c1_HMB\": str,\n",
    "    \"Gene_Description\": str,\n",
    "    \"ID\": str,\n",
    "    \"ID_OnTarget_Ensembl_GRCh38_release_87\": str,\n",
    "    \"ID_OnTarget_Merge\": str,\n",
    "    \"ID_OnTarget_NCBI_HeLa_phs000643_v3_p1_c1_HMB\": str,\n",
    "    \"ID_OnTarget_RefSeq_20170215\": str,\n",
    "    \"ID_manufacturer\": str,\n",
    "    \"Name_alternatives\": str,\n",
    "    \"PLATE_QUALITY_DESCRIPTION\": str,\n",
    "    \"RefSeq_ID_OnTarget_RefSeq_20170215\": str,\n",
    "    \"Seed_sequence_common\": str,\n",
    "    \"WELL_QUALITY_DESCRIPTION\": str,\n",
    "    \"siRNA_error\": str,\n",
    "    \"siRNA_number\": str,\n",
    "    \"Precursor_Name\": str\n",
    "}\n",
    "\n",
    "# Dask DataFrames exhibit a peculiarity regarding the index labels: By\n",
    "# default, the index labels are integers, just as with Pandas\n",
    "# DataFrames. However, unlike Pandas DataFrames, the index labels do not\n",
    "# monotonically increase from 0, but restart at 0 for each partition,\n",
    "# thereby resulting in duplicated index labels (Dask subdivides a Dask\n",
    "# DataFram into multiple so-called partitions as the whole idea behind\n",
    "# Dask is to handle large data sets in a memory-efficient way, https://\n",
    "# docs.dask.org/en/stable/generated/dask.dataframe.DataFrame.reset_\n",
    "# index.html)\n",
    "# Hence, performing operations with Dask DataFrames might potentially\n",
    "# raise the `ValueError: cannot reindex on an axis with duplicate\n",
    "# labels` error\n",
    "# In this case, loading the entire data set into a Pandas DataFrame is\n",
    "# feasible, which is why this is preferred to loading it into a Dask\n",
    "# DataFrame (strangely enough, this has not been possible in the very\n",
    "# beginning, which is why Dask was used in the first place)\n",
    "main_csv_df = pd.read_csv(\n",
    "    \"VacciniaReport_20170223-0958_ZScored_conc_and_NaN_adjusted.csv\",\n",
    "    sep=\"\\t\",\n",
    "    dtype=dtype_dict\n",
    ")\n",
    "\n",
    "# Bear in mind that due to operator precedence, i.e. \"|\" (logical OR)\n",
    "# having precedence over equality checks, the equality checks have to be\n",
    "# surrounded by parentheses\n",
    "single_pooled_siRNA_and_esiRNA_df = main_csv_df.loc[\n",
    "    (main_csv_df[\"WellType\"] == \"SIRNA\")\n",
    "    |\n",
    "    (main_csv_df[\"WellType\"] == \"POOLED_SIRNA\")\n",
    "    |\n",
    "    (main_csv_df[\"WellType\"] == \"ESIRNA\")\n",
    "]"
   ]
  },
  {
   "cell_type": "code",
   "execution_count": 8,
   "metadata": {},
   "outputs": [
    {
     "name": "stdout",
     "output_type": "stream",
     "text": [
      "Amount of perturbation agents for which the target genes are not specified: 22\n"
     ]
    }
   ],
   "source": [
    "# Determine the amount of perturbation agents for which the target genes\n",
    "# are not specified\n",
    "ID_manufacturer_series = single_pooled_siRNA_and_esiRNA_df[\n",
    "    \"ID_manufacturer\"\n",
    "]\n",
    "\n",
    "n_target_not_specified = np.count_nonzero(\n",
    "    ID_manufacturer_series == \"Not available\"\n",
    ")\n",
    "\n",
    "print(\n",
    "    \"Amount of perturbation agents for which the target genes are not \"\n",
    "    f\"specified: {n_target_not_specified}\"\n",
    ")"
   ]
  },
  {
   "cell_type": "code",
   "execution_count": null,
   "metadata": {},
   "outputs": [],
   "source": [
    "# Now, address the first two issues in an automated manner (failed\n",
    "# database query for four gene IDs and the listing of several target\n",
    "# genes separated by semicolons)\n",
    "# To this end, the CSV file with the updated gene IDs and official gene\n",
    "# symbols is also loaded\n",
    "updated_main_csv_df = pd.read_csv(\n",
    "    \"/Users/jacobanter/Documents/Code/VACV_screen/Vaccinia\\\n",
    "        _Report_NCBI_Gene_IDs_and_official_gene_symbols_updated.csv\",\n",
    "    sep=\"t\",\n",
    ")"
   ]
  }
 ],
 "metadata": {
  "kernelspec": {
   "display_name": "bioinformatics",
   "language": "python",
   "name": "python3"
  },
  "language_info": {
   "codemirror_mode": {
    "name": "ipython",
    "version": 3
   },
   "file_extension": ".py",
   "mimetype": "text/x-python",
   "name": "python",
   "nbconvert_exporter": "python",
   "pygments_lexer": "ipython3",
   "version": "3.10.8"
  }
 },
 "nbformat": 4,
 "nbformat_minor": 2
}
