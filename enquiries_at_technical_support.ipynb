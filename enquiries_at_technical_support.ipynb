{
 "cells": [
  {
   "cell_type": "code",
   "execution_count": 1,
   "metadata": {},
   "outputs": [],
   "source": [
    "# The technical support of Thermo Fischer has information regarding\n",
    "# whether their siRNAs exhibit off-target effects or they target the\n",
    "# alleged target at all\n",
    "# Thus, it is tried to obtain this kind of information for all siRNAs\n",
    "# from Thermo Fischer (Ambion has been purchased by Thermo Fischer)"
   ]
  },
  {
   "cell_type": "code",
   "execution_count": 1,
   "metadata": {},
   "outputs": [],
   "source": [
    "import numpy as np\n",
    "import pandas as pd"
   ]
  },
  {
   "cell_type": "code",
   "execution_count": 2,
   "metadata": {},
   "outputs": [],
   "source": [
    "dtype_dict = {\n",
    "    \"Ensembl_ID_OnTarget_Ensembl_GRCh38_release_87\": str,\n",
    "    \"Ensembl_ID_OnTarget_NCBI_HeLa_phs000643_v3_p1_c1_HMB\": str,\n",
    "    \"Gene_Description\": str,\n",
    "    \"ID\": str,\n",
    "    \"ID_OnTarget_Ensembl_GRCh38_release_87\": str,\n",
    "    \"ID_OnTarget_Merge\": str,\n",
    "    \"ID_OnTarget_NCBI_HeLa_phs000643_v3_p1_c1_HMB\": str,\n",
    "    \"ID_OnTarget_RefSeq_20170215\": str,\n",
    "    \"ID_manufacturer\": str,\n",
    "    \"Name_alternatives\": str,\n",
    "    \"PLATE_QUALITY_DESCRIPTION\": str,\n",
    "    \"RefSeq_ID_OnTarget_RefSeq_20170215\": str,\n",
    "    \"Seed_sequence_common\": str,\n",
    "    \"WELL_QUALITY_DESCRIPTION\": str,\n",
    "    \"siRNA_error\": str,\n",
    "    \"siRNA_number\": str,\n",
    "    \"Precursor_Name\": str\n",
    "}\n",
    "\n",
    "siRNA_df = pd.read_csv(\n",
    "    \"VACV_Report_only_valid_single_pooled_siRNA_and_esiRNA.csv\",\n",
    "    sep=\"\\t\",\n",
    "    dtype=dtype_dict\n",
    ")"
   ]
  },
  {
   "cell_type": "code",
   "execution_count": 3,
   "metadata": {},
   "outputs": [
    {
     "name": "stdout",
     "output_type": "stream",
     "text": [
      "Unique siRNA types comprised in the Ambion (Thermo Fisher) subset: SIRNA\n"
     ]
    }
   ],
   "source": [
    "ambion_subset = siRNA_df[\n",
    "    siRNA_df[\"Manufacturer\"] == \"Ambion\"\n",
    "]\n",
    "\n",
    "ambion_siRNA_types = ambion_subset[\"WellType\"].unique()\n",
    "\n",
    "print(\n",
    "    \"Unique siRNA types comprised in the Ambion (Thermo Fisher) \"\n",
    "    f\"subset: {', '.join(ambion_siRNA_types)}\"\n",
    ")"
   ]
  },
  {
   "cell_type": "code",
   "execution_count": 4,
   "metadata": {},
   "outputs": [
    {
     "name": "stdout",
     "output_type": "stream",
     "text": [
      "Amount of unique catalogue numbers comprised in the Ambion subset: 5864\n"
     ]
    }
   ],
   "source": [
    "ambion_unique_cat_numbers = ambion_subset[\"Catalog_number\"].unique()\n",
    "\n",
    "# The 10 catalogue numbers Thermo Fischer has already given information\n",
    "# about are not comprised in the DataFrame and hence don't have to be\n",
    "# filtered out\n",
    "# This is due to the fact that only targets that are valid, i.e. not\n",
    "# withdrawn by NCBI, and named are included in the DataFrame\n",
    "print(\n",
    "    \"Amount of unique catalogue numbers comprised in the Ambion \"\n",
    "    f\"subset: {len(ambion_unique_cat_numbers)}\"\n",
    ")"
   ]
  },
  {
   "cell_type": "code",
   "execution_count": 11,
   "metadata": {},
   "outputs": [],
   "source": [
    "# Save the 5.864 unique catalogue numbers to a text file\n",
    "# Bear in mind that the \"with\" context manager is preferred when working\n",
    "# with files as it automatically takes care of closing files, even in\n",
    "# case of errors/exceptions\n",
    "# Conveniently enough, Python provides the .writelines() method, which\n",
    "# writes a sequence of strings (typically a list) to a file\n",
    "# However, contrary to what its name suggests, it does not add newline\n",
    "# characters by default between sequence elements, but they have to be\n",
    "# added manually\n",
    "# The procedure below appends the newline character (\\n) to each list\n",
    "# element except the last one\n",
    "# Using the underscore as separation character is possible since it does\n",
    "# not occur in any of the catalogue numbers\n",
    "ambion_cat_nums_str = \"\\n_\".join(ambion_unique_cat_numbers)\n",
    "ambion_unique_cat_numbers_with_newline = ambion_cat_nums_str.split(\"_\")\n",
    "\n",
    "with open(\"ambion_catalogue_numbers.txt\", \"w\") as f:\n",
    "    f.writelines(ambion_unique_cat_numbers_with_newline)"
   ]
  },
  {
   "cell_type": "code",
   "execution_count": 7,
   "metadata": {},
   "outputs": [
    {
     "name": "stdout",
     "output_type": "stream",
     "text": [
      "Unique siRNA/esiRNA vendors: Dharmacon, Qiagen, Ambion, Sigma\n"
     ]
    }
   ],
   "source": [
    "# Identify the individual vendors/manufacturers\n",
    "vendors = siRNA_df[\"Manufacturer\"].unique()\n",
    "\n",
    "print(\n",
    "    f\"Unique siRNA/esiRNA vendors: {', '.join(vendors)}\"\n",
    ")"
   ]
  },
  {
   "cell_type": "code",
   "execution_count": 8,
   "metadata": {},
   "outputs": [
    {
     "name": "stdout",
     "output_type": "stream",
     "text": [
      "Unique siRNA types comprised in the Qiagen subset: SIRNA\n"
     ]
    }
   ],
   "source": [
    "# As a next step, the customer servive of Qiagen is contacted\n",
    "qiagen_subset = siRNA_df[\n",
    "    siRNA_df[\"Manufacturer\"] == \"Qiagen\"\n",
    "]\n",
    "\n",
    "qiagen_siRNA_types = qiagen_subset[\"WellType\"].unique()\n",
    "\n",
    "print(\n",
    "    \"Unique siRNA types comprised in the Qiagen subset: \"\n",
    "    f\"{', '.join(qiagen_siRNA_types)}\"\n",
    ")"
   ]
  },
  {
   "cell_type": "code",
   "execution_count": 9,
   "metadata": {},
   "outputs": [
    {
     "name": "stdout",
     "output_type": "stream",
     "text": [
      "Amount of unique catalogue numbers comprised in the Qiagen subset: 70301\n"
     ]
    }
   ],
   "source": [
    "qiagen_unique_cat_numbers = qiagen_subset[\"Catalog_number\"].unique()\n",
    "\n",
    "print(\n",
    "    \"Amount of unique catalogue numbers comprised in the Qiagen \"\n",
    "    f\"subset: {len(qiagen_unique_cat_numbers)}\"\n",
    ")"
   ]
  },
  {
   "cell_type": "code",
   "execution_count": 13,
   "metadata": {},
   "outputs": [
    {
     "name": "stdout",
     "output_type": "stream",
     "text": [
      "False\n"
     ]
    }
   ],
   "source": [
    "# Investigate whether catalogue numbers are provided for all siRNAs\n",
    "print(\"Not available\" in qiagen_unique_cat_numbers)"
   ]
  },
  {
   "cell_type": "code",
   "execution_count": 16,
   "metadata": {},
   "outputs": [],
   "source": [
    "# Save the 70.301 unique catalogue numbers to a text file\n",
    "# Bear in mind that the \"with\" context manager is preferred for the\n",
    "# purpose of working with files as it automatically takes care of\n",
    "# closing files, even in case of errors/exceptions\n",
    "# Again, the underscore is introduced between the catalogue numbers in\n",
    "# conjunction with the newline character and subsequently used as\n",
    "# separation character\n",
    "# This is possible since the underscore does not occur in any of the\n",
    "# catalogue numbers\n",
    "qiagen_cat_nums_str = \"\\n_\".join(qiagen_unique_cat_numbers)\n",
    "qiagen_unique_cat_nums_with_newline = qiagen_cat_nums_str.split(\"_\")\n",
    "\n",
    "with open(\"qiagen_catalogue_numbers.txt\", \"w\") as f:\n",
    "    f.writelines(qiagen_unique_cat_nums_with_newline)"
   ]
  },
  {
   "cell_type": "code",
   "execution_count": 17,
   "metadata": {},
   "outputs": [
    {
     "name": "stdout",
     "output_type": "stream",
     "text": [
      "Unique siRNA types comprised in the Sigma subset: ESIRNA\n"
     ]
    }
   ],
   "source": [
    "# Now, the customer servive of Sigma is turned to\n",
    "# Note that ...\n",
    "sigma_subset = siRNA_df[\n",
    "    siRNA_df[\"Manufacturer\"] == \"Sigma\"\n",
    "]\n",
    "\n",
    "sigma_siRNA_types = sigma_subset[\"WellType\"].unique()\n",
    "\n",
    "print(\n",
    "    \"Unique siRNA types comprised in the Sigma subset: \"\n",
    "    f\"{', '.join(sigma_siRNA_types)}\"\n",
    ")"
   ]
  },
  {
   "cell_type": "code",
   "execution_count": 19,
   "metadata": {},
   "outputs": [
    {
     "name": "stdout",
     "output_type": "stream",
     "text": [
      "Amount of unique catalogue numbers comprised in the Sigma subset: 258\n"
     ]
    }
   ],
   "source": [
    "sigma_unique_cat_nums = sigma_subset[\"Catalog_number\"].unique()\n",
    "\n",
    "print(\n",
    "    \"Amount of unique catalogue numbers comprised in the Sigma subset: \"\n",
    "    f\"{len(sigma_unique_cat_nums)}\"\n",
    ")"
   ]
  },
  {
   "cell_type": "code",
   "execution_count": 24,
   "metadata": {},
   "outputs": [
    {
     "name": "stdout",
     "output_type": "stream",
     "text": [
      "False\n"
     ]
    }
   ],
   "source": [
    "# Investigate whether catalogue numbers are provided for all esiRNAs\n",
    "print(\"Not available\" in sigma_unique_cat_nums)"
   ]
  },
  {
   "cell_type": "code",
   "execution_count": 25,
   "metadata": {},
   "outputs": [],
   "source": [
    "# Save the 258 unique catalogue numbers to a text file\n",
    "# Again, as the underscore does not occur in the catalogue numbers, it\n",
    "# is introduced in conjunction with the newline character between the\n",
    "# catalogue numbers and subsequently used as separation character\n",
    "sigma_cat_nums_str = \"\\n_\".join(sigma_unique_cat_nums)\n",
    "sigma_unique_cat_nums_with_newline = sigma_cat_nums_str.split(\"_\")\n",
    "\n",
    "# Bear in mind that the \"with\" context manager is preferred for the\n",
    "# purpose of working with files as it automatically takes care of\n",
    "# closing it, even in case of errors/exceptions\n",
    "with open(\"sigma_catalogue_numbers.txt\", \"w\") as f:\n",
    "    f.writelines(sigma_unique_cat_nums_with_newline)"
   ]
  },
  {
   "cell_type": "code",
   "execution_count": 27,
   "metadata": {},
   "outputs": [
    {
     "name": "stdout",
     "output_type": "stream",
     "text": [
      "Unique siRNA types comprised in the Dharmacon subset: POOLED_SIRNA, SIRNA\n"
     ]
    }
   ],
   "source": [
    "# Finally, address the catalogue numbers of Dharmacon\n",
    "dharmacon_subset = siRNA_df[\n",
    "    siRNA_df[\"Manufacturer\"] == \"Dharmacon\"\n",
    "]\n",
    "\n",
    "dharmacon_siRNA_types = dharmacon_subset[\"WellType\"].unique()\n",
    "\n",
    "print(\n",
    "    \"Unique siRNA types comprised in the Dharmacon subset: \"\n",
    "    f\"{', '.join(dharmacon_siRNA_types)}\"\n",
    ")"
   ]
  },
  {
   "cell_type": "code",
   "execution_count": 28,
   "metadata": {},
   "outputs": [
    {
     "name": "stdout",
     "output_type": "stream",
     "text": [
      "Amount of unique catalogue numbers comprised in the Dharmacon subset: 20856\n"
     ]
    }
   ],
   "source": [
    "dharmacon_unique_cat_nums = dharmacon_subset[\"Catalog_number\"].unique()\n",
    "\n",
    "print(\n",
    "    \"Amount of unique catalogue numbers comprised in the Dharmacon \"\n",
    "    f\"subset: {len(dharmacon_unique_cat_nums)}\"\n",
    ")"
   ]
  },
  {
   "cell_type": "code",
   "execution_count": 31,
   "metadata": {},
   "outputs": [
    {
     "name": "stdout",
     "output_type": "stream",
     "text": [
      "False\n"
     ]
    }
   ],
   "source": [
    "# Investigate whether catalogue numbers are provided for all siRNAs\n",
    "print(\"Not available\" in dharmacon_unique_cat_nums)"
   ]
  },
  {
   "cell_type": "code",
   "execution_count": 32,
   "metadata": {},
   "outputs": [],
   "source": [
    "# Save the 20.856 unique catalogue numbers to a text file\n",
    "# In the case of Dharmacon, the underscore does indeed occur in some\n",
    "# catalogue numbers and therefore cannot be used as separation character\n",
    "# It is resorted to the vertical bar (pipe)\n",
    "dharmacon_cat_nums_str = \"\\n|\".join(dharmacon_unique_cat_nums)\n",
    "dharmacon_unique_cat_nums_with_newline = dharmacon_cat_nums_str.split(\"|\")\n",
    "\n",
    "# Bear in mind that the \"with\" context manager is preferred for the\n",
    "# purpose of working with files as it automatically takes care of\n",
    "# closing them, even in case of errors/exceptions\n",
    "with open(\"dharmacon_catalogue_numbers.txt\", \"w\") as f:\n",
    "    f.writelines(dharmacon_unique_cat_nums_with_newline)"
   ]
  },
  {
   "cell_type": "code",
   "execution_count": null,
   "metadata": {},
   "outputs": [],
   "source": []
  }
 ],
 "metadata": {
  "kernelspec": {
   "display_name": "bioinformatics",
   "language": "python",
   "name": "python3"
  },
  "language_info": {
   "codemirror_mode": {
    "name": "ipython",
    "version": 3
   },
   "file_extension": ".py",
   "mimetype": "text/x-python",
   "name": "python",
   "nbconvert_exporter": "python",
   "pygments_lexer": "ipython3",
   "version": "3.10.8"
  }
 },
 "nbformat": 4,
 "nbformat_minor": 2
}
