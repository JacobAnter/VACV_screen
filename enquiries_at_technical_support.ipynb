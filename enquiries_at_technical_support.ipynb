{
 "cells": [
  {
   "cell_type": "code",
   "execution_count": 1,
   "metadata": {},
   "outputs": [],
   "source": [
    "# The technical support of Thermo Fischer has information regarding\n",
    "# whether their siRNAs exhibit off-target effects or they target the\n",
    "# alleged target at all\n",
    "# Thus, it is tried to obtain this kind of information for all siRNAs\n",
    "# from Thermo Fischer (Ambion has been purchased by Thermo Fischer)"
   ]
  },
  {
   "cell_type": "code",
   "execution_count": 1,
   "metadata": {},
   "outputs": [],
   "source": [
    "import numpy as np\n",
    "import pandas as pd"
   ]
  },
  {
   "cell_type": "code",
   "execution_count": 2,
   "metadata": {},
   "outputs": [],
   "source": [
    "dtype_dict = {\n",
    "    \"Ensembl_ID_OnTarget_Ensembl_GRCh38_release_87\": str,\n",
    "    \"Ensembl_ID_OnTarget_NCBI_HeLa_phs000643_v3_p1_c1_HMB\": str,\n",
    "    \"Gene_Description\": str,\n",
    "    \"ID\": str,\n",
    "    \"ID_OnTarget_Ensembl_GRCh38_release_87\": str,\n",
    "    \"ID_OnTarget_Merge\": str,\n",
    "    \"ID_OnTarget_NCBI_HeLa_phs000643_v3_p1_c1_HMB\": str,\n",
    "    \"ID_OnTarget_RefSeq_20170215\": str,\n",
    "    \"ID_manufacturer\": str,\n",
    "    \"Name_alternatives\": str,\n",
    "    \"PLATE_QUALITY_DESCRIPTION\": str,\n",
    "    \"RefSeq_ID_OnTarget_RefSeq_20170215\": str,\n",
    "    \"Seed_sequence_common\": str,\n",
    "    \"WELL_QUALITY_DESCRIPTION\": str,\n",
    "    \"siRNA_error\": str,\n",
    "    \"siRNA_number\": str,\n",
    "    \"Precursor_Name\": str\n",
    "}\n",
    "\n",
    "siRNA_df = pd.read_csv(\n",
    "    \"VACV_Report_only_valid_single_pooled_siRNA_and_esiRNA.csv\",\n",
    "    sep=\"\\t\",\n",
    "    dtype=dtype_dict\n",
    ")"
   ]
  },
  {
   "cell_type": "code",
   "execution_count": 3,
   "metadata": {},
   "outputs": [
    {
     "name": "stdout",
     "output_type": "stream",
     "text": [
      "Unique siRNA types comprised in the Ambion (Thermo Fisher) subset: SIRNA\n"
     ]
    }
   ],
   "source": [
    "ambion_subset = siRNA_df[\n",
    "    siRNA_df[\"Manufacturer\"] == \"Ambion\"\n",
    "]\n",
    "\n",
    "ambion_siRNA_types = ambion_subset[\"WellType\"].unique()\n",
    "\n",
    "print(\n",
    "    \"Unique siRNA types comprised in the Ambion (Thermo Fisher) \"\n",
    "    f\"subset: {', '.join(ambion_siRNA_types)}\"\n",
    ")"
   ]
  },
  {
   "cell_type": "code",
   "execution_count": 4,
   "metadata": {},
   "outputs": [
    {
     "name": "stdout",
     "output_type": "stream",
     "text": [
      "Amount of unique catalogue numbers comprised in the Ambion subset: 5864\n"
     ]
    }
   ],
   "source": [
    "ambion_unique_cat_numbers = ambion_subset[\"Catalog_number\"].unique()\n",
    "\n",
    "# The 10 catalogue numbers Thermo Fischer has already given information\n",
    "# about are not comprised in the DataFrame and hence don't have to be\n",
    "# filtered out\n",
    "# This is due to the fact that only targets that are valid, i.e. not\n",
    "# withdrawn by NCBI, and named are included in the DataFrame\n",
    "print(\n",
    "    \"Amount of unique catalogue numbers comprised in the Ambion \"\n",
    "    f\"subset: {len(ambion_unique_cat_numbers)}\"\n",
    ")"
   ]
  },
  {
   "cell_type": "code",
   "execution_count": 11,
   "metadata": {},
   "outputs": [],
   "source": [
    "# Save the 5.864 unique catalogue numbers to a text file\n",
    "# Bear in mind that the \"with\" context manager is preferred when working\n",
    "# with files as it automatically takes care of closing files, even in\n",
    "# case of errors/exceptions\n",
    "# Conveniently enough, Python provides the .writelines() method, which\n",
    "# writes a sequence of strings (typically a list) to a file\n",
    "# However, contrary to what its name suggests, it does not add newline\n",
    "# characters by default between sequence elements, but they have to be\n",
    "# added manually\n",
    "# The procedure below appends the newline character (\\n) to each list\n",
    "# element except the last one\n",
    "# Using the underscore as separation character is possible since it does\n",
    "# not occur in any of the catalogue numbers\n",
    "cat_numbers_str = \"\\n_\".join(ambion_unique_cat_numbers)\n",
    "ambion_unique_cat_numbers_with_newline = cat_numbers_str.split(\"_\")\n",
    "\n",
    "with open(\"ambion_catalogue_numbers.txt\", \"w\") as f:\n",
    "    f.writelines(ambion_unique_cat_numbers_with_newline)"
   ]
  },
  {
   "cell_type": "code",
   "execution_count": null,
   "metadata": {},
   "outputs": [],
   "source": [
    "#"
   ]
  }
 ],
 "metadata": {
  "kernelspec": {
   "display_name": "bioinformatics",
   "language": "python",
   "name": "python3"
  },
  "language_info": {
   "codemirror_mode": {
    "name": "ipython",
    "version": 3
   },
   "file_extension": ".py",
   "mimetype": "text/x-python",
   "name": "python",
   "nbconvert_exporter": "python",
   "pygments_lexer": "ipython3",
   "version": "3.10.8"
  }
 },
 "nbformat": 4,
 "nbformat_minor": 2
}
